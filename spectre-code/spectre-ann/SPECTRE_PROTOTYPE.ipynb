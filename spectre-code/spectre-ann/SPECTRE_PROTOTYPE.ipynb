{
 "cells": [
  {
   "attachments": {},
   "cell_type": "markdown",
   "metadata": {},
   "source": [
    "# SPECTRE TEST\n",
    "---"
   ]
  },
  {
   "attachments": {},
   "cell_type": "markdown",
   "metadata": {},
   "source": [
    "## Import Dependencies"
   ]
  },
  {
   "cell_type": "code",
   "execution_count": 138,
   "metadata": {},
   "outputs": [],
   "source": [
    "import sys\n",
    "from scapy.all import *\n",
    "import h5py\n",
    "import matplotlib.pyplot as plt\n",
    "import numpy as np\n",
    "import tensorflow as tf\n",
    "from tensorflow import keras\n",
    "import pandas as pd\n",
    "from tabulate import tabulate\n",
    "\n",
    "import seaborn as sns # Graphing, built ontop of MatPlot for ease-of-use and nicer diagrams.\n",
    "import sklearn # For Machine Learning algorithms\n",
    "import scikitplot # Confusion matrix plotting\n",
    "from sklearn.decomposition import PCA # For PCA dimensionality reduction technique\n",
    "from sklearn.preprocessing import StandardScaler # For scaling to unit scale, before PCA application\n",
    "from sklearn.preprocessing import LabelBinarizer # For converting categorical data into numeric, for modeling stage\n",
    "from scikitplot.metrics import plot_confusion_matrix # For plotting confusion matrices\n",
    "from sklearn.metrics import accuracy_score # For getting the accuracy of a model's predictions\n",
    "from sklearn.metrics import classification_report # Various metrics for model performance\n",
    "from sklearn.model_selection import StratifiedKFold # For optimal train_test splitting, for model input data\n"
   ]
  },
  {
   "cell_type": "code",
   "execution_count": 139,
   "metadata": {},
   "outputs": [],
   "source": [
    "# KAFKA IMPORT"
   ]
  },
  {
   "attachments": {},
   "cell_type": "markdown",
   "metadata": {},
   "source": [
    "## Methods"
   ]
  },
  {
   "cell_type": "code",
   "execution_count": 140,
   "metadata": {},
   "outputs": [],
   "source": [
    "def clean_dataset(df):\n",
    "    assert isinstance(df, pd.DataFrame), \"df needs to be a pd.DataFrame\"\n",
    "    df.dropna(inplace=True)\n",
    "    indices_to_keep = ~df.isin([np.nan, np.inf, -np.inf]).any(1)\n",
    "    return df[indices_to_keep]"
   ]
  },
  {
   "cell_type": "code",
   "execution_count": 141,
   "metadata": {},
   "outputs": [],
   "source": [
    "def get_PCA_feature_names(num_of_pca_components):\n",
    "    feature_names = []\n",
    "    for i in range(num_of_pca_components):    \n",
    "        feature_names.append(f\"Principal component {i+1}\")\n",
    "    return feature_names"
   ]
  },
  {
   "cell_type": "markdown",
   "metadata": {},
   "source": [
    "**Useful environment variables**"
   ]
  },
  {
   "cell_type": "code",
   "execution_count": 142,
   "metadata": {},
   "outputs": [],
   "source": [
    "# 'Reduced dimensions' variable for altering the number of PCA principal components. Can be altered for needs.\n",
    "# Only 7 principal components needed when using non-normalised PCA dataset.\n",
    "dimensions_num_for_PCA = 7\n",
    "\n",
    "# Max number of permutations to run. Can be altered for needs.\n",
    "number_of_permutations = 100\n",
    "\n",
    "# 10 folds is usually the heuristic to follow for larger datasets of around this size.\n",
    "num_of_splits_for_skf = 10\n",
    "\n",
    "# Seed value to pass into models so that repeated runs result in the same output\n",
    "seed_val = 1\n",
    "\n",
    "# Number of statistical distance measures to run (for the results, columns section)\n",
    "num_of_statistical_dist_measures = 6"
   ]
  },
  {
   "attachments": {},
   "cell_type": "markdown",
   "metadata": {},
   "source": [
    "## Load Model"
   ]
  },
  {
   "cell_type": "code",
   "execution_count": 143,
   "metadata": {},
   "outputs": [],
   "source": [
    "# Load TF Saved_model\n",
    "#spectre_model = tf.saved_model.load(\"/home/aryn/spectre-dev/spectre-code/spectre-ann/Model/DDOS/SavedModel\")"
   ]
  },
  {
   "cell_type": "code",
   "execution_count": 144,
   "metadata": {},
   "outputs": [],
   "source": [
    "spectre_model_2 = tf.saved_model.load(\"/home/aryn/spectre-dev/spectre-code/spectre-ann/Model/DDOS_2/SavedModel\")"
   ]
  },
  {
   "attachments": {},
   "cell_type": "markdown",
   "metadata": {},
   "source": [
    "#### Load tflite Model"
   ]
  },
  {
   "cell_type": "code",
   "execution_count": 145,
   "metadata": {},
   "outputs": [],
   "source": [
    "# tflite Model\n",
    "# Load the TFLite model in TFLite Interpreter\n",
    "#interpreter = tf.lite.Interpreter('/home/aryn/spectre-dev/spectre-code/spectre-ann/Model/DDOS/spectre_ddos_lite.tflite')\n",
    "#interpreter.allocate_tensors()\n",
    "\n",
    "# Get input and output tensors.\n",
    "#input_details = interpreter.get_input_details()\n",
    "#output_details = interpreter.get_output_details()"
   ]
  },
  {
   "cell_type": "code",
   "execution_count": 146,
   "metadata": {},
   "outputs": [],
   "source": [
    "#try:\n",
    "    # Load the H5 model\n",
    "#    with h5py.File('/home/aryn/spectre-dev/spectre-code/spectre-ann/Model/DDOS/FYP_Finalh5.h5', 'r') as spectre_model:\n",
    "        # Print metadata\n",
    "#        print(\"H5 file metadata:\")\n",
    "#        print(\"==================\")\n",
    "#        for key, value in spectre_model.attrs.items():\n",
    "#            print(f\"{key}: {value}\")\n",
    "#        print(\"==================\")\n",
    "#        print(\"Done!\")\n",
    "#except:\n",
    "#    print(\"Error loading H5 file.\")"
   ]
  },
  {
   "attachments": {},
   "cell_type": "markdown",
   "metadata": {},
   "source": [
    "# Bening Data Test\n",
    "---"
   ]
  },
  {
   "attachments": {},
   "cell_type": "markdown",
   "metadata": {},
   "source": [
    "## Import Data"
   ]
  },
  {
   "attachments": {},
   "cell_type": "markdown",
   "metadata": {},
   "source": [
    "### Load the csv file"
   ]
  },
  {
   "attachments": {},
   "cell_type": "markdown",
   "metadata": {},
   "source": [
    "#### Import Data"
   ]
  },
  {
   "cell_type": "code",
   "execution_count": 147,
   "metadata": {},
   "outputs": [],
   "source": [
    "Normal_Data = pd.read_csv('../../dataset/CICIDS2017/MachineLearningCSV/MachineLearningCVE/Monday-WorkingHours.pcap_ISCX.csv')\n",
    "df = Normal_Data.copy()"
   ]
  },
  {
   "attachments": {},
   "cell_type": "markdown",
   "metadata": {},
   "source": [
    "#### Prepare the data for the model"
   ]
  },
  {
   "cell_type": "code",
   "execution_count": 148,
   "metadata": {},
   "outputs": [
    {
     "name": "stderr",
     "output_type": "stream",
     "text": [
      "/tmp/ipykernel_588891/2188718236.py:2: FutureWarning: The default value of regex will change from True to False in a future version. In addition, single character regular expressions will *not* be treated as literal strings when regex=True.\n",
      "  df.columns = df.columns.str.strip().str.lower().str.replace(' ', '_').str.replace('(', '').str.replace(')', '')\n",
      "/tmp/ipykernel_588891/2188718236.py:2: FutureWarning: The default value of regex will change from True to False in a future version. In addition, single character regular expressions will *not* be treated as literal strings when regex=True.\n",
      "  df.columns = df.columns.str.strip().str.lower().str.replace(' ', '_').str.replace('(', '').str.replace(')', '')\n",
      "/tmp/ipykernel_588891/2671744760.py:4: FutureWarning: In a future version of pandas all arguments of DataFrame.any and Series.any will be keyword-only.\n",
      "  indices_to_keep = ~df.isin([np.nan, np.inf, -np.inf]).any(1)\n"
     ]
    },
    {
     "data": {
      "text/html": [
       "<div>\n",
       "<style scoped>\n",
       "    .dataframe tbody tr th:only-of-type {\n",
       "        vertical-align: middle;\n",
       "    }\n",
       "\n",
       "    .dataframe tbody tr th {\n",
       "        vertical-align: top;\n",
       "    }\n",
       "\n",
       "    .dataframe thead th {\n",
       "        text-align: right;\n",
       "    }\n",
       "</style>\n",
       "<table border=\"1\" class=\"dataframe\">\n",
       "  <thead>\n",
       "    <tr style=\"text-align: right;\">\n",
       "      <th></th>\n",
       "      <th>Principal component 1</th>\n",
       "      <th>Principal component 2</th>\n",
       "      <th>Principal component 3</th>\n",
       "      <th>Principal component 4</th>\n",
       "      <th>Principal component 5</th>\n",
       "      <th>Principal component 6</th>\n",
       "      <th>Principal component 7</th>\n",
       "      <th>label</th>\n",
       "    </tr>\n",
       "  </thead>\n",
       "  <tbody>\n",
       "    <tr>\n",
       "      <th>0</th>\n",
       "      <td>-1.983320e+07</td>\n",
       "      <td>9.251362e+05</td>\n",
       "      <td>1.046049e+06</td>\n",
       "      <td>-128074.061738</td>\n",
       "      <td>-869081.641179</td>\n",
       "      <td>-9328.258030</td>\n",
       "      <td>10210.389224</td>\n",
       "      <td>0</td>\n",
       "    </tr>\n",
       "    <tr>\n",
       "      <th>1</th>\n",
       "      <td>-1.994976e+07</td>\n",
       "      <td>1.872796e+06</td>\n",
       "      <td>1.000291e+07</td>\n",
       "      <td>-124409.821468</td>\n",
       "      <td>-846672.396250</td>\n",
       "      <td>-10321.565566</td>\n",
       "      <td>10014.928220</td>\n",
       "      <td>0</td>\n",
       "    </tr>\n",
       "    <tr>\n",
       "      <th>2</th>\n",
       "      <td>-1.994976e+07</td>\n",
       "      <td>1.872796e+06</td>\n",
       "      <td>1.000291e+07</td>\n",
       "      <td>-124409.821468</td>\n",
       "      <td>-846672.396250</td>\n",
       "      <td>-10321.565566</td>\n",
       "      <td>10014.928220</td>\n",
       "      <td>0</td>\n",
       "    </tr>\n",
       "    <tr>\n",
       "      <th>3</th>\n",
       "      <td>-1.994976e+07</td>\n",
       "      <td>1.872796e+06</td>\n",
       "      <td>1.000291e+07</td>\n",
       "      <td>-124409.821468</td>\n",
       "      <td>-846672.396250</td>\n",
       "      <td>-10321.565566</td>\n",
       "      <td>10014.928220</td>\n",
       "      <td>0</td>\n",
       "    </tr>\n",
       "    <tr>\n",
       "      <th>4</th>\n",
       "      <td>-1.984615e+07</td>\n",
       "      <td>1.030431e+06</td>\n",
       "      <td>2.041257e+06</td>\n",
       "      <td>-127666.256450</td>\n",
       "      <td>-866593.042249</td>\n",
       "      <td>-9438.611625</td>\n",
       "      <td>10188.446052</td>\n",
       "      <td>0</td>\n",
       "    </tr>\n",
       "    <tr>\n",
       "      <th>...</th>\n",
       "      <td>...</td>\n",
       "      <td>...</td>\n",
       "      <td>...</td>\n",
       "      <td>...</td>\n",
       "      <td>...</td>\n",
       "      <td>...</td>\n",
       "      <td>...</td>\n",
       "      <td>...</td>\n",
       "    </tr>\n",
       "    <tr>\n",
       "      <th>529476</th>\n",
       "      <td>-1.978012e+07</td>\n",
       "      <td>6.112687e+05</td>\n",
       "      <td>-1.939024e+06</td>\n",
       "      <td>-133315.868223</td>\n",
       "      <td>-855223.925380</td>\n",
       "      <td>-9350.481582</td>\n",
       "      <td>16850.957232</td>\n",
       "      <td>0</td>\n",
       "    </tr>\n",
       "    <tr>\n",
       "      <th>529477</th>\n",
       "      <td>-1.974771e+07</td>\n",
       "      <td>6.161432e+05</td>\n",
       "      <td>-1.935949e+06</td>\n",
       "      <td>-128750.407703</td>\n",
       "      <td>-841842.148056</td>\n",
       "      <td>-9094.307239</td>\n",
       "      <td>10005.865241</td>\n",
       "      <td>0</td>\n",
       "    </tr>\n",
       "    <tr>\n",
       "      <th>529478</th>\n",
       "      <td>-1.980753e+07</td>\n",
       "      <td>7.185561e+05</td>\n",
       "      <td>-9.063745e+05</td>\n",
       "      <td>-128879.080536</td>\n",
       "      <td>-873765.673193</td>\n",
       "      <td>-9182.189422</td>\n",
       "      <td>10266.382651</td>\n",
       "      <td>0</td>\n",
       "    </tr>\n",
       "    <tr>\n",
       "      <th>529479</th>\n",
       "      <td>-1.981276e+07</td>\n",
       "      <td>7.612775e+05</td>\n",
       "      <td>-5.024661e+05</td>\n",
       "      <td>-128678.971810</td>\n",
       "      <td>-872603.283762</td>\n",
       "      <td>-9206.582296</td>\n",
       "      <td>10228.529420</td>\n",
       "      <td>0</td>\n",
       "    </tr>\n",
       "    <tr>\n",
       "      <th>529480</th>\n",
       "      <td>-1.979441e+07</td>\n",
       "      <td>6.093061e+05</td>\n",
       "      <td>-1.939148e+06</td>\n",
       "      <td>-129305.317753</td>\n",
       "      <td>-876646.910220</td>\n",
       "      <td>-8970.163319</td>\n",
       "      <td>10285.549386</td>\n",
       "      <td>0</td>\n",
       "    </tr>\n",
       "  </tbody>\n",
       "</table>\n",
       "<p>529481 rows × 8 columns</p>\n",
       "</div>"
      ],
      "text/plain": [
       "        Principal component 1  Principal component 2  Principal component 3  \\\n",
       "0               -1.983320e+07           9.251362e+05           1.046049e+06   \n",
       "1               -1.994976e+07           1.872796e+06           1.000291e+07   \n",
       "2               -1.994976e+07           1.872796e+06           1.000291e+07   \n",
       "3               -1.994976e+07           1.872796e+06           1.000291e+07   \n",
       "4               -1.984615e+07           1.030431e+06           2.041257e+06   \n",
       "...                       ...                    ...                    ...   \n",
       "529476          -1.978012e+07           6.112687e+05          -1.939024e+06   \n",
       "529477          -1.974771e+07           6.161432e+05          -1.935949e+06   \n",
       "529478          -1.980753e+07           7.185561e+05          -9.063745e+05   \n",
       "529479          -1.981276e+07           7.612775e+05          -5.024661e+05   \n",
       "529480          -1.979441e+07           6.093061e+05          -1.939148e+06   \n",
       "\n",
       "        Principal component 4  Principal component 5  Principal component 6  \\\n",
       "0              -128074.061738         -869081.641179           -9328.258030   \n",
       "1              -124409.821468         -846672.396250          -10321.565566   \n",
       "2              -124409.821468         -846672.396250          -10321.565566   \n",
       "3              -124409.821468         -846672.396250          -10321.565566   \n",
       "4              -127666.256450         -866593.042249           -9438.611625   \n",
       "...                       ...                    ...                    ...   \n",
       "529476         -133315.868223         -855223.925380           -9350.481582   \n",
       "529477         -128750.407703         -841842.148056           -9094.307239   \n",
       "529478         -128879.080536         -873765.673193           -9182.189422   \n",
       "529479         -128678.971810         -872603.283762           -9206.582296   \n",
       "529480         -129305.317753         -876646.910220           -8970.163319   \n",
       "\n",
       "        Principal component 7  label  \n",
       "0                10210.389224      0  \n",
       "1                10014.928220      0  \n",
       "2                10014.928220      0  \n",
       "3                10014.928220      0  \n",
       "4                10188.446052      0  \n",
       "...                       ...    ...  \n",
       "529476           16850.957232      0  \n",
       "529477           10005.865241      0  \n",
       "529478           10266.382651      0  \n",
       "529479           10228.529420      0  \n",
       "529480           10285.549386      0  \n",
       "\n",
       "[529481 rows x 8 columns]"
      ]
     },
     "execution_count": 148,
     "metadata": {},
     "output_type": "execute_result"
    }
   ],
   "source": [
    "# Renaming columns and creating a copy\n",
    "df.columns = df.columns.str.strip().str.lower().str.replace(' ', '_').str.replace('(', '').str.replace(')', '')\n",
    "df_cleaned = df.copy()\n",
    "df_cleaned = clean_dataset(df_cleaned)\n",
    "\n",
    "# Resetting index and removing unneeded index column\n",
    "df_cleaned = df_cleaned.reset_index()\n",
    "df_cleaned.drop('index', axis=1, inplace=True)\n",
    "\n",
    "# Saving the label attribute before dropping it\n",
    "df_labels = df_cleaned['label']\n",
    "df_no_labels = df_cleaned.drop('label', axis=1, inplace=False)\n",
    "df_features = df_no_labels.columns.tolist()\n",
    "\n",
    "# Scaling the data\n",
    "df_scaled = StandardScaler().fit_transform(df_no_labels)\n",
    "df_scaled = pd.DataFrame(data=df_scaled, columns=df_features)\n",
    "\n",
    "# Performing PCA\n",
    "pca = PCA(n_components=dimensions_num_for_PCA)\n",
    "principal_components = pca.fit(df_no_labels).transform(df_no_labels)\n",
    "\n",
    "# Creating a DataFrame with principal components\n",
    "principal_component_headings = get_PCA_feature_names(dimensions_num_for_PCA)\n",
    "df_pc = pd.DataFrame(data=principal_components, columns=principal_component_headings)\n",
    "\n",
    "# Concatenating principal components and labels\n",
    "df_final = pd.concat([df_pc, df_labels], axis=1)\n",
    "\n",
    "# Applying LabelBinarizer to the labels\n",
    "lb = LabelBinarizer()\n",
    "df_final['label'] = lb.fit_transform(df_final['label'])\n",
    "\n",
    "# Displaying the final DataFrame\n",
    "df_final"
   ]
  },
  {
   "cell_type": "code",
   "execution_count": 149,
   "metadata": {},
   "outputs": [],
   "source": [
    "X = df_final.drop(['label'], axis = 1)\n",
    "y = df_final['label']"
   ]
  },
  {
   "cell_type": "code",
   "execution_count": 150,
   "metadata": {},
   "outputs": [
    {
     "data": {
      "text/plain": [
       "0         0\n",
       "1         0\n",
       "2         0\n",
       "3         0\n",
       "4         0\n",
       "         ..\n",
       "529476    0\n",
       "529477    0\n",
       "529478    0\n",
       "529479    0\n",
       "529480    0\n",
       "Name: label, Length: 529481, dtype: int64"
      ]
     },
     "execution_count": 150,
     "metadata": {},
     "output_type": "execute_result"
    }
   ],
   "source": [
    "y # Label"
   ]
  },
  {
   "cell_type": "code",
   "execution_count": 151,
   "metadata": {},
   "outputs": [
    {
     "data": {
      "text/html": [
       "<div>\n",
       "<style scoped>\n",
       "    .dataframe tbody tr th:only-of-type {\n",
       "        vertical-align: middle;\n",
       "    }\n",
       "\n",
       "    .dataframe tbody tr th {\n",
       "        vertical-align: top;\n",
       "    }\n",
       "\n",
       "    .dataframe thead th {\n",
       "        text-align: right;\n",
       "    }\n",
       "</style>\n",
       "<table border=\"1\" class=\"dataframe\">\n",
       "  <thead>\n",
       "    <tr style=\"text-align: right;\">\n",
       "      <th></th>\n",
       "      <th>Principal component 1</th>\n",
       "      <th>Principal component 2</th>\n",
       "      <th>Principal component 3</th>\n",
       "      <th>Principal component 4</th>\n",
       "      <th>Principal component 5</th>\n",
       "      <th>Principal component 6</th>\n",
       "      <th>Principal component 7</th>\n",
       "    </tr>\n",
       "  </thead>\n",
       "  <tbody>\n",
       "    <tr>\n",
       "      <th>0</th>\n",
       "      <td>-1.983320e+07</td>\n",
       "      <td>9.251362e+05</td>\n",
       "      <td>1.046049e+06</td>\n",
       "      <td>-128074.061738</td>\n",
       "      <td>-869081.641179</td>\n",
       "      <td>-9328.258030</td>\n",
       "      <td>10210.389224</td>\n",
       "    </tr>\n",
       "    <tr>\n",
       "      <th>1</th>\n",
       "      <td>-1.994976e+07</td>\n",
       "      <td>1.872796e+06</td>\n",
       "      <td>1.000291e+07</td>\n",
       "      <td>-124409.821468</td>\n",
       "      <td>-846672.396250</td>\n",
       "      <td>-10321.565566</td>\n",
       "      <td>10014.928220</td>\n",
       "    </tr>\n",
       "    <tr>\n",
       "      <th>2</th>\n",
       "      <td>-1.994976e+07</td>\n",
       "      <td>1.872796e+06</td>\n",
       "      <td>1.000291e+07</td>\n",
       "      <td>-124409.821468</td>\n",
       "      <td>-846672.396250</td>\n",
       "      <td>-10321.565566</td>\n",
       "      <td>10014.928220</td>\n",
       "    </tr>\n",
       "    <tr>\n",
       "      <th>3</th>\n",
       "      <td>-1.994976e+07</td>\n",
       "      <td>1.872796e+06</td>\n",
       "      <td>1.000291e+07</td>\n",
       "      <td>-124409.821468</td>\n",
       "      <td>-846672.396250</td>\n",
       "      <td>-10321.565566</td>\n",
       "      <td>10014.928220</td>\n",
       "    </tr>\n",
       "    <tr>\n",
       "      <th>4</th>\n",
       "      <td>-1.984615e+07</td>\n",
       "      <td>1.030431e+06</td>\n",
       "      <td>2.041257e+06</td>\n",
       "      <td>-127666.256450</td>\n",
       "      <td>-866593.042249</td>\n",
       "      <td>-9438.611625</td>\n",
       "      <td>10188.446052</td>\n",
       "    </tr>\n",
       "    <tr>\n",
       "      <th>...</th>\n",
       "      <td>...</td>\n",
       "      <td>...</td>\n",
       "      <td>...</td>\n",
       "      <td>...</td>\n",
       "      <td>...</td>\n",
       "      <td>...</td>\n",
       "      <td>...</td>\n",
       "    </tr>\n",
       "    <tr>\n",
       "      <th>529476</th>\n",
       "      <td>-1.978012e+07</td>\n",
       "      <td>6.112687e+05</td>\n",
       "      <td>-1.939024e+06</td>\n",
       "      <td>-133315.868223</td>\n",
       "      <td>-855223.925380</td>\n",
       "      <td>-9350.481582</td>\n",
       "      <td>16850.957232</td>\n",
       "    </tr>\n",
       "    <tr>\n",
       "      <th>529477</th>\n",
       "      <td>-1.974771e+07</td>\n",
       "      <td>6.161432e+05</td>\n",
       "      <td>-1.935949e+06</td>\n",
       "      <td>-128750.407703</td>\n",
       "      <td>-841842.148056</td>\n",
       "      <td>-9094.307239</td>\n",
       "      <td>10005.865241</td>\n",
       "    </tr>\n",
       "    <tr>\n",
       "      <th>529478</th>\n",
       "      <td>-1.980753e+07</td>\n",
       "      <td>7.185561e+05</td>\n",
       "      <td>-9.063745e+05</td>\n",
       "      <td>-128879.080536</td>\n",
       "      <td>-873765.673193</td>\n",
       "      <td>-9182.189422</td>\n",
       "      <td>10266.382651</td>\n",
       "    </tr>\n",
       "    <tr>\n",
       "      <th>529479</th>\n",
       "      <td>-1.981276e+07</td>\n",
       "      <td>7.612775e+05</td>\n",
       "      <td>-5.024661e+05</td>\n",
       "      <td>-128678.971810</td>\n",
       "      <td>-872603.283762</td>\n",
       "      <td>-9206.582296</td>\n",
       "      <td>10228.529420</td>\n",
       "    </tr>\n",
       "    <tr>\n",
       "      <th>529480</th>\n",
       "      <td>-1.979441e+07</td>\n",
       "      <td>6.093061e+05</td>\n",
       "      <td>-1.939148e+06</td>\n",
       "      <td>-129305.317753</td>\n",
       "      <td>-876646.910220</td>\n",
       "      <td>-8970.163319</td>\n",
       "      <td>10285.549386</td>\n",
       "    </tr>\n",
       "  </tbody>\n",
       "</table>\n",
       "<p>529481 rows × 7 columns</p>\n",
       "</div>"
      ],
      "text/plain": [
       "        Principal component 1  Principal component 2  Principal component 3  \\\n",
       "0               -1.983320e+07           9.251362e+05           1.046049e+06   \n",
       "1               -1.994976e+07           1.872796e+06           1.000291e+07   \n",
       "2               -1.994976e+07           1.872796e+06           1.000291e+07   \n",
       "3               -1.994976e+07           1.872796e+06           1.000291e+07   \n",
       "4               -1.984615e+07           1.030431e+06           2.041257e+06   \n",
       "...                       ...                    ...                    ...   \n",
       "529476          -1.978012e+07           6.112687e+05          -1.939024e+06   \n",
       "529477          -1.974771e+07           6.161432e+05          -1.935949e+06   \n",
       "529478          -1.980753e+07           7.185561e+05          -9.063745e+05   \n",
       "529479          -1.981276e+07           7.612775e+05          -5.024661e+05   \n",
       "529480          -1.979441e+07           6.093061e+05          -1.939148e+06   \n",
       "\n",
       "        Principal component 4  Principal component 5  Principal component 6  \\\n",
       "0              -128074.061738         -869081.641179           -9328.258030   \n",
       "1              -124409.821468         -846672.396250          -10321.565566   \n",
       "2              -124409.821468         -846672.396250          -10321.565566   \n",
       "3              -124409.821468         -846672.396250          -10321.565566   \n",
       "4              -127666.256450         -866593.042249           -9438.611625   \n",
       "...                       ...                    ...                    ...   \n",
       "529476         -133315.868223         -855223.925380           -9350.481582   \n",
       "529477         -128750.407703         -841842.148056           -9094.307239   \n",
       "529478         -128879.080536         -873765.673193           -9182.189422   \n",
       "529479         -128678.971810         -872603.283762           -9206.582296   \n",
       "529480         -129305.317753         -876646.910220           -8970.163319   \n",
       "\n",
       "        Principal component 7  \n",
       "0                10210.389224  \n",
       "1                10014.928220  \n",
       "2                10014.928220  \n",
       "3                10014.928220  \n",
       "4                10188.446052  \n",
       "...                       ...  \n",
       "529476           16850.957232  \n",
       "529477           10005.865241  \n",
       "529478           10266.382651  \n",
       "529479           10228.529420  \n",
       "529480           10285.549386  \n",
       "\n",
       "[529481 rows x 7 columns]"
      ]
     },
     "execution_count": 151,
     "metadata": {},
     "output_type": "execute_result"
    }
   ],
   "source": [
    "X #Features"
   ]
  },
  {
   "attachments": {},
   "cell_type": "markdown",
   "metadata": {},
   "source": [
    "## Predection"
   ]
  },
  {
   "attachments": {},
   "cell_type": "markdown",
   "metadata": {},
   "source": [
    "### Model Prediction"
   ]
  },
  {
   "attachments": {},
   "cell_type": "markdown",
   "metadata": {},
   "source": [
    "### Use the model to predict anomalies"
   ]
  },
  {
   "cell_type": "code",
   "execution_count": 152,
   "metadata": {},
   "outputs": [],
   "source": [
    "#model = spectre_model"
   ]
  },
  {
   "cell_type": "code",
   "execution_count": 153,
   "metadata": {},
   "outputs": [],
   "source": [
    "#predictions = spectre_model_2_h5.predict(training_sample)"
   ]
  },
  {
   "cell_type": "code",
   "execution_count": 154,
   "metadata": {},
   "outputs": [],
   "source": [
    "infer = spectre_model_2.signatures['serving_default']"
   ]
  },
  {
   "cell_type": "code",
   "execution_count": 155,
   "metadata": {},
   "outputs": [],
   "source": [
    "# Prepare input data\n",
    "input_name = list(infer.structured_input_signature[1].keys())[0]\n",
    "input_data = {input_name: tf.convert_to_tensor(X, dtype=tf.float32)}"
   ]
  },
  {
   "cell_type": "code",
   "execution_count": 156,
   "metadata": {},
   "outputs": [],
   "source": [
    "# Get the output name\n",
    "output_name = list(infer.structured_outputs.keys())[0]"
   ]
  },
  {
   "cell_type": "code",
   "execution_count": 157,
   "metadata": {},
   "outputs": [],
   "source": [
    "# Perform the inference\n",
    "predictions = infer(**input_data)"
   ]
  },
  {
   "cell_type": "code",
   "execution_count": 158,
   "metadata": {},
   "outputs": [],
   "source": [
    "# Calculate the detection rate\n",
    "predicted_labels = tf.argmax(predictions[output_name], axis=1).numpy()\n",
    "detection_rate_bening = accuracy_score(y, predicted_labels)"
   ]
  },
  {
   "attachments": {},
   "cell_type": "markdown",
   "metadata": {},
   "source": [
    "### Results"
   ]
  },
  {
   "cell_type": "code",
   "execution_count": 159,
   "metadata": {},
   "outputs": [
    {
     "name": "stdout",
     "output_type": "stream",
     "text": [
      "Detection rate: 1.0\n"
     ]
    }
   ],
   "source": [
    "print(\"Detection rate:\", detection_rate_bening)"
   ]
  },
  {
   "attachments": {},
   "cell_type": "markdown",
   "metadata": {},
   "source": [
    "\n",
    "# Mixed Data Test\n",
    "---"
   ]
  },
  {
   "cell_type": "markdown",
   "metadata": {},
   "source": [
    "## Import Data"
   ]
  },
  {
   "cell_type": "markdown",
   "metadata": {},
   "source": [
    "### Load the csv file"
   ]
  },
  {
   "cell_type": "markdown",
   "metadata": {},
   "source": [
    "#### Import Data"
   ]
  },
  {
   "cell_type": "code",
   "execution_count": 160,
   "metadata": {},
   "outputs": [],
   "source": [
    "DDoS_Data = pd.read_csv('../../dataset/CICIDS2017/MachineLearningCSV/MachineLearningCVE/Wednesday-workingHours.pcap_ISCX.csv')\n",
    "df = DDoS_Data.copy()"
   ]
  },
  {
   "cell_type": "markdown",
   "metadata": {},
   "source": [
    "#### Prepare the data for the model"
   ]
  },
  {
   "cell_type": "code",
   "execution_count": 161,
   "metadata": {},
   "outputs": [
    {
     "name": "stderr",
     "output_type": "stream",
     "text": [
      "/tmp/ipykernel_588891/2188718236.py:2: FutureWarning: The default value of regex will change from True to False in a future version. In addition, single character regular expressions will *not* be treated as literal strings when regex=True.\n",
      "  df.columns = df.columns.str.strip().str.lower().str.replace(' ', '_').str.replace('(', '').str.replace(')', '')\n",
      "/tmp/ipykernel_588891/2188718236.py:2: FutureWarning: The default value of regex will change from True to False in a future version. In addition, single character regular expressions will *not* be treated as literal strings when regex=True.\n",
      "  df.columns = df.columns.str.strip().str.lower().str.replace(' ', '_').str.replace('(', '').str.replace(')', '')\n",
      "/tmp/ipykernel_588891/2671744760.py:4: FutureWarning: In a future version of pandas all arguments of DataFrame.any and Series.any will be keyword-only.\n",
      "  indices_to_keep = ~df.isin([np.nan, np.inf, -np.inf]).any(1)\n"
     ]
    },
    {
     "data": {
      "text/html": [
       "<div>\n",
       "<style scoped>\n",
       "    .dataframe tbody tr th:only-of-type {\n",
       "        vertical-align: middle;\n",
       "    }\n",
       "\n",
       "    .dataframe tbody tr th {\n",
       "        vertical-align: top;\n",
       "    }\n",
       "\n",
       "    .dataframe thead th {\n",
       "        text-align: right;\n",
       "    }\n",
       "</style>\n",
       "<table border=\"1\" class=\"dataframe\">\n",
       "  <thead>\n",
       "    <tr style=\"text-align: right;\">\n",
       "      <th></th>\n",
       "      <th>Principal component 1</th>\n",
       "      <th>Principal component 2</th>\n",
       "      <th>Principal component 3</th>\n",
       "      <th>Principal component 4</th>\n",
       "      <th>Principal component 5</th>\n",
       "      <th>Principal component 6</th>\n",
       "      <th>Principal component 7</th>\n",
       "      <th>label</th>\n",
       "    </tr>\n",
       "  </thead>\n",
       "  <tbody>\n",
       "    <tr>\n",
       "      <th>0</th>\n",
       "      <td>-6.719272e+07</td>\n",
       "      <td>-2.929021e+06</td>\n",
       "      <td>-2.424908e+06</td>\n",
       "      <td>-3.683649e+06</td>\n",
       "      <td>-561111.450909</td>\n",
       "      <td>-208436.017784</td>\n",
       "      <td>-103218.535400</td>\n",
       "      <td>1</td>\n",
       "    </tr>\n",
       "    <tr>\n",
       "      <th>1</th>\n",
       "      <td>-6.723308e+07</td>\n",
       "      <td>-2.938733e+06</td>\n",
       "      <td>-1.385765e+06</td>\n",
       "      <td>-3.675577e+06</td>\n",
       "      <td>-571210.298004</td>\n",
       "      <td>-221106.058894</td>\n",
       "      <td>-138282.114033</td>\n",
       "      <td>1</td>\n",
       "    </tr>\n",
       "    <tr>\n",
       "      <th>2</th>\n",
       "      <td>-6.727888e+07</td>\n",
       "      <td>-2.991829e+06</td>\n",
       "      <td>3.326729e+06</td>\n",
       "      <td>-3.580775e+06</td>\n",
       "      <td>-572868.113070</td>\n",
       "      <td>-218961.579517</td>\n",
       "      <td>-138358.400024</td>\n",
       "      <td>1</td>\n",
       "    </tr>\n",
       "    <tr>\n",
       "      <th>3</th>\n",
       "      <td>-6.719725e+07</td>\n",
       "      <td>-2.922039e+06</td>\n",
       "      <td>-1.759606e+06</td>\n",
       "      <td>-3.683482e+06</td>\n",
       "      <td>-583282.686918</td>\n",
       "      <td>-213177.367255</td>\n",
       "      <td>-138286.979942</td>\n",
       "      <td>1</td>\n",
       "    </tr>\n",
       "    <tr>\n",
       "      <th>4</th>\n",
       "      <td>-6.727859e+07</td>\n",
       "      <td>-2.992425e+06</td>\n",
       "      <td>3.344391e+06</td>\n",
       "      <td>-3.580586e+06</td>\n",
       "      <td>-573737.024023</td>\n",
       "      <td>-219025.394020</td>\n",
       "      <td>-138508.264032</td>\n",
       "      <td>1</td>\n",
       "    </tr>\n",
       "    <tr>\n",
       "      <th>...</th>\n",
       "      <td>...</td>\n",
       "      <td>...</td>\n",
       "      <td>...</td>\n",
       "      <td>...</td>\n",
       "      <td>...</td>\n",
       "      <td>...</td>\n",
       "      <td>...</td>\n",
       "      <td>...</td>\n",
       "    </tr>\n",
       "    <tr>\n",
       "      <th>691401</th>\n",
       "      <td>-6.717165e+07</td>\n",
       "      <td>-2.930343e+06</td>\n",
       "      <td>-2.416930e+06</td>\n",
       "      <td>-3.676398e+06</td>\n",
       "      <td>-566880.587954</td>\n",
       "      <td>-198734.217630</td>\n",
       "      <td>-133002.753024</td>\n",
       "      <td>1</td>\n",
       "    </tr>\n",
       "    <tr>\n",
       "      <th>691402</th>\n",
       "      <td>-6.723704e+07</td>\n",
       "      <td>-2.942852e+06</td>\n",
       "      <td>-1.049073e+06</td>\n",
       "      <td>-3.668821e+06</td>\n",
       "      <td>-570693.215727</td>\n",
       "      <td>-220903.867635</td>\n",
       "      <td>-138167.009269</td>\n",
       "      <td>1</td>\n",
       "    </tr>\n",
       "    <tr>\n",
       "      <th>691403</th>\n",
       "      <td>-6.722712e+07</td>\n",
       "      <td>-2.933071e+06</td>\n",
       "      <td>-1.974014e+06</td>\n",
       "      <td>-3.687865e+06</td>\n",
       "      <td>-572080.499889</td>\n",
       "      <td>-221436.159363</td>\n",
       "      <td>-138444.078091</td>\n",
       "      <td>1</td>\n",
       "    </tr>\n",
       "    <tr>\n",
       "      <th>691404</th>\n",
       "      <td>-6.560133e+07</td>\n",
       "      <td>-2.975964e+06</td>\n",
       "      <td>-2.423091e+06</td>\n",
       "      <td>-2.989848e+06</td>\n",
       "      <td>-423257.878489</td>\n",
       "      <td>502947.163425</td>\n",
       "      <td>-6804.331807</td>\n",
       "      <td>1</td>\n",
       "    </tr>\n",
       "    <tr>\n",
       "      <th>691405</th>\n",
       "      <td>-6.709501e+07</td>\n",
       "      <td>-2.929785e+06</td>\n",
       "      <td>-2.420739e+06</td>\n",
       "      <td>-3.639375e+06</td>\n",
       "      <td>-557327.069292</td>\n",
       "      <td>-165998.599364</td>\n",
       "      <td>-123889.366661</td>\n",
       "      <td>1</td>\n",
       "    </tr>\n",
       "  </tbody>\n",
       "</table>\n",
       "<p>691406 rows × 8 columns</p>\n",
       "</div>"
      ],
      "text/plain": [
       "        Principal component 1  Principal component 2  Principal component 3  \\\n",
       "0               -6.719272e+07          -2.929021e+06          -2.424908e+06   \n",
       "1               -6.723308e+07          -2.938733e+06          -1.385765e+06   \n",
       "2               -6.727888e+07          -2.991829e+06           3.326729e+06   \n",
       "3               -6.719725e+07          -2.922039e+06          -1.759606e+06   \n",
       "4               -6.727859e+07          -2.992425e+06           3.344391e+06   \n",
       "...                       ...                    ...                    ...   \n",
       "691401          -6.717165e+07          -2.930343e+06          -2.416930e+06   \n",
       "691402          -6.723704e+07          -2.942852e+06          -1.049073e+06   \n",
       "691403          -6.722712e+07          -2.933071e+06          -1.974014e+06   \n",
       "691404          -6.560133e+07          -2.975964e+06          -2.423091e+06   \n",
       "691405          -6.709501e+07          -2.929785e+06          -2.420739e+06   \n",
       "\n",
       "        Principal component 4  Principal component 5  Principal component 6  \\\n",
       "0               -3.683649e+06         -561111.450909         -208436.017784   \n",
       "1               -3.675577e+06         -571210.298004         -221106.058894   \n",
       "2               -3.580775e+06         -572868.113070         -218961.579517   \n",
       "3               -3.683482e+06         -583282.686918         -213177.367255   \n",
       "4               -3.580586e+06         -573737.024023         -219025.394020   \n",
       "...                       ...                    ...                    ...   \n",
       "691401          -3.676398e+06         -566880.587954         -198734.217630   \n",
       "691402          -3.668821e+06         -570693.215727         -220903.867635   \n",
       "691403          -3.687865e+06         -572080.499889         -221436.159363   \n",
       "691404          -2.989848e+06         -423257.878489          502947.163425   \n",
       "691405          -3.639375e+06         -557327.069292         -165998.599364   \n",
       "\n",
       "        Principal component 7  label  \n",
       "0              -103218.535400      1  \n",
       "1              -138282.114033      1  \n",
       "2              -138358.400024      1  \n",
       "3              -138286.979942      1  \n",
       "4              -138508.264032      1  \n",
       "...                       ...    ...  \n",
       "691401         -133002.753024      1  \n",
       "691402         -138167.009269      1  \n",
       "691403         -138444.078091      1  \n",
       "691404           -6804.331807      1  \n",
       "691405         -123889.366661      1  \n",
       "\n",
       "[691406 rows x 8 columns]"
      ]
     },
     "execution_count": 161,
     "metadata": {},
     "output_type": "execute_result"
    }
   ],
   "source": [
    "# Renaming columns and creating a copy\n",
    "df.columns = df.columns.str.strip().str.lower().str.replace(' ', '_').str.replace('(', '').str.replace(')', '')\n",
    "df_cleaned = df.copy()\n",
    "df_cleaned = clean_dataset(df_cleaned)\n",
    "\n",
    "# Resetting index and removing unneeded index column\n",
    "df_cleaned = df_cleaned.reset_index()\n",
    "df_cleaned.drop('index', axis=1, inplace=True)\n",
    "\n",
    "# Saving the label attribute before dropping it\n",
    "df_labels = df_cleaned['label']\n",
    "df_no_labels = df_cleaned.drop('label', axis=1, inplace=False)\n",
    "df_features = df_no_labels.columns.tolist()\n",
    "\n",
    "# Scaling the data\n",
    "df_scaled = StandardScaler().fit_transform(df_no_labels)\n",
    "df_scaled = pd.DataFrame(data=df_scaled, columns=df_features)\n",
    "\n",
    "# Performing PCA\n",
    "pca = PCA(n_components=dimensions_num_for_PCA)\n",
    "principal_components = pca.fit(df_no_labels).transform(df_no_labels)\n",
    "\n",
    "# Creating a DataFrame with principal components\n",
    "principal_component_headings = get_PCA_feature_names(dimensions_num_for_PCA)\n",
    "df_pc = pd.DataFrame(data=principal_components, columns=principal_component_headings)\n",
    "\n",
    "# Concatenating principal components and labels\n",
    "df_final = pd.concat([df_pc, df_labels], axis=1)\n",
    "\n",
    "# Applying LabelBinarizer to the labels\n",
    "lb = LabelBinarizer()\n",
    "df_final['label'] = lb.fit_transform(df_final['label'])\n",
    "\n",
    "# Displaying the final DataFrame\n",
    "df_final"
   ]
  },
  {
   "cell_type": "code",
   "execution_count": 162,
   "metadata": {},
   "outputs": [],
   "source": [
    "X = df_final.drop(['label'], axis = 1)\n",
    "y = df_final['label']"
   ]
  },
  {
   "cell_type": "code",
   "execution_count": 163,
   "metadata": {},
   "outputs": [
    {
     "data": {
      "text/plain": [
       "0         1\n",
       "1         1\n",
       "2         1\n",
       "3         1\n",
       "4         1\n",
       "         ..\n",
       "691401    1\n",
       "691402    1\n",
       "691403    1\n",
       "691404    1\n",
       "691405    1\n",
       "Name: label, Length: 691406, dtype: int64"
      ]
     },
     "execution_count": 163,
     "metadata": {},
     "output_type": "execute_result"
    }
   ],
   "source": [
    "y # Label"
   ]
  },
  {
   "cell_type": "code",
   "execution_count": 164,
   "metadata": {},
   "outputs": [
    {
     "data": {
      "text/html": [
       "<div>\n",
       "<style scoped>\n",
       "    .dataframe tbody tr th:only-of-type {\n",
       "        vertical-align: middle;\n",
       "    }\n",
       "\n",
       "    .dataframe tbody tr th {\n",
       "        vertical-align: top;\n",
       "    }\n",
       "\n",
       "    .dataframe thead th {\n",
       "        text-align: right;\n",
       "    }\n",
       "</style>\n",
       "<table border=\"1\" class=\"dataframe\">\n",
       "  <thead>\n",
       "    <tr style=\"text-align: right;\">\n",
       "      <th></th>\n",
       "      <th>Principal component 1</th>\n",
       "      <th>Principal component 2</th>\n",
       "      <th>Principal component 3</th>\n",
       "      <th>Principal component 4</th>\n",
       "      <th>Principal component 5</th>\n",
       "      <th>Principal component 6</th>\n",
       "      <th>Principal component 7</th>\n",
       "    </tr>\n",
       "  </thead>\n",
       "  <tbody>\n",
       "    <tr>\n",
       "      <th>0</th>\n",
       "      <td>-6.719272e+07</td>\n",
       "      <td>-2.929021e+06</td>\n",
       "      <td>-2.424908e+06</td>\n",
       "      <td>-3.683649e+06</td>\n",
       "      <td>-561111.450909</td>\n",
       "      <td>-208436.017784</td>\n",
       "      <td>-103218.535400</td>\n",
       "    </tr>\n",
       "    <tr>\n",
       "      <th>1</th>\n",
       "      <td>-6.723308e+07</td>\n",
       "      <td>-2.938733e+06</td>\n",
       "      <td>-1.385765e+06</td>\n",
       "      <td>-3.675577e+06</td>\n",
       "      <td>-571210.298004</td>\n",
       "      <td>-221106.058894</td>\n",
       "      <td>-138282.114033</td>\n",
       "    </tr>\n",
       "    <tr>\n",
       "      <th>2</th>\n",
       "      <td>-6.727888e+07</td>\n",
       "      <td>-2.991829e+06</td>\n",
       "      <td>3.326729e+06</td>\n",
       "      <td>-3.580775e+06</td>\n",
       "      <td>-572868.113070</td>\n",
       "      <td>-218961.579517</td>\n",
       "      <td>-138358.400024</td>\n",
       "    </tr>\n",
       "    <tr>\n",
       "      <th>3</th>\n",
       "      <td>-6.719725e+07</td>\n",
       "      <td>-2.922039e+06</td>\n",
       "      <td>-1.759606e+06</td>\n",
       "      <td>-3.683482e+06</td>\n",
       "      <td>-583282.686918</td>\n",
       "      <td>-213177.367255</td>\n",
       "      <td>-138286.979942</td>\n",
       "    </tr>\n",
       "    <tr>\n",
       "      <th>4</th>\n",
       "      <td>-6.727859e+07</td>\n",
       "      <td>-2.992425e+06</td>\n",
       "      <td>3.344391e+06</td>\n",
       "      <td>-3.580586e+06</td>\n",
       "      <td>-573737.024023</td>\n",
       "      <td>-219025.394020</td>\n",
       "      <td>-138508.264032</td>\n",
       "    </tr>\n",
       "    <tr>\n",
       "      <th>...</th>\n",
       "      <td>...</td>\n",
       "      <td>...</td>\n",
       "      <td>...</td>\n",
       "      <td>...</td>\n",
       "      <td>...</td>\n",
       "      <td>...</td>\n",
       "      <td>...</td>\n",
       "    </tr>\n",
       "    <tr>\n",
       "      <th>691401</th>\n",
       "      <td>-6.717165e+07</td>\n",
       "      <td>-2.930343e+06</td>\n",
       "      <td>-2.416930e+06</td>\n",
       "      <td>-3.676398e+06</td>\n",
       "      <td>-566880.587954</td>\n",
       "      <td>-198734.217630</td>\n",
       "      <td>-133002.753024</td>\n",
       "    </tr>\n",
       "    <tr>\n",
       "      <th>691402</th>\n",
       "      <td>-6.723704e+07</td>\n",
       "      <td>-2.942852e+06</td>\n",
       "      <td>-1.049073e+06</td>\n",
       "      <td>-3.668821e+06</td>\n",
       "      <td>-570693.215727</td>\n",
       "      <td>-220903.867635</td>\n",
       "      <td>-138167.009269</td>\n",
       "    </tr>\n",
       "    <tr>\n",
       "      <th>691403</th>\n",
       "      <td>-6.722712e+07</td>\n",
       "      <td>-2.933071e+06</td>\n",
       "      <td>-1.974014e+06</td>\n",
       "      <td>-3.687865e+06</td>\n",
       "      <td>-572080.499889</td>\n",
       "      <td>-221436.159363</td>\n",
       "      <td>-138444.078091</td>\n",
       "    </tr>\n",
       "    <tr>\n",
       "      <th>691404</th>\n",
       "      <td>-6.560133e+07</td>\n",
       "      <td>-2.975964e+06</td>\n",
       "      <td>-2.423091e+06</td>\n",
       "      <td>-2.989848e+06</td>\n",
       "      <td>-423257.878489</td>\n",
       "      <td>502947.163425</td>\n",
       "      <td>-6804.331807</td>\n",
       "    </tr>\n",
       "    <tr>\n",
       "      <th>691405</th>\n",
       "      <td>-6.709501e+07</td>\n",
       "      <td>-2.929785e+06</td>\n",
       "      <td>-2.420739e+06</td>\n",
       "      <td>-3.639375e+06</td>\n",
       "      <td>-557327.069292</td>\n",
       "      <td>-165998.599364</td>\n",
       "      <td>-123889.366661</td>\n",
       "    </tr>\n",
       "  </tbody>\n",
       "</table>\n",
       "<p>691406 rows × 7 columns</p>\n",
       "</div>"
      ],
      "text/plain": [
       "        Principal component 1  Principal component 2  Principal component 3  \\\n",
       "0               -6.719272e+07          -2.929021e+06          -2.424908e+06   \n",
       "1               -6.723308e+07          -2.938733e+06          -1.385765e+06   \n",
       "2               -6.727888e+07          -2.991829e+06           3.326729e+06   \n",
       "3               -6.719725e+07          -2.922039e+06          -1.759606e+06   \n",
       "4               -6.727859e+07          -2.992425e+06           3.344391e+06   \n",
       "...                       ...                    ...                    ...   \n",
       "691401          -6.717165e+07          -2.930343e+06          -2.416930e+06   \n",
       "691402          -6.723704e+07          -2.942852e+06          -1.049073e+06   \n",
       "691403          -6.722712e+07          -2.933071e+06          -1.974014e+06   \n",
       "691404          -6.560133e+07          -2.975964e+06          -2.423091e+06   \n",
       "691405          -6.709501e+07          -2.929785e+06          -2.420739e+06   \n",
       "\n",
       "        Principal component 4  Principal component 5  Principal component 6  \\\n",
       "0               -3.683649e+06         -561111.450909         -208436.017784   \n",
       "1               -3.675577e+06         -571210.298004         -221106.058894   \n",
       "2               -3.580775e+06         -572868.113070         -218961.579517   \n",
       "3               -3.683482e+06         -583282.686918         -213177.367255   \n",
       "4               -3.580586e+06         -573737.024023         -219025.394020   \n",
       "...                       ...                    ...                    ...   \n",
       "691401          -3.676398e+06         -566880.587954         -198734.217630   \n",
       "691402          -3.668821e+06         -570693.215727         -220903.867635   \n",
       "691403          -3.687865e+06         -572080.499889         -221436.159363   \n",
       "691404          -2.989848e+06         -423257.878489          502947.163425   \n",
       "691405          -3.639375e+06         -557327.069292         -165998.599364   \n",
       "\n",
       "        Principal component 7  \n",
       "0              -103218.535400  \n",
       "1              -138282.114033  \n",
       "2              -138358.400024  \n",
       "3              -138286.979942  \n",
       "4              -138508.264032  \n",
       "...                       ...  \n",
       "691401         -133002.753024  \n",
       "691402         -138167.009269  \n",
       "691403         -138444.078091  \n",
       "691404           -6804.331807  \n",
       "691405         -123889.366661  \n",
       "\n",
       "[691406 rows x 7 columns]"
      ]
     },
     "execution_count": 164,
     "metadata": {},
     "output_type": "execute_result"
    }
   ],
   "source": [
    "X #Features"
   ]
  },
  {
   "cell_type": "markdown",
   "metadata": {},
   "source": [
    "## Predection"
   ]
  },
  {
   "cell_type": "markdown",
   "metadata": {},
   "source": [
    "### Model Prediction"
   ]
  },
  {
   "cell_type": "markdown",
   "metadata": {},
   "source": [
    "### Use the model to predict anomalies"
   ]
  },
  {
   "cell_type": "code",
   "execution_count": 165,
   "metadata": {},
   "outputs": [],
   "source": [
    "#model = spectre_model"
   ]
  },
  {
   "cell_type": "code",
   "execution_count": 166,
   "metadata": {},
   "outputs": [],
   "source": [
    "#predictions = spectre_model_2_h5.predict(training_sample)"
   ]
  },
  {
   "cell_type": "code",
   "execution_count": 167,
   "metadata": {},
   "outputs": [],
   "source": [
    "infer = spectre_model_2.signatures['serving_default']"
   ]
  },
  {
   "cell_type": "code",
   "execution_count": 168,
   "metadata": {},
   "outputs": [],
   "source": [
    "# Prepare input data\n",
    "input_name = list(infer.structured_input_signature[1].keys())[0]\n",
    "input_data = {input_name: tf.convert_to_tensor(X, dtype=tf.float32)}"
   ]
  },
  {
   "cell_type": "code",
   "execution_count": 169,
   "metadata": {},
   "outputs": [],
   "source": [
    "# Get the output name\n",
    "output_name = list(infer.structured_outputs.keys())[0]"
   ]
  },
  {
   "cell_type": "code",
   "execution_count": 170,
   "metadata": {},
   "outputs": [],
   "source": [
    "# Perform the inference\n",
    "predictions = infer(**input_data)"
   ]
  },
  {
   "cell_type": "code",
   "execution_count": 171,
   "metadata": {},
   "outputs": [],
   "source": [
    "# Calculate the detection rate\n",
    "predicted_labels = tf.argmax(predictions[output_name], axis=1).numpy()\n",
    "detection_rate_mixed = accuracy_score(y, predicted_labels)"
   ]
  },
  {
   "cell_type": "markdown",
   "metadata": {},
   "source": [
    "### Results"
   ]
  },
  {
   "cell_type": "code",
   "execution_count": 172,
   "metadata": {},
   "outputs": [
    {
     "name": "stdout",
     "output_type": "stream",
     "text": [
      "Detection rate: 0.3640740751454283\n"
     ]
    }
   ],
   "source": [
    "print(\"Detection rate:\", detection_rate_mixed)"
   ]
  },
  {
   "attachments": {},
   "cell_type": "markdown",
   "metadata": {},
   "source": [
    "---"
   ]
  },
  {
   "attachments": {},
   "cell_type": "markdown",
   "metadata": {},
   "source": [
    "\n",
    "# Training Data Test\n",
    "---"
   ]
  },
  {
   "cell_type": "markdown",
   "metadata": {},
   "source": [
    "## Import Data"
   ]
  },
  {
   "cell_type": "markdown",
   "metadata": {},
   "source": [
    "### Load the csv file"
   ]
  },
  {
   "cell_type": "markdown",
   "metadata": {},
   "source": [
    "#### Import Data"
   ]
  },
  {
   "cell_type": "code",
   "execution_count": 173,
   "metadata": {},
   "outputs": [],
   "source": [
    "DDoS_Data = pd.read_csv('../../dataset/CICIDS2017/MachineLearningCSV/MachineLearningCVE/Friday-WorkingHours-Afternoon-DDos.pcap_ISCX.csv')\n",
    "df = DDoS_Data.copy()"
   ]
  },
  {
   "cell_type": "markdown",
   "metadata": {},
   "source": [
    "#### Prepare the data for the model"
   ]
  },
  {
   "cell_type": "code",
   "execution_count": 174,
   "metadata": {},
   "outputs": [
    {
     "name": "stderr",
     "output_type": "stream",
     "text": [
      "/tmp/ipykernel_588891/2188718236.py:2: FutureWarning: The default value of regex will change from True to False in a future version. In addition, single character regular expressions will *not* be treated as literal strings when regex=True.\n",
      "  df.columns = df.columns.str.strip().str.lower().str.replace(' ', '_').str.replace('(', '').str.replace(')', '')\n",
      "/tmp/ipykernel_588891/2188718236.py:2: FutureWarning: The default value of regex will change from True to False in a future version. In addition, single character regular expressions will *not* be treated as literal strings when regex=True.\n",
      "  df.columns = df.columns.str.strip().str.lower().str.replace(' ', '_').str.replace('(', '').str.replace(')', '')\n",
      "/tmp/ipykernel_588891/2671744760.py:4: FutureWarning: In a future version of pandas all arguments of DataFrame.any and Series.any will be keyword-only.\n",
      "  indices_to_keep = ~df.isin([np.nan, np.inf, -np.inf]).any(1)\n"
     ]
    },
    {
     "data": {
      "text/html": [
       "<div>\n",
       "<style scoped>\n",
       "    .dataframe tbody tr th:only-of-type {\n",
       "        vertical-align: middle;\n",
       "    }\n",
       "\n",
       "    .dataframe tbody tr th {\n",
       "        vertical-align: top;\n",
       "    }\n",
       "\n",
       "    .dataframe thead th {\n",
       "        text-align: right;\n",
       "    }\n",
       "</style>\n",
       "<table border=\"1\" class=\"dataframe\">\n",
       "  <thead>\n",
       "    <tr style=\"text-align: right;\">\n",
       "      <th></th>\n",
       "      <th>Principal component 1</th>\n",
       "      <th>Principal component 2</th>\n",
       "      <th>Principal component 3</th>\n",
       "      <th>Principal component 4</th>\n",
       "      <th>Principal component 5</th>\n",
       "      <th>Principal component 6</th>\n",
       "      <th>Principal component 7</th>\n",
       "      <th>label</th>\n",
       "    </tr>\n",
       "  </thead>\n",
       "  <tbody>\n",
       "    <tr>\n",
       "      <th>0</th>\n",
       "      <td>-3.632317e+07</td>\n",
       "      <td>-177588.423798</td>\n",
       "      <td>-158328.262332</td>\n",
       "      <td>3.274166e+06</td>\n",
       "      <td>-644672.422205</td>\n",
       "      <td>-65463.389477</td>\n",
       "      <td>-2.488349e+06</td>\n",
       "      <td>0</td>\n",
       "    </tr>\n",
       "    <tr>\n",
       "      <th>1</th>\n",
       "      <td>-3.630598e+07</td>\n",
       "      <td>-175956.557639</td>\n",
       "      <td>-146308.360104</td>\n",
       "      <td>-6.182039e+05</td>\n",
       "      <td>-660559.724997</td>\n",
       "      <td>-66403.655703</td>\n",
       "      <td>-2.500578e+06</td>\n",
       "      <td>0</td>\n",
       "    </tr>\n",
       "    <tr>\n",
       "      <th>2</th>\n",
       "      <td>-3.630655e+07</td>\n",
       "      <td>-176002.193903</td>\n",
       "      <td>-146668.436861</td>\n",
       "      <td>-4.974704e+05</td>\n",
       "      <td>-660076.496646</td>\n",
       "      <td>-66383.896019</td>\n",
       "      <td>-2.500178e+06</td>\n",
       "      <td>0</td>\n",
       "    </tr>\n",
       "    <tr>\n",
       "      <th>3</th>\n",
       "      <td>-3.630711e+07</td>\n",
       "      <td>-176054.438478</td>\n",
       "      <td>-147043.488746</td>\n",
       "      <td>-3.752421e+05</td>\n",
       "      <td>-659575.485264</td>\n",
       "      <td>-66353.363288</td>\n",
       "      <td>-2.499773e+06</td>\n",
       "      <td>0</td>\n",
       "    </tr>\n",
       "    <tr>\n",
       "      <th>4</th>\n",
       "      <td>-3.632317e+07</td>\n",
       "      <td>-177588.424395</td>\n",
       "      <td>-158328.262578</td>\n",
       "      <td>3.274166e+06</td>\n",
       "      <td>-644672.421279</td>\n",
       "      <td>-65463.388671</td>\n",
       "      <td>-2.488349e+06</td>\n",
       "      <td>0</td>\n",
       "    </tr>\n",
       "    <tr>\n",
       "      <th>...</th>\n",
       "      <td>...</td>\n",
       "      <td>...</td>\n",
       "      <td>...</td>\n",
       "      <td>...</td>\n",
       "      <td>...</td>\n",
       "      <td>...</td>\n",
       "      <td>...</td>\n",
       "      <td>...</td>\n",
       "    </tr>\n",
       "    <tr>\n",
       "      <th>225706</th>\n",
       "      <td>-3.630640e+07</td>\n",
       "      <td>-175986.939817</td>\n",
       "      <td>-146564.360752</td>\n",
       "      <td>-5.315339e+05</td>\n",
       "      <td>-660217.323093</td>\n",
       "      <td>-66393.258881</td>\n",
       "      <td>-2.500293e+06</td>\n",
       "      <td>0</td>\n",
       "    </tr>\n",
       "    <tr>\n",
       "      <th>225707</th>\n",
       "      <td>-3.630626e+07</td>\n",
       "      <td>-175975.278900</td>\n",
       "      <td>-146473.928435</td>\n",
       "      <td>-5.616025e+05</td>\n",
       "      <td>-660338.262449</td>\n",
       "      <td>-66398.743473</td>\n",
       "      <td>-2.500392e+06</td>\n",
       "      <td>0</td>\n",
       "    </tr>\n",
       "    <tr>\n",
       "      <th>225708</th>\n",
       "      <td>-3.630622e+07</td>\n",
       "      <td>-175972.744882</td>\n",
       "      <td>-146454.001685</td>\n",
       "      <td>-5.682723e+05</td>\n",
       "      <td>-660364.983726</td>\n",
       "      <td>-66399.860056</td>\n",
       "      <td>-2.500414e+06</td>\n",
       "      <td>0</td>\n",
       "    </tr>\n",
       "    <tr>\n",
       "      <th>225709</th>\n",
       "      <td>-3.630660e+07</td>\n",
       "      <td>-176009.636226</td>\n",
       "      <td>-146737.014042</td>\n",
       "      <td>-4.781892e+05</td>\n",
       "      <td>-659998.750229</td>\n",
       "      <td>-66339.920855</td>\n",
       "      <td>-2.500141e+06</td>\n",
       "      <td>0</td>\n",
       "    </tr>\n",
       "    <tr>\n",
       "      <th>225710</th>\n",
       "      <td>-3.630630e+07</td>\n",
       "      <td>-175977.931623</td>\n",
       "      <td>-146503.718510</td>\n",
       "      <td>-5.517941e+05</td>\n",
       "      <td>-660296.900808</td>\n",
       "      <td>-66396.918961</td>\n",
       "      <td>-2.500357e+06</td>\n",
       "      <td>0</td>\n",
       "    </tr>\n",
       "  </tbody>\n",
       "</table>\n",
       "<p>225711 rows × 8 columns</p>\n",
       "</div>"
      ],
      "text/plain": [
       "        Principal component 1  Principal component 2  Principal component 3  \\\n",
       "0               -3.632317e+07         -177588.423798         -158328.262332   \n",
       "1               -3.630598e+07         -175956.557639         -146308.360104   \n",
       "2               -3.630655e+07         -176002.193903         -146668.436861   \n",
       "3               -3.630711e+07         -176054.438478         -147043.488746   \n",
       "4               -3.632317e+07         -177588.424395         -158328.262578   \n",
       "...                       ...                    ...                    ...   \n",
       "225706          -3.630640e+07         -175986.939817         -146564.360752   \n",
       "225707          -3.630626e+07         -175975.278900         -146473.928435   \n",
       "225708          -3.630622e+07         -175972.744882         -146454.001685   \n",
       "225709          -3.630660e+07         -176009.636226         -146737.014042   \n",
       "225710          -3.630630e+07         -175977.931623         -146503.718510   \n",
       "\n",
       "        Principal component 4  Principal component 5  Principal component 6  \\\n",
       "0                3.274166e+06         -644672.422205          -65463.389477   \n",
       "1               -6.182039e+05         -660559.724997          -66403.655703   \n",
       "2               -4.974704e+05         -660076.496646          -66383.896019   \n",
       "3               -3.752421e+05         -659575.485264          -66353.363288   \n",
       "4                3.274166e+06         -644672.421279          -65463.388671   \n",
       "...                       ...                    ...                    ...   \n",
       "225706          -5.315339e+05         -660217.323093          -66393.258881   \n",
       "225707          -5.616025e+05         -660338.262449          -66398.743473   \n",
       "225708          -5.682723e+05         -660364.983726          -66399.860056   \n",
       "225709          -4.781892e+05         -659998.750229          -66339.920855   \n",
       "225710          -5.517941e+05         -660296.900808          -66396.918961   \n",
       "\n",
       "        Principal component 7  label  \n",
       "0               -2.488349e+06      0  \n",
       "1               -2.500578e+06      0  \n",
       "2               -2.500178e+06      0  \n",
       "3               -2.499773e+06      0  \n",
       "4               -2.488349e+06      0  \n",
       "...                       ...    ...  \n",
       "225706          -2.500293e+06      0  \n",
       "225707          -2.500392e+06      0  \n",
       "225708          -2.500414e+06      0  \n",
       "225709          -2.500141e+06      0  \n",
       "225710          -2.500357e+06      0  \n",
       "\n",
       "[225711 rows x 8 columns]"
      ]
     },
     "execution_count": 174,
     "metadata": {},
     "output_type": "execute_result"
    }
   ],
   "source": [
    "# Renaming columns and creating a copy\n",
    "df.columns = df.columns.str.strip().str.lower().str.replace(' ', '_').str.replace('(', '').str.replace(')', '')\n",
    "df_cleaned = df.copy()\n",
    "df_cleaned = clean_dataset(df_cleaned)\n",
    "\n",
    "# Resetting index and removing unneeded index column\n",
    "df_cleaned = df_cleaned.reset_index()\n",
    "df_cleaned.drop('index', axis=1, inplace=True)\n",
    "\n",
    "# Saving the label attribute before dropping it\n",
    "df_labels = df_cleaned['label']\n",
    "df_no_labels = df_cleaned.drop('label', axis=1, inplace=False)\n",
    "df_features = df_no_labels.columns.tolist()\n",
    "\n",
    "# Scaling the data\n",
    "df_scaled = StandardScaler().fit_transform(df_no_labels)\n",
    "df_scaled = pd.DataFrame(data=df_scaled, columns=df_features)\n",
    "\n",
    "# Performing PCA\n",
    "pca = PCA(n_components=dimensions_num_for_PCA)\n",
    "principal_components = pca.fit(df_no_labels).transform(df_no_labels)\n",
    "\n",
    "# Creating a DataFrame with principal components\n",
    "principal_component_headings = get_PCA_feature_names(dimensions_num_for_PCA)\n",
    "df_pc = pd.DataFrame(data=principal_components, columns=principal_component_headings)\n",
    "\n",
    "# Concatenating principal components and labels\n",
    "df_final = pd.concat([df_pc, df_labels], axis=1)\n",
    "\n",
    "# Applying LabelBinarizer to the labels\n",
    "lb = LabelBinarizer()\n",
    "df_final['label'] = lb.fit_transform(df_final['label'])\n",
    "\n",
    "# Displaying the final DataFrame\n",
    "df_final"
   ]
  },
  {
   "cell_type": "code",
   "execution_count": 175,
   "metadata": {},
   "outputs": [],
   "source": [
    "X = df_final.drop(['label'], axis = 1)\n",
    "y = df_final['label']"
   ]
  },
  {
   "cell_type": "code",
   "execution_count": 176,
   "metadata": {},
   "outputs": [
    {
     "data": {
      "text/plain": [
       "0         0\n",
       "1         0\n",
       "2         0\n",
       "3         0\n",
       "4         0\n",
       "         ..\n",
       "225706    0\n",
       "225707    0\n",
       "225708    0\n",
       "225709    0\n",
       "225710    0\n",
       "Name: label, Length: 225711, dtype: int64"
      ]
     },
     "execution_count": 176,
     "metadata": {},
     "output_type": "execute_result"
    }
   ],
   "source": [
    "y # Label"
   ]
  },
  {
   "cell_type": "code",
   "execution_count": 177,
   "metadata": {},
   "outputs": [
    {
     "data": {
      "text/html": [
       "<div>\n",
       "<style scoped>\n",
       "    .dataframe tbody tr th:only-of-type {\n",
       "        vertical-align: middle;\n",
       "    }\n",
       "\n",
       "    .dataframe tbody tr th {\n",
       "        vertical-align: top;\n",
       "    }\n",
       "\n",
       "    .dataframe thead th {\n",
       "        text-align: right;\n",
       "    }\n",
       "</style>\n",
       "<table border=\"1\" class=\"dataframe\">\n",
       "  <thead>\n",
       "    <tr style=\"text-align: right;\">\n",
       "      <th></th>\n",
       "      <th>Principal component 1</th>\n",
       "      <th>Principal component 2</th>\n",
       "      <th>Principal component 3</th>\n",
       "      <th>Principal component 4</th>\n",
       "      <th>Principal component 5</th>\n",
       "      <th>Principal component 6</th>\n",
       "      <th>Principal component 7</th>\n",
       "    </tr>\n",
       "  </thead>\n",
       "  <tbody>\n",
       "    <tr>\n",
       "      <th>0</th>\n",
       "      <td>-3.632317e+07</td>\n",
       "      <td>-177588.423798</td>\n",
       "      <td>-158328.262332</td>\n",
       "      <td>3.274166e+06</td>\n",
       "      <td>-644672.422205</td>\n",
       "      <td>-65463.389477</td>\n",
       "      <td>-2.488349e+06</td>\n",
       "    </tr>\n",
       "    <tr>\n",
       "      <th>1</th>\n",
       "      <td>-3.630598e+07</td>\n",
       "      <td>-175956.557639</td>\n",
       "      <td>-146308.360104</td>\n",
       "      <td>-6.182039e+05</td>\n",
       "      <td>-660559.724997</td>\n",
       "      <td>-66403.655703</td>\n",
       "      <td>-2.500578e+06</td>\n",
       "    </tr>\n",
       "    <tr>\n",
       "      <th>2</th>\n",
       "      <td>-3.630655e+07</td>\n",
       "      <td>-176002.193903</td>\n",
       "      <td>-146668.436861</td>\n",
       "      <td>-4.974704e+05</td>\n",
       "      <td>-660076.496646</td>\n",
       "      <td>-66383.896019</td>\n",
       "      <td>-2.500178e+06</td>\n",
       "    </tr>\n",
       "    <tr>\n",
       "      <th>3</th>\n",
       "      <td>-3.630711e+07</td>\n",
       "      <td>-176054.438478</td>\n",
       "      <td>-147043.488746</td>\n",
       "      <td>-3.752421e+05</td>\n",
       "      <td>-659575.485264</td>\n",
       "      <td>-66353.363288</td>\n",
       "      <td>-2.499773e+06</td>\n",
       "    </tr>\n",
       "    <tr>\n",
       "      <th>4</th>\n",
       "      <td>-3.632317e+07</td>\n",
       "      <td>-177588.424395</td>\n",
       "      <td>-158328.262578</td>\n",
       "      <td>3.274166e+06</td>\n",
       "      <td>-644672.421279</td>\n",
       "      <td>-65463.388671</td>\n",
       "      <td>-2.488349e+06</td>\n",
       "    </tr>\n",
       "    <tr>\n",
       "      <th>...</th>\n",
       "      <td>...</td>\n",
       "      <td>...</td>\n",
       "      <td>...</td>\n",
       "      <td>...</td>\n",
       "      <td>...</td>\n",
       "      <td>...</td>\n",
       "      <td>...</td>\n",
       "    </tr>\n",
       "    <tr>\n",
       "      <th>225706</th>\n",
       "      <td>-3.630640e+07</td>\n",
       "      <td>-175986.939817</td>\n",
       "      <td>-146564.360752</td>\n",
       "      <td>-5.315339e+05</td>\n",
       "      <td>-660217.323093</td>\n",
       "      <td>-66393.258881</td>\n",
       "      <td>-2.500293e+06</td>\n",
       "    </tr>\n",
       "    <tr>\n",
       "      <th>225707</th>\n",
       "      <td>-3.630626e+07</td>\n",
       "      <td>-175975.278900</td>\n",
       "      <td>-146473.928435</td>\n",
       "      <td>-5.616025e+05</td>\n",
       "      <td>-660338.262449</td>\n",
       "      <td>-66398.743473</td>\n",
       "      <td>-2.500392e+06</td>\n",
       "    </tr>\n",
       "    <tr>\n",
       "      <th>225708</th>\n",
       "      <td>-3.630622e+07</td>\n",
       "      <td>-175972.744882</td>\n",
       "      <td>-146454.001685</td>\n",
       "      <td>-5.682723e+05</td>\n",
       "      <td>-660364.983726</td>\n",
       "      <td>-66399.860056</td>\n",
       "      <td>-2.500414e+06</td>\n",
       "    </tr>\n",
       "    <tr>\n",
       "      <th>225709</th>\n",
       "      <td>-3.630660e+07</td>\n",
       "      <td>-176009.636226</td>\n",
       "      <td>-146737.014042</td>\n",
       "      <td>-4.781892e+05</td>\n",
       "      <td>-659998.750229</td>\n",
       "      <td>-66339.920855</td>\n",
       "      <td>-2.500141e+06</td>\n",
       "    </tr>\n",
       "    <tr>\n",
       "      <th>225710</th>\n",
       "      <td>-3.630630e+07</td>\n",
       "      <td>-175977.931623</td>\n",
       "      <td>-146503.718510</td>\n",
       "      <td>-5.517941e+05</td>\n",
       "      <td>-660296.900808</td>\n",
       "      <td>-66396.918961</td>\n",
       "      <td>-2.500357e+06</td>\n",
       "    </tr>\n",
       "  </tbody>\n",
       "</table>\n",
       "<p>225711 rows × 7 columns</p>\n",
       "</div>"
      ],
      "text/plain": [
       "        Principal component 1  Principal component 2  Principal component 3  \\\n",
       "0               -3.632317e+07         -177588.423798         -158328.262332   \n",
       "1               -3.630598e+07         -175956.557639         -146308.360104   \n",
       "2               -3.630655e+07         -176002.193903         -146668.436861   \n",
       "3               -3.630711e+07         -176054.438478         -147043.488746   \n",
       "4               -3.632317e+07         -177588.424395         -158328.262578   \n",
       "...                       ...                    ...                    ...   \n",
       "225706          -3.630640e+07         -175986.939817         -146564.360752   \n",
       "225707          -3.630626e+07         -175975.278900         -146473.928435   \n",
       "225708          -3.630622e+07         -175972.744882         -146454.001685   \n",
       "225709          -3.630660e+07         -176009.636226         -146737.014042   \n",
       "225710          -3.630630e+07         -175977.931623         -146503.718510   \n",
       "\n",
       "        Principal component 4  Principal component 5  Principal component 6  \\\n",
       "0                3.274166e+06         -644672.422205          -65463.389477   \n",
       "1               -6.182039e+05         -660559.724997          -66403.655703   \n",
       "2               -4.974704e+05         -660076.496646          -66383.896019   \n",
       "3               -3.752421e+05         -659575.485264          -66353.363288   \n",
       "4                3.274166e+06         -644672.421279          -65463.388671   \n",
       "...                       ...                    ...                    ...   \n",
       "225706          -5.315339e+05         -660217.323093          -66393.258881   \n",
       "225707          -5.616025e+05         -660338.262449          -66398.743473   \n",
       "225708          -5.682723e+05         -660364.983726          -66399.860056   \n",
       "225709          -4.781892e+05         -659998.750229          -66339.920855   \n",
       "225710          -5.517941e+05         -660296.900808          -66396.918961   \n",
       "\n",
       "        Principal component 7  \n",
       "0               -2.488349e+06  \n",
       "1               -2.500578e+06  \n",
       "2               -2.500178e+06  \n",
       "3               -2.499773e+06  \n",
       "4               -2.488349e+06  \n",
       "...                       ...  \n",
       "225706          -2.500293e+06  \n",
       "225707          -2.500392e+06  \n",
       "225708          -2.500414e+06  \n",
       "225709          -2.500141e+06  \n",
       "225710          -2.500357e+06  \n",
       "\n",
       "[225711 rows x 7 columns]"
      ]
     },
     "execution_count": 177,
     "metadata": {},
     "output_type": "execute_result"
    }
   ],
   "source": [
    "X #Features"
   ]
  },
  {
   "cell_type": "markdown",
   "metadata": {},
   "source": [
    "## Predection"
   ]
  },
  {
   "cell_type": "markdown",
   "metadata": {},
   "source": [
    "### Model Prediction"
   ]
  },
  {
   "cell_type": "markdown",
   "metadata": {},
   "source": [
    "### Use the model to predict anomalies"
   ]
  },
  {
   "cell_type": "code",
   "execution_count": 178,
   "metadata": {},
   "outputs": [],
   "source": [
    "#model = spectre_model"
   ]
  },
  {
   "cell_type": "code",
   "execution_count": 179,
   "metadata": {},
   "outputs": [],
   "source": [
    "#predictions = spectre_model_2_h5.predict(training_sample)"
   ]
  },
  {
   "cell_type": "code",
   "execution_count": 180,
   "metadata": {},
   "outputs": [],
   "source": [
    "infer = spectre_model_2.signatures['serving_default']"
   ]
  },
  {
   "cell_type": "code",
   "execution_count": 181,
   "metadata": {},
   "outputs": [],
   "source": [
    "# Prepare input data\n",
    "input_name = list(infer.structured_input_signature[1].keys())[0]\n",
    "input_data = {input_name: tf.convert_to_tensor(X, dtype=tf.float32)}"
   ]
  },
  {
   "cell_type": "code",
   "execution_count": 182,
   "metadata": {},
   "outputs": [],
   "source": [
    "# Get the output name\n",
    "output_name = list(infer.structured_outputs.keys())[0]"
   ]
  },
  {
   "cell_type": "code",
   "execution_count": 183,
   "metadata": {},
   "outputs": [],
   "source": [
    "# Perform the inference\n",
    "predictions = infer(**input_data)"
   ]
  },
  {
   "cell_type": "code",
   "execution_count": 184,
   "metadata": {},
   "outputs": [],
   "source": [
    "# Calculate the detection rate\n",
    "predicted_labels = tf.argmax(predictions[output_name], axis=1).numpy()\n",
    "detection_rate_train = accuracy_score(y, predicted_labels)"
   ]
  },
  {
   "cell_type": "markdown",
   "metadata": {},
   "source": [
    "### Results"
   ]
  },
  {
   "cell_type": "code",
   "execution_count": 185,
   "metadata": {},
   "outputs": [
    {
     "name": "stdout",
     "output_type": "stream",
     "text": [
      "Detection rate: 0.4327923760915507\n"
     ]
    }
   ],
   "source": [
    "print(\"Detection rate:\", detection_rate_train)"
   ]
  },
  {
   "attachments": {},
   "cell_type": "markdown",
   "metadata": {},
   "source": [
    "# Results"
   ]
  },
  {
   "attachments": {},
   "cell_type": "markdown",
   "metadata": {},
   "source": [
    "Beninge Detection Rate"
   ]
  },
  {
   "cell_type": "code",
   "execution_count": 186,
   "metadata": {},
   "outputs": [
    {
     "name": "stdout",
     "output_type": "stream",
     "text": [
      "Detection rate: 1.0\n"
     ]
    }
   ],
   "source": [
    "print(\"Detection rate:\", detection_rate_bening)"
   ]
  },
  {
   "cell_type": "markdown",
   "metadata": {},
   "source": [
    "Mixed Detection Rate"
   ]
  },
  {
   "cell_type": "code",
   "execution_count": 187,
   "metadata": {},
   "outputs": [
    {
     "name": "stdout",
     "output_type": "stream",
     "text": [
      "Detection rate: 0.3640740751454283\n"
     ]
    }
   ],
   "source": [
    "print(\"Detection rate:\", detection_rate_mixed)"
   ]
  },
  {
   "cell_type": "markdown",
   "metadata": {},
   "source": [
    "Training Dataset Test"
   ]
  },
  {
   "cell_type": "code",
   "execution_count": 188,
   "metadata": {},
   "outputs": [
    {
     "name": "stdout",
     "output_type": "stream",
     "text": [
      "Detection rate: 0.4327923760915507\n"
     ]
    }
   ],
   "source": [
    "print(\"Detection rate:\", detection_rate_train)"
   ]
  }
 ],
 "metadata": {
  "kernelspec": {
   "display_name": "spectre",
   "language": "python",
   "name": "python3"
  },
  "language_info": {
   "codemirror_mode": {
    "name": "ipython",
    "version": 3
   },
   "file_extension": ".py",
   "mimetype": "text/x-python",
   "name": "python",
   "nbconvert_exporter": "python",
   "pygments_lexer": "ipython3",
   "version": "3.9.16"
  },
  "orig_nbformat": 4,
  "vscode": {
   "interpreter": {
    "hash": "f1dfc71e7fbfeb8e9159a06fd6d881a402781ddd8e7c98f8d64701fc8c4ad09f"
   }
  }
 },
 "nbformat": 4,
 "nbformat_minor": 2
}
