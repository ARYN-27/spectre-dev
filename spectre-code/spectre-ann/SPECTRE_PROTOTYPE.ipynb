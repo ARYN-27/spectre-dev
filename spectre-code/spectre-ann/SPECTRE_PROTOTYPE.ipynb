{
 "cells": [
  {
   "attachments": {},
   "cell_type": "markdown",
   "metadata": {},
   "source": [
    "# SPECTRE TEST\n",
    "- Using H5 Model trained using ISCX-IDS-2012 Dataset\n",
    "- Testing using Malware_Capture_Facility_Project Dataset - CTU-Malware-Capture-Botnet-135-1 Stlrat DDoS (MD5: `c7838b75ba10b0341554d25fbcc3bbc0`)\n",
    "\n",
    "---"
   ]
  },
  {
   "attachments": {},
   "cell_type": "markdown",
   "metadata": {},
   "source": [
    "## Import Dependencies"
   ]
  },
  {
   "cell_type": "code",
   "execution_count": 1,
   "metadata": {},
   "outputs": [
    {
     "name": "stderr",
     "output_type": "stream",
     "text": [
      "2023-05-08 14:53:53.414641: I tensorflow/tsl/cuda/cudart_stub.cc:28] Could not find cuda drivers on your machine, GPU will not be used.\n",
      "2023-05-08 14:53:53.587483: I tensorflow/tsl/cuda/cudart_stub.cc:28] Could not find cuda drivers on your machine, GPU will not be used.\n",
      "2023-05-08 14:53:53.589534: I tensorflow/core/platform/cpu_feature_guard.cc:182] This TensorFlow binary is optimized to use available CPU instructions in performance-critical operations.\n",
      "To enable the following instructions: AVX2 FMA, in other operations, rebuild TensorFlow with the appropriate compiler flags.\n",
      "2023-05-08 14:53:54.711328: W tensorflow/compiler/tf2tensorrt/utils/py_utils.cc:38] TF-TRT Warning: Could not find TensorRT\n"
     ]
    }
   ],
   "source": [
    "import sys\n",
    "from scapy.all import *\n",
    "import h5py\n",
    "import matplotlib.pyplot as plt\n",
    "import numpy as np\n",
    "import tensorflow as tf\n",
    "from tensorflow import keras\n",
    "import pandas as pd\n",
    "from tabulate import tabulate"
   ]
  },
  {
   "cell_type": "code",
   "execution_count": null,
   "metadata": {},
   "outputs": [],
   "source": [
    "# KAFKA IMPORT"
   ]
  },
  {
   "attachments": {},
   "cell_type": "markdown",
   "metadata": {},
   "source": [
    "## Import Data"
   ]
  },
  {
   "attachments": {},
   "cell_type": "markdown",
   "metadata": {},
   "source": [
    "### Load the npy file"
   ]
  },
  {
   "cell_type": "code",
   "execution_count": 10,
   "metadata": {},
   "outputs": [],
   "source": [
    "# ISCX-IDS-2012 - 14 JUN\n",
    "#mal_pcap = scapy.rdpcap('/mnt/Data/SPECTRE/Dataset/ISCX-2012/PCAP/testbed-14jun.pcap') \n",
    "\n",
    "# Malware_Capture_Facility_Project - CTU-Malware-Capture-Botnet-135-1 Stlrat DDoS\n",
    "malicious_data = np.load('/home/aryn/spectre-dev/dataset/Malware_Capture_Facility_Project/PCAP-NPY/2015-09-10_winlinux.npy', allow_pickle=True)\n",
    "malicious_data_2 = np.load('/home/aryn/spectre-dev/dataset/Malware_Capture_Facility_Project/PCAP-NPY/2015-09-10_winlinux_2.npy', allow_pickle=True)\n",
    "training_sample = np.load('/home/aryn/spectre-dev/dataset/ISCX-IDS-2012/PCAP-NPY/destinationPayload_TestbedMonJun14Flows.xml.npy', allow_pickle=True)"
   ]
  },
  {
   "cell_type": "code",
   "execution_count": 11,
   "metadata": {},
   "outputs": [
    {
     "name": "stdout",
     "output_type": "stream",
     "text": [
      "-  --  -  -  --  -  -  --  -  -  --  -  -  --  -  -------  --  -----------  -------  --  -----------  -------  --  -----------  -  --  -----------  -  --  -----------  -----------  -------  -----------  -----------  ----------  -------  -  -  -----------  -------  -----------  -----------  ----------  -------  -  -  ----------  -------  -  -  -------  -----------  -----------  -------  -----------  -----------  -------  -----------  -----------  -  -----------  -----------  -  -----------  -----------  -------  --  -----------  -------  --  -----------  -------  --  -----------  -  --  -----------  -  --  -----------  -----------  -------  -----------  -----------  ----------  -------  -  -  -----------  -------  -----------  -----------  ----------  -------  -  -  ----------  -------  -  -\n",
      "1  72  0  1  72  0  1  72  0  1  72  0  1  72  0  1        72  0            1        72  0            1        72  0            1  72  0            1  72  0            0            101.823  0            0            0           101.823  0  0  0            101.823  0            0            0           101.823  0  0  0           101.823  0  0  1        0            0            1        0            0            1        0            0            1  0            0            1  0            0            1        72  0            1        72  0            1        72  0            1  72  0            1  72  0            0            101.823  0            0            0           101.823  0  0  0            101.823  0            0            0           101.823  0  0  0           101.823  0  0\n",
      "1  72  0  1  72  0  1  72  0  1  72  0  1  72  0  1.99996  72  1.81899e-12  1.99998  72  9.09495e-13  1.99999  72  1.81899e-12  2  72  9.09495e-13  2  72  9.09495e-13  1.90735e-06  101.823  1.00976e-28  5.55122e-17  1.3487e-06  101.823  0  0  1.90735e-06  101.823  1.00975e-28  5.55114e-17  1.3487e-06  101.823  0  0  1.3487e-06  101.823  0  0  1.99996  5.48373e-06  3.00702e-11  1.99998  5.48369e-06  3.00702e-11  1.99999  5.48365e-06  3.00702e-11  2  5.48363e-06  3.00702e-11  2  5.48363e-06  3.00702e-11  1.99996  72  1.81899e-12  1.99998  72  9.09495e-13  1.99999  72  1.81899e-12  2  72  9.09495e-13  2  72  9.09495e-13  1.90735e-06  101.823  1.00976e-28  5.55122e-17  1.3487e-06  101.823  0  0  1.90735e-06  101.823  1.00975e-28  5.55114e-17  1.3487e-06  101.823  0  0  1.3487e-06  101.823  0  0\n",
      "-  --  -  -  --  -  -  --  -  -  --  -  -  --  -  -------  --  -----------  -------  --  -----------  -------  --  -----------  -  --  -----------  -  --  -----------  -----------  -------  -----------  -----------  ----------  -------  -  -  -----------  -------  -----------  -----------  ----------  -------  -  -  ----------  -------  -  -  -------  -----------  -----------  -------  -----------  -----------  -------  -----------  -----------  -  -----------  -----------  -  -----------  -----------  -------  --  -----------  -------  --  -----------  -------  --  -----------  -  --  -----------  -  --  -----------  -----------  -------  -----------  -----------  ----------  -------  -  -  -----------  -------  -----------  -----------  ----------  -------  -  -  ----------  -------  -  -\n"
     ]
    }
   ],
   "source": [
    "rows_mal = malicious_data[:2]\n",
    "table_mal = rows_mal.tolist()\n",
    "print(tabulate(table_mal))"
   ]
  },
  {
   "cell_type": "code",
   "execution_count": 12,
   "metadata": {},
   "outputs": [
    {
     "name": "stdout",
     "output_type": "stream",
     "text": [
      "----  -\n",
      "7500  1\n",
      "7500  1\n",
      "----  -\n"
     ]
    }
   ],
   "source": [
    "rows_mal_2 = malicious_data_2[:2]\n",
    "table_mal_2 = rows_mal_2.tolist()\n",
    "print(tabulate(table_mal_2))"
   ]
  },
  {
   "cell_type": "code",
   "execution_count": 13,
   "metadata": {},
   "outputs": [
    {
     "name": "stdout",
     "output_type": "stream",
     "text": [
      "-----------------------------  -\n",
      "[ 43  79  75 ... 103 101 100]  0\n",
      "[ 46  46  46 ... 110  46  46]  0\n",
      "-----------------------------  -\n"
     ]
    },
    {
     "name": "stderr",
     "output_type": "stream",
     "text": [
      "/home/aryn/miniconda3/envs/spectre/lib/python3.9/site-packages/tabulate/__init__.py:107: FutureWarning: elementwise comparison failed; returning scalar instead, but in the future will perform elementwise comparison\n",
      "  (len(row) >= 1 and row[0] == SEPARATING_LINE)\n"
     ]
    }
   ],
   "source": [
    "rows_train = training_sample[:2]\n",
    "table_train = rows_train.tolist()\n",
    "print(tabulate(table_train))"
   ]
  },
  {
   "attachments": {},
   "cell_type": "markdown",
   "metadata": {},
   "source": [
    "### Prepare the data for the model"
   ]
  },
  {
   "cell_type": "code",
   "execution_count": 16,
   "metadata": {},
   "outputs": [],
   "source": [
    "img_row = 50\n",
    "img_col = 50\n",
    "\n",
    "# Reshape the entire data_array into the desired format\n",
    "test_data = np.array([x.reshape(img_row, img_col, 3) for x in training_sample[:, 0]])"
   ]
  },
  {
   "attachments": {},
   "cell_type": "markdown",
   "metadata": {},
   "source": [
    "# Predection"
   ]
  },
  {
   "attachments": {},
   "cell_type": "markdown",
   "metadata": {},
   "source": [
    "## Model Preperation"
   ]
  },
  {
   "cell_type": "code",
   "execution_count": 18,
   "metadata": {},
   "outputs": [
    {
     "name": "stderr",
     "output_type": "stream",
     "text": [
      "2023-05-08 19:04:44.248160: I tensorflow/compiler/xla/stream_executor/cuda/cuda_gpu_executor.cc:996] successful NUMA node read from SysFS had negative value (-1), but there must be at least one NUMA node, so returning NUMA node zero. See more at https://github.com/torvalds/linux/blob/v6.0/Documentation/ABI/testing/sysfs-bus-pci#L344-L355\n",
      "2023-05-08 19:04:44.261183: W tensorflow/core/common_runtime/gpu/gpu_device.cc:1956] Cannot dlopen some GPU libraries. Please make sure the missing libraries mentioned above are installed properly if you would like to use GPU. Follow the guide at https://www.tensorflow.org/install/gpu for how to download and setup the required libraries for your platform.\n",
      "Skipping registering GPU devices...\n"
     ]
    }
   ],
   "source": [
    "# Load TF Saved_model\n",
    "spectre_model = tf.saved_model.load(\"/home/aryn/spectre-dev/spectre-code/spectre-ann/Model/DDOS/SavedModel\")"
   ]
  },
  {
   "attachments": {},
   "cell_type": "markdown",
   "metadata": {},
   "source": [
    "### Load H5 Model"
   ]
  },
  {
   "cell_type": "code",
   "execution_count": 19,
   "metadata": {},
   "outputs": [],
   "source": [
    "# H5 Model\n",
    "spectre_model_h5 = keras.models.load_model('/home/aryn/spectre-dev/spectre-code/spectre-ann/Model/DDOS/spectre_ddos_h5.h5')"
   ]
  },
  {
   "attachments": {},
   "cell_type": "markdown",
   "metadata": {},
   "source": [
    "### Load tflite Model"
   ]
  },
  {
   "cell_type": "code",
   "execution_count": null,
   "metadata": {},
   "outputs": [],
   "source": [
    "# tflite Model\n",
    "# Load the TFLite model in TFLite Interpreter\n",
    "#interpreter = tf.lite.Interpreter('/home/aryn/spectre-dev/spectre-code/spectre-ann/Model/DDOS/spectre_ddos_lite.tflite')\n",
    "#interpreter.allocate_tensors()\n",
    "\n",
    "# Get input and output tensors.\n",
    "#input_details = interpreter.get_input_details()\n",
    "#output_details = interpreter.get_output_details()"
   ]
  },
  {
   "cell_type": "code",
   "execution_count": null,
   "metadata": {},
   "outputs": [],
   "source": [
    "#try:\n",
    "    # Load the H5 model\n",
    "#    with h5py.File('/home/aryn/spectre-dev/spectre-code/spectre-ann/Model/DDOS/FYP_Finalh5.h5', 'r') as spectre_model:\n",
    "        # Print metadata\n",
    "#        print(\"H5 file metadata:\")\n",
    "#        print(\"==================\")\n",
    "#        for key, value in spectre_model.attrs.items():\n",
    "#            print(f\"{key}: {value}\")\n",
    "#        print(\"==================\")\n",
    "#        print(\"Done!\")\n",
    "#except:\n",
    "#    print(\"Error loading H5 file.\")"
   ]
  },
  {
   "cell_type": "markdown",
   "metadata": {},
   "source": [
    "### Model Visualization"
   ]
  },
  {
   "cell_type": "code",
   "execution_count": 20,
   "metadata": {},
   "outputs": [
    {
     "data": {
      "image/png": "[encoded data removed]",
      "text/plain": [
       "<PIL.Image.Image image mode=RGBA size=1648x306>"
      ]
     },
     "execution_count": 20,
     "metadata": {},
     "output_type": "execute_result"
    }
   ],
   "source": [
    "import visualkeras\n",
    "from PIL import ImageFont\n",
    "visual_font = ImageFont.truetype(\"arial.ttf\", 12)\n",
    "visualkeras.layered_view(spectre_model_h5, legend=True, spacing=30, font=visual_font) # type: ignore"
   ]
  },
  {
   "attachments": {},
   "cell_type": "markdown",
   "metadata": {},
   "source": [
    "## Model Prediction"
   ]
  },
  {
   "attachments": {},
   "cell_type": "markdown",
   "metadata": {},
   "source": [
    "### Use the model to predict anomalies"
   ]
  },
  {
   "cell_type": "code",
   "execution_count": null,
   "metadata": {},
   "outputs": [],
   "source": [
    "#model = spectre_model"
   ]
  },
  {
   "cell_type": "code",
   "execution_count": 21,
   "metadata": {},
   "outputs": [
    {
     "ename": "ValueError",
     "evalue": "Failed to convert a NumPy array to a Tensor (Unsupported object type numpy.ndarray).",
     "output_type": "error",
     "traceback": [
      "\u001b[0;31m---------------------------------------------------------------------------\u001b[0m",
      "\u001b[0;31mValueError\u001b[0m                                Traceback (most recent call last)",
      "Cell \u001b[0;32mIn[21], line 1\u001b[0m\n\u001b[0;32m----> 1\u001b[0m predictions \u001b[39m=\u001b[39m spectre_model_h5\u001b[39m.\u001b[39;49mpredict(training_sample)\n",
      "File \u001b[0;32m~/miniconda3/envs/spectre/lib/python3.9/site-packages/keras/utils/traceback_utils.py:70\u001b[0m, in \u001b[0;36mfilter_traceback.<locals>.error_handler\u001b[0;34m(*args, **kwargs)\u001b[0m\n\u001b[1;32m     67\u001b[0m     filtered_tb \u001b[39m=\u001b[39m _process_traceback_frames(e\u001b[39m.\u001b[39m__traceback__)\n\u001b[1;32m     68\u001b[0m     \u001b[39m# To get the full stack trace, call:\u001b[39;00m\n\u001b[1;32m     69\u001b[0m     \u001b[39m# `tf.debugging.disable_traceback_filtering()`\u001b[39;00m\n\u001b[0;32m---> 70\u001b[0m     \u001b[39mraise\u001b[39;00m e\u001b[39m.\u001b[39mwith_traceback(filtered_tb) \u001b[39mfrom\u001b[39;00m \u001b[39mNone\u001b[39m\n\u001b[1;32m     71\u001b[0m \u001b[39mfinally\u001b[39;00m:\n\u001b[1;32m     72\u001b[0m     \u001b[39mdel\u001b[39;00m filtered_tb\n",
      "File \u001b[0;32m~/miniconda3/envs/spectre/lib/python3.9/site-packages/tensorflow/python/framework/constant_op.py:103\u001b[0m, in \u001b[0;36mconvert_to_eager_tensor\u001b[0;34m(value, ctx, dtype)\u001b[0m\n\u001b[1;32m    101\u001b[0m     dtype \u001b[39m=\u001b[39m dtypes\u001b[39m.\u001b[39mas_dtype(dtype)\u001b[39m.\u001b[39mas_datatype_enum\n\u001b[1;32m    102\u001b[0m ctx\u001b[39m.\u001b[39mensure_initialized()\n\u001b[0;32m--> 103\u001b[0m \u001b[39mreturn\u001b[39;00m ops\u001b[39m.\u001b[39;49mEagerTensor(value, ctx\u001b[39m.\u001b[39;49mdevice_name, dtype)\n",
      "\u001b[0;31mValueError\u001b[0m: Failed to convert a NumPy array to a Tensor (Unsupported object type numpy.ndarray)."
     ]
    }
   ],
   "source": [
    "predictions = spectre_model_h5.predict(training_sample)"
   ]
  },
  {
   "attachments": {},
   "cell_type": "markdown",
   "metadata": {},
   "source": [
    "### Calculate the detection rate and amount of anomalies detected"
   ]
  },
  {
   "cell_type": "code",
   "execution_count": null,
   "metadata": {},
   "outputs": [],
   "source": [
    "detection_rate = np.sum(predictions)/len(predictions)\n",
    "anomalies_detected = np.sum(predictions)"
   ]
  },
  {
   "attachments": {},
   "cell_type": "markdown",
   "metadata": {},
   "source": [
    "## Results"
   ]
  },
  {
   "cell_type": "code",
   "execution_count": null,
   "metadata": {},
   "outputs": [],
   "source": [
    "x = ['Detection rate', 'Anomalies detected']\n",
    "y = [detection_rate, anomalies_detected]\n",
    "\n",
    "plt.bar(x, y)\n",
    "plt.show()"
   ]
  }
 ],
 "metadata": {
  "kernelspec": {
   "display_name": "spectre",
   "language": "python",
   "name": "python3"
  },
  "language_info": {
   "codemirror_mode": {
    "name": "ipython",
    "version": 3
   },
   "file_extension": ".py",
   "mimetype": "text/x-python",
   "name": "python",
   "nbconvert_exporter": "python",
   "pygments_lexer": "ipython3",
   "version": "3.9.16"
  },
  "orig_nbformat": 4,
  "vscode": {
   "interpreter": {
    "hash": "f1dfc71e7fbfeb8e9159a06fd6d881a402781ddd8e7c98f8d64701fc8c4ad09f"
   }
  }
 },
 "nbformat": 4,
 "nbformat_minor": 2
}
