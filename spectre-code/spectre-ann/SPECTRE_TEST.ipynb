{
 "cells": [
  {
   "cell_type": "markdown",
   "metadata": {},
   "source": [
    "# SPECTRE MODEL TEST"
   ]
  },
  {
   "cell_type": "code",
   "execution_count": 4,
   "metadata": {},
   "outputs": [],
   "source": [
    "\n",
    "from scapy.all import *\n",
    "import numpy as np\n",
    "import tensorflow as tf\n",
    "import os\n",
    "from datetime import datetime\n",
    "import time\n",
    "import threading\n",
    "import json\n",
    "from kafka import KafkaProducer\n",
    "from kafka.errors import KafkaError\n",
    "from sklearn.model_selection import train_test_split\n",
    "import pandas as pd\n",
    "import tensorflow_io as tfio\n",
    "from collections import defaultdict"
   ]
  },
  {
   "cell_type": "code",
   "execution_count": 5,
   "metadata": {},
   "outputs": [
    {
     "name": "stdout",
     "output_type": "stream",
     "text": [
      "tensorflow-io version: 0.32.0\n",
      "tensorflow version: 2.12.0\n"
     ]
    }
   ],
   "source": [
    "print(\"tensorflow-io version: {}\".format(tfio.__version__))\n",
    "print(\"tensorflow version: {}\".format(tf.__version__))"
   ]
  },
  {
   "cell_type": "code",
   "execution_count": null,
   "metadata": {},
   "outputs": [],
   "source": [
    "# KAFKA IMPORT"
   ]
  },
  {
   "cell_type": "code",
   "execution_count": 6,
   "metadata": {},
   "outputs": [],
   "source": [
    "# Import PCAP File\n",
    "pcap_data = rdpcap(\"/mnt/Data/SPECTRE/Dataset/Malware_Capture_Facility_Project/2015-09-10_winlinux.pcap\")"
   ]
  },
  {
   "attachments": {},
   "cell_type": "markdown",
   "metadata": {},
   "source": [
    "## TEST 1"
   ]
  },
  {
   "cell_type": "code",
   "execution_count": null,
   "metadata": {},
   "outputs": [],
   "source": [
    "# Preprocess PCAP File\n",
    "\n",
    "def preprocess_data(pcap_data):\n",
    "    # Preprocess the pcap_data and return it as a NumPy array or tensor\n",
    "    pass\n",
    "\n",
    "preprocessed_data = preprocess_data(pcap_data)"
   ]
  },
  {
   "cell_type": "code",
   "execution_count": null,
   "metadata": {},
   "outputs": [],
   "source": [
    "def process_pcap(file_name):\n",
    "    packets = pcap_data\n",
    "    \n",
    "    flows = defaultdict(lambda: defaultdict(list))\n",
    "    \n",
    "    for packet in packets:\n",
    "        if 'IP' in packet:\n",
    "            src_ip = packet['IP'].src\n",
    "            dst_ip = packet['IP'].dst\n",
    "            src_port = packet.sport if 'TCP' in packet or 'UDP' in packet else 0\n",
    "            dst_port = packet.dport if 'TCP' in packet or 'UDP' in packet else 0\n",
    "            protocol = packet['IP'].proto\n",
    "            timestamp = packet.time\n",
    "            flow_id = f\"{src_ip}-{dst_ip}-{src_port}-{dst_port}-{protocol}\"\n",
    "            \n",
    "            flows[flow_id]['packets'].append(packet)\n",
    "            flows[flow_id]['timestamps'].append(timestamp)\n",
    "    \n",
    "    features = []\n",
    "    \n",
    "    for flow_id, flow_data in flows.items():\n",
    "        src_ip, dst_ip, src_port, dst_port, protocol = flow_id.split('-')\n",
    "        timestamps = flow_data['timestamps']\n",
    "        packets = flow_data['packets']\n",
    "        \n",
    "        flow_duration = timestamps[-1] - timestamps[0]\n",
    "        total_fwd_packets = len(packets)\n",
    "        \n",
    "        total_bytes = sum(len(packet) for packet in packets)\n",
    "        min_packet_size = min(len(packet) for packet in packets)\n",
    "        max_packet_size = max(len(packet) for packet in packets)\n",
    "        avg_packet_size = total_bytes / total_fwd_packets\n",
    "\n",
    "        feature_row = [flow_id, src_ip, src_port, dst_ip, dst_port, protocol,\n",
    "                       datetime.fromtimestamp(timestamps[0]), flow_duration,\n",
    "                       total_fwd_packets, total_bytes,\n",
    "                       min_packet_size, max_packet_size, avg_packet_size]\n",
    "        features.append(feature_row)\n",
    "    \n",
    "    return features\n",
    "\n"
   ]
  },
  {
   "cell_type": "code",
   "execution_count": null,
   "metadata": {},
   "outputs": [],
   "source": [
    "file_name = pcap_data\n",
    "features = process_pcap(file_name)"
   ]
  },
  {
   "cell_type": "code",
   "execution_count": null,
   "metadata": {},
   "outputs": [],
   "source": [
    "converted_features = []\n",
    "for feature_row in features:\n",
    "    converted_row = [value.timestamp() if isinstance(value, datetime) else value for value in feature_row]\n",
    "    converted_features.append(converted_row)"
   ]
  },
  {
   "cell_type": "code",
   "execution_count": null,
   "metadata": {},
   "outputs": [],
   "source": [
    "# Convert the features list to a NumPy array\n",
    "features_array = np.asarray(converted_features)\n",
    "\n",
    "# If needed, convert specific columns to the desired data type\n",
    "# For example, convert the flow_duration column to float64\n",
    "features_array[:, 7] = features_array[:, 7].astype(np.float64)"
   ]
  },
  {
   "cell_type": "code",
   "execution_count": null,
   "metadata": {},
   "outputs": [],
   "source": [
    "# convert the Decimal values to floats \n",
    "converted_features = []\n",
    "\n",
    "for feature_row in features:\n",
    "    converted_row = []\n",
    "    for value in feature_row:\n",
    "        if isinstance(value, Decimal):\n",
    "            converted_row.append(float(value))\n",
    "        else:\n",
    "            converted_row.append(value)\n",
    "    converted_features.append(converted_row)\n",
    "\n",
    "input_data = np.array(converted_features)"
   ]
  },
  {
   "cell_type": "code",
   "execution_count": null,
   "metadata": {},
   "outputs": [],
   "source": [
    "tensor = tf.convert_to_tensor(features_array, dtype=tf.float32)"
   ]
  },
  {
   "attachments": {},
   "cell_type": "markdown",
   "metadata": {},
   "source": [
    "---"
   ]
  },
  {
   "attachments": {},
   "cell_type": "markdown",
   "metadata": {},
   "source": [
    "## Test 2"
   ]
  },
  {
   "cell_type": "code",
   "execution_count": null,
   "metadata": {},
   "outputs": [],
   "source": [
    "# 1. Read packets from a pcap file and extract desired features\n",
    "def extract_features(packet):\n",
    "    packets = pcap_data\n",
    "    \n",
    "    flows = defaultdict(lambda: defaultdict(list))\n",
    "    \n",
    "    for packet in packets:\n",
    "        if 'IP' in packet:\n",
    "            src_ip = packet['IP'].src\n",
    "            dst_ip = packet['IP'].dst\n",
    "            src_port = packet.sport if 'TCP' in packet or 'UDP' in packet else 0\n",
    "            dst_port = packet.dport if 'TCP' in packet or 'UDP' in packet else 0\n",
    "            protocol = packet['IP'].proto\n",
    "            timestamp = packet.time\n",
    "            flow_id = f\"{src_ip}-{dst_ip}-{src_port}-{dst_port}-{protocol}\"\n",
    "            \n",
    "            flows[flow_id]['packets'].append(packet)\n",
    "            flows[flow_id]['timestamps'].append(timestamp)\n",
    "    \n",
    "    features_list = []\n",
    "    \n",
    "    for flow_id, flow_data in flows.items():\n",
    "        src_ip, dst_ip, src_port, dst_port, protocol = flow_id.split('-')\n",
    "        timestamps = flow_data['timestamps']\n",
    "        packets = flow_data['packets']\n",
    "        \n",
    "        flow_duration = timestamps[-1] - timestamps[0]\n",
    "        total_fwd_packets = len(packets)\n",
    "        \n",
    "        total_bytes = sum(len(packet) for packet in packets)\n",
    "        min_packet_size = min(len(packet) for packet in packets)\n",
    "        max_packet_size = max(len(packet) for packet in packets)\n",
    "        avg_packet_size = total_bytes / total_fwd_packets\n",
    "\n",
    "        feature_row = [flow_id, src_ip, src_port, dst_ip, dst_port, protocol,\n",
    "                       datetime.fromtimestamp(timestamps[0]), flow_duration,\n",
    "                       total_fwd_packets, total_bytes,\n",
    "                       min_packet_size, max_packet_size, avg_packet_size]\n",
    "        features.append(feature_row)\n",
    "    \n",
    "    return features_list"
   ]
  },
  {
   "cell_type": "code",
   "execution_count": null,
   "metadata": {},
   "outputs": [],
   "source": [
    "packets = pcap_data\n",
    "features_list = [extract_features(packet) for packet in packets]"
   ]
  },
  {
   "cell_type": "code",
   "execution_count": null,
   "metadata": {},
   "outputs": [],
   "source": [
    "# 2. Convert the extracted features into a NumPy array\n",
    "features_array = np.asarray(features_list)\n",
    "print(features_array)"
   ]
  },
  {
   "cell_type": "code",
   "execution_count": null,
   "metadata": {},
   "outputs": [],
   "source": [
    "# 3. Preprocess the NumPy array as needed\n",
    "# For example, convert specific columns to the desired data type\n",
    "features_array[:, 7] = features_array[:, 7].astype(np.float64)\n",
    "\n",
    "# 4. Load the SavedModel and use it with the preprocessed NumPy array"
   ]
  },
  {
   "cell_type": "code",
   "execution_count": null,
   "metadata": {},
   "outputs": [],
   "source": [
    "# Ensure the input shape and data type match the model's requirements\n",
    "preprocessed_input = tf.convert_to_tensor(features_array, dtype=tf.float32)"
   ]
  },
  {
   "attachments": {},
   "cell_type": "markdown",
   "metadata": {},
   "source": [
    "---"
   ]
  },
  {
   "attachments": {},
   "cell_type": "markdown",
   "metadata": {},
   "source": [
    "## Test 3"
   ]
  },
  {
   "attachments": {},
   "cell_type": "markdown",
   "metadata": {},
   "source": [
    "https://github.com/ymirsky/Kitsune-py"
   ]
  },
  {
   "cell_type": "code",
   "execution_count": 12,
   "metadata": {},
   "outputs": [
    {
     "ename": "ImportError",
     "evalue": "cannot import name 'pcap_to_features' from 'kitsune_py.FeatureExtractor' (/home/aryn/spectre-dev/spectre-code/spectre-ann/kitsune_py/FeatureExtractor.py)",
     "output_type": "error",
     "traceback": [
      "\u001b[0;31m---------------------------------------------------------------------------\u001b[0m",
      "\u001b[0;31mImportError\u001b[0m                               Traceback (most recent call last)",
      "Cell \u001b[0;32mIn[12], line 4\u001b[0m\n\u001b[1;32m      2\u001b[0m sys\u001b[39m.\u001b[39mpath\u001b[39m.\u001b[39mappend(\u001b[39m'\u001b[39m\u001b[39m/home/aryn/spectre-dev/spectre-code/spectre-ann/kitsune_py/\u001b[39m\u001b[39m'\u001b[39m)\n\u001b[1;32m      3\u001b[0m \u001b[39mfrom\u001b[39;00m \u001b[39mkitsune_py\u001b[39;00m\u001b[39m.\u001b[39;00m\u001b[39mKitsune\u001b[39;00m \u001b[39mimport\u001b[39;00m Kitsune\n\u001b[0;32m----> 4\u001b[0m \u001b[39mfrom\u001b[39;00m \u001b[39mkitsune_py\u001b[39;00m\u001b[39m.\u001b[39;00m\u001b[39mFeatureExtractor\u001b[39;00m \u001b[39mimport\u001b[39;00m pcap_to_features\n",
      "\u001b[0;31mImportError\u001b[0m: cannot import name 'pcap_to_features' from 'kitsune_py.FeatureExtractor' (/home/aryn/spectre-dev/spectre-code/spectre-ann/kitsune_py/FeatureExtractor.py)"
     ]
    }
   ],
   "source": [
    "import sys\n",
    "sys.path.append('/home/aryn/spectre-dev/spectre-code/spectre-ann/kitsune_py/')\n",
    "from kitsune_py.Kitsune import Kitsune\n",
    "from kitsune_py.FeatureExtractor import pcap_to_features"
   ]
  },
  {
   "attachments": {},
   "cell_type": "markdown",
   "metadata": {},
   "source": [
    "# PREDICTION"
   ]
  },
  {
   "cell_type": "code",
   "execution_count": null,
   "metadata": {},
   "outputs": [],
   "source": [
    "# Load TF Saved_model\n",
    "model = tf.saved_model.load(\"/home/aryn/spectre-dev/spectre-code/spectre-ann/Model/DDOS/SavedModel\")"
   ]
  },
  {
   "cell_type": "code",
   "execution_count": null,
   "metadata": {},
   "outputs": [],
   "source": [
    "#predictions = model(features_array)\n",
    "result = model(preprocessed_input)"
   ]
  }
 ],
 "metadata": {
  "kernelspec": {
   "display_name": "spectre",
   "language": "python",
   "name": "python3"
  },
  "language_info": {
   "codemirror_mode": {
    "name": "ipython",
    "version": 3
   },
   "file_extension": ".py",
   "mimetype": "text/x-python",
   "name": "python",
   "nbconvert_exporter": "python",
   "pygments_lexer": "ipython3",
   "version": "3.9.16"
  },
  "orig_nbformat": 4
 },
 "nbformat": 4,
 "nbformat_minor": 2
}
