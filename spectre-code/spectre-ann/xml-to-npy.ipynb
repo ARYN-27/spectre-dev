{
 "cells": [
  {
   "cell_type": "code",
   "execution_count": null,
   "metadata": {},
   "outputs": [],
   "source": [
    "import xml.etree.ElementTree as ET\n",
    "import numpy as np\n",
    "import os\n",
    "import time"
   ]
  },
  {
   "cell_type": "code",
   "execution_count": null,
   "metadata": {},
   "outputs": [],
   "source": [
    "import_directory = '/mnt/c/Users/ARYN/Desktop/Dataset/ISCX-2012/PCAP-XML/'"
   ]
  },
  {
   "cell_type": "code",
   "execution_count": null,
   "metadata": {},
   "outputs": [],
   "source": [
    "files = os.listdir(import_directory)"
   ]
  },
  {
   "cell_type": "code",
   "execution_count": null,
   "metadata": {},
   "outputs": [],
   "source": [
    "errors = []\n",
    "\n",
    "start_time = time.time()\n",
    "i = -1\n",
    "data_array = np.empty((0, 2))\n",
    "counter = 0\n",
    "actual = (50**2) * 3\n",
    "for file in files:\n",
    "    print(file)\n",
    "    try:\n",
    "        tree = ET.parse(import_directory + file)\n",
    "        print('Reading File ', file)\n",
    "        root = tree.getroot()\n",
    "    except:\n",
    "        errors += file\n",
    "        continue\n",
    "    for child in root:\n",
    "        for next_child in child:\n",
    "            if next_child.tag == 'destinationPayloadAsUTF':\n",
    "                if next_child.text is not None:\n",
    "                    x = next_child.text\n",
    "                    if len(x) > actual:\n",
    "                        x = x[: actual]\n",
    "                    else:\n",
    "                        while len(x) < actual:\n",
    "                            x += x\n",
    "                        x = x[:actual]\n",
    "                    if child.find('Tag').text == 'Normal':\n",
    "                        data_array = np.vstack((data_array, np.array([np.fromstring(x, dtype=np.uint8), 0])))\n",
    "                    else:\n",
    "                        data_array = np.vstack((data_array, np.array([np.fromstring(x, dtype=np.uint8), 1])))\n",
    "                    counter += 1\n",
    "    print('Time taken: {}'.format(time.time() - start_time))\n",
    "    start_time = time.time()\n",
    "    np.save('/mnt/c/Users/ARYN/Desktop/Dataset/ISCX-2012/Processed//destinationPayload_' + file, np.array(data_array))\n",
    "    data_array = np.empty((0, 2))"
   ]
  },
  {
   "cell_type": "code",
   "execution_count": null,
   "metadata": {},
   "outputs": [],
   "source": [
    "print('Error in Opening Files = ', errors)\n",
    "print('Counter = ', counter)\n",
    "print('DONE!')"
   ]
  }
 ],
 "metadata": {
  "kernelspec": {
   "display_name": "Python 3",
   "language": "python",
   "name": "python3"
  },
  "language_info": {
   "codemirror_mode": {
    "name": "ipython",
    "version": 3
   },
   "file_extension": ".py",
   "mimetype": "text/x-python",
   "name": "python",
   "nbconvert_exporter": "python",
   "pygments_lexer": "ipython3",
   "version": "3.10.6 (main, Nov 14 2022, 16:10:14) [GCC 11.3.0]"
  },
  "orig_nbformat": 4,
  "vscode": {
   "interpreter": {
    "hash": "916dbcbb3f70747c44a77c7bcd40155683ae19c65e1c03b4aa3499c5328201f1"
   }
  }
 },
 "nbformat": 4,
 "nbformat_minor": 2
}
