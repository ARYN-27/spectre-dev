{
 "cells": [
  {
   "attachments": {},
   "cell_type": "markdown",
   "metadata": {},
   "source": [
    "# PCAP TO NPY"
   ]
  },
  {
   "cell_type": "markdown",
   "metadata": {},
   "source": [
    "## Code #1"
   ]
  },
  {
   "cell_type": "markdown",
   "metadata": {},
   "source": [
    "Complie Kitsune Libraries.\n",
    "\n",
    "```\n",
    "cd AfterImageExtractor/\n",
    "python setup.py build_ext --inplace\n",
    "```\n",
    "\n",
    "Libraries\n",
    "- https://github.com/dongtsi/TrafficManipulator\n",
    "- https://github.com/ymirsky/Kitsune-py\n"
   ]
  },
  {
   "cell_type": "code",
   "execution_count": 1,
   "metadata": {},
   "outputs": [],
   "source": [
    "from scapy.all import rdpcap\n",
    "import numpy as np\n",
    "from tabulate import tabulate\n",
    "import pandas as pd\n",
    "import sys\n",
    "import os"
   ]
  },
  {
   "cell_type": "code",
   "execution_count": 2,
   "metadata": {},
   "outputs": [],
   "source": [
    "input_path = \"/mnt/Data/SPECTRE/Dataset/Malware_Capture_Facility_Project/2015-09-10_winlinux.pcap\"\n",
    "output_path = \"/home/aryn/spectre-dev/dataset/Malware_Capture_Facility_Project/PCAP-NPY/2015-09-10_winlinux.npy\" "
   ]
  },
  {
   "cell_type": "code",
   "execution_count": 4,
   "metadata": {},
   "outputs": [
    {
     "name": "stdout",
     "output_type": "stream",
     "text": [
      "Importing AfterImage Cython Library\n",
      "Importing Scapy Library\n",
      "(539689, 100)\n"
     ]
    }
   ],
   "source": [
    "# TODO: Check module import from external directory.\n",
    "import AfterImageExtractor.FEKitsune as Fe\n",
    "from AfterImageExtractor.KitsuneTools import RunFE\n",
    "\n",
    "pcap_file = input_path\n",
    "feat_file = output_path\n",
    "\n",
    "scapyin = rdpcap(pcap_file)\n",
    "\n",
    "FE = Fe.Kitsune(scapyin, np.Inf)\n",
    "feature, _ = RunFE(FE)\n",
    "\n",
    "print(np.asarray(feature).shape)\n",
    "np.save(feat_file, feature)"
   ]
  },
  {
   "cell_type": "code",
   "execution_count": 5,
   "metadata": {},
   "outputs": [
    {
     "name": "stdout",
     "output_type": "stream",
     "text": [
      "+----+-----+-----+-----+-----+-----+-----+-----+-----+-----+-----+------+------+------+------+------+---------+------+-------------+---------+------+-------------+---------+------+-------------+------+------+-------------+------+------+-------------+-------------+---------+-------------+-------------+------------+---------+------+------+-------------+---------+-------------+-------------+------------+---------+------+------+------------+---------+------+------+---------+-------------+-------------+---------+-------------+-------------+---------+-------------+-------------+------+-------------+-------------+------+-------------+-------------+---------+------+-------------+---------+------+-------------+---------+------+-------------+------+------+-------------+------+------+-------------+-------------+---------+-------------+-------------+------------+---------+------+------+-------------+---------+-------------+-------------+------------+---------+------+------+------------+---------+------+------+\n",
      "|    |   0 |   1 |   2 |   3 |   4 |   5 |   6 |   7 |   8 |   9 |   10 |   11 |   12 |   13 |   14 |      15 |   16 |          17 |      18 |   19 |          20 |      21 |   22 |          23 |   24 |   25 |          26 |   27 |   28 |          29 |          30 |      31 |          32 |          33 |         34 |      35 |   36 |   37 |          38 |      39 |          40 |          41 |         42 |      43 |   44 |   45 |         46 |      47 |   48 |   49 |      50 |          51 |          52 |      53 |          54 |          55 |      56 |          57 |          58 |   59 |          60 |          61 |   62 |          63 |          64 |      65 |   66 |          67 |      68 |   69 |          70 |      71 |   72 |          73 |   74 |   75 |          76 |   77 |   78 |          79 |          80 |      81 |          82 |          83 |         84 |      85 |   86 |   87 |          88 |      89 |          90 |          91 |         92 |      93 |   94 |   95 |         96 |      97 |   98 |   99 |\n",
      "|----+-----+-----+-----+-----+-----+-----+-----+-----+-----+-----+------+------+------+------+------+---------+------+-------------+---------+------+-------------+---------+------+-------------+------+------+-------------+------+------+-------------+-------------+---------+-------------+-------------+------------+---------+------+------+-------------+---------+-------------+-------------+------------+---------+------+------+------------+---------+------+------+---------+-------------+-------------+---------+-------------+-------------+---------+-------------+-------------+------+-------------+-------------+------+-------------+-------------+---------+------+-------------+---------+------+-------------+---------+------+-------------+------+------+-------------+------+------+-------------+-------------+---------+-------------+-------------+------------+---------+------+------+-------------+---------+-------------+-------------+------------+---------+------+------+------------+---------+------+------|\n",
      "|  0 |   1 |  72 |   0 |   1 |  72 |   0 |   1 |  72 |   0 |   1 |   72 |    0 |    1 |   72 |    0 | 1       |   72 | 0           | 1       |   72 | 0           | 1       |   72 | 0           |    1 |   72 | 0           |    1 |   72 | 0           | 0           | 101.823 | 0           | 0           | 0          | 101.823 |    0 |    0 | 0           | 101.823 | 0           | 0           | 0          | 101.823 |    0 |    0 | 0          | 101.823 |    0 |    0 | 1       | 0           | 0           | 1       | 0           | 0           | 1       | 0           | 0           |    1 | 0           | 0           |    1 | 0           | 0           | 1       |   72 | 0           | 1       |   72 | 0           | 1       |   72 | 0           |    1 |   72 | 0           |    1 |   72 | 0           | 0           | 101.823 | 0           | 0           | 0          | 101.823 |    0 |    0 | 0           | 101.823 | 0           | 0           | 0          | 101.823 |    0 |    0 | 0          | 101.823 |    0 |    0 |\n",
      "|  1 |   1 |  72 |   0 |   1 |  72 |   0 |   1 |  72 |   0 |   1 |   72 |    0 |    1 |   72 |    0 | 1.99996 |   72 | 1.81899e-12 | 1.99998 |   72 | 9.09495e-13 | 1.99999 |   72 | 1.81899e-12 |    2 |   72 | 9.09495e-13 |    2 |   72 | 9.09495e-13 | 1.90735e-06 | 101.823 | 1.00976e-28 | 5.55122e-17 | 1.3487e-06 | 101.823 |    0 |    0 | 1.90735e-06 | 101.823 | 1.00975e-28 | 5.55114e-17 | 1.3487e-06 | 101.823 |    0 |    0 | 1.3487e-06 | 101.823 |    0 |    0 | 1.99996 | 5.48373e-06 | 3.00702e-11 | 1.99998 | 5.48369e-06 | 3.00702e-11 | 1.99999 | 5.48365e-06 | 3.00702e-11 |    2 | 5.48363e-06 | 3.00702e-11 |    2 | 5.48363e-06 | 3.00702e-11 | 1.99996 |   72 | 1.81899e-12 | 1.99998 |   72 | 9.09495e-13 | 1.99999 |   72 | 1.81899e-12 |    2 |   72 | 9.09495e-13 |    2 |   72 | 9.09495e-13 | 1.90735e-06 | 101.823 | 1.00976e-28 | 5.55122e-17 | 1.3487e-06 | 101.823 |    0 |    0 | 1.90735e-06 | 101.823 | 1.00975e-28 | 5.55114e-17 | 1.3487e-06 | 101.823 |    0 |    0 | 1.3487e-06 | 101.823 |    0 |    0 |\n",
      "+----+-----+-----+-----+-----+-----+-----+-----+-----+-----+-----+------+------+------+------+------+---------+------+-------------+---------+------+-------------+---------+------+-------------+------+------+-------------+------+------+-------------+-------------+---------+-------------+-------------+------------+---------+------+------+-------------+---------+-------------+-------------+------------+---------+------+------+------------+---------+------+------+---------+-------------+-------------+---------+-------------+-------------+---------+-------------+-------------+------+-------------+-------------+------+-------------+-------------+---------+------+-------------+---------+------+-------------+---------+------+-------------+------+------+-------------+------+------+-------------+-------------+---------+-------------+-------------+------------+---------+------+------+-------------+---------+-------------+-------------+------------+---------+------+------+------------+---------+------+------+\n"
     ]
    }
   ],
   "source": [
    "malicious_data = np.load(output_path, allow_pickle=True)\n",
    "df = pd.DataFrame(malicious_data)\n",
    "\n",
    "# Select the first two rows using iloc\n",
    "two_rows = df.iloc[:2]\n",
    "\n",
    "print(tabulate(two_rows, headers='keys', tablefmt='psql'))"
   ]
  },
  {
   "cell_type": "code",
   "execution_count": 6,
   "metadata": {},
   "outputs": [
    {
     "name": "stdout",
     "output_type": "stream",
     "text": [
      "+----+-------------------------------+-----+\n",
      "|    | 0                             |   1 |\n",
      "|----+-------------------------------+-----|\n",
      "|  0 | [ 42  32  79 ... 101 114 101] |   0 |\n",
      "|  1 | [72 84 84 ... 58 53 57]       |   0 |\n",
      "+----+-------------------------------+-----+\n"
     ]
    },
    {
     "name": "stderr",
     "output_type": "stream",
     "text": [
      "/home/aryn/miniconda3/envs/spectre/lib/python3.9/site-packages/tabulate/__init__.py:107: FutureWarning: elementwise comparison failed; returning scalar instead, but in the future will perform elementwise comparison\n",
      "  (len(row) >= 1 and row[0] == SEPARATING_LINE)\n",
      "/home/aryn/miniconda3/envs/spectre/lib/python3.9/site-packages/tabulate/__init__.py:108: FutureWarning: elementwise comparison failed; returning scalar instead, but in the future will perform elementwise comparison\n",
      "  or (len(row) >= 2 and row[1] == SEPARATING_LINE)\n"
     ]
    }
   ],
   "source": [
    "trained_data = np.load('/home/aryn/spectre-dev/dataset/ISCX-IDS-2012/PCAP-NPY/destinationPayload_TestbedSatJun12Flows.xml.npy', allow_pickle=True)\n",
    "df = pd.DataFrame(trained_data)\n",
    "\n",
    "# Select the first two rows using iloc\n",
    "two_rows = df.iloc[:2]\n",
    "\n",
    "print(tabulate(two_rows, headers='keys', tablefmt='psql'))"
   ]
  },
  {
   "attachments": {},
   "cell_type": "markdown",
   "metadata": {},
   "source": [
    "## Code #2"
   ]
  },
  {
   "cell_type": "code",
   "execution_count": 1,
   "metadata": {},
   "outputs": [],
   "source": [
    "import numpy as np\n",
    "import time\n",
    "from scapy.all import *"
   ]
  },
  {
   "cell_type": "code",
   "execution_count": 6,
   "metadata": {},
   "outputs": [
    {
     "name": "stdout",
     "output_type": "stream",
     "text": [
      "/mnt/Data/SPECTRE/Dataset/Malware_Capture_Facility_Project/2015-09-10_winlinux.pcap\n",
      "Reading File  /mnt/Data/SPECTRE/Dataset/Malware_Capture_Facility_Project/2015-09-10_winlinux.pcap\n",
      "Time taken: 347.2896406650543\n"
     ]
    }
   ],
   "source": [
    "errors = []\n",
    "\n",
    "start_time = time.time()\n",
    "data_array = np.empty((0, 2))\n",
    "counter = 0\n",
    "actual = (50**2) * 3\n",
    "files = [\"/mnt/Data/SPECTRE/Dataset/Malware_Capture_Facility_Project/2015-09-10_winlinux.pcap\"]  # Replace with your list of PCAP files\n",
    "\n",
    "for file in files:\n",
    "    print(file)\n",
    "    try:\n",
    "        pcap = rdpcap(file)\n",
    "        print('Reading File ', file)\n",
    "    except:\n",
    "        errors += file\n",
    "        continue\n",
    "\n",
    "    for packet in pcap:\n",
    "        # Extract payload size\n",
    "        payload_size = len(packet)\n",
    "\n",
    "        # Process the payload size (similar to the code provided in the original question)\n",
    "        if payload_size > actual:\n",
    "            payload_size = actual\n",
    "        else:\n",
    "            while payload_size < actual:\n",
    "                payload_size += payload_size\n",
    "            payload_size = actual\n",
    "\n",
    "        # Assign a label based on a specific condition (modify this as needed)\n",
    "        if packet.haslayer(TCP):  # Example condition: if the packet has a TCP layer\n",
    "            label = 0\n",
    "        else:\n",
    "            label = 1\n",
    "\n",
    "        # Stack the processed payload size and label in the data_array\n",
    "        data_array = np.vstack((data_array, np.array([[payload_size, label]])))\n",
    "\n",
    "        counter += 1\n",
    "\n",
    "    print('Time taken: {}'.format(time.time() - start_time))\n",
    "    start_time = time.time()\n",
    "\n",
    "    # Save the data_array as two separate files\n",
    "    export_dataset = \"/home/aryn/spectre-dev/dataset/Malware_Capture_Facility_Project/PCAP-NPY/2015-09-10_winlinux_2.npy\"  # Replace with your export directory path\n",
    "    np.save(export_dataset, np.array(data_array))\n",
    "\n",
    "    data_array = np.empty((0, 2))"
   ]
  },
  {
   "cell_type": "code",
   "execution_count": 9,
   "metadata": {},
   "outputs": [
    {
     "name": "stdout",
     "output_type": "stream",
     "text": [
      "----  -\n",
      "7500  1\n",
      "7500  1\n",
      "----  -\n"
     ]
    }
   ],
   "source": [
    "from tabulate import tabulate\n",
    "\n",
    "data_sample = np.load('/home/aryn/spectre-dev/dataset/Malware_Capture_Facility_Project/PCAP-NPY/2015-09-10_winlinux_2.npy', allow_pickle=True)\n",
    "\n",
    "rows = data_sample[:2]\n",
    "table = rows.tolist()\n",
    "print(tabulate(table))"
   ]
  }
 ],
 "metadata": {
  "kernelspec": {
   "display_name": "spectre",
   "language": "python",
   "name": "python3"
  },
  "language_info": {
   "codemirror_mode": {
    "name": "ipython",
    "version": 3
   },
   "file_extension": ".py",
   "mimetype": "text/x-python",
   "name": "python",
   "nbconvert_exporter": "python",
   "pygments_lexer": "ipython3",
   "version": "3.9.16"
  },
  "orig_nbformat": 4
 },
 "nbformat": 4,
 "nbformat_minor": 2
}
