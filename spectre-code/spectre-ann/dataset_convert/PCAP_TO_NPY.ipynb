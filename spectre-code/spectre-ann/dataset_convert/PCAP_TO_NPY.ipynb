{
 "cells": [
  {
   "attachments": {},
   "cell_type": "markdown",
   "metadata": {},
   "source": [
    "# DATASET CONVERSION - PCAP -> XML -> NPY"
   ]
  },
  {
   "attachments": {},
   "cell_type": "markdown",
   "metadata": {},
   "source": [
    "## PCAP TO XML"
   ]
  },
  {
   "attachments": {},
   "cell_type": "markdown",
   "metadata": {},
   "source": [
    "1. Convert `.pcap` to `.xml` using [ISCX FlowMeter](https://github.com/ISCX/ISCXFlowMeter) or [CIC FlowMeter](https://github.com/ISCX/CICFlowMeter).\n",
    "2. Preprocess data from `.xml` to `.npy` with `Data_Extraction_Revised.py`."
   ]
  },
  {
   "cell_type": "markdown",
   "metadata": {},
   "source": [
    "## XML TO NPY"
   ]
  },
  {
   "cell_type": "code",
   "execution_count": 2,
   "metadata": {},
   "outputs": [],
   "source": [
    "import xml.etree.ElementTree as ET\n",
    "import numpy as np\n",
    "import os\n",
    "import time"
   ]
  },
  {
   "attachments": {},
   "cell_type": "markdown",
   "metadata": {},
   "source": [
    "### ISCX-IDS-2012 Dataset"
   ]
  },
  {
   "cell_type": "code",
   "execution_count": null,
   "metadata": {},
   "outputs": [],
   "source": [
    "import_directory = '/home/aryn/spectre-dev/dataset/ISCX-IDS-2012/PCAP-XML/'\n",
    "export_codebase = '/home/aryn/spectre-dev/dataset/ISCX-IDS-2012/PCAP-NPY/destinationPayload_'\n",
    "export_dataset = '/mnt/Data/SPECTRE/Dataset/ISCX-2012/PCAP-NPY/destinationPayload_'"
   ]
  },
  {
   "attachments": {},
   "cell_type": "markdown",
   "metadata": {},
   "source": [
    "### Malware_Capture_Facility_Project Dataset - CTU-Malware-Capture-Botnet-135-1 Stlrat DDoS"
   ]
  },
  {
   "cell_type": "code",
   "execution_count": 18,
   "metadata": {},
   "outputs": [],
   "source": [
    "import_directory = '/home/aryn/spectre-dev/dataset/Malware_Capture_Facility_Project/PCAP-XML/'\n",
    "export_codebase = '/home/aryn/spectre-dev/dataset/Malware_Capture_Facility_Project/PCAP-NPY/destinationPayload_' \n",
    "export_dataset = '/mnt/Data/SPECTRE/Dataset/Malware_Capture_Facility_Project/PCAP-NPY/destinationPayload_'"
   ]
  },
  {
   "cell_type": "code",
   "execution_count": 19,
   "metadata": {},
   "outputs": [],
   "source": [
    "files = os.listdir(import_directory)"
   ]
  },
  {
   "cell_type": "code",
   "execution_count": null,
   "metadata": {},
   "outputs": [],
   "source": [
    "errors = []\n",
    "\n",
    "start_time = time.time()\n",
    "i = -1\n",
    "data_array = np.empty((0, 2))\n",
    "counter = 0\n",
    "actual = (50**2) * 3\n",
    "for file in files:\n",
    "    print(file)\n",
    "    try:\n",
    "        tree = ET.parse(import_directory + file)\n",
    "        print('Reading File ', file)\n",
    "        root = tree.getroot()\n",
    "    except:\n",
    "        errors += file\n",
    "        continue\n",
    "    for child in root:\n",
    "        for next_child in child:\n",
    "            if next_child.tag == 'destinationPayloadAsUTF':\n",
    "                if next_child.text is not None:\n",
    "                    x = next_child.text\n",
    "                    if len(x) > actual:\n",
    "                        x = x[: actual]\n",
    "                    else:\n",
    "                        while len(x) < actual:\n",
    "                            x += x\n",
    "                        x = x[:actual]\n",
    "                    if child.find('Tag').text == 'Normal':\n",
    "                        data_array = np.vstack((data_array, np.array([np.fromstring(x, dtype=np.uint8), 0])))\n",
    "                    else:\n",
    "                        data_array = np.vstack((data_array, np.array([np.fromstring(x, dtype=np.uint8), 1])))\n",
    "                    counter += 1\n",
    "    print('Time taken: {}'.format(time.time() - start_time))\n",
    "    start_time = time.time()\n",
    "\n",
    "    \n",
    "    np.save(export_codebase + file, np.array(data_array))\n",
    "    # Dataset Directory\n",
    "    np.save(export_dataset + file, np.array(data_array))\n",
    "    \n",
    "    data_array = np.empty((0, 2))"
   ]
  },
  {
   "cell_type": "code",
   "execution_count": null,
   "metadata": {},
   "outputs": [],
   "source": [
    "print('Error in Opening Files = ', errors)\n",
    "print('Counter = ', counter)\n",
    "print('DONE!')"
   ]
  },
  {
   "attachments": {},
   "cell_type": "markdown",
   "metadata": {},
   "source": [
    "---"
   ]
  },
  {
   "attachments": {},
   "cell_type": "markdown",
   "metadata": {},
   "source": [
    "# PCAP -> NPY"
   ]
  },
  {
   "attachments": {},
   "cell_type": "markdown",
   "metadata": {},
   "source": [
    "## Test 1 - Using Kitsune libraries\n",
    "\n",
    "Reference: https://github.com/dongtsi/TrafficManipulator/blob/ebc82f78df8544dfc908dd60f77c5a26d3ae8624/extractor.py"
   ]
  },
  {
   "cell_type": "code",
   "execution_count": null,
   "metadata": {},
   "outputs": [],
   "source": [
    "import kitsune_py.FEKitsune as Fe\n",
    "from kitsune_py.KitsuneTools import RunFE\n",
    "import numpy as np\n",
    "from scapy.all import * \n",
    "\n",
    "# Define input and output file paths\n",
    "pcap_file = \"/home/aryn/spectre-dev/dataset/Malware_Capture_Facility_Project/2015-09-10_winlinux.pcap\"\n",
    "feat_file = \"/home/aryn/spectre-dev/dataset/ISCX-IDS-2012/PCAP-NPY/destinationPayload_2015-09-10_winlinux.npy\"\n",
    "\n",
    "scapyin = rdpcap(pcap_file)\n",
    "\n",
    "FE = Fe.Kitsune(scapyin, np.Inf)\n",
    "feature, _ = RunFE(FE)\n",
    "\n",
    "# Show shape of feature vectors\n",
    "display(np.asarray(feature).shape)\n",
    "\n",
    "np.save(feat_file, feature)\n"
   ]
  },
  {
   "attachments": {},
   "cell_type": "markdown",
   "metadata": {},
   "source": [
    "## Test 2 - Using numpy and scapy"
   ]
  },
  {
   "cell_type": "code",
   "execution_count": 2,
   "metadata": {},
   "outputs": [],
   "source": [
    "import numpy as np"
   ]
  },
  {
   "cell_type": "code",
   "execution_count": null,
   "metadata": {},
   "outputs": [],
   "source": [
    "from scapy.all import rdpcap\n",
    "\n",
    "def pcap_to_npy(pcap_file, npy_file):\n",
    "    packets = rdpcap(pcap_file)\n",
    "    data = []\n",
    "\n",
    "    for packet in packets:\n",
    "        # Extract data from packets as needed, e.g., packet length\n",
    "        data.append(len(packet))\n",
    "\n",
    "    np_data = np.array(data)\n",
    "    np.save(npy_file, np_data)\n",
    "\n",
    "pcap_file = '/mnt/Data/SPECTRE/Dataset/Malware_Capture_Facility_Project/2015-09-10_winlinux.pcap'\n",
    "npy_file = '/home/aryn/spectre-dev/dataset/Malware_Capture_Facility_Project/PCAP-NPY/destinationPayload_2015-09-10_winlinux.npy'\n",
    "\n",
    "pcap_to_npy(pcap_file, npy_file)"
   ]
  },
  {
   "cell_type": "code",
   "execution_count": 3,
   "metadata": {},
   "outputs": [
    {
     "name": "stdout",
     "output_type": "stream",
     "text": [
      "          0\n",
      "0        72\n",
      "1        72\n",
      "...     ...\n",
      "539687  950\n",
      "539688  950\n",
      "\n",
      "[539689 rows x 1 columns]\n"
     ]
    }
   ],
   "source": [
    "import pandas as pd\n",
    "\n",
    "pcap_npy = '/home/aryn/spectre-dev/dataset/Malware_Capture_Facility_Project/PCAP-NPY/destinationPayload_2015-09-10_winlinux.npy'\n",
    "\n",
    "data = np.load(pcap_npy)\n",
    "df = pd.DataFrame(data)\n",
    "with pd.option_context('display.max_rows', 5, 'display.max_columns', 5):\n",
    "    print(df)\n"
   ]
  },
  {
   "cell_type": "code",
   "execution_count": 4,
   "metadata": {},
   "outputs": [
    {
     "name": "stdout",
     "output_type": "stream",
     "text": [
      "                                                       0  1\n",
      "0      [43, 79, 75, 32, 68, 111, 118, 101, 99, 111, 1...  0\n",
      "1      [46, 46, 46, 46, 46, 46, 46, 46, 119, 119, 119...  0\n",
      "...                                                  ... ..\n",
      "74614  [71, 111, 32, 97, 119, 97, 121, 44, 32, 119, 1...  0\n",
      "74615  [71, 111, 32, 97, 119, 97, 121, 44, 32, 119, 1...  0\n",
      "\n",
      "[74616 rows x 2 columns]\n"
     ]
    }
   ],
   "source": [
    "pcap_npy_preview = '/home/aryn/spectre-dev/dataset/ISCX-IDS-2012/PCAP-NPY/destinationPayload_TestbedMonJun14Flows.xml.npy'\n",
    "\n",
    "data = np.load(pcap_npy_preview, allow_pickle=True)\n",
    "df = pd.DataFrame(data)\n",
    "with pd.option_context('display.max_rows', 5, 'display.max_columns', 5):\n",
    "    print(df)"
   ]
  }
 ],
 "metadata": {
  "kernelspec": {
   "display_name": "Python 3",
   "language": "python",
   "name": "python3"
  },
  "language_info": {
   "codemirror_mode": {
    "name": "ipython",
    "version": 3
   },
   "file_extension": ".py",
   "mimetype": "text/x-python",
   "name": "python",
   "nbconvert_exporter": "python",
   "pygments_lexer": "ipython3",
   "version": "3.9.16"
  },
  "orig_nbformat": 4,
  "vscode": {
   "interpreter": {
    "hash": "916dbcbb3f70747c44a77c7bcd40155683ae19c65e1c03b4aa3499c5328201f1"
   }
  }
 },
 "nbformat": 4,
 "nbformat_minor": 2
}
