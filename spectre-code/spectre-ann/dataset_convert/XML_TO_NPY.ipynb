{
 "cells": [
  {
   "attachments": {},
   "cell_type": "markdown",
   "metadata": {},
   "source": [
    "# DATASET CONVERSION - PCAP -> XML -> NPY"
   ]
  },
  {
   "attachments": {},
   "cell_type": "markdown",
   "metadata": {},
   "source": [
    "## PCAP TO XML"
   ]
  },
  {
   "attachments": {},
   "cell_type": "markdown",
   "metadata": {},
   "source": [
    "1. Convert `.pcap` to `.xml` using [ISCX FlowMeter](https://github.com/ISCX/ISCXFlowMeter) or [CIC FlowMeter](https://github.com/ISCX/CICFlowMeter).\n",
    "2. Preprocess data from `.xml` to `.npy` with `Data_Extraction_Revised.py`."
   ]
  },
  {
   "cell_type": "markdown",
   "metadata": {},
   "source": [
    "## XML TO NPY"
   ]
  },
  {
   "cell_type": "code",
   "execution_count": 2,
   "metadata": {},
   "outputs": [],
   "source": [
    "import xml.etree.ElementTree as ET\n",
    "import numpy as np\n",
    "import os\n",
    "import time"
   ]
  },
  {
   "attachments": {},
   "cell_type": "markdown",
   "metadata": {},
   "source": [
    "### ISCX-IDS-2012 Dataset"
   ]
  },
  {
   "cell_type": "code",
   "execution_count": null,
   "metadata": {},
   "outputs": [],
   "source": [
    "import_directory = '/home/aryn/spectre-dev/dataset/ISCX-IDS-2012/PCAP-XML/'\n",
    "export_codebase = '/home/aryn/spectre-dev/dataset/ISCX-IDS-2012/PCAP-NPY/destinationPayload_'\n",
    "export_dataset = '/mnt/Data/SPECTRE/Dataset/ISCX-2012/PCAP-NPY/destinationPayload_'"
   ]
  },
  {
   "cell_type": "code",
   "execution_count": 19,
   "metadata": {},
   "outputs": [],
   "source": [
    "files = os.listdir(import_directory)"
   ]
  },
  {
   "cell_type": "code",
   "execution_count": null,
   "metadata": {},
   "outputs": [],
   "source": [
    "errors = []\n",
    "\n",
    "start_time = time.time()\n",
    "i = -1\n",
    "data_array = np.empty((0, 2))\n",
    "counter = 0\n",
    "actual = (50**2) * 3\n",
    "for file in files:\n",
    "    print(file)\n",
    "    try:\n",
    "        tree = ET.parse(import_directory + file)\n",
    "        print('Reading File ', file)\n",
    "        root = tree.getroot()\n",
    "    except:\n",
    "        errors += file\n",
    "        continue\n",
    "    for child in root:\n",
    "        for next_child in child:\n",
    "            if next_child.tag == 'destinationPayloadAsUTF':\n",
    "                if next_child.text is not None:\n",
    "                    x = next_child.text\n",
    "                    if len(x) > actual:\n",
    "                        x = x[: actual]\n",
    "                    else:\n",
    "                        while len(x) < actual:\n",
    "                            x += x\n",
    "                        x = x[:actual]\n",
    "                    if child.find('Tag').text == 'Normal':\n",
    "                        data_array = np.vstack((data_array, np.array([np.fromstring(x, dtype=np.uint8), 0])))\n",
    "                    else:\n",
    "                        data_array = np.vstack((data_array, np.array([np.fromstring(x, dtype=np.uint8), 1])))\n",
    "                    counter += 1\n",
    "    print('Time taken: {}'.format(time.time() - start_time))\n",
    "    start_time = time.time()\n",
    "\n",
    "    \n",
    "    np.save(export_codebase + file, np.array(data_array))\n",
    "    # Dataset Directory\n",
    "    np.save(export_dataset + file, np.array(data_array))\n",
    "    \n",
    "    data_array = np.empty((0, 2))"
   ]
  },
  {
   "cell_type": "code",
   "execution_count": null,
   "metadata": {},
   "outputs": [],
   "source": [
    "print('Error in Opening Files = ', errors)\n",
    "print('Counter = ', counter)\n",
    "print('DONE!')"
   ]
  }
 ],
 "metadata": {
  "kernelspec": {
   "display_name": "Python 3",
   "language": "python",
   "name": "python3"
  },
  "language_info": {
   "codemirror_mode": {
    "name": "ipython",
    "version": 3
   },
   "file_extension": ".py",
   "mimetype": "text/x-python",
   "name": "python",
   "nbconvert_exporter": "python",
   "pygments_lexer": "ipython3",
   "version": "3.9.16"
  },
  "orig_nbformat": 4,
  "vscode": {
   "interpreter": {
    "hash": "916dbcbb3f70747c44a77c7bcd40155683ae19c65e1c03b4aa3499c5328201f1"
   }
  }
 },
 "nbformat": 4,
 "nbformat_minor": 2
}
