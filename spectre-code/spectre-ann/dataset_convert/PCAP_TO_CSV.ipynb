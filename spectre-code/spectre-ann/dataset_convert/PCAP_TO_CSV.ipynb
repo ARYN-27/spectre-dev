{
 "cells": [
  {
   "cell_type": "code",
   "execution_count": null,
   "metadata": {},
   "outputs": [],
   "source": [
    "import pandas as pd\n",
    "import numpy as np\n",
    "df = pd.read_csv(\"/home/aryn/spectre-dev/dataset/Malware_Capture_Facility_Project/PCAP-CSV/2015-09-10_winlinux.pcap_Flow.csv\")\n",
    "numpy_array = df.to_numpy()"
   ]
  },
  {
   "cell_type": "code",
   "execution_count": null,
   "metadata": {},
   "outputs": [],
   "source": [
    "import pandas as pd\n",
    "df = pd.read_csv(\"/home/aryn/spectre-dev/dataset/Malware_Capture_Facility_Project/PCAP-CSV/2015-09-10_winlinux.pcap_Flow.csv\")\n",
    "print(df.to_string())"
   ]
  }
 ],
 "metadata": {
  "language_info": {
   "name": "python"
  },
  "orig_nbformat": 4
 },
 "nbformat": 4,
 "nbformat_minor": 2
}
