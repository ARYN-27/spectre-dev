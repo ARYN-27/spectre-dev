{
 "cells": [
  {
   "cell_type": "markdown",
   "metadata": {},
   "source": [
    "# SETUP PRE-REQUISITES"
   ]
  },
  {
   "cell_type": "code",
   "execution_count": null,
   "metadata": {
    "execution": {
     "iopub.execute_input": "2023-03-22T14:36:03.912014Z",
     "iopub.status.busy": "2023-03-22T14:36:03.911877Z",
     "iopub.status.idle": "2023-03-22T14:36:06.143648Z",
     "shell.execute_reply": "2023-03-22T14:36:06.143052Z",
     "shell.execute_reply.started": "2023-03-22T14:36:03.911997Z"
    },
    "tags": []
   },
   "outputs": [],
   "source": [
    "import os\n",
    "import platform\n",
    "import sys\n",
    "\n",
    "import tensorflow as tf\n",
    "from tensorflow.keras import layers\n",
    "\n",
    "import keras\n",
    "import matplotlib as mpl\n",
    "import matplotlib.pyplot as plt\n",
    "import numpy as np\n",
    "from keras.applications.vgg16 import VGG16\n",
    "from keras.applications.vgg19 import VGG19\n",
    "from keras.layers import Dense, Flatten, Input\n",
    "from keras.models import Model\n",
    "\n",
    "def escape():\n",
    "    sys.exit()"
   ]
  },
  {
   "cell_type": "code",
   "execution_count": null,
   "metadata": {
    "execution": {
     "iopub.execute_input": "2023-03-22T14:36:06.145347Z",
     "iopub.status.busy": "2023-03-22T14:36:06.145089Z",
     "iopub.status.idle": "2023-03-22T14:36:06.296954Z",
     "shell.execute_reply": "2023-03-22T14:36:06.296496Z",
     "shell.execute_reply.started": "2023-03-22T14:36:06.145333Z"
    },
    "notebookRunGroups": {
     "groupValue": ""
    },
    "tags": []
   },
   "outputs": [],
   "source": [
    "%matplotlib widget"
   ]
  },
  {
   "cell_type": "code",
   "execution_count": null,
   "metadata": {
    "execution": {
     "iopub.execute_input": "2023-03-22T14:36:06.297682Z",
     "iopub.status.busy": "2023-03-22T14:36:06.297550Z",
     "iopub.status.idle": "2023-03-22T14:36:06.300519Z",
     "shell.execute_reply": "2023-03-22T14:36:06.300042Z",
     "shell.execute_reply.started": "2023-03-22T14:36:06.297669Z"
    },
    "tags": []
   },
   "outputs": [],
   "source": [
    "print(f\"Python Platform: {platform.platform()}\")\n",
    "print(f\"Tensor Flow Version: {tf.__version__}\")\n",
    "print(f\"Keras Version: {tf.keras.__version__}\")\n",
    "print()\n",
    "print(f\"Python {sys.version}\")"
   ]
  },
  {
   "cell_type": "markdown",
   "metadata": {},
   "source": [
    "# SETUP GPU "
   ]
  },
  {
   "cell_type": "markdown",
   "metadata": {},
   "source": [
    "1. The TF_GPU_ALLOCATOR environment variable is used to specify the GPU memory allocator that TensorFlow should use. The cuda_malloc_async allocator is an asynchronous memory allocator that is optimized for use with NVIDIA GPUs."
   ]
  },
  {
   "cell_type": "code",
   "execution_count": null,
   "metadata": {
    "execution": {
     "iopub.execute_input": "2023-03-22T14:36:06.301113Z",
     "iopub.status.busy": "2023-03-22T14:36:06.300967Z",
     "iopub.status.idle": "2023-03-22T14:36:06.304996Z",
     "shell.execute_reply": "2023-03-22T14:36:06.304576Z",
     "shell.execute_reply.started": "2023-03-22T14:36:06.301099Z"
    },
    "tags": []
   },
   "outputs": [],
   "source": [
    "os.environ[\"TF_GPU_ALLOCATOR\"] = \"cuda_malloc_async\""
   ]
  },
  {
   "cell_type": "markdown",
   "metadata": {},
   "source": [
    "2. The `os.environ['TF_FORCE_GPU_ALLOW_GROWTH']` assignment sets an environment variable called `TF_FORCE_GPU_ALLOW_GROWTH` in the operating system. This environment variable tells TensorFlow to dynamically grow the GPU memory usage as needed, rather than allocating all of the GPU memory at the start of the TensorFlow session."
   ]
  },
  {
   "cell_type": "code",
   "execution_count": null,
   "metadata": {
    "execution": {
     "iopub.execute_input": "2023-03-22T14:36:06.305574Z",
     "iopub.status.busy": "2023-03-22T14:36:06.305448Z",
     "iopub.status.idle": "2023-03-22T14:36:06.308793Z",
     "shell.execute_reply": "2023-03-22T14:36:06.308309Z",
     "shell.execute_reply.started": "2023-03-22T14:36:06.305561Z"
    },
    "tags": []
   },
   "outputs": [],
   "source": [
    "#os.environ['TF_FORCE_GPU_ALLOW_GROWTH']= 'true'"
   ]
  },
  {
   "cell_type": "markdown",
   "metadata": {},
   "source": [
    "## Setup INFO level"
   ]
  },
  {
   "cell_type": "code",
   "execution_count": null,
   "metadata": {
    "execution": {
     "iopub.execute_input": "2023-03-22T14:36:06.309484Z",
     "iopub.status.busy": "2023-03-22T14:36:06.309342Z",
     "iopub.status.idle": "2023-03-22T14:36:06.312639Z",
     "shell.execute_reply": "2023-03-22T14:36:06.312118Z",
     "shell.execute_reply.started": "2023-03-22T14:36:06.309471Z"
    },
    "tags": []
   },
   "outputs": [],
   "source": [
    "tf.get_logger().setLevel(\"INFO\")\n",
    "# os.environ['TF_CPP_MIN_LOG_LEVEL'] = '3'  # or any {'0', '1', '2'}"
   ]
  },
  {
   "cell_type": "markdown",
   "metadata": {},
   "source": [
    "## Setup Dynamic Memory Allocation"
   ]
  },
  {
   "cell_type": "markdown",
   "metadata": {},
   "source": [
    "### Method 1: This enables the dynamic allocation of GPU memory. "
   ]
  },
  {
   "cell_type": "code",
   "execution_count": null,
   "metadata": {
    "execution": {
     "iopub.execute_input": "2023-03-22T14:36:06.314466Z",
     "iopub.status.busy": "2023-03-22T14:36:06.314254Z",
     "iopub.status.idle": "2023-03-22T14:36:07.811181Z",
     "shell.execute_reply": "2023-03-22T14:36:07.810328Z",
     "shell.execute_reply.started": "2023-03-22T14:36:06.314450Z"
    },
    "tags": []
   },
   "outputs": [],
   "source": [
    "#gpus = tf.config.experimental.list_physical_devices(\"GPU\")\n",
    "#if gpus:\n",
    "#    try:\n",
    "#        for gpu in gpus:\n",
    "#            tf.config.experimental.set_memory_growth(gpu, True)\n",
    "#    except RuntimeError as e:\n",
    "#        print(e)"
   ]
  },
  {
   "cell_type": "markdown",
   "metadata": {},
   "source": [
    "### Method 2: This enables the dynamic allocation of GPU memory. "
   ]
  },
  {
   "cell_type": "code",
   "execution_count": null,
   "metadata": {
    "execution": {
     "iopub.execute_input": "2023-03-22T14:36:07.812522Z",
     "iopub.status.busy": "2023-03-22T14:36:07.812347Z",
     "iopub.status.idle": "2023-03-22T14:36:07.815534Z",
     "shell.execute_reply": "2023-03-22T14:36:07.815016Z",
     "shell.execute_reply.started": "2023-03-22T14:36:07.812507Z"
    },
    "tags": []
   },
   "outputs": [],
   "source": [
    "# Ref: https://www.tensorflow.org/guide/gpu#limiting_gpu_memory_growth\n",
    "gpus = tf.config.experimental.list_physical_devices('GPU')\n",
    "if gpus:\n",
    "# Restrict TensorFlow to only allocate 1GB of memory on the first GPU\n",
    "  try:\n",
    "    tf.config.experimental.set_virtual_device_configuration(\n",
    "        gpus[0],\n",
    "        [tf.config.experimental.VirtualDeviceConfiguration(memory_limit=4096)]) # Notice here\n",
    "    logical_gpus = tf.config.experimental.list_logical_devices('GPU')\n",
    "    print(len(gpus), \"Physical GPUs,\", len(logical_gpus), \"Logical GPUs\")\n",
    "  except RuntimeError as e:\n",
    "# Virtual devices must be set before GPUs have been initialized\n",
    "    print(e)"
   ]
  },
  {
   "cell_type": "markdown",
   "metadata": {},
   "source": [
    "## Checks for the GPU available and lists it"
   ]
  },
  {
   "cell_type": "code",
   "execution_count": null,
   "metadata": {
    "execution": {
     "iopub.execute_input": "2023-03-22T14:36:07.816415Z",
     "iopub.status.busy": "2023-03-22T14:36:07.816218Z",
     "iopub.status.idle": "2023-03-22T14:36:07.819576Z",
     "shell.execute_reply": "2023-03-22T14:36:07.819210Z",
     "shell.execute_reply.started": "2023-03-22T14:36:07.816396Z"
    },
    "tags": []
   },
   "outputs": [],
   "source": [
    "print(\"Num GPUs Available: \", len(tf.config.list_physical_devices(\"GPU\")))"
   ]
  },
  {
   "cell_type": "code",
   "execution_count": null,
   "metadata": {
    "execution": {
     "iopub.execute_input": "2023-03-22T14:36:07.820182Z",
     "iopub.status.busy": "2023-03-22T14:36:07.820039Z",
     "iopub.status.idle": "2023-03-22T14:36:08.548708Z",
     "shell.execute_reply": "2023-03-22T14:36:08.548158Z",
     "shell.execute_reply.started": "2023-03-22T14:36:07.820168Z"
    },
    "tags": []
   },
   "outputs": [],
   "source": [
    "from tensorflow.python.client import device_lib\n",
    "\n",
    "print(\"Num GPUs Available: \", len(tf.config.list_physical_devices(\"GPU\")))\n",
    "device_lib.list_local_devices()"
   ]
  },
  {
   "cell_type": "markdown",
   "metadata": {},
   "source": [
    "# MAIN CODE"
   ]
  },
  {
   "cell_type": "code",
   "execution_count": null,
   "metadata": {
    "execution": {
     "iopub.execute_input": "2023-03-22T14:36:08.549592Z",
     "iopub.status.busy": "2023-03-22T14:36:08.549369Z",
     "iopub.status.idle": "2023-03-22T14:36:08.552353Z",
     "shell.execute_reply": "2023-03-22T14:36:08.551863Z",
     "shell.execute_reply.started": "2023-03-22T14:36:08.549571Z"
    },
    "tags": []
   },
   "outputs": [],
   "source": [
    "# import os\n",
    "# import sys\n",
    "\n",
    "# import keras\n",
    "# import matplotlib as mpl\n",
    "# import matplotlib.pyplot as plt\n",
    "# import numpy as np\n",
    "# from keras.applications.vgg16 import VGG16\n",
    "# from keras.applications.vgg19 import VGG19\n",
    "# from keras.layers import Dense, Flatten, Input\n",
    "# from keras.models import Model\n",
    "\n",
    "# def escape():\n",
    "#     sys.exit()"
   ]
  },
  {
   "cell_type": "code",
   "execution_count": null,
   "metadata": {
    "execution": {
     "iopub.execute_input": "2023-03-22T14:36:08.553094Z",
     "iopub.status.busy": "2023-03-22T14:36:08.552912Z",
     "iopub.status.idle": "2023-03-22T14:36:17.362705Z",
     "shell.execute_reply": "2023-03-22T14:36:17.362208Z",
     "shell.execute_reply.started": "2023-03-22T14:36:08.553077Z"
    },
    "tags": []
   },
   "outputs": [],
   "source": [
    "import_directory = \"/spectre-code/dataset/PCAP-NPY/\"\n",
    "counter = 0\n",
    "data_array = np.empty((0, 2))\n",
    "files = os.listdir(import_directory)\n",
    "for file in files:\n",
    "    print(\"Opening File : \", file)\n",
    "    data_set = np.load(import_directory + file, allow_pickle=True)\n",
    "    data_array = np.vstack((data_array, data_set))\n",
    "\n",
    "# separated = np.array([x for x in data_array if x[1] == 0])"
   ]
  },
  {
   "cell_type": "code",
   "execution_count": null,
   "metadata": {
    "execution": {
     "iopub.execute_input": "2023-03-22T14:36:17.363354Z",
     "iopub.status.busy": "2023-03-22T14:36:17.363225Z",
     "iopub.status.idle": "2023-03-22T14:36:17.948000Z",
     "shell.execute_reply": "2023-03-22T14:36:17.947451Z",
     "shell.execute_reply.started": "2023-03-22T14:36:17.363341Z"
    },
    "tags": []
   },
   "outputs": [],
   "source": [
    "# np.random.shuffle(separated)\n",
    "np.random.shuffle(data_array)\n",
    "print(\"ok\")"
   ]
  },
  {
   "cell_type": "code",
   "execution_count": null,
   "metadata": {
    "execution": {
     "iopub.execute_input": "2023-03-22T14:36:17.948835Z",
     "iopub.status.busy": "2023-03-22T14:36:17.948685Z",
     "iopub.status.idle": "2023-03-22T14:36:26.494147Z",
     "shell.execute_reply": "2023-03-22T14:36:26.493689Z",
     "shell.execute_reply.started": "2023-03-22T14:36:17.948821Z"
    },
    "tags": []
   },
   "outputs": [],
   "source": [
    "img_row = 50\n",
    "img_col = 50\n",
    "\n",
    "N = np.shape(data_array)[0]\n",
    "# train_test_split_percentage = 0.75\n",
    "train_test_split_percentage = 0.60\n",
    "\n",
    "X_train = data_array[: int(N * train_test_split_percentage), 0]\n",
    "X_test = data_array[int(N * train_test_split_percentage) :, 0]\n",
    "\n",
    "X_train = np.array([x.reshape(img_row, img_col, 3) for x in X_train])\n",
    "X_test = np.array([x.reshape(img_row, img_col, 3) for x in X_test])"
   ]
  },
  {
   "cell_type": "code",
   "execution_count": null,
   "metadata": {
    "execution": {
     "iopub.execute_input": "2023-03-22T14:36:26.494854Z",
     "iopub.status.busy": "2023-03-22T14:36:26.494726Z",
     "iopub.status.idle": "2023-03-22T14:36:27.475428Z",
     "shell.execute_reply": "2023-03-22T14:36:27.474955Z",
     "shell.execute_reply.started": "2023-03-22T14:36:26.494841Z"
    },
    "tags": []
   },
   "outputs": [],
   "source": [
    "y_train = data_array[: int(N * train_test_split_percentage), 1]\n",
    "y_test = data_array[int(N * train_test_split_percentage) :, 1]\n",
    "\n",
    "y_train = np.array([[x] for x in y_train])\n",
    "y_test = np.array([[x] for x in y_test])"
   ]
  },
  {
   "cell_type": "code",
   "execution_count": null,
   "metadata": {
    "execution": {
     "iopub.execute_input": "2023-03-22T14:36:27.476064Z",
     "iopub.status.busy": "2023-03-22T14:36:27.475914Z",
     "iopub.status.idle": "2023-03-22T14:36:27.948960Z",
     "shell.execute_reply": "2023-03-22T14:36:27.948464Z",
     "shell.execute_reply.started": "2023-03-22T14:36:27.476051Z"
    },
    "tags": []
   },
   "outputs": [],
   "source": [
    "model_vgg19_conv = VGG19(\n",
    "    include_top=False, weights=\"imagenet\", input_shape=(img_col, img_row, 3)\n",
    ")"
   ]
  },
  {
   "cell_type": "code",
   "execution_count": null,
   "metadata": {
    "execution": {
     "iopub.execute_input": "2023-03-22T14:36:27.949827Z",
     "iopub.status.busy": "2023-03-22T14:36:27.949633Z",
     "iopub.status.idle": "2023-03-22T14:36:29.421122Z",
     "shell.execute_reply": "2023-03-22T14:36:29.420698Z",
     "shell.execute_reply.started": "2023-03-22T14:36:27.949813Z"
    },
    "tags": []
   },
   "outputs": [],
   "source": [
    "# ploting images for data\n",
    "%matplotlib inline\n",
    "n = 40  # how many digits we will display\n",
    "plt.figure(figsize=(400, 150))\n",
    "for i in range(6, 11):\n",
    "    # display original\n",
    "    ax = plt.subplot(1, n, i + 1)\n",
    "    plt.imshow(X_train[i])\n",
    "    plt.gray()\n",
    "    ax.get_xaxis().set_visible(False)\n",
    "    ax.get_yaxis().set_visible(False)\n",
    "plt.show()\n",
    "plt.close()"
   ]
  },
  {
   "cell_type": "code",
   "execution_count": null,
   "metadata": {
    "execution": {
     "iopub.execute_input": "2023-03-22T14:36:29.421784Z",
     "iopub.status.busy": "2023-03-22T14:36:29.421631Z",
     "iopub.status.idle": "2023-03-22T14:36:29.426560Z",
     "shell.execute_reply": "2023-03-22T14:36:29.426148Z",
     "shell.execute_reply.started": "2023-03-22T14:36:29.421769Z"
    },
    "tags": []
   },
   "outputs": [],
   "source": [
    "for layer in model_vgg19_conv.layers:\n",
    "    layer.trainable = False\n",
    "    print(layer.name)"
   ]
  },
  {
   "cell_type": "code",
   "execution_count": null,
   "metadata": {
    "execution": {
     "iopub.execute_input": "2023-03-22T14:36:29.427227Z",
     "iopub.status.busy": "2023-03-22T14:36:29.427099Z",
     "iopub.status.idle": "2023-03-22T14:36:29.489562Z",
     "shell.execute_reply": "2023-03-22T14:36:29.489008Z",
     "shell.execute_reply.started": "2023-03-22T14:36:29.427214Z"
    },
    "tags": []
   },
   "outputs": [],
   "source": [
    "# x = model_vgg19_conv.output\n",
    "# x = Flatten()(x)\n",
    "# x = Dense(128, activation='relu')(x)\n",
    "# x = Dense(1, activation='sigmoid', name='predictions')(x)\n",
    "# my_model = Model(inputs=model_vgg19_conv.input, outputs=x)\n",
    "# my_model.summary()\n",
    "\n",
    "# Revision 1\n",
    "# x = model_vgg19_conv.output\n",
    "# x = Flatten()(x)\n",
    "# x = Dense(128, activation='relu')(x)\n",
    "# x = Dense(80, activation='relu')(x)\n",
    "# x = Dense(1, activation='sigmoid', name='predictions')(x)\n",
    "# my_model = Model(inputs=model_vgg19_conv.input, outputs=x)\n",
    "# my_model.summary()\n",
    "\n",
    "# Revision 2\n",
    "x = model_vgg19_conv.output\n",
    "x = layers.Flatten()(x)\n",
    "x = layers.Dense(128, activation=\"relu\")(x)\n",
    "x = layers.Dense(1, activation=\"sigmoid\", name=\"predictions\")(x)\n",
    "my_model = tf.keras.Model(inputs=model_vgg19_conv.input, outputs=x)\n",
    "my_model.summary()"
   ]
  },
  {
   "cell_type": "code",
   "execution_count": null,
   "metadata": {
    "execution": {
     "iopub.execute_input": "2023-03-22T14:36:29.490544Z",
     "iopub.status.busy": "2023-03-22T14:36:29.490303Z",
     "iopub.status.idle": "2023-03-22T14:36:29.504365Z",
     "shell.execute_reply": "2023-03-22T14:36:29.503081Z",
     "shell.execute_reply.started": "2023-03-22T14:36:29.490523Z"
    },
    "tags": []
   },
   "outputs": [],
   "source": [
    "my_model.compile(\n",
    "    loss=keras.losses.binary_crossentropy,\n",
    "    optimizer=keras.optimizers.RMSprop(),\n",
    "    metrics=[\"accuracy\"],\n",
    ")\n",
    "\n",
    "batch_size = 5\n",
    "epochs = 3"
   ]
  },
  {
   "cell_type": "code",
   "execution_count": null,
   "metadata": {
    "execution": {
     "iopub.execute_input": "2023-03-22T14:36:29.505917Z",
     "iopub.status.busy": "2023-03-22T14:36:29.505672Z",
     "iopub.status.idle": "2023-03-22T14:47:26.681030Z",
     "shell.execute_reply": "2023-03-22T14:47:26.680506Z",
     "shell.execute_reply.started": "2023-03-22T14:36:29.505901Z"
    },
    "tags": []
   },
   "outputs": [],
   "source": [
    "hist = my_model.fit(\n",
    "    X_train,\n",
    "    y_train,\n",
    "    batch_size=batch_size,\n",
    "    epochs=epochs,\n",
    "    verbose=1,\n",
    "    #validation_split=0.2,\n",
    "    validation_split=0.4,\n",
    ")"
   ]
  },
  {
   "cell_type": "code",
   "execution_count": null,
   "metadata": {
    "execution": {
     "iopub.execute_input": "2023-03-22T14:47:26.683850Z",
     "iopub.status.busy": "2023-03-22T14:47:26.683693Z",
     "iopub.status.idle": "2023-03-22T14:47:28.182700Z",
     "shell.execute_reply": "2023-03-22T14:47:28.182042Z",
     "shell.execute_reply.started": "2023-03-22T14:47:26.683836Z"
    },
    "tags": []
   },
   "outputs": [],
   "source": [
    "score = my_model.evaluate(X_test, y_test, verbose=0)"
   ]
  },
  {
   "cell_type": "code",
   "execution_count": null,
   "metadata": {
    "execution": {
     "iopub.status.busy": "2023-03-22T14:47:28.183140Z",
     "iopub.status.idle": "2023-03-22T14:47:28.183312Z",
     "shell.execute_reply": "2023-03-22T14:47:28.183232Z",
     "shell.execute_reply.started": "2023-03-22T14:47:28.183223Z"
    },
    "tags": []
   },
   "outputs": [],
   "source": [
    "print(\"Test loss:\", score[0])\n",
    "print(\"Test accuracy:\", score[1])"
   ]
  },
  {
   "cell_type": "code",
   "execution_count": null,
   "metadata": {
    "execution": {
     "iopub.status.busy": "2023-03-22T14:47:28.183817Z",
     "iopub.status.idle": "2023-03-22T14:47:28.183977Z",
     "shell.execute_reply": "2023-03-22T14:47:28.183904Z",
     "shell.execute_reply.started": "2023-03-22T14:47:28.183895Z"
    }
   },
   "outputs": [],
   "source": [
    "training_loss = hist.history[\"loss\"]\n",
    "val_loss = hist.history[\"val_loss\"]\n",
    "training_acc = hist.history[\"acc\"]\n",
    "val_acc = hist.history[\"val_acc\"]\n",
    "xc = range(epochs)\n",
    "\n",
    "plt.figure(1, figsize=(7, 5))\n",
    "plt.plot(xc, training_loss)\n",
    "plt.plot(xc, val_loss)\n",
    "plt.xlabel(\"No. of Epochs\")\n",
    "plt.ylabel(\"loss\")\n",
    "plt.title(\"Training Loss vs Validation Loss\")\n",
    "plt.grid(True)\n",
    "plt.legend([\"Train\", \"Val\"])\n",
    "\n",
    "plt.figure(2, figsize=(7, 5))\n",
    "plt.plot(xc, training_acc)\n",
    "plt.plot(xc, val_acc)\n",
    "plt.xlabel(\"No. of Epochs\")\n",
    "plt.ylabel(\"Accuracy\")\n",
    "plt.title(\"Training Accuracy vs Validation Accuracy\")\n",
    "plt.grid(True)\n",
    "plt.legend([\"Train\", \"Val\"], loc=4)"
   ]
  },
  {
   "cell_type": "code",
   "execution_count": null,
   "metadata": {
    "execution": {
     "iopub.status.busy": "2023-03-22T14:47:28.184477Z",
     "iopub.status.idle": "2023-03-22T14:47:28.184629Z",
     "shell.execute_reply": "2023-03-22T14:47:28.184559Z",
     "shell.execute_reply.started": "2023-03-22T14:47:28.184550Z"
    }
   },
   "outputs": [],
   "source": [
    "checking_occurences = [x for x in y_test if x == 1]\n",
    "print(\"total length = \", len(y_test))\n",
    "print(\"Anomolies = \", len(checking_occurences))\n",
    "print(\"Normal = \", (len(y_test) - len(checking_occurences)))\n",
    "\n",
    "n = len(y_test) - len(checking_occurences)\n",
    "a = len(checking_occurences)\n",
    "\n",
    "label = [\"Normal\", \"Anomaly\"]\n",
    "samples = [n, a]\n",
    "\n",
    "default_dpi = mpl.rcParamsDefault[\"figure.dpi\"]\n",
    "mpl.rcParams[\"figure.dpi\"] = default_dpi * 1.5\n",
    "\n",
    "# this is for plotting purpose\n",
    "index = np.arange(len(label))\n",
    "plt.bar(index, samples)\n",
    "plt.xlabel(\"Payload Types\", fontsize=10)\n",
    "plt.ylabel(\"Samples\", fontsize=10)\n",
    "plt.xticks(index, label, fontsize=10, rotation=0)\n",
    "plt.title(\"Samples identified by VGG19\")\n",
    "plt.show()"
   ]
  },
  {
   "cell_type": "code",
   "execution_count": null,
   "metadata": {
    "execution": {
     "iopub.status.busy": "2023-03-22T14:47:28.185129Z",
     "iopub.status.idle": "2023-03-22T14:47:28.185283Z",
     "shell.execute_reply": "2023-03-22T14:47:28.185212Z",
     "shell.execute_reply.started": "2023-03-22T14:47:28.185204Z"
    }
   },
   "outputs": [],
   "source": [
    "predictions = my_model.predict(X_test)\n",
    "print(\"Predictions = \", predictions)"
   ]
  },
  {
   "cell_type": "code",
   "execution_count": null,
   "metadata": {
    "execution": {
     "iopub.status.busy": "2023-03-22T14:47:28.185713Z",
     "iopub.status.idle": "2023-03-22T14:47:28.185865Z",
     "shell.execute_reply": "2023-03-22T14:47:28.185794Z",
     "shell.execute_reply.started": "2023-03-22T14:47:28.185786Z"
    }
   },
   "outputs": [],
   "source": [
    "rounded = [[round(x[0])] for x in predictions]\n",
    "from sklearn.metrics import f1_score\n",
    "\n",
    "result = f1_score(y_test, rounded, average=None, labels=[0, 1])\n",
    "print(\"F1 = \", result)"
   ]
  },
  {
   "cell_type": "code",
   "execution_count": null,
   "metadata": {
    "execution": {
     "iopub.status.busy": "2023-03-22T14:47:28.186181Z",
     "iopub.status.idle": "2023-03-22T14:47:28.186329Z",
     "shell.execute_reply": "2023-03-22T14:47:28.186260Z",
     "shell.execute_reply.started": "2023-03-22T14:47:28.186252Z"
    }
   },
   "outputs": [],
   "source": [
    "result = f1_score(y_test, rounded, average=\"macro\")\n",
    "print(\"F1 macro = \", result)"
   ]
  },
  {
   "cell_type": "code",
   "execution_count": null,
   "metadata": {
    "execution": {
     "iopub.status.busy": "2023-03-22T14:47:28.186637Z",
     "iopub.status.idle": "2023-03-22T14:47:28.186783Z",
     "shell.execute_reply": "2023-03-22T14:47:28.186715Z",
     "shell.execute_reply.started": "2023-03-22T14:47:28.186707Z"
    }
   },
   "outputs": [],
   "source": [
    "result = f1_score(y_test, rounded, average=\"micro\")\n",
    "print(\"F1 Micro= \", result)"
   ]
  },
  {
   "cell_type": "code",
   "execution_count": null,
   "metadata": {
    "execution": {
     "iopub.status.busy": "2023-03-22T14:47:28.187324Z",
     "iopub.status.idle": "2023-03-22T14:47:28.187476Z",
     "shell.execute_reply": "2023-03-22T14:47:28.187406Z",
     "shell.execute_reply.started": "2023-03-22T14:47:28.187397Z"
    }
   },
   "outputs": [],
   "source": [
    "result = f1_score(y_test, rounded, average=\"weighted\")\n",
    "print(\"F1 Weighted= \", result)"
   ]
  },
  {
   "cell_type": "code",
   "execution_count": null,
   "metadata": {
    "execution": {
     "iopub.status.busy": "2023-03-22T14:47:28.188064Z",
     "iopub.status.idle": "2023-03-22T14:47:28.188214Z",
     "shell.execute_reply": "2023-03-22T14:47:28.188145Z",
     "shell.execute_reply.started": "2023-03-22T14:47:28.188137Z"
    }
   },
   "outputs": [],
   "source": [
    "import sklearn.metrics\n",
    "\n",
    "target_names = [\"normal\", \"anomaly\"]\n",
    "print(\n",
    "    sklearn.metrics.classification_report(\n",
    "        y_test, rounded, labels=[0, 1], target_names=target_names\n",
    "    )\n",
    ")"
   ]
  },
  {
   "cell_type": "code",
   "execution_count": null,
   "metadata": {
    "execution": {
     "iopub.status.busy": "2023-03-22T14:47:28.188634Z",
     "iopub.status.idle": "2023-03-22T14:47:28.188783Z",
     "shell.execute_reply": "2023-03-22T14:47:28.188714Z",
     "shell.execute_reply.started": "2023-03-22T14:47:28.188705Z"
    }
   },
   "outputs": [],
   "source": [
    "my_model.save(\"FYP_Finalhd5.hd5\")\n",
    "my_model.save(\"FYP_Finalh5.h5\")"
   ]
  },
  {
   "cell_type": "code",
   "execution_count": null,
   "metadata": {
    "execution": {
     "iopub.status.busy": "2023-03-22T14:47:28.189105Z",
     "iopub.status.idle": "2023-03-22T14:47:28.189252Z",
     "shell.execute_reply": "2023-03-22T14:47:28.189184Z",
     "shell.execute_reply.started": "2023-03-22T14:47:28.189175Z"
    },
    "tags": []
   },
   "outputs": [],
   "source": [
    "from read_activations import display_activations, get_activations\n",
    "\n",
    "v_index = 4\n",
    "x_valid = X_train[:5]\n",
    "a = get_activations(my_model, x_valid[v_index : v_index + 1], print_shape_only=True)\n",
    "display_activations(a)"
   ]
  }
 ],
 "metadata": {
  "kernelspec": {
   "display_name": "Python 3 (ipykernel)",
   "language": "python",
   "name": "python3"
  },
  "language_info": {
   "codemirror_mode": {
    "name": "ipython",
    "version": 3
   },
   "file_extension": ".py",
   "mimetype": "text/x-python",
   "name": "python",
   "nbconvert_exporter": "python",
   "pygments_lexer": "ipython3",
   "version": "3.9.16"
  },
  "toc-autonumbering": true,
  "toc-showcode": false,
  "toc-showmarkdowntxt": true,
  "vscode": {
   "interpreter": {
    "hash": "e7370f93d1d0cde622a1f8e1c04877d8463912d04d973331ad4851f04de6915a"
   }
  }
 },
 "nbformat": 4,
 "nbformat_minor": 4
}
