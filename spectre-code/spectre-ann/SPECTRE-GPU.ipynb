{
 "cells": [
  {
   "cell_type": "code",
   "execution_count": null,
   "metadata": {
    "execution": {
     "iopub.execute_input": "2023-01-05T23:04:59.123488Z",
     "iopub.status.busy": "2023-01-05T23:04:59.123239Z",
     "iopub.status.idle": "2023-01-05T23:05:02.238940Z",
     "shell.execute_reply": "2023-01-05T23:05:02.237999Z",
     "shell.execute_reply.started": "2023-01-05T23:04:59.123458Z"
    },
    "tags": []
   },
   "outputs": [],
   "source": [
    "import os\n",
    "import platform\n",
    "import sys\n",
    "\n",
    "import tensorflow as tf\n",
    "from tensorflow.keras import layers"
   ]
  },
  {
   "cell_type": "code",
   "execution_count": null,
   "metadata": {
    "execution": {
     "iopub.execute_input": "2023-01-05T23:05:02.241689Z",
     "iopub.status.busy": "2023-01-05T23:05:02.241037Z",
     "iopub.status.idle": "2023-01-05T23:05:02.620694Z",
     "shell.execute_reply": "2023-01-05T23:05:02.619872Z",
     "shell.execute_reply.started": "2023-01-05T23:05:02.241660Z"
    }
   },
   "outputs": [],
   "source": [
    "%matplotlib widget"
   ]
  },
  {
   "cell_type": "code",
   "execution_count": null,
   "metadata": {
    "execution": {
     "iopub.execute_input": "2023-01-05T23:05:02.622446Z",
     "iopub.status.busy": "2023-01-05T23:05:02.621853Z",
     "iopub.status.idle": "2023-01-05T23:05:02.627319Z",
     "shell.execute_reply": "2023-01-05T23:05:02.625945Z",
     "shell.execute_reply.started": "2023-01-05T23:05:02.622405Z"
    }
   },
   "outputs": [],
   "source": [
    "print(f\"Python Platform: {platform.platform()}\")\n",
    "print(f\"Tensor Flow Version: {tf.__version__}\")\n",
    "print(f\"Keras Version: {tf.keras.__version__}\")\n",
    "print()\n",
    "print(f\"Python {sys.version}\")"
   ]
  },
  {
   "cell_type": "markdown",
   "metadata": {},
   "source": [
    "The TF_GPU_ALLOCATOR environment variable is used to specify the GPU memory allocator that TensorFlow should use. The cuda_malloc_async allocator is an asynchronous memory allocator that is optimized for use with NVIDIA GPUs."
   ]
  },
  {
   "cell_type": "code",
   "execution_count": null,
   "metadata": {
    "execution": {
     "iopub.execute_input": "2023-01-05T23:05:02.629261Z",
     "iopub.status.busy": "2023-01-05T23:05:02.628831Z",
     "iopub.status.idle": "2023-01-05T23:05:02.761742Z",
     "shell.execute_reply": "2023-01-05T23:05:02.760692Z",
     "shell.execute_reply.started": "2023-01-05T23:05:02.629229Z"
    }
   },
   "outputs": [],
   "source": [
    "os.environ[\"TF_GPU_ALLOCATOR\"] = \"cuda_malloc_async\""
   ]
  },
  {
   "cell_type": "markdown",
   "metadata": {},
   "source": [
    "The os.environ['TF_FORCE_GPU_ALLOW_GROWTH'] assignment sets an environment variable called TF_FORCE_GPU_ALLOW_GROWTH in the operating system. This environment variable tells TensorFlow to dynamically grow the GPU memory usage as needed, rather than allocating all of the GPU memory at the start of the TensorFlow session."
   ]
  },
  {
   "cell_type": "code",
   "execution_count": null,
   "metadata": {
    "execution": {
     "iopub.execute_input": "2023-01-05T23:05:02.763604Z",
     "iopub.status.busy": "2023-01-05T23:05:02.762815Z",
     "iopub.status.idle": "2023-01-05T23:05:02.767237Z",
     "shell.execute_reply": "2023-01-05T23:05:02.766290Z",
     "shell.execute_reply.started": "2023-01-05T23:05:02.763580Z"
    }
   },
   "outputs": [],
   "source": [
    "# os.environ['TF_FORCE_GPU_ALLOW_GROWTH']= 'true'"
   ]
  },
  {
   "cell_type": "code",
   "execution_count": null,
   "metadata": {
    "execution": {
     "iopub.execute_input": "2023-01-05T23:05:02.768522Z",
     "iopub.status.busy": "2023-01-05T23:05:02.768299Z",
     "iopub.status.idle": "2023-01-05T23:05:02.772923Z",
     "shell.execute_reply": "2023-01-05T23:05:02.771776Z",
     "shell.execute_reply.started": "2023-01-05T23:05:02.768505Z"
    }
   },
   "outputs": [],
   "source": [
    "tf.get_logger().setLevel(\"INFO\")\n",
    "\n",
    "# os.environ['TF_CPP_MIN_LOG_LEVEL'] = '3'  # or any {'0', '1', '2'}"
   ]
  },
  {
   "cell_type": "markdown",
   "metadata": {},
   "source": [
    "Method 1: This enables the dynamic allocation of GPU memory. "
   ]
  },
  {
   "cell_type": "code",
   "execution_count": null,
   "metadata": {
    "execution": {
     "iopub.execute_input": "2023-01-05T23:05:02.776838Z",
     "iopub.status.busy": "2023-01-05T23:05:02.776462Z",
     "iopub.status.idle": "2023-01-05T23:05:05.106773Z",
     "shell.execute_reply": "2023-01-05T23:05:05.105624Z",
     "shell.execute_reply.started": "2023-01-05T23:05:02.776807Z"
    },
    "tags": []
   },
   "outputs": [],
   "source": [
    "gpus = tf.config.experimental.list_physical_devices(\"GPU\")\n",
    "if gpus:\n",
    "    try:\n",
    "        for gpu in gpus:\n",
    "            tf.config.experimental.set_memory_growth(gpu, True)\n",
    "    except RuntimeError as e:\n",
    "        print(e)"
   ]
  },
  {
   "cell_type": "markdown",
   "metadata": {},
   "source": [
    "Method 2: This enables the dynamic allocation of GPU memory. "
   ]
  },
  {
   "cell_type": "code",
   "execution_count": null,
   "metadata": {
    "execution": {
     "iopub.execute_input": "2023-01-05T23:05:05.108737Z",
     "iopub.status.busy": "2023-01-05T23:05:05.108044Z",
     "iopub.status.idle": "2023-01-05T23:05:05.113873Z",
     "shell.execute_reply": "2023-01-05T23:05:05.112694Z",
     "shell.execute_reply.started": "2023-01-05T23:05:05.108669Z"
    },
    "tags": []
   },
   "outputs": [],
   "source": [
    "# Ref: https://www.tensorflow.org/guide/gpu#limiting_gpu_memory_growth\n",
    "# gpus = tf.config.experimental.list_physical_devices('GPU')\n",
    "# if gpus:\n",
    "# Restrict TensorFlow to only allocate 1GB of memory on the first GPU\n",
    "#  try:\n",
    "#    tf.config.experimental.set_virtual_device_configuration(\n",
    "#        gpus[0],\n",
    "#        [tf.config.experimental.VirtualDeviceConfiguration(memory_limit=4096)]) # Notice here\n",
    "#    logical_gpus = tf.config.experimental.list_logical_devices('GPU')\n",
    "#    print(len(gpus), \"Physical GPUs,\", len(logical_gpus), \"Logical GPUs\")\n",
    "#  except RuntimeError as e:\n",
    "# Virtual devices must be set before GPUs have been initialized\n",
    "#    print(e)"
   ]
  },
  {
   "cell_type": "markdown",
   "metadata": {},
   "source": [
    "Checks for the GPU available and lists it"
   ]
  },
  {
   "cell_type": "code",
   "execution_count": null,
   "metadata": {
    "execution": {
     "iopub.execute_input": "2023-01-05T23:05:05.115556Z",
     "iopub.status.busy": "2023-01-05T23:05:05.115246Z",
     "iopub.status.idle": "2023-01-05T23:05:05.121062Z",
     "shell.execute_reply": "2023-01-05T23:05:05.120207Z",
     "shell.execute_reply.started": "2023-01-05T23:05:05.115520Z"
    },
    "tags": []
   },
   "outputs": [],
   "source": [
    "print(\"Num GPUs Available: \", len(tf.config.list_physical_devices(\"GPU\")))"
   ]
  },
  {
   "cell_type": "code",
   "execution_count": null,
   "metadata": {
    "execution": {
     "iopub.execute_input": "2023-01-05T23:05:05.123289Z",
     "iopub.status.busy": "2023-01-05T23:05:05.122236Z",
     "iopub.status.idle": "2023-01-05T23:05:06.137720Z",
     "shell.execute_reply": "2023-01-05T23:05:06.136866Z",
     "shell.execute_reply.started": "2023-01-05T23:05:05.123254Z"
    }
   },
   "outputs": [],
   "source": [
    "from tensorflow.python.client import device_lib\n",
    "\n",
    "print(\"Num GPUs Available: \", len(tf.config.list_physical_devices(\"GPU\")))\n",
    "device_lib.list_local_devices()"
   ]
  },
  {
   "cell_type": "code",
   "execution_count": null,
   "metadata": {
    "execution": {
     "iopub.execute_input": "2023-01-05T23:05:06.139442Z",
     "iopub.status.busy": "2023-01-05T23:05:06.138921Z",
     "iopub.status.idle": "2023-01-05T23:05:06.144778Z",
     "shell.execute_reply": "2023-01-05T23:05:06.143919Z",
     "shell.execute_reply.started": "2023-01-05T23:05:06.139420Z"
    }
   },
   "outputs": [],
   "source": [
    "import os\n",
    "import sys\n",
    "\n",
    "import keras\n",
    "import matplotlib as mpl\n",
    "import matplotlib.pyplot as plt\n",
    "import numpy as np\n",
    "from keras.applications.vgg16 import VGG16\n",
    "from keras.applications.vgg19 import VGG19\n",
    "from keras.layers import Dense, Flatten, Input\n",
    "from keras.models import Model\n",
    "\n",
    "\n",
    "def escape():\n",
    "    sys.exit()"
   ]
  },
  {
   "cell_type": "code",
   "execution_count": null,
   "metadata": {
    "execution": {
     "iopub.execute_input": "2023-01-05T23:05:06.145839Z",
     "iopub.status.busy": "2023-01-05T23:05:06.145646Z",
     "iopub.status.idle": "2023-01-05T23:07:23.953295Z",
     "shell.execute_reply": "2023-01-05T23:07:23.952641Z",
     "shell.execute_reply.started": "2023-01-05T23:05:06.145824Z"
    },
    "tags": []
   },
   "outputs": [],
   "source": [
    "import_directory = \"/spectre-code/dataset/ISCX-2012/Processed/\"\n",
    "counter = 0\n",
    "data_array = np.empty((0, 2))\n",
    "files = os.listdir(import_directory)\n",
    "for file in files:\n",
    "    print(\"Opening File : \", file)\n",
    "    data_set = np.load(import_directory + file, allow_pickle=True)\n",
    "    data_array = np.vstack((data_array, data_set))\n",
    "\n",
    "# separated = np.array([x for x in data_array if x[1] == 0])"
   ]
  },
  {
   "cell_type": "code",
   "execution_count": null,
   "metadata": {
    "execution": {
     "iopub.execute_input": "2023-01-05T23:07:23.954533Z",
     "iopub.status.busy": "2023-01-05T23:07:23.954097Z",
     "iopub.status.idle": "2023-01-05T23:07:24.593301Z",
     "shell.execute_reply": "2023-01-05T23:07:24.592373Z",
     "shell.execute_reply.started": "2023-01-05T23:07:23.954516Z"
    }
   },
   "outputs": [],
   "source": [
    "# np.random.shuffle(separated)\n",
    "np.random.shuffle(data_array)\n",
    "print(\"ok\")"
   ]
  },
  {
   "cell_type": "code",
   "execution_count": null,
   "metadata": {
    "execution": {
     "iopub.execute_input": "2023-01-05T23:07:24.594645Z",
     "iopub.status.busy": "2023-01-05T23:07:24.594435Z",
     "iopub.status.idle": "2023-01-05T23:07:27.719146Z",
     "shell.execute_reply": "2023-01-05T23:07:27.718516Z",
     "shell.execute_reply.started": "2023-01-05T23:07:24.594627Z"
    }
   },
   "outputs": [],
   "source": [
    "img_row = 50\n",
    "img_col = 50\n",
    "\n",
    "N = np.shape(data_array)[0]\n",
    "train_test_split_percentage = 0.75\n",
    "\n",
    "X_train = data_array[: int(N * train_test_split_percentage), 0]\n",
    "X_test = data_array[int(N * train_test_split_percentage) :, 0]\n",
    "\n",
    "X_train = np.array([x.reshape(img_row, img_col, 3) for x in X_train])\n",
    "X_test = np.array([x.reshape(img_row, img_col, 3) for x in X_test])"
   ]
  },
  {
   "cell_type": "code",
   "execution_count": null,
   "metadata": {
    "execution": {
     "iopub.execute_input": "2023-01-05T23:07:27.720232Z",
     "iopub.status.busy": "2023-01-05T23:07:27.719919Z",
     "iopub.status.idle": "2023-01-05T23:07:28.626959Z",
     "shell.execute_reply": "2023-01-05T23:07:28.626293Z",
     "shell.execute_reply.started": "2023-01-05T23:07:27.720218Z"
    }
   },
   "outputs": [],
   "source": [
    "y_train = data_array[: int(N * train_test_split_percentage), 1]\n",
    "y_test = data_array[int(N * train_test_split_percentage) :, 1]\n",
    "\n",
    "y_train = np.array([[x] for x in y_train])\n",
    "y_test = np.array([[x] for x in y_test])"
   ]
  },
  {
   "cell_type": "code",
   "execution_count": null,
   "metadata": {
    "execution": {
     "iopub.execute_input": "2023-01-05T23:07:28.628235Z",
     "iopub.status.busy": "2023-01-05T23:07:28.627710Z",
     "iopub.status.idle": "2023-01-05T23:07:29.137301Z",
     "shell.execute_reply": "2023-01-05T23:07:29.136655Z",
     "shell.execute_reply.started": "2023-01-05T23:07:28.628219Z"
    }
   },
   "outputs": [],
   "source": [
    "model_vgg19_conv = VGG19(\n",
    "    include_top=False, weights=\"imagenet\", input_shape=(img_col, img_row, 3)\n",
    ")"
   ]
  },
  {
   "cell_type": "code",
   "execution_count": null,
   "metadata": {
    "execution": {
     "iopub.execute_input": "2023-01-05T23:07:29.138279Z",
     "iopub.status.busy": "2023-01-05T23:07:29.138076Z",
     "iopub.status.idle": "2023-01-05T23:07:30.401684Z",
     "shell.execute_reply": "2023-01-05T23:07:30.400949Z",
     "shell.execute_reply.started": "2023-01-05T23:07:29.138262Z"
    },
    "tags": []
   },
   "outputs": [],
   "source": [
    "# ploting images for data\n",
    "%matplotlib inline\n",
    "n = 40  # how many digits we will display\n",
    "plt.figure(figsize=(400, 150))\n",
    "for i in range(6, 11):\n",
    "    # display original\n",
    "    ax = plt.subplot(1, n, i + 1)\n",
    "    plt.imshow(X_train[i])\n",
    "    plt.gray()\n",
    "    ax.get_xaxis().set_visible(False)\n",
    "    ax.get_yaxis().set_visible(False)\n",
    "plt.show()\n",
    "plt.close()"
   ]
  },
  {
   "cell_type": "code",
   "execution_count": null,
   "metadata": {
    "execution": {
     "iopub.execute_input": "2023-01-05T23:07:30.403022Z",
     "iopub.status.busy": "2023-01-05T23:07:30.402669Z",
     "iopub.status.idle": "2023-01-05T23:07:30.407505Z",
     "shell.execute_reply": "2023-01-05T23:07:30.406710Z",
     "shell.execute_reply.started": "2023-01-05T23:07:30.403005Z"
    }
   },
   "outputs": [],
   "source": [
    "for layer in model_vgg19_conv.layers:\n",
    "    layer.trainable = False\n",
    "    print(layer.name)"
   ]
  },
  {
   "cell_type": "code",
   "execution_count": null,
   "metadata": {
    "execution": {
     "iopub.execute_input": "2023-01-05T23:07:30.413692Z",
     "iopub.status.busy": "2023-01-05T23:07:30.413089Z",
     "iopub.status.idle": "2023-01-05T23:07:30.500434Z",
     "shell.execute_reply": "2023-01-05T23:07:30.496884Z",
     "shell.execute_reply.started": "2023-01-05T23:07:30.413673Z"
    }
   },
   "outputs": [],
   "source": [
    "# x = model_vgg19_conv.output\n",
    "# x = Flatten()(x)\n",
    "# x = Dense(128, activation='relu')(x)\n",
    "# x = Dense(1, activation='sigmoid', name='predictions')(x)\n",
    "# my_model = Model(inputs=model_vgg19_conv.input, outputs=x)\n",
    "# my_model.summary()\n",
    "\n",
    "# Revision 1\n",
    "# x = model_vgg19_conv.output\n",
    "# x = Flatten()(x)\n",
    "# x = Dense(128, activation='relu')(x)\n",
    "# x = Dense(80, activation='relu')(x)\n",
    "# x = Dense(1, activation='sigmoid', name='predictions')(x)\n",
    "# my_model = Model(inputs=model_vgg19_conv.input, outputs=x)\n",
    "# my_model.summary()\n",
    "\n",
    "# Revision 2\n",
    "x = model_vgg19_conv.output\n",
    "x = layers.Flatten()(x)\n",
    "x = layers.Dense(128, activation=\"relu\")(x)\n",
    "x = layers.Dense(1, activation=\"sigmoid\", name=\"predictions\")(x)\n",
    "my_model = tf.keras.Model(inputs=model_vgg19_conv.input, outputs=x)\n",
    "my_model.summary()"
   ]
  },
  {
   "cell_type": "code",
   "execution_count": null,
   "metadata": {
    "execution": {
     "iopub.execute_input": "2023-01-05T23:07:30.503589Z",
     "iopub.status.busy": "2023-01-05T23:07:30.503155Z",
     "iopub.status.idle": "2023-01-05T23:07:30.518170Z",
     "shell.execute_reply": "2023-01-05T23:07:30.517385Z",
     "shell.execute_reply.started": "2023-01-05T23:07:30.503569Z"
    },
    "tags": []
   },
   "outputs": [],
   "source": [
    "my_model.compile(\n",
    "    loss=keras.losses.binary_crossentropy,\n",
    "    optimizer=keras.optimizers.RMSprop(),\n",
    "    metrics=[\"accuracy\"],\n",
    ")\n",
    "\n",
    "batch_size = 5\n",
    "epochs = 3"
   ]
  },
  {
   "cell_type": "code",
   "execution_count": null,
   "metadata": {
    "execution": {
     "iopub.execute_input": "2023-01-05T23:07:30.519580Z",
     "iopub.status.busy": "2023-01-05T23:07:30.519333Z",
     "iopub.status.idle": "2023-01-06T00:09:12.036972Z",
     "shell.execute_reply": "2023-01-06T00:09:12.028635Z",
     "shell.execute_reply.started": "2023-01-05T23:07:30.519558Z"
    },
    "tags": []
   },
   "outputs": [],
   "source": [
    "hist = my_model.fit(\n",
    "    X_train,\n",
    "    y_train,\n",
    "    batch_size=batch_size,\n",
    "    epochs=epochs,\n",
    "    verbose=1,\n",
    "    validation_split=0.2,\n",
    ")"
   ]
  },
  {
   "cell_type": "code",
   "execution_count": null,
   "metadata": {
    "execution": {
     "iopub.status.busy": "2023-01-06T00:09:12.038039Z",
     "iopub.status.idle": "2023-01-06T00:09:12.038757Z",
     "shell.execute_reply": "2023-01-06T00:09:12.038617Z",
     "shell.execute_reply.started": "2023-01-06T00:09:12.038602Z"
    }
   },
   "outputs": [],
   "source": [
    "tf.keras.backend.clear_session()\n",
    "tf.compat.v1.reset_default_graph()"
   ]
  },
  {
   "cell_type": "code",
   "execution_count": null,
   "metadata": {
    "execution": {
     "iopub.status.busy": "2023-01-06T00:09:12.039722Z",
     "iopub.status.idle": "2023-01-06T00:09:12.040323Z",
     "shell.execute_reply": "2023-01-06T00:09:12.040207Z",
     "shell.execute_reply.started": "2023-01-06T00:09:12.040196Z"
    }
   },
   "outputs": [],
   "source": [
    "score = my_model.evaluate(X_test, y_test, verbose=0)"
   ]
  },
  {
   "cell_type": "code",
   "execution_count": null,
   "metadata": {
    "execution": {
     "iopub.status.busy": "2023-01-06T00:09:12.041523Z",
     "iopub.status.idle": "2023-01-06T00:09:12.041943Z",
     "shell.execute_reply": "2023-01-06T00:09:12.041809Z",
     "shell.execute_reply.started": "2023-01-06T00:09:12.041795Z"
    }
   },
   "outputs": [],
   "source": [
    "print(\"Test loss:\", score[0])\n",
    "print(\"Test accuracy:\", score[1])"
   ]
  },
  {
   "cell_type": "code",
   "execution_count": null,
   "metadata": {
    "execution": {
     "iopub.status.busy": "2023-01-06T00:09:12.043120Z",
     "iopub.status.idle": "2023-01-06T00:09:12.043594Z",
     "shell.execute_reply": "2023-01-06T00:09:12.043441Z",
     "shell.execute_reply.started": "2023-01-06T00:09:12.043424Z"
    }
   },
   "outputs": [],
   "source": [
    "training_loss = hist.history[\"loss\"]\n",
    "val_loss = hist.history[\"val_loss\"]\n",
    "training_acc = hist.history[\"acc\"]\n",
    "val_acc = hist.history[\"val_acc\"]\n",
    "xc = range(epochs)\n",
    "\n",
    "plt.figure(1, figsize=(7, 5))\n",
    "plt.plot(xc, training_loss)\n",
    "plt.plot(xc, val_loss)\n",
    "plt.xlabel(\"No. of Epochs\")\n",
    "plt.ylabel(\"loss\")\n",
    "plt.title(\"Training Loss vs Validation Loss\")\n",
    "plt.grid(True)\n",
    "plt.legend([\"Train\", \"Val\"])\n",
    "\n",
    "plt.figure(2, figsize=(7, 5))\n",
    "plt.plot(xc, training_acc)\n",
    "plt.plot(xc, val_acc)\n",
    "plt.xlabel(\"No. of Epochs\")\n",
    "plt.ylabel(\"Accuracy\")\n",
    "plt.title(\"Training Accuracy vs Validation Accuracy\")\n",
    "plt.grid(True)\n",
    "plt.legend([\"Train\", \"Val\"], loc=4)"
   ]
  },
  {
   "cell_type": "code",
   "execution_count": null,
   "metadata": {
    "execution": {
     "iopub.status.busy": "2023-01-06T00:09:12.045001Z",
     "iopub.status.idle": "2023-01-06T00:09:12.045488Z",
     "shell.execute_reply": "2023-01-06T00:09:12.045379Z",
     "shell.execute_reply.started": "2023-01-06T00:09:12.045365Z"
    }
   },
   "outputs": [],
   "source": [
    "checking_occurences = [x for x in y_test if x == 1]\n",
    "print(\"total length = \", len(y_test))\n",
    "print(\"Anomolies = \", len(checking_occurences))\n",
    "print(\"Normal = \", (len(y_test) - len(checking_occurences)))\n",
    "\n",
    "n = len(y_test) - len(checking_occurences)\n",
    "a = len(checking_occurences)\n",
    "\n",
    "label = [\"Normal\", \"Anomaly\"]\n",
    "samples = [n, a]\n",
    "\n",
    "default_dpi = mpl.rcParamsDefault[\"figure.dpi\"]\n",
    "mpl.rcParams[\"figure.dpi\"] = default_dpi * 1.5\n",
    "\n",
    "# this is for plotting purpose\n",
    "index = np.arange(len(label))\n",
    "plt.bar(index, samples)\n",
    "plt.xlabel(\"Payload Types\", fontsize=10)\n",
    "plt.ylabel(\"Samples\", fontsize=10)\n",
    "plt.xticks(index, label, fontsize=10, rotation=0)\n",
    "plt.title(\"Samples identified by VGG19\")\n",
    "plt.show()"
   ]
  },
  {
   "cell_type": "code",
   "execution_count": null,
   "metadata": {
    "execution": {
     "iopub.status.busy": "2023-01-06T00:09:12.046750Z",
     "iopub.status.idle": "2023-01-06T00:09:12.047320Z",
     "shell.execute_reply": "2023-01-06T00:09:12.047186Z",
     "shell.execute_reply.started": "2023-01-06T00:09:12.047173Z"
    }
   },
   "outputs": [],
   "source": [
    "predictions = my_model.predict(X_test)\n",
    "print(\"Predictions = \", predictions)"
   ]
  },
  {
   "cell_type": "code",
   "execution_count": null,
   "metadata": {
    "execution": {
     "iopub.status.busy": "2023-01-06T00:09:12.048184Z",
     "iopub.status.idle": "2023-01-06T00:09:12.048428Z",
     "shell.execute_reply": "2023-01-06T00:09:12.048340Z",
     "shell.execute_reply.started": "2023-01-06T00:09:12.048330Z"
    }
   },
   "outputs": [],
   "source": [
    "rounded = [[round(x[0])] for x in predictions]\n",
    "from sklearn.metrics import f1_score\n",
    "\n",
    "result = f1_score(y_test, rounded, average=None, labels=[0, 1])\n",
    "print(\"F1 = \", result)"
   ]
  },
  {
   "cell_type": "code",
   "execution_count": null,
   "metadata": {
    "execution": {
     "iopub.status.busy": "2023-01-06T00:09:12.049538Z",
     "iopub.status.idle": "2023-01-06T00:09:12.049931Z",
     "shell.execute_reply": "2023-01-06T00:09:12.049803Z",
     "shell.execute_reply.started": "2023-01-06T00:09:12.049790Z"
    }
   },
   "outputs": [],
   "source": [
    "result = f1_score(y_test, rounded, average=\"macro\")\n",
    "print(\"F1 macro = \", result)"
   ]
  },
  {
   "cell_type": "code",
   "execution_count": null,
   "metadata": {
    "execution": {
     "iopub.status.busy": "2023-01-06T00:09:12.050806Z",
     "iopub.status.idle": "2023-01-06T00:09:12.051055Z",
     "shell.execute_reply": "2023-01-06T00:09:12.050959Z",
     "shell.execute_reply.started": "2023-01-06T00:09:12.050948Z"
    }
   },
   "outputs": [],
   "source": [
    "result = f1_score(y_test, rounded, average=\"micro\")\n",
    "print(\"F1 Micro= \", result)"
   ]
  },
  {
   "cell_type": "code",
   "execution_count": null,
   "metadata": {
    "execution": {
     "iopub.status.busy": "2023-01-06T00:09:12.052228Z",
     "iopub.status.idle": "2023-01-06T00:09:12.052459Z",
     "shell.execute_reply": "2023-01-06T00:09:12.052367Z",
     "shell.execute_reply.started": "2023-01-06T00:09:12.052357Z"
    }
   },
   "outputs": [],
   "source": [
    "result = f1_score(y_test, rounded, average=\"weighted\")\n",
    "print(\"F1 Weighted= \", result)"
   ]
  },
  {
   "cell_type": "code",
   "execution_count": null,
   "metadata": {
    "execution": {
     "iopub.status.busy": "2023-01-06T00:09:12.053688Z",
     "iopub.status.idle": "2023-01-06T00:09:12.053931Z",
     "shell.execute_reply": "2023-01-06T00:09:12.053839Z",
     "shell.execute_reply.started": "2023-01-06T00:09:12.053804Z"
    }
   },
   "outputs": [],
   "source": [
    "import sklearn.metrics\n",
    "\n",
    "target_names = [\"normal\", \"anomaly\"]\n",
    "print(\n",
    "    sklearn.metrics.classification_report(\n",
    "        y_test, rounded, labels=[0, 1], target_names=target_names\n",
    "    )\n",
    ")"
   ]
  },
  {
   "cell_type": "code",
   "execution_count": null,
   "metadata": {
    "execution": {
     "iopub.status.busy": "2023-01-06T00:09:12.054720Z",
     "iopub.status.idle": "2023-01-06T00:09:12.054924Z",
     "shell.execute_reply": "2023-01-06T00:09:12.054840Z",
     "shell.execute_reply.started": "2023-01-06T00:09:12.054830Z"
    }
   },
   "outputs": [],
   "source": [
    "my_model.save(\"FYP_Finalhd5.hd5\")\n",
    "my_model.save(\"FYP_Finalh5.h5\")"
   ]
  },
  {
   "cell_type": "code",
   "execution_count": null,
   "metadata": {
    "execution": {
     "iopub.status.busy": "2023-01-06T00:09:12.056046Z",
     "iopub.status.idle": "2023-01-06T00:09:12.056287Z",
     "shell.execute_reply": "2023-01-06T00:09:12.056173Z",
     "shell.execute_reply.started": "2023-01-06T00:09:12.056164Z"
    }
   },
   "outputs": [],
   "source": [
    "from read_activations import display_activations, get_activations\n",
    "\n",
    "v_index = 4\n",
    "x_valid = X_train[:5]\n",
    "a = get_activations(my_model, x_valid[v_index : v_index + 1], print_shape_only=True)\n",
    "display_activations(a)"
   ]
  },
  {
   "cell_type": "code",
   "execution_count": null,
   "metadata": {
    "scrolled": true,
    "tags": []
   },
   "outputs": [],
   "source": []
  }
 ],
 "metadata": {
  "kernelspec": {
   "display_name": "Python 3",
   "language": "python",
   "name": "python3"
  },
  "language_info": {
   "codemirror_mode": {
    "name": "ipython",
    "version": 3
   },
   "file_extension": ".py",
   "mimetype": "text/x-python",
   "name": "python",
   "nbconvert_exporter": "python",
   "pygments_lexer": "ipython3",
   "version": "3.10.6 (main, Nov 14 2022, 16:10:14) [GCC 11.3.0]"
  },
  "toc-autonumbering": true,
  "toc-showcode": false,
  "toc-showmarkdowntxt": true,
  "vscode": {
   "interpreter": {
    "hash": "916dbcbb3f70747c44a77c7bcd40155683ae19c65e1c03b4aa3499c5328201f1"
   }
  }
 },
 "nbformat": 4,
 "nbformat_minor": 4
}
