{
 "cells": [
  {
   "cell_type": "code",
   "execution_count": 1,
   "metadata": {
    "execution": {
     "iopub.execute_input": "2023-02-23T12:37:13.549735Z",
     "iopub.status.busy": "2023-02-23T12:37:13.549525Z",
     "iopub.status.idle": "2023-02-23T12:37:15.448557Z",
     "shell.execute_reply": "2023-02-23T12:37:15.448039Z",
     "shell.execute_reply.started": "2023-02-23T12:37:13.549711Z"
    },
    "tags": []
   },
   "outputs": [
    {
     "name": "stderr",
     "output_type": "stream",
     "text": [
      "2023-02-23 12:37:13.564464: I tensorflow/core/platform/cpu_feature_guard.cc:193] This TensorFlow binary is optimized with oneAPI Deep Neural Network Library (oneDNN) to use the following CPU instructions in performance-critical operations:  AVX2 FMA\n",
      "To enable them in other operations, rebuild TensorFlow with the appropriate compiler flags.\n",
      "2023-02-23 12:37:14.485067: W tensorflow/compiler/xla/stream_executor/platform/default/dso_loader.cc:64] Could not load dynamic library 'libnvinfer.so.7'; dlerror: libnvinfer.so.7: cannot open shared object file: No such file or directory; LD_LIBRARY_PATH: /usr/local/nvidia/lib:/usr/local/nvidia/lib64\n",
      "2023-02-23 12:37:14.485127: W tensorflow/compiler/xla/stream_executor/platform/default/dso_loader.cc:64] Could not load dynamic library 'libnvinfer_plugin.so.7'; dlerror: libnvinfer_plugin.so.7: cannot open shared object file: No such file or directory; LD_LIBRARY_PATH: /usr/local/nvidia/lib:/usr/local/nvidia/lib64\n",
      "2023-02-23 12:37:14.485134: W tensorflow/compiler/tf2tensorrt/utils/py_utils.cc:38] TF-TRT Warning: Cannot dlopen some TensorRT libraries. If you would like to use Nvidia GPU with TensorRT, please make sure the missing libraries mentioned above are installed properly.\n"
     ]
    }
   ],
   "source": [
    "import os\n",
    "import platform\n",
    "import sys\n",
    "\n",
    "import tensorflow as tf\n",
    "from tensorflow.keras import layers"
   ]
  },
  {
   "cell_type": "code",
   "execution_count": 2,
   "metadata": {
    "execution": {
     "iopub.execute_input": "2023-02-23T12:37:15.450281Z",
     "iopub.status.busy": "2023-02-23T12:37:15.449906Z",
     "iopub.status.idle": "2023-02-23T12:37:15.867045Z",
     "shell.execute_reply": "2023-02-23T12:37:15.866596Z",
     "shell.execute_reply.started": "2023-02-23T12:37:15.450256Z"
    },
    "tags": []
   },
   "outputs": [],
   "source": [
    "%matplotlib widget"
   ]
  },
  {
   "cell_type": "code",
   "execution_count": 3,
   "metadata": {
    "execution": {
     "iopub.execute_input": "2023-02-23T12:37:15.867928Z",
     "iopub.status.busy": "2023-02-23T12:37:15.867612Z",
     "iopub.status.idle": "2023-02-23T12:37:15.871350Z",
     "shell.execute_reply": "2023-02-23T12:37:15.870789Z",
     "shell.execute_reply.started": "2023-02-23T12:37:15.867913Z"
    },
    "tags": []
   },
   "outputs": [
    {
     "name": "stdout",
     "output_type": "stream",
     "text": [
      "Python Platform: Linux-6.1.12-zen1-1-zen-x86_64-with-glibc2.29\n",
      "Tensor Flow Version: 2.11.0\n",
      "Keras Version: 2.11.0\n",
      "\n",
      "Python 3.8.10 (default, Nov 14 2022, 12:59:47) \n",
      "[GCC 9.4.0]\n"
     ]
    }
   ],
   "source": [
    "print(f\"Python Platform: {platform.platform()}\")\n",
    "print(f\"Tensor Flow Version: {tf.__version__}\")\n",
    "print(f\"Keras Version: {tf.keras.__version__}\")\n",
    "print()\n",
    "print(f\"Python {sys.version}\")"
   ]
  },
  {
   "cell_type": "markdown",
   "metadata": {},
   "source": [
    "The TF_GPU_ALLOCATOR environment variable is used to specify the GPU memory allocator that TensorFlow should use. The cuda_malloc_async allocator is an asynchronous memory allocator that is optimized for use with NVIDIA GPUs."
   ]
  },
  {
   "cell_type": "code",
   "execution_count": 4,
   "metadata": {
    "execution": {
     "iopub.execute_input": "2023-02-23T12:37:15.872153Z",
     "iopub.status.busy": "2023-02-23T12:37:15.871988Z",
     "iopub.status.idle": "2023-02-23T12:37:15.876072Z",
     "shell.execute_reply": "2023-02-23T12:37:15.875345Z",
     "shell.execute_reply.started": "2023-02-23T12:37:15.872136Z"
    },
    "tags": []
   },
   "outputs": [],
   "source": [
    "os.environ[\"TF_GPU_ALLOCATOR\"] = \"cuda_malloc_async\""
   ]
  },
  {
   "cell_type": "markdown",
   "metadata": {},
   "source": [
    "The os.environ['TF_FORCE_GPU_ALLOW_GROWTH'] assignment sets an environment variable called TF_FORCE_GPU_ALLOW_GROWTH in the operating system. This environment variable tells TensorFlow to dynamically grow the GPU memory usage as needed, rather than allocating all of the GPU memory at the start of the TensorFlow session."
   ]
  },
  {
   "cell_type": "code",
   "execution_count": 5,
   "metadata": {
    "execution": {
     "iopub.execute_input": "2023-02-23T12:37:15.876966Z",
     "iopub.status.busy": "2023-02-23T12:37:15.876784Z",
     "iopub.status.idle": "2023-02-23T12:37:15.880019Z",
     "shell.execute_reply": "2023-02-23T12:37:15.879382Z",
     "shell.execute_reply.started": "2023-02-23T12:37:15.876946Z"
    },
    "tags": []
   },
   "outputs": [],
   "source": [
    "# os.environ['TF_FORCE_GPU_ALLOW_GROWTH']= 'true'"
   ]
  },
  {
   "cell_type": "code",
   "execution_count": 6,
   "metadata": {
    "execution": {
     "iopub.execute_input": "2023-02-23T12:37:15.880758Z",
     "iopub.status.busy": "2023-02-23T12:37:15.880590Z",
     "iopub.status.idle": "2023-02-23T12:37:15.883697Z",
     "shell.execute_reply": "2023-02-23T12:37:15.883151Z",
     "shell.execute_reply.started": "2023-02-23T12:37:15.880742Z"
    },
    "tags": []
   },
   "outputs": [],
   "source": [
    "tf.get_logger().setLevel(\"INFO\")\n",
    "\n",
    "# os.environ['TF_CPP_MIN_LOG_LEVEL'] = '3'  # or any {'0', '1', '2'}"
   ]
  },
  {
   "cell_type": "markdown",
   "metadata": {},
   "source": [
    "Method 1: This enables the dynamic allocation of GPU memory. "
   ]
  },
  {
   "cell_type": "code",
   "execution_count": 7,
   "metadata": {
    "execution": {
     "iopub.execute_input": "2023-02-23T12:37:15.885411Z",
     "iopub.status.busy": "2023-02-23T12:37:15.885230Z",
     "iopub.status.idle": "2023-02-23T12:37:15.924720Z",
     "shell.execute_reply": "2023-02-23T12:37:15.924246Z",
     "shell.execute_reply.started": "2023-02-23T12:37:15.885396Z"
    },
    "tags": []
   },
   "outputs": [
    {
     "name": "stderr",
     "output_type": "stream",
     "text": [
      "2023-02-23 12:37:15.913373: I tensorflow/compiler/xla/stream_executor/cuda/cuda_gpu_executor.cc:981] successful NUMA node read from SysFS had negative value (-1), but there must be at least one NUMA node, so returning NUMA node zero\n",
      "2023-02-23 12:37:15.921891: I tensorflow/compiler/xla/stream_executor/cuda/cuda_gpu_executor.cc:981] successful NUMA node read from SysFS had negative value (-1), but there must be at least one NUMA node, so returning NUMA node zero\n",
      "2023-02-23 12:37:15.922160: I tensorflow/compiler/xla/stream_executor/cuda/cuda_gpu_executor.cc:981] successful NUMA node read from SysFS had negative value (-1), but there must be at least one NUMA node, so returning NUMA node zero\n"
     ]
    }
   ],
   "source": [
    "gpus = tf.config.experimental.list_physical_devices(\"GPU\")\n",
    "if gpus:\n",
    "    try:\n",
    "        for gpu in gpus:\n",
    "            tf.config.experimental.set_memory_growth(gpu, True)\n",
    "    except RuntimeError as e:\n",
    "        print(e)"
   ]
  },
  {
   "cell_type": "markdown",
   "metadata": {},
   "source": [
    "Method 2: This enables the dynamic allocation of GPU memory. "
   ]
  },
  {
   "cell_type": "code",
   "execution_count": 8,
   "metadata": {
    "execution": {
     "iopub.execute_input": "2023-02-23T12:37:15.925698Z",
     "iopub.status.busy": "2023-02-23T12:37:15.925491Z",
     "iopub.status.idle": "2023-02-23T12:37:15.928058Z",
     "shell.execute_reply": "2023-02-23T12:37:15.927651Z",
     "shell.execute_reply.started": "2023-02-23T12:37:15.925684Z"
    },
    "tags": []
   },
   "outputs": [],
   "source": [
    "# Ref: https://www.tensorflow.org/guide/gpu#limiting_gpu_memory_growth\n",
    "# gpus = tf.config.experimental.list_physical_devices('GPU')\n",
    "# if gpus:\n",
    "# Restrict TensorFlow to only allocate 1GB of memory on the first GPU\n",
    "#  try:\n",
    "#    tf.config.experimental.set_virtual_device_configuration(\n",
    "#        gpus[0],\n",
    "#        [tf.config.experimental.VirtualDeviceConfiguration(memory_limit=4096)]) # Notice here\n",
    "#    logical_gpus = tf.config.experimental.list_logical_devices('GPU')\n",
    "#    print(len(gpus), \"Physical GPUs,\", len(logical_gpus), \"Logical GPUs\")\n",
    "#  except RuntimeError as e:\n",
    "# Virtual devices must be set before GPUs have been initialized\n",
    "#    print(e)"
   ]
  },
  {
   "cell_type": "markdown",
   "metadata": {},
   "source": [
    "Checks for the GPU available and lists it"
   ]
  },
  {
   "cell_type": "code",
   "execution_count": 9,
   "metadata": {
    "execution": {
     "iopub.execute_input": "2023-02-23T12:37:15.928703Z",
     "iopub.status.busy": "2023-02-23T12:37:15.928556Z",
     "iopub.status.idle": "2023-02-23T12:37:15.931858Z",
     "shell.execute_reply": "2023-02-23T12:37:15.931503Z",
     "shell.execute_reply.started": "2023-02-23T12:37:15.928689Z"
    },
    "tags": []
   },
   "outputs": [
    {
     "name": "stdout",
     "output_type": "stream",
     "text": [
      "Num GPUs Available:  1\n"
     ]
    }
   ],
   "source": [
    "print(\"Num GPUs Available: \", len(tf.config.list_physical_devices(\"GPU\")))"
   ]
  },
  {
   "cell_type": "code",
   "execution_count": 10,
   "metadata": {
    "execution": {
     "iopub.execute_input": "2023-02-23T12:37:15.932363Z",
     "iopub.status.busy": "2023-02-23T12:37:15.932246Z",
     "iopub.status.idle": "2023-02-23T12:37:16.403301Z",
     "shell.execute_reply": "2023-02-23T12:37:16.402803Z",
     "shell.execute_reply.started": "2023-02-23T12:37:15.932349Z"
    },
    "tags": []
   },
   "outputs": [
    {
     "name": "stdout",
     "output_type": "stream",
     "text": [
      "Num GPUs Available:  1\n"
     ]
    },
    {
     "name": "stderr",
     "output_type": "stream",
     "text": [
      "2023-02-23 12:37:15.934942: I tensorflow/core/platform/cpu_feature_guard.cc:193] This TensorFlow binary is optimized with oneAPI Deep Neural Network Library (oneDNN) to use the following CPU instructions in performance-critical operations:  AVX2 FMA\n",
      "To enable them in other operations, rebuild TensorFlow with the appropriate compiler flags.\n",
      "2023-02-23 12:37:15.936166: I tensorflow/compiler/xla/stream_executor/cuda/cuda_gpu_executor.cc:981] successful NUMA node read from SysFS had negative value (-1), but there must be at least one NUMA node, so returning NUMA node zero\n",
      "2023-02-23 12:37:15.936363: I tensorflow/compiler/xla/stream_executor/cuda/cuda_gpu_executor.cc:981] successful NUMA node read from SysFS had negative value (-1), but there must be at least one NUMA node, so returning NUMA node zero\n",
      "2023-02-23 12:37:15.936476: I tensorflow/compiler/xla/stream_executor/cuda/cuda_gpu_executor.cc:981] successful NUMA node read from SysFS had negative value (-1), but there must be at least one NUMA node, so returning NUMA node zero\n",
      "2023-02-23 12:37:16.398467: I tensorflow/compiler/xla/stream_executor/cuda/cuda_gpu_executor.cc:981] successful NUMA node read from SysFS had negative value (-1), but there must be at least one NUMA node, so returning NUMA node zero\n",
      "2023-02-23 12:37:16.398637: I tensorflow/compiler/xla/stream_executor/cuda/cuda_gpu_executor.cc:981] successful NUMA node read from SysFS had negative value (-1), but there must be at least one NUMA node, so returning NUMA node zero\n",
      "2023-02-23 12:37:16.398758: I tensorflow/compiler/xla/stream_executor/cuda/cuda_gpu_executor.cc:981] successful NUMA node read from SysFS had negative value (-1), but there must be at least one NUMA node, so returning NUMA node zero\n",
      "2023-02-23 12:37:16.398843: I tensorflow/core/common_runtime/gpu/gpu_process_state.cc:222] Using CUDA malloc Async allocator for GPU: 0\n",
      "2023-02-23 12:37:16.398932: I tensorflow/core/common_runtime/gpu/gpu_device.cc:1613] Created device /device:GPU:0 with 4103 MB memory:  -> device: 0, name: NVIDIA GeForce RTX 3060 Laptop GPU, pci bus id: 0000:01:00.0, compute capability: 8.6\n"
     ]
    },
    {
     "data": {
      "text/plain": [
       "[name: \"/device:CPU:0\"\n",
       " device_type: \"CPU\"\n",
       " memory_limit: 268435456\n",
       " locality {\n",
       " }\n",
       " incarnation: 13052878046894235646\n",
       " xla_global_id: -1,\n",
       " name: \"/device:GPU:0\"\n",
       " device_type: \"GPU\"\n",
       " memory_limit: 4302766080\n",
       " locality {\n",
       "   bus_id: 1\n",
       "   links {\n",
       "   }\n",
       " }\n",
       " incarnation: 6211765267433239045\n",
       " physical_device_desc: \"device: 0, name: NVIDIA GeForce RTX 3060 Laptop GPU, pci bus id: 0000:01:00.0, compute capability: 8.6\"\n",
       " xla_global_id: 416903419]"
      ]
     },
     "execution_count": 10,
     "metadata": {},
     "output_type": "execute_result"
    }
   ],
   "source": [
    "from tensorflow.python.client import device_lib\n",
    "\n",
    "print(\"Num GPUs Available: \", len(tf.config.list_physical_devices(\"GPU\")))\n",
    "device_lib.list_local_devices()"
   ]
  },
  {
   "cell_type": "code",
   "execution_count": 11,
   "metadata": {
    "execution": {
     "iopub.execute_input": "2023-02-23T12:37:16.404244Z",
     "iopub.status.busy": "2023-02-23T12:37:16.403999Z",
     "iopub.status.idle": "2023-02-23T12:37:16.416504Z",
     "shell.execute_reply": "2023-02-23T12:37:16.415849Z",
     "shell.execute_reply.started": "2023-02-23T12:37:16.404223Z"
    },
    "tags": []
   },
   "outputs": [],
   "source": [
    "import os\n",
    "import sys\n",
    "\n",
    "import keras\n",
    "import matplotlib as mpl\n",
    "import matplotlib.pyplot as plt\n",
    "import numpy as np\n",
    "from keras.applications.vgg16 import VGG16\n",
    "from keras.applications.vgg19 import VGG19\n",
    "from keras.layers import Dense, Flatten, Input\n",
    "from keras.models import Model\n",
    "\n",
    "\n",
    "def escape():\n",
    "    sys.exit()"
   ]
  },
  {
   "cell_type": "code",
   "execution_count": 12,
   "metadata": {
    "execution": {
     "iopub.execute_input": "2023-02-23T12:37:16.417531Z",
     "iopub.status.busy": "2023-02-23T12:37:16.417317Z",
     "iopub.status.idle": "2023-02-23T12:37:25.080779Z",
     "shell.execute_reply": "2023-02-23T12:37:25.080311Z",
     "shell.execute_reply.started": "2023-02-23T12:37:16.417509Z"
    },
    "tags": []
   },
   "outputs": [
    {
     "name": "stdout",
     "output_type": "stream",
     "text": [
      "Opening File :  destinationPayload_TestbedMonJun14Flows.xml.npy\n",
      "Opening File :  destinationPayload_TestbedSatJun12Flows.xml.npy\n",
      "Opening File :  destinationPayload_TestbedSunJun13Flows.xml.npy\n",
      "Opening File :  destinationPayload_TestbedThuJun17-2Flows.xml.npy\n",
      "Opening File :  destinationPayload_TestbedThuJun17-3Flows.xml.npy\n",
      "Opening File :  destinationPayload_TestbedTueJun15-1Flows.xml.npy\n",
      "Opening File :  destinationPayload_TestbedTueJun15-2Flows.xml.npy\n",
      "Opening File :  destinationPayload_TestbedTueJun15-3Flows.xml.npy\n",
      "Opening File :  destinationPayload_TestbedWedJun16-1Flows.xml.npy\n",
      "Opening File :  destinationPayload_TestbedWedJun16-2Flows.xml.npy\n",
      "Opening File :  destinationPayload_TestbedWedJun16-3Flows.xml.npy\n"
     ]
    }
   ],
   "source": [
    "import_directory = \"/spectre-code/dataset/PCAP-NPY/\"\n",
    "counter = 0\n",
    "data_array = np.empty((0, 2))\n",
    "files = os.listdir(import_directory)\n",
    "for file in files:\n",
    "    print(\"Opening File : \", file)\n",
    "    data_set = np.load(import_directory + file, allow_pickle=True)\n",
    "    data_array = np.vstack((data_array, data_set))\n",
    "\n",
    "# separated = np.array([x for x in data_array if x[1] == 0])"
   ]
  },
  {
   "cell_type": "code",
   "execution_count": 13,
   "metadata": {
    "execution": {
     "iopub.execute_input": "2023-02-23T12:37:25.081441Z",
     "iopub.status.busy": "2023-02-23T12:37:25.081310Z",
     "iopub.status.idle": "2023-02-23T12:37:25.680080Z",
     "shell.execute_reply": "2023-02-23T12:37:25.679489Z",
     "shell.execute_reply.started": "2023-02-23T12:37:25.081426Z"
    },
    "tags": []
   },
   "outputs": [
    {
     "name": "stdout",
     "output_type": "stream",
     "text": [
      "ok\n"
     ]
    }
   ],
   "source": [
    "# np.random.shuffle(separated)\n",
    "np.random.shuffle(data_array)\n",
    "print(\"ok\")"
   ]
  },
  {
   "cell_type": "code",
   "execution_count": 14,
   "metadata": {
    "execution": {
     "iopub.execute_input": "2023-02-23T12:37:25.681121Z",
     "iopub.status.busy": "2023-02-23T12:37:25.680969Z",
     "iopub.status.idle": "2023-02-23T12:37:36.258989Z",
     "shell.execute_reply": "2023-02-23T12:37:36.258496Z",
     "shell.execute_reply.started": "2023-02-23T12:37:25.681107Z"
    },
    "tags": []
   },
   "outputs": [],
   "source": [
    "img_row = 50\n",
    "img_col = 50\n",
    "\n",
    "N = np.shape(data_array)[0]\n",
    "train_test_split_percentage = 0.75\n",
    "\n",
    "X_train = data_array[: int(N * train_test_split_percentage), 0]\n",
    "X_test = data_array[int(N * train_test_split_percentage) :, 0]\n",
    "\n",
    "X_train = np.array([x.reshape(img_row, img_col, 3) for x in X_train])\n",
    "X_test = np.array([x.reshape(img_row, img_col, 3) for x in X_test])"
   ]
  },
  {
   "cell_type": "code",
   "execution_count": 15,
   "metadata": {
    "execution": {
     "iopub.execute_input": "2023-02-23T12:37:36.259633Z",
     "iopub.status.busy": "2023-02-23T12:37:36.259499Z",
     "iopub.status.idle": "2023-02-23T12:37:37.220124Z",
     "shell.execute_reply": "2023-02-23T12:37:37.219357Z",
     "shell.execute_reply.started": "2023-02-23T12:37:36.259612Z"
    },
    "tags": []
   },
   "outputs": [],
   "source": [
    "y_train = data_array[: int(N * train_test_split_percentage), 1]\n",
    "y_test = data_array[int(N * train_test_split_percentage) :, 1]\n",
    "\n",
    "y_train = np.array([[x] for x in y_train])\n",
    "y_test = np.array([[x] for x in y_test])"
   ]
  },
  {
   "cell_type": "code",
   "execution_count": 16,
   "metadata": {
    "execution": {
     "iopub.execute_input": "2023-02-23T12:37:37.221051Z",
     "iopub.status.busy": "2023-02-23T12:37:37.220839Z",
     "iopub.status.idle": "2023-02-23T12:37:37.695279Z",
     "shell.execute_reply": "2023-02-23T12:37:37.694788Z",
     "shell.execute_reply.started": "2023-02-23T12:37:37.221035Z"
    },
    "tags": []
   },
   "outputs": [
    {
     "name": "stderr",
     "output_type": "stream",
     "text": [
      "2023-02-23 12:37:37.249259: I tensorflow/compiler/xla/stream_executor/cuda/cuda_gpu_executor.cc:981] successful NUMA node read from SysFS had negative value (-1), but there must be at least one NUMA node, so returning NUMA node zero\n",
      "2023-02-23 12:37:37.249768: I tensorflow/compiler/xla/stream_executor/cuda/cuda_gpu_executor.cc:981] successful NUMA node read from SysFS had negative value (-1), but there must be at least one NUMA node, so returning NUMA node zero\n",
      "2023-02-23 12:37:37.249898: I tensorflow/compiler/xla/stream_executor/cuda/cuda_gpu_executor.cc:981] successful NUMA node read from SysFS had negative value (-1), but there must be at least one NUMA node, so returning NUMA node zero\n",
      "2023-02-23 12:37:37.250136: I tensorflow/compiler/xla/stream_executor/cuda/cuda_gpu_executor.cc:981] successful NUMA node read from SysFS had negative value (-1), but there must be at least one NUMA node, so returning NUMA node zero\n",
      "2023-02-23 12:37:37.250253: I tensorflow/compiler/xla/stream_executor/cuda/cuda_gpu_executor.cc:981] successful NUMA node read from SysFS had negative value (-1), but there must be at least one NUMA node, so returning NUMA node zero\n",
      "2023-02-23 12:37:37.250366: I tensorflow/core/common_runtime/gpu/gpu_device.cc:1613] Created device /job:localhost/replica:0/task:0/device:GPU:0 with 4103 MB memory:  -> device: 0, name: NVIDIA GeForce RTX 3060 Laptop GPU, pci bus id: 0000:01:00.0, compute capability: 8.6\n"
     ]
    }
   ],
   "source": [
    "model_vgg19_conv = VGG19(\n",
    "    include_top=False, weights=\"imagenet\", input_shape=(img_col, img_row, 3)\n",
    ")"
   ]
  },
  {
   "cell_type": "code",
   "execution_count": 17,
   "metadata": {
    "execution": {
     "iopub.execute_input": "2023-02-23T12:37:37.695989Z",
     "iopub.status.busy": "2023-02-23T12:37:37.695858Z",
     "iopub.status.idle": "2023-02-23T12:37:39.562286Z",
     "shell.execute_reply": "2023-02-23T12:37:39.561419Z",
     "shell.execute_reply.started": "2023-02-23T12:37:37.695975Z"
    },
    "tags": []
   },
   "outputs": [
    {
     "data": {
      "image/png": "[encoded data removed]",
      "text/plain": [
       "<Figure size 40000x15000 with 5 Axes>"
      ]
     },
     "metadata": {},
     "output_type": "display_data"
    }
   ],
   "source": [
    "# ploting images for data\n",
    "%matplotlib inline\n",
    "n = 40  # how many digits we will display\n",
    "plt.figure(figsize=(400, 150))\n",
    "for i in range(6, 11):\n",
    "    # display original\n",
    "    ax = plt.subplot(1, n, i + 1)\n",
    "    plt.imshow(X_train[i])\n",
    "    plt.gray()\n",
    "    ax.get_xaxis().set_visible(False)\n",
    "    ax.get_yaxis().set_visible(False)\n",
    "plt.show()\n",
    "plt.close()"
   ]
  },
  {
   "cell_type": "code",
   "execution_count": 18,
   "metadata": {
    "execution": {
     "iopub.execute_input": "2023-02-23T12:37:39.564223Z",
     "iopub.status.busy": "2023-02-23T12:37:39.563929Z",
     "iopub.status.idle": "2023-02-23T12:37:39.569745Z",
     "shell.execute_reply": "2023-02-23T12:37:39.569145Z",
     "shell.execute_reply.started": "2023-02-23T12:37:39.564189Z"
    },
    "tags": []
   },
   "outputs": [
    {
     "name": "stdout",
     "output_type": "stream",
     "text": [
      "input_1\n",
      "block1_conv1\n",
      "block1_conv2\n",
      "block1_pool\n",
      "block2_conv1\n",
      "block2_conv2\n",
      "block2_pool\n",
      "block3_conv1\n",
      "block3_conv2\n",
      "block3_conv3\n",
      "block3_conv4\n",
      "block3_pool\n",
      "block4_conv1\n",
      "block4_conv2\n",
      "block4_conv3\n",
      "block4_conv4\n",
      "block4_pool\n",
      "block5_conv1\n",
      "block5_conv2\n",
      "block5_conv3\n",
      "block5_conv4\n",
      "block5_pool\n"
     ]
    }
   ],
   "source": [
    "for layer in model_vgg19_conv.layers:\n",
    "    layer.trainable = False\n",
    "    print(layer.name)"
   ]
  },
  {
   "cell_type": "code",
   "execution_count": 19,
   "metadata": {
    "execution": {
     "iopub.execute_input": "2023-02-23T12:37:39.570860Z",
     "iopub.status.busy": "2023-02-23T12:37:39.570525Z",
     "iopub.status.idle": "2023-02-23T12:37:39.705785Z",
     "shell.execute_reply": "2023-02-23T12:37:39.705300Z",
     "shell.execute_reply.started": "2023-02-23T12:37:39.570835Z"
    },
    "tags": []
   },
   "outputs": [
    {
     "name": "stdout",
     "output_type": "stream",
     "text": [
      "Model: \"model\"\n",
      "_________________________________________________________________\n",
      " Layer (type)                Output Shape              Param #   \n",
      "=================================================================\n",
      " input_1 (InputLayer)        [(None, 50, 50, 3)]       0         \n",
      "                                                                 \n",
      " block1_conv1 (Conv2D)       (None, 50, 50, 64)        1792      \n",
      "                                                                 \n",
      " block1_conv2 (Conv2D)       (None, 50, 50, 64)        36928     \n",
      "                                                                 \n",
      " block1_pool (MaxPooling2D)  (None, 25, 25, 64)        0         \n",
      "                                                                 \n",
      " block2_conv1 (Conv2D)       (None, 25, 25, 128)       73856     \n",
      "                                                                 \n",
      " block2_conv2 (Conv2D)       (None, 25, 25, 128)       147584    \n",
      "                                                                 \n",
      " block2_pool (MaxPooling2D)  (None, 12, 12, 128)       0         \n",
      "                                                                 \n",
      " block3_conv1 (Conv2D)       (None, 12, 12, 256)       295168    \n",
      "                                                                 \n",
      " block3_conv2 (Conv2D)       (None, 12, 12, 256)       590080    \n",
      "                                                                 \n",
      " block3_conv3 (Conv2D)       (None, 12, 12, 256)       590080    \n",
      "                                                                 \n",
      " block3_conv4 (Conv2D)       (None, 12, 12, 256)       590080    \n",
      "                                                                 \n",
      " block3_pool (MaxPooling2D)  (None, 6, 6, 256)         0         \n",
      "                                                                 \n",
      " block4_conv1 (Conv2D)       (None, 6, 6, 512)         1180160   \n",
      "                                                                 \n",
      " block4_conv2 (Conv2D)       (None, 6, 6, 512)         2359808   \n",
      "                                                                 \n",
      " block4_conv3 (Conv2D)       (None, 6, 6, 512)         2359808   \n",
      "                                                                 \n",
      " block4_conv4 (Conv2D)       (None, 6, 6, 512)         2359808   \n",
      "                                                                 \n",
      " block4_pool (MaxPooling2D)  (None, 3, 3, 512)         0         \n",
      "                                                                 \n",
      " block5_conv1 (Conv2D)       (None, 3, 3, 512)         2359808   \n",
      "                                                                 \n",
      " block5_conv2 (Conv2D)       (None, 3, 3, 512)         2359808   \n",
      "                                                                 \n",
      " block5_conv3 (Conv2D)       (None, 3, 3, 512)         2359808   \n",
      "                                                                 \n",
      " block5_conv4 (Conv2D)       (None, 3, 3, 512)         2359808   \n",
      "                                                                 \n",
      " block5_pool (MaxPooling2D)  (None, 1, 1, 512)         0         \n",
      "                                                                 \n",
      " flatten (Flatten)           (None, 512)               0         \n",
      "                                                                 \n",
      " dense (Dense)               (None, 128)               65664     \n",
      "                                                                 \n",
      " predictions (Dense)         (None, 1)                 129       \n",
      "                                                                 \n",
      "=================================================================\n",
      "Total params: 20,090,177\n",
      "Trainable params: 65,793\n",
      "Non-trainable params: 20,024,384\n",
      "_________________________________________________________________\n"
     ]
    }
   ],
   "source": [
    "# x = model_vgg19_conv.output\n",
    "# x = Flatten()(x)\n",
    "# x = Dense(128, activation='relu')(x)\n",
    "# x = Dense(1, activation='sigmoid', name='predictions')(x)\n",
    "# my_model = Model(inputs=model_vgg19_conv.input, outputs=x)\n",
    "# my_model.summary()\n",
    "\n",
    "# Revision 1\n",
    "# x = model_vgg19_conv.output\n",
    "# x = Flatten()(x)\n",
    "# x = Dense(128, activation='relu')(x)\n",
    "# x = Dense(80, activation='relu')(x)\n",
    "# x = Dense(1, activation='sigmoid', name='predictions')(x)\n",
    "# my_model = Model(inputs=model_vgg19_conv.input, outputs=x)\n",
    "# my_model.summary()\n",
    "\n",
    "# Revision 2\n",
    "x = model_vgg19_conv.output\n",
    "x = layers.Flatten()(x)\n",
    "x = layers.Dense(128, activation=\"relu\")(x)\n",
    "x = layers.Dense(1, activation=\"sigmoid\", name=\"predictions\")(x)\n",
    "my_model = tf.keras.Model(inputs=model_vgg19_conv.input, outputs=x)\n",
    "my_model.summary()"
   ]
  },
  {
   "cell_type": "code",
   "execution_count": 20,
   "metadata": {
    "execution": {
     "iopub.execute_input": "2023-02-23T12:37:39.706620Z",
     "iopub.status.busy": "2023-02-23T12:37:39.706450Z",
     "iopub.status.idle": "2023-02-23T12:37:39.719478Z",
     "shell.execute_reply": "2023-02-23T12:37:39.719007Z",
     "shell.execute_reply.started": "2023-02-23T12:37:39.706604Z"
    },
    "tags": []
   },
   "outputs": [],
   "source": [
    "my_model.compile(\n",
    "    loss=keras.losses.binary_crossentropy,\n",
    "    optimizer=keras.optimizers.RMSprop(),\n",
    "    metrics=[\"accuracy\"],\n",
    ")\n",
    "\n",
    "batch_size = 5\n",
    "epochs = 3"
   ]
  },
  {
   "cell_type": "code",
   "execution_count": null,
   "metadata": {
    "execution": {
     "iopub.execute_input": "2023-02-23T12:37:39.720270Z",
     "iopub.status.busy": "2023-02-23T12:37:39.720116Z"
    },
    "tags": []
   },
   "outputs": [
    {
     "name": "stderr",
     "output_type": "stream",
     "text": [
      "2023-02-23 12:37:39.722947: W tensorflow/tsl/framework/cpu_allocator_impl.cc:82] Allocation of 3612570000 exceeds 10% of free system memory.\n",
      "2023-02-23 12:37:42.426600: W tensorflow/tsl/framework/cpu_allocator_impl.cc:82] Allocation of 3612570000 exceeds 10% of free system memory.\n"
     ]
    },
    {
     "name": "stdout",
     "output_type": "stream",
     "text": [
      "Epoch 1/3\n"
     ]
    },
    {
     "name": "stderr",
     "output_type": "stream",
     "text": [
      "2023-02-23 12:37:45.198996: I tensorflow/compiler/xla/stream_executor/cuda/cuda_dnn.cc:428] Loaded cuDNN version 8101\n"
     ]
    },
    {
     "name": "stdout",
     "output_type": "stream",
     "text": [
      "   10/96336 [..............................] - ETA: 9:51 - loss: 0.5322 - accuracy: 0.8800     "
     ]
    },
    {
     "name": "stderr",
     "output_type": "stream",
     "text": [
      "2023-02-23 12:37:47.801532: E tensorflow/core/common_runtime/gpu/gpu_cudamallocasync_allocator.cc:288] gpu_async_0 cuMemAllocAsync failed to allocate 1179910144 bytes: CUDA error: out of memory (CUDA_ERROR_OUT_OF_MEMORY)\n",
      " Reported by CUDA: Free memory/Total memory: 739704832/6226378752\n",
      "2023-02-23 12:37:47.801748: E tensorflow/core/common_runtime/gpu/gpu_cudamallocasync_allocator.cc:293] Stats: Limit:                      4302766080\n",
      "InUse:                      3724632028\n",
      "MaxInUse:                   4360724444\n",
      "NumAllocs:                         365\n",
      "MaxAllocSize:               3612570000\n",
      "Reserved:                            0\n",
      "PeakReserved:                        0\n",
      "LargestFreeBlock:                    0\n",
      "\n",
      "2023-02-23 12:37:47.801763: E tensorflow/core/common_runtime/gpu/gpu_cudamallocasync_allocator.cc:56] Histogram of current allocation: (allocation_size_in_bytes, nb_allocation_of_that_sizes), ...;\n",
      "2023-02-23 12:37:47.801771: E tensorflow/core/common_runtime/gpu/gpu_cudamallocasync_allocator.cc:59] 4, 39\n",
      "2023-02-23 12:37:47.801776: E tensorflow/core/common_runtime/gpu/gpu_cudamallocasync_allocator.cc:59] 8, 7\n",
      "2023-02-23 12:37:47.801781: E tensorflow/core/common_runtime/gpu/gpu_cudamallocasync_allocator.cc:59] 20, 1\n",
      "2023-02-23 12:37:47.801785: E tensorflow/core/common_runtime/gpu/gpu_cudamallocasync_allocator.cc:59] 256, 2\n",
      "2023-02-23 12:37:47.801790: E tensorflow/core/common_runtime/gpu/gpu_cudamallocasync_allocator.cc:59] 512, 8\n",
      "2023-02-23 12:37:47.801794: E tensorflow/core/common_runtime/gpu/gpu_cudamallocasync_allocator.cc:59] 1024, 4\n",
      "2023-02-23 12:37:47.801798: E tensorflow/core/common_runtime/gpu/gpu_cudamallocasync_allocator.cc:59] 1028, 1\n",
      "2023-02-23 12:37:47.801803: E tensorflow/core/common_runtime/gpu/gpu_cudamallocasync_allocator.cc:59] 2048, 8\n",
      "2023-02-23 12:37:47.801808: E tensorflow/core/common_runtime/gpu/gpu_cudamallocasync_allocator.cc:59] 6912, 1\n",
      "2023-02-23 12:37:47.801813: E tensorflow/core/common_runtime/gpu/gpu_cudamallocasync_allocator.cc:59] 147456, 1\n",
      "2023-02-23 12:37:47.801818: E tensorflow/core/common_runtime/gpu/gpu_cudamallocasync_allocator.cc:59] 262144, 3\n",
      "2023-02-23 12:37:47.801822: E tensorflow/core/common_runtime/gpu/gpu_cudamallocasync_allocator.cc:59] 294912, 1\n",
      "2023-02-23 12:37:47.801827: E tensorflow/core/common_runtime/gpu/gpu_cudamallocasync_allocator.cc:59] 368640, 2\n",
      "2023-02-23 12:37:47.801832: E tensorflow/core/common_runtime/gpu/gpu_cudamallocasync_allocator.cc:59] 589824, 1\n",
      "2023-02-23 12:37:47.801836: E tensorflow/core/common_runtime/gpu/gpu_cudamallocasync_allocator.cc:59] 1179648, 1\n",
      "2023-02-23 12:37:47.801841: E tensorflow/core/common_runtime/gpu/gpu_cudamallocasync_allocator.cc:59] 2359296, 3\n",
      "2023-02-23 12:37:47.801845: E tensorflow/core/common_runtime/gpu/gpu_cudamallocasync_allocator.cc:59] 3853408, 1\n",
      "2023-02-23 12:37:47.801849: E tensorflow/core/common_runtime/gpu/gpu_cudamallocasync_allocator.cc:59] 4718592, 1\n",
      "2023-02-23 12:37:47.801854: E tensorflow/core/common_runtime/gpu/gpu_cudamallocasync_allocator.cc:59] 9437184, 8\n",
      "2023-02-23 12:37:47.801858: E tensorflow/core/common_runtime/gpu/gpu_cudamallocasync_allocator.cc:59] 17145856, 1\n",
      "2023-02-23 12:37:47.801862: E tensorflow/core/common_runtime/gpu/gpu_cudamallocasync_allocator.cc:59] 3612570000, 1\n",
      "2023-02-23 12:37:47.820779: E tensorflow/core/common_runtime/gpu/gpu_cudamallocasync_allocator.cc:288] gpu_async_0 cuMemAllocAsync failed to allocate 1179910144 bytes: CUDA error: out of memory (CUDA_ERROR_OUT_OF_MEMORY)\n",
      " Reported by CUDA: Free memory/Total memory: 739704832/6226378752\n",
      "2023-02-23 12:37:47.820816: E tensorflow/core/common_runtime/gpu/gpu_cudamallocasync_allocator.cc:293] Stats: Limit:                      4302766080\n",
      "InUse:                      3724632028\n",
      "MaxInUse:                   4360724444\n",
      "NumAllocs:                         365\n",
      "MaxAllocSize:               3612570000\n",
      "Reserved:                            0\n",
      "PeakReserved:                        0\n",
      "LargestFreeBlock:                    0\n",
      "\n",
      "2023-02-23 12:37:47.820830: E tensorflow/core/common_runtime/gpu/gpu_cudamallocasync_allocator.cc:56] Histogram of current allocation: (allocation_size_in_bytes, nb_allocation_of_that_sizes), ...;\n",
      "2023-02-23 12:37:47.820836: E tensorflow/core/common_runtime/gpu/gpu_cudamallocasync_allocator.cc:59] 4, 39\n",
      "2023-02-23 12:37:47.820840: E tensorflow/core/common_runtime/gpu/gpu_cudamallocasync_allocator.cc:59] 8, 7\n",
      "2023-02-23 12:37:47.820844: E tensorflow/core/common_runtime/gpu/gpu_cudamallocasync_allocator.cc:59] 20, 1\n",
      "2023-02-23 12:37:47.820848: E tensorflow/core/common_runtime/gpu/gpu_cudamallocasync_allocator.cc:59] 256, 2\n",
      "2023-02-23 12:37:47.820851: E tensorflow/core/common_runtime/gpu/gpu_cudamallocasync_allocator.cc:59] 512, 8\n",
      "2023-02-23 12:37:47.820855: E tensorflow/core/common_runtime/gpu/gpu_cudamallocasync_allocator.cc:59] 1024, 4\n",
      "2023-02-23 12:37:47.820858: E tensorflow/core/common_runtime/gpu/gpu_cudamallocasync_allocator.cc:59] 1028, 1\n",
      "2023-02-23 12:37:47.820862: E tensorflow/core/common_runtime/gpu/gpu_cudamallocasync_allocator.cc:59] 2048, 8\n",
      "2023-02-23 12:37:47.820866: E tensorflow/core/common_runtime/gpu/gpu_cudamallocasync_allocator.cc:59] 6912, 1\n",
      "2023-02-23 12:37:47.820870: E tensorflow/core/common_runtime/gpu/gpu_cudamallocasync_allocator.cc:59] 147456, 1\n",
      "2023-02-23 12:37:47.820873: E tensorflow/core/common_runtime/gpu/gpu_cudamallocasync_allocator.cc:59] 262144, 3\n",
      "2023-02-23 12:37:47.820876: E tensorflow/core/common_runtime/gpu/gpu_cudamallocasync_allocator.cc:59] 294912, 1\n",
      "2023-02-23 12:37:47.820882: E tensorflow/core/common_runtime/gpu/gpu_cudamallocasync_allocator.cc:59] 368640, 2\n",
      "2023-02-23 12:37:47.820885: E tensorflow/core/common_runtime/gpu/gpu_cudamallocasync_allocator.cc:59] 589824, 1\n",
      "2023-02-23 12:37:47.820888: E tensorflow/core/common_runtime/gpu/gpu_cudamallocasync_allocator.cc:59] 1179648, 1\n",
      "2023-02-23 12:37:47.820893: E tensorflow/core/common_runtime/gpu/gpu_cudamallocasync_allocator.cc:59] 2359296, 3\n",
      "2023-02-23 12:37:47.820896: E tensorflow/core/common_runtime/gpu/gpu_cudamallocasync_allocator.cc:59] 3853408, 1\n",
      "2023-02-23 12:37:47.820899: E tensorflow/core/common_runtime/gpu/gpu_cudamallocasync_allocator.cc:59] 4718592, 1\n",
      "2023-02-23 12:37:47.820903: E tensorflow/core/common_runtime/gpu/gpu_cudamallocasync_allocator.cc:59] 9437184, 8\n",
      "2023-02-23 12:37:47.820906: E tensorflow/core/common_runtime/gpu/gpu_cudamallocasync_allocator.cc:59] 17145856, 1\n",
      "2023-02-23 12:37:47.820910: E tensorflow/core/common_runtime/gpu/gpu_cudamallocasync_allocator.cc:59] 3612570000, 1\n",
      "2023-02-23 12:37:47.890519: I tensorflow/compiler/xla/stream_executor/cuda/cuda_blas.cc:630] TensorFloat-32 will be used for the matrix multiplication. This will only be logged once.\n"
     ]
    },
    {
     "name": "stdout",
     "output_type": "stream",
     "text": [
      "96336/96336 [==============================] - ETA: 0s - loss: 0.0664 - accuracy: 0.9898"
     ]
    },
    {
     "name": "stderr",
     "output_type": "stream",
     "text": [
      "2023-02-23 12:47:28.106314: E tensorflow/core/common_runtime/gpu/gpu_cudamallocasync_allocator.cc:288] gpu_async_0 cuMemAllocAsync failed to allocate 1162084352 bytes: CUDA error: out of memory (CUDA_ERROR_OUT_OF_MEMORY)\n",
      " Reported by CUDA: Free memory/Total memory: 739704832/6226378752\n",
      "2023-02-23 12:47:28.106350: E tensorflow/core/common_runtime/gpu/gpu_cudamallocasync_allocator.cc:293] Stats: Limit:                      4302766080\n",
      "InUse:                      3723861272\n",
      "MaxInUse:                   4903712732\n",
      "NumAllocs:                    10404679\n",
      "MaxAllocSize:               3612570000\n",
      "Reserved:                            0\n",
      "PeakReserved:                        0\n",
      "LargestFreeBlock:                    0\n",
      "\n",
      "2023-02-23 12:47:28.106361: E tensorflow/core/common_runtime/gpu/gpu_cudamallocasync_allocator.cc:56] Histogram of current allocation: (allocation_size_in_bytes, nb_allocation_of_that_sizes), ...;\n",
      "2023-02-23 12:47:28.106367: E tensorflow/core/common_runtime/gpu/gpu_cudamallocasync_allocator.cc:59] 4, 42\n",
      "2023-02-23 12:47:28.106371: E tensorflow/core/common_runtime/gpu/gpu_cudamallocasync_allocator.cc:59] 8, 8\n",
      "2023-02-23 12:47:28.106376: E tensorflow/core/common_runtime/gpu/gpu_cudamallocasync_allocator.cc:59] 256, 2\n",
      "2023-02-23 12:47:28.106380: E tensorflow/core/common_runtime/gpu/gpu_cudamallocasync_allocator.cc:59] 512, 8\n",
      "2023-02-23 12:47:28.106383: E tensorflow/core/common_runtime/gpu/gpu_cudamallocasync_allocator.cc:59] 1024, 4\n",
      "2023-02-23 12:47:28.106387: E tensorflow/core/common_runtime/gpu/gpu_cudamallocasync_allocator.cc:59] 1028, 1\n",
      "2023-02-23 12:47:28.106391: E tensorflow/core/common_runtime/gpu/gpu_cudamallocasync_allocator.cc:59] 2048, 8\n",
      "2023-02-23 12:47:28.106395: E tensorflow/core/common_runtime/gpu/gpu_cudamallocasync_allocator.cc:59] 6912, 1\n",
      "2023-02-23 12:47:28.106399: E tensorflow/core/common_runtime/gpu/gpu_cudamallocasync_allocator.cc:59] 73728, 2\n",
      "2023-02-23 12:47:28.106403: E tensorflow/core/common_runtime/gpu/gpu_cudamallocasync_allocator.cc:59] 147456, 1\n",
      "2023-02-23 12:47:28.106407: E tensorflow/core/common_runtime/gpu/gpu_cudamallocasync_allocator.cc:59] 262144, 3\n",
      "2023-02-23 12:47:28.106410: E tensorflow/core/common_runtime/gpu/gpu_cudamallocasync_allocator.cc:59] 294912, 1\n",
      "2023-02-23 12:47:28.106414: E tensorflow/core/common_runtime/gpu/gpu_cudamallocasync_allocator.cc:59] 589824, 1\n",
      "2023-02-23 12:47:28.106418: E tensorflow/core/common_runtime/gpu/gpu_cudamallocasync_allocator.cc:59] 1179648, 1\n",
      "2023-02-23 12:47:28.106422: E tensorflow/core/common_runtime/gpu/gpu_cudamallocasync_allocator.cc:59] 2359296, 3\n",
      "2023-02-23 12:47:28.106426: E tensorflow/core/common_runtime/gpu/gpu_cudamallocasync_allocator.cc:59] 3853408, 1\n",
      "2023-02-23 12:47:28.106430: E tensorflow/core/common_runtime/gpu/gpu_cudamallocasync_allocator.cc:59] 4718592, 1\n",
      "2023-02-23 12:47:28.106433: E tensorflow/core/common_runtime/gpu/gpu_cudamallocasync_allocator.cc:59] 9437184, 8\n",
      "2023-02-23 12:47:28.106437: E tensorflow/core/common_runtime/gpu/gpu_cudamallocasync_allocator.cc:59] 16850944, 1\n",
      "2023-02-23 12:47:28.106441: E tensorflow/core/common_runtime/gpu/gpu_cudamallocasync_allocator.cc:59] 3612570000, 1\n",
      "2023-02-23 12:47:28.124516: E tensorflow/core/common_runtime/gpu/gpu_cudamallocasync_allocator.cc:288] gpu_async_0 cuMemAllocAsync failed to allocate 1162084352 bytes: CUDA error: out of memory (CUDA_ERROR_OUT_OF_MEMORY)\n",
      " Reported by CUDA: Free memory/Total memory: 739704832/6226378752\n",
      "2023-02-23 12:47:28.124553: E tensorflow/core/common_runtime/gpu/gpu_cudamallocasync_allocator.cc:293] Stats: Limit:                      4302766080\n",
      "InUse:                      3723861272\n",
      "MaxInUse:                   4903712732\n",
      "NumAllocs:                    10404679\n",
      "MaxAllocSize:               3612570000\n",
      "Reserved:                            0\n",
      "PeakReserved:                        0\n",
      "LargestFreeBlock:                    0\n",
      "\n",
      "2023-02-23 12:47:28.124565: E tensorflow/core/common_runtime/gpu/gpu_cudamallocasync_allocator.cc:56] Histogram of current allocation: (allocation_size_in_bytes, nb_allocation_of_that_sizes), ...;\n",
      "2023-02-23 12:47:28.124571: E tensorflow/core/common_runtime/gpu/gpu_cudamallocasync_allocator.cc:59] 4, 42\n",
      "2023-02-23 12:47:28.124576: E tensorflow/core/common_runtime/gpu/gpu_cudamallocasync_allocator.cc:59] 8, 8\n",
      "2023-02-23 12:47:28.124579: E tensorflow/core/common_runtime/gpu/gpu_cudamallocasync_allocator.cc:59] 256, 2\n",
      "2023-02-23 12:47:28.124583: E tensorflow/core/common_runtime/gpu/gpu_cudamallocasync_allocator.cc:59] 512, 8\n",
      "2023-02-23 12:47:28.124588: E tensorflow/core/common_runtime/gpu/gpu_cudamallocasync_allocator.cc:59] 1024, 4\n",
      "2023-02-23 12:47:28.124592: E tensorflow/core/common_runtime/gpu/gpu_cudamallocasync_allocator.cc:59] 1028, 1\n",
      "2023-02-23 12:47:28.124595: E tensorflow/core/common_runtime/gpu/gpu_cudamallocasync_allocator.cc:59] 2048, 8\n",
      "2023-02-23 12:47:28.124600: E tensorflow/core/common_runtime/gpu/gpu_cudamallocasync_allocator.cc:59] 6912, 1\n",
      "2023-02-23 12:47:28.124604: E tensorflow/core/common_runtime/gpu/gpu_cudamallocasync_allocator.cc:59] 73728, 2\n",
      "2023-02-23 12:47:28.124608: E tensorflow/core/common_runtime/gpu/gpu_cudamallocasync_allocator.cc:59] 147456, 1\n",
      "2023-02-23 12:47:28.124612: E tensorflow/core/common_runtime/gpu/gpu_cudamallocasync_allocator.cc:59] 262144, 3\n",
      "2023-02-23 12:47:28.124616: E tensorflow/core/common_runtime/gpu/gpu_cudamallocasync_allocator.cc:59] 294912, 1\n",
      "2023-02-23 12:47:28.124625: E tensorflow/core/common_runtime/gpu/gpu_cudamallocasync_allocator.cc:59] 589824, 1\n",
      "2023-02-23 12:47:28.124633: E tensorflow/core/common_runtime/gpu/gpu_cudamallocasync_allocator.cc:59] 1179648, 1\n",
      "2023-02-23 12:47:28.124640: E tensorflow/core/common_runtime/gpu/gpu_cudamallocasync_allocator.cc:59] 2359296, 3\n",
      "2023-02-23 12:47:28.124645: E tensorflow/core/common_runtime/gpu/gpu_cudamallocasync_allocator.cc:59] 3853408, 1\n",
      "2023-02-23 12:47:28.124649: E tensorflow/core/common_runtime/gpu/gpu_cudamallocasync_allocator.cc:59] 4718592, 1\n",
      "2023-02-23 12:47:28.124652: E tensorflow/core/common_runtime/gpu/gpu_cudamallocasync_allocator.cc:59] 9437184, 8\n",
      "2023-02-23 12:47:28.124656: E tensorflow/core/common_runtime/gpu/gpu_cudamallocasync_allocator.cc:59] 16850944, 1\n",
      "2023-02-23 12:47:28.124660: E tensorflow/core/common_runtime/gpu/gpu_cudamallocasync_allocator.cc:59] 3612570000, 1\n",
      "2023-02-23 12:47:28.211541: W tensorflow/tsl/framework/cpu_allocator_impl.cc:82] Allocation of 903150000 exceeds 10% of free system memory.\n",
      "2023-02-23 12:47:29.429400: W tensorflow/tsl/framework/cpu_allocator_impl.cc:82] Allocation of 903150000 exceeds 10% of free system memory.\n"
     ]
    }
   ],
   "source": [
    "hist = my_model.fit(\n",
    "    X_train,\n",
    "    y_train,\n",
    "    batch_size=batch_size,\n",
    "    epochs=epochs,\n",
    "    verbose=1,\n",
    "    validation_split=0.2,\n",
    ")"
   ]
  },
  {
   "cell_type": "code",
   "execution_count": null,
   "metadata": {
    "tags": []
   },
   "outputs": [],
   "source": [
    "#tf.keras.backend.clear_session()\n",
    "#tf.compat.v1.reset_default_graph()"
   ]
  },
  {
   "cell_type": "code",
   "execution_count": null,
   "metadata": {
    "tags": []
   },
   "outputs": [],
   "source": [
    "score = my_model.evaluate(X_test, y_test, verbose=0)"
   ]
  },
  {
   "cell_type": "code",
   "execution_count": null,
   "metadata": {
    "tags": []
   },
   "outputs": [],
   "source": [
    "print(\"Test loss:\", score[0])\n",
    "print(\"Test accuracy:\", score[1])"
   ]
  },
  {
   "cell_type": "code",
   "execution_count": null,
   "metadata": {},
   "outputs": [],
   "source": [
    "training_loss = hist.history[\"loss\"]\n",
    "val_loss = hist.history[\"val_loss\"]\n",
    "training_acc = hist.history[\"acc\"]\n",
    "val_acc = hist.history[\"val_acc\"]\n",
    "xc = range(epochs)\n",
    "\n",
    "plt.figure(1, figsize=(7, 5))\n",
    "plt.plot(xc, training_loss)\n",
    "plt.plot(xc, val_loss)\n",
    "plt.xlabel(\"No. of Epochs\")\n",
    "plt.ylabel(\"loss\")\n",
    "plt.title(\"Training Loss vs Validation Loss\")\n",
    "plt.grid(True)\n",
    "plt.legend([\"Train\", \"Val\"])\n",
    "\n",
    "plt.figure(2, figsize=(7, 5))\n",
    "plt.plot(xc, training_acc)\n",
    "plt.plot(xc, val_acc)\n",
    "plt.xlabel(\"No. of Epochs\")\n",
    "plt.ylabel(\"Accuracy\")\n",
    "plt.title(\"Training Accuracy vs Validation Accuracy\")\n",
    "plt.grid(True)\n",
    "plt.legend([\"Train\", \"Val\"], loc=4)"
   ]
  },
  {
   "cell_type": "code",
   "execution_count": null,
   "metadata": {},
   "outputs": [],
   "source": [
    "checking_occurences = [x for x in y_test if x == 1]\n",
    "print(\"total length = \", len(y_test))\n",
    "print(\"Anomolies = \", len(checking_occurences))\n",
    "print(\"Normal = \", (len(y_test) - len(checking_occurences)))\n",
    "\n",
    "n = len(y_test) - len(checking_occurences)\n",
    "a = len(checking_occurences)\n",
    "\n",
    "label = [\"Normal\", \"Anomaly\"]\n",
    "samples = [n, a]\n",
    "\n",
    "default_dpi = mpl.rcParamsDefault[\"figure.dpi\"]\n",
    "mpl.rcParams[\"figure.dpi\"] = default_dpi * 1.5\n",
    "\n",
    "# this is for plotting purpose\n",
    "index = np.arange(len(label))\n",
    "plt.bar(index, samples)\n",
    "plt.xlabel(\"Payload Types\", fontsize=10)\n",
    "plt.ylabel(\"Samples\", fontsize=10)\n",
    "plt.xticks(index, label, fontsize=10, rotation=0)\n",
    "plt.title(\"Samples identified by VGG19\")\n",
    "plt.show()"
   ]
  },
  {
   "cell_type": "code",
   "execution_count": null,
   "metadata": {},
   "outputs": [],
   "source": [
    "predictions = my_model.predict(X_test)\n",
    "print(\"Predictions = \", predictions)"
   ]
  },
  {
   "cell_type": "code",
   "execution_count": null,
   "metadata": {},
   "outputs": [],
   "source": [
    "rounded = [[round(x[0])] for x in predictions]\n",
    "from sklearn.metrics import f1_score\n",
    "\n",
    "result = f1_score(y_test, rounded, average=None, labels=[0, 1])\n",
    "print(\"F1 = \", result)"
   ]
  },
  {
   "cell_type": "code",
   "execution_count": null,
   "metadata": {},
   "outputs": [],
   "source": [
    "result = f1_score(y_test, rounded, average=\"macro\")\n",
    "print(\"F1 macro = \", result)"
   ]
  },
  {
   "cell_type": "code",
   "execution_count": null,
   "metadata": {},
   "outputs": [],
   "source": [
    "result = f1_score(y_test, rounded, average=\"micro\")\n",
    "print(\"F1 Micro= \", result)"
   ]
  },
  {
   "cell_type": "code",
   "execution_count": null,
   "metadata": {},
   "outputs": [],
   "source": [
    "result = f1_score(y_test, rounded, average=\"weighted\")\n",
    "print(\"F1 Weighted= \", result)"
   ]
  },
  {
   "cell_type": "code",
   "execution_count": null,
   "metadata": {},
   "outputs": [],
   "source": [
    "import sklearn.metrics\n",
    "\n",
    "target_names = [\"normal\", \"anomaly\"]\n",
    "print(\n",
    "    sklearn.metrics.classification_report(\n",
    "        y_test, rounded, labels=[0, 1], target_names=target_names\n",
    "    )\n",
    ")"
   ]
  },
  {
   "cell_type": "code",
   "execution_count": null,
   "metadata": {},
   "outputs": [],
   "source": [
    "my_model.save(\"FYP_Finalhd5.hd5\")\n",
    "my_model.save(\"FYP_Finalh5.h5\")"
   ]
  },
  {
   "cell_type": "code",
   "execution_count": null,
   "metadata": {},
   "outputs": [],
   "source": [
    "from read_activations import display_activations, get_activations\n",
    "\n",
    "v_index = 4\n",
    "x_valid = X_train[:5]\n",
    "a = get_activations(my_model, x_valid[v_index : v_index + 1], print_shape_only=True)\n",
    "display_activations(a)"
   ]
  },
  {
   "cell_type": "code",
   "execution_count": null,
   "metadata": {
    "scrolled": true,
    "tags": []
   },
   "outputs": [],
   "source": []
  }
 ],
 "metadata": {
  "kernelspec": {
   "display_name": "Python 3 (ipykernel)",
   "language": "python",
   "name": "python3"
  },
  "language_info": {
   "codemirror_mode": {
    "name": "ipython",
    "version": 3
   },
   "file_extension": ".py",
   "mimetype": "text/x-python",
   "name": "python",
   "nbconvert_exporter": "python",
   "pygments_lexer": "ipython3",
   "version": "3.8.10"
  },
  "toc-autonumbering": true,
  "toc-showcode": false,
  "toc-showmarkdowntxt": true,
  "vscode": {
   "interpreter": {
    "hash": "916dbcbb3f70747c44a77c7bcd40155683ae19c65e1c03b4aa3499c5328201f1"
   }
  }
 },
 "nbformat": 4,
 "nbformat_minor": 4
}
