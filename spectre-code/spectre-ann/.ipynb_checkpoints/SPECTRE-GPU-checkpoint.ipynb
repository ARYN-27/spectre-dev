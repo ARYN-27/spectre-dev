{
 "cells": [
  {
   "cell_type": "code",
   "execution_count": 1,
   "metadata": {
    "execution": {
     "iopub.execute_input": "2023-02-22T21:39:22.428366Z",
     "iopub.status.busy": "2023-02-22T21:39:22.427777Z",
     "iopub.status.idle": "2023-02-22T21:39:24.928726Z",
     "shell.execute_reply": "2023-02-22T21:39:24.928145Z",
     "shell.execute_reply.started": "2023-02-22T21:39:22.428335Z"
    },
    "tags": []
   },
   "outputs": [
    {
     "name": "stderr",
     "output_type": "stream",
     "text": [
      "2023-02-22 21:39:22.440928: I tensorflow/core/platform/cpu_feature_guard.cc:193] This TensorFlow binary is optimized with oneAPI Deep Neural Network Library (oneDNN) to use the following CPU instructions in performance-critical operations:  AVX2 FMA\n",
      "To enable them in other operations, rebuild TensorFlow with the appropriate compiler flags.\n",
      "2023-02-22 21:39:23.718292: W tensorflow/compiler/xla/stream_executor/platform/default/dso_loader.cc:64] Could not load dynamic library 'libnvinfer.so.7'; dlerror: libnvinfer.so.7: cannot open shared object file: No such file or directory; LD_LIBRARY_PATH: /usr/local/nvidia/lib:/usr/local/nvidia/lib64\n",
      "2023-02-22 21:39:23.718391: W tensorflow/compiler/xla/stream_executor/platform/default/dso_loader.cc:64] Could not load dynamic library 'libnvinfer_plugin.so.7'; dlerror: libnvinfer_plugin.so.7: cannot open shared object file: No such file or directory; LD_LIBRARY_PATH: /usr/local/nvidia/lib:/usr/local/nvidia/lib64\n",
      "2023-02-22 21:39:23.718401: W tensorflow/compiler/tf2tensorrt/utils/py_utils.cc:38] TF-TRT Warning: Cannot dlopen some TensorRT libraries. If you would like to use Nvidia GPU with TensorRT, please make sure the missing libraries mentioned above are installed properly.\n"
     ]
    }
   ],
   "source": [
    "import os\n",
    "import platform\n",
    "import sys\n",
    "\n",
    "import tensorflow as tf\n",
    "from tensorflow.keras import layers"
   ]
  },
  {
   "cell_type": "code",
   "execution_count": 2,
   "metadata": {
    "execution": {
     "iopub.execute_input": "2023-02-22T21:39:25.455213Z",
     "iopub.status.busy": "2023-02-22T21:39:25.454688Z",
     "iopub.status.idle": "2023-02-22T21:39:25.998438Z",
     "shell.execute_reply": "2023-02-22T21:39:25.997692Z",
     "shell.execute_reply.started": "2023-02-22T21:39:25.455190Z"
    },
    "tags": []
   },
   "outputs": [],
   "source": [
    "%matplotlib widget"
   ]
  },
  {
   "cell_type": "code",
   "execution_count": 3,
   "metadata": {
    "execution": {
     "iopub.execute_input": "2023-02-22T21:39:26.499049Z",
     "iopub.status.busy": "2023-02-22T21:39:26.498170Z",
     "iopub.status.idle": "2023-02-22T21:39:26.502723Z",
     "shell.execute_reply": "2023-02-22T21:39:26.501992Z",
     "shell.execute_reply.started": "2023-02-22T21:39:26.499015Z"
    },
    "tags": []
   },
   "outputs": [
    {
     "name": "stdout",
     "output_type": "stream",
     "text": [
      "Python Platform: Linux-6.1.12-zen1-1-zen-x86_64-with-glibc2.29\n",
      "Tensor Flow Version: 2.11.0\n",
      "Keras Version: 2.11.0\n",
      "\n",
      "Python 3.8.10 (default, Nov 14 2022, 12:59:47) \n",
      "[GCC 9.4.0]\n"
     ]
    }
   ],
   "source": [
    "print(f\"Python Platform: {platform.platform()}\")\n",
    "print(f\"Tensor Flow Version: {tf.__version__}\")\n",
    "print(f\"Keras Version: {tf.keras.__version__}\")\n",
    "print()\n",
    "print(f\"Python {sys.version}\")"
   ]
  },
  {
   "cell_type": "markdown",
   "metadata": {},
   "source": [
    "The TF_GPU_ALLOCATOR environment variable is used to specify the GPU memory allocator that TensorFlow should use. The cuda_malloc_async allocator is an asynchronous memory allocator that is optimized for use with NVIDIA GPUs."
   ]
  },
  {
   "cell_type": "code",
   "execution_count": 4,
   "metadata": {
    "execution": {
     "iopub.execute_input": "2023-02-22T21:39:28.752944Z",
     "iopub.status.busy": "2023-02-22T21:39:28.752572Z",
     "iopub.status.idle": "2023-02-22T21:39:28.755908Z",
     "shell.execute_reply": "2023-02-22T21:39:28.755272Z",
     "shell.execute_reply.started": "2023-02-22T21:39:28.752921Z"
    },
    "tags": []
   },
   "outputs": [],
   "source": [
    "os.environ[\"TF_GPU_ALLOCATOR\"] = \"cuda_malloc_async\""
   ]
  },
  {
   "cell_type": "markdown",
   "metadata": {},
   "source": [
    "The os.environ['TF_FORCE_GPU_ALLOW_GROWTH'] assignment sets an environment variable called TF_FORCE_GPU_ALLOW_GROWTH in the operating system. This environment variable tells TensorFlow to dynamically grow the GPU memory usage as needed, rather than allocating all of the GPU memory at the start of the TensorFlow session."
   ]
  },
  {
   "cell_type": "code",
   "execution_count": 5,
   "metadata": {
    "execution": {
     "iopub.execute_input": "2023-02-22T21:39:34.063693Z",
     "iopub.status.busy": "2023-02-22T21:39:34.063126Z",
     "iopub.status.idle": "2023-02-22T21:39:34.066582Z",
     "shell.execute_reply": "2023-02-22T21:39:34.065797Z",
     "shell.execute_reply.started": "2023-02-22T21:39:34.063665Z"
    },
    "tags": []
   },
   "outputs": [],
   "source": [
    "# os.environ['TF_FORCE_GPU_ALLOW_GROWTH']= 'true'"
   ]
  },
  {
   "cell_type": "code",
   "execution_count": 6,
   "metadata": {
    "execution": {
     "iopub.execute_input": "2023-02-22T21:39:34.545014Z",
     "iopub.status.busy": "2023-02-22T21:39:34.544355Z",
     "iopub.status.idle": "2023-02-22T21:39:34.548961Z",
     "shell.execute_reply": "2023-02-22T21:39:34.548169Z",
     "shell.execute_reply.started": "2023-02-22T21:39:34.544978Z"
    },
    "tags": []
   },
   "outputs": [],
   "source": [
    "tf.get_logger().setLevel(\"INFO\")\n",
    "\n",
    "# os.environ['TF_CPP_MIN_LOG_LEVEL'] = '3'  # or any {'0', '1', '2'}"
   ]
  },
  {
   "cell_type": "markdown",
   "metadata": {},
   "source": [
    "Method 1: This enables the dynamic allocation of GPU memory. "
   ]
  },
  {
   "cell_type": "code",
   "execution_count": 7,
   "metadata": {
    "execution": {
     "iopub.execute_input": "2023-02-22T21:39:35.402136Z",
     "iopub.status.busy": "2023-02-22T21:39:35.401732Z",
     "iopub.status.idle": "2023-02-22T21:39:35.484353Z",
     "shell.execute_reply": "2023-02-22T21:39:35.483204Z",
     "shell.execute_reply.started": "2023-02-22T21:39:35.402116Z"
    },
    "tags": []
   },
   "outputs": [
    {
     "name": "stderr",
     "output_type": "stream",
     "text": [
      "2023-02-22 21:39:35.419852: I tensorflow/compiler/xla/stream_executor/cuda/cuda_gpu_executor.cc:981] successful NUMA node read from SysFS had negative value (-1), but there must be at least one NUMA node, so returning NUMA node zero\n",
      "2023-02-22 21:39:35.479129: I tensorflow/compiler/xla/stream_executor/cuda/cuda_gpu_executor.cc:981] successful NUMA node read from SysFS had negative value (-1), but there must be at least one NUMA node, so returning NUMA node zero\n",
      "2023-02-22 21:39:35.479412: I tensorflow/compiler/xla/stream_executor/cuda/cuda_gpu_executor.cc:981] successful NUMA node read from SysFS had negative value (-1), but there must be at least one NUMA node, so returning NUMA node zero\n"
     ]
    }
   ],
   "source": [
    "gpus = tf.config.experimental.list_physical_devices(\"GPU\")\n",
    "if gpus:\n",
    "    try:\n",
    "        for gpu in gpus:\n",
    "            tf.config.experimental.set_memory_growth(gpu, True)\n",
    "    except RuntimeError as e:\n",
    "        print(e)"
   ]
  },
  {
   "cell_type": "markdown",
   "metadata": {},
   "source": [
    "Method 2: This enables the dynamic allocation of GPU memory. "
   ]
  },
  {
   "cell_type": "code",
   "execution_count": 8,
   "metadata": {
    "execution": {
     "iopub.execute_input": "2023-02-22T21:39:36.402671Z",
     "iopub.status.busy": "2023-02-22T21:39:36.402317Z",
     "iopub.status.idle": "2023-02-22T21:39:36.407663Z",
     "shell.execute_reply": "2023-02-22T21:39:36.406368Z",
     "shell.execute_reply.started": "2023-02-22T21:39:36.402628Z"
    },
    "tags": []
   },
   "outputs": [],
   "source": [
    "# Ref: https://www.tensorflow.org/guide/gpu#limiting_gpu_memory_growth\n",
    "# gpus = tf.config.experimental.list_physical_devices('GPU')\n",
    "# if gpus:\n",
    "# Restrict TensorFlow to only allocate 1GB of memory on the first GPU\n",
    "#  try:\n",
    "#    tf.config.experimental.set_virtual_device_configuration(\n",
    "#        gpus[0],\n",
    "#        [tf.config.experimental.VirtualDeviceConfiguration(memory_limit=4096)]) # Notice here\n",
    "#    logical_gpus = tf.config.experimental.list_logical_devices('GPU')\n",
    "#    print(len(gpus), \"Physical GPUs,\", len(logical_gpus), \"Logical GPUs\")\n",
    "#  except RuntimeError as e:\n",
    "# Virtual devices must be set before GPUs have been initialized\n",
    "#    print(e)"
   ]
  },
  {
   "cell_type": "markdown",
   "metadata": {},
   "source": [
    "Checks for the GPU available and lists it"
   ]
  },
  {
   "cell_type": "code",
   "execution_count": 9,
   "metadata": {
    "execution": {
     "iopub.execute_input": "2023-02-22T21:39:37.401187Z",
     "iopub.status.busy": "2023-02-22T21:39:37.400842Z",
     "iopub.status.idle": "2023-02-22T21:39:37.405585Z",
     "shell.execute_reply": "2023-02-22T21:39:37.404836Z",
     "shell.execute_reply.started": "2023-02-22T21:39:37.401159Z"
    },
    "tags": []
   },
   "outputs": [
    {
     "name": "stdout",
     "output_type": "stream",
     "text": [
      "Num GPUs Available:  1\n"
     ]
    }
   ],
   "source": [
    "print(\"Num GPUs Available: \", len(tf.config.list_physical_devices(\"GPU\")))"
   ]
  },
  {
   "cell_type": "code",
   "execution_count": 10,
   "metadata": {
    "execution": {
     "iopub.execute_input": "2023-02-22T21:39:37.801526Z",
     "iopub.status.busy": "2023-02-22T21:39:37.801022Z",
     "iopub.status.idle": "2023-02-22T21:39:38.490360Z",
     "shell.execute_reply": "2023-02-22T21:39:38.489736Z",
     "shell.execute_reply.started": "2023-02-22T21:39:37.801502Z"
    },
    "tags": []
   },
   "outputs": [
    {
     "name": "stdout",
     "output_type": "stream",
     "text": [
      "Num GPUs Available:  1\n"
     ]
    },
    {
     "name": "stderr",
     "output_type": "stream",
     "text": [
      "2023-02-22 21:39:37.804775: I tensorflow/core/platform/cpu_feature_guard.cc:193] This TensorFlow binary is optimized with oneAPI Deep Neural Network Library (oneDNN) to use the following CPU instructions in performance-critical operations:  AVX2 FMA\n",
      "To enable them in other operations, rebuild TensorFlow with the appropriate compiler flags.\n",
      "2023-02-22 21:39:37.805941: I tensorflow/compiler/xla/stream_executor/cuda/cuda_gpu_executor.cc:981] successful NUMA node read from SysFS had negative value (-1), but there must be at least one NUMA node, so returning NUMA node zero\n",
      "2023-02-22 21:39:37.806179: I tensorflow/compiler/xla/stream_executor/cuda/cuda_gpu_executor.cc:981] successful NUMA node read from SysFS had negative value (-1), but there must be at least one NUMA node, so returning NUMA node zero\n",
      "2023-02-22 21:39:37.806288: I tensorflow/compiler/xla/stream_executor/cuda/cuda_gpu_executor.cc:981] successful NUMA node read from SysFS had negative value (-1), but there must be at least one NUMA node, so returning NUMA node zero\n",
      "2023-02-22 21:39:38.485057: I tensorflow/compiler/xla/stream_executor/cuda/cuda_gpu_executor.cc:981] successful NUMA node read from SysFS had negative value (-1), but there must be at least one NUMA node, so returning NUMA node zero\n",
      "2023-02-22 21:39:38.485252: I tensorflow/compiler/xla/stream_executor/cuda/cuda_gpu_executor.cc:981] successful NUMA node read from SysFS had negative value (-1), but there must be at least one NUMA node, so returning NUMA node zero\n",
      "2023-02-22 21:39:38.485371: I tensorflow/compiler/xla/stream_executor/cuda/cuda_gpu_executor.cc:981] successful NUMA node read from SysFS had negative value (-1), but there must be at least one NUMA node, so returning NUMA node zero\n",
      "2023-02-22 21:39:38.485459: I tensorflow/core/common_runtime/gpu/gpu_process_state.cc:222] Using CUDA malloc Async allocator for GPU: 0\n",
      "2023-02-22 21:39:38.485556: I tensorflow/core/common_runtime/gpu/gpu_device.cc:1613] Created device /device:GPU:0 with 3966 MB memory:  -> device: 0, name: NVIDIA GeForce RTX 3060 Laptop GPU, pci bus id: 0000:01:00.0, compute capability: 8.6\n"
     ]
    },
    {
     "data": {
      "text/plain": [
       "[name: \"/device:CPU:0\"\n",
       " device_type: \"CPU\"\n",
       " memory_limit: 268435456\n",
       " locality {\n",
       " }\n",
       " incarnation: 12852649379781860878\n",
       " xla_global_id: -1,\n",
       " name: \"/device:GPU:0\"\n",
       " device_type: \"GPU\"\n",
       " memory_limit: 4159635456\n",
       " locality {\n",
       "   bus_id: 1\n",
       "   links {\n",
       "   }\n",
       " }\n",
       " incarnation: 86518574932284174\n",
       " physical_device_desc: \"device: 0, name: NVIDIA GeForce RTX 3060 Laptop GPU, pci bus id: 0000:01:00.0, compute capability: 8.6\"\n",
       " xla_global_id: 416903419]"
      ]
     },
     "execution_count": 10,
     "metadata": {},
     "output_type": "execute_result"
    }
   ],
   "source": [
    "from tensorflow.python.client import device_lib\n",
    "\n",
    "print(\"Num GPUs Available: \", len(tf.config.list_physical_devices(\"GPU\")))\n",
    "device_lib.list_local_devices()"
   ]
  },
  {
   "cell_type": "code",
   "execution_count": 11,
   "metadata": {
    "execution": {
     "iopub.execute_input": "2023-02-22T21:39:42.790280Z",
     "iopub.status.busy": "2023-02-22T21:39:42.789572Z",
     "iopub.status.idle": "2023-02-22T21:39:42.794229Z",
     "shell.execute_reply": "2023-02-22T21:39:42.793508Z",
     "shell.execute_reply.started": "2023-02-22T21:39:42.790251Z"
    },
    "tags": []
   },
   "outputs": [],
   "source": [
    "import os\n",
    "import sys\n",
    "\n",
    "import keras\n",
    "import matplotlib as mpl\n",
    "import matplotlib.pyplot as plt\n",
    "import numpy as np\n",
    "from keras.applications.vgg16 import VGG16\n",
    "from keras.applications.vgg19 import VGG19\n",
    "from keras.layers import Dense, Flatten, Input\n",
    "from keras.models import Model\n",
    "\n",
    "\n",
    "def escape():\n",
    "    sys.exit()"
   ]
  },
  {
   "cell_type": "code",
   "execution_count": 12,
   "metadata": {
    "execution": {
     "iopub.execute_input": "2023-02-22T21:39:43.895731Z",
     "iopub.status.busy": "2023-02-22T21:39:43.895374Z",
     "iopub.status.idle": "2023-02-22T21:39:56.462693Z",
     "shell.execute_reply": "2023-02-22T21:39:56.462024Z",
     "shell.execute_reply.started": "2023-02-22T21:39:43.895702Z"
    },
    "tags": []
   },
   "outputs": [
    {
     "name": "stdout",
     "output_type": "stream",
     "text": [
      "Opening File :  destinationPayload_TestbedMonJun14Flows.xml.npy\n",
      "Opening File :  destinationPayload_TestbedSatJun12Flows.xml.npy\n",
      "Opening File :  destinationPayload_TestbedSunJun13Flows.xml.npy\n",
      "Opening File :  destinationPayload_TestbedThuJun17-2Flows.xml.npy\n",
      "Opening File :  destinationPayload_TestbedThuJun17-3Flows.xml.npy\n",
      "Opening File :  destinationPayload_TestbedTueJun15-1Flows.xml.npy\n",
      "Opening File :  destinationPayload_TestbedTueJun15-2Flows.xml.npy\n",
      "Opening File :  destinationPayload_TestbedTueJun15-3Flows.xml.npy\n",
      "Opening File :  destinationPayload_TestbedWedJun16-1Flows.xml.npy\n",
      "Opening File :  destinationPayload_TestbedWedJun16-2Flows.xml.npy\n",
      "Opening File :  destinationPayload_TestbedWedJun16-3Flows.xml.npy\n"
     ]
    }
   ],
   "source": [
    "import_directory = \"/spectre-code/dataset/PCAP-NPY/\"\n",
    "counter = 0\n",
    "data_array = np.empty((0, 2))\n",
    "files = os.listdir(import_directory)\n",
    "for file in files:\n",
    "    print(\"Opening File : \", file)\n",
    "    data_set = np.load(import_directory + file, allow_pickle=True)\n",
    "    data_array = np.vstack((data_array, data_set))\n",
    "\n",
    "# separated = np.array([x for x in data_array if x[1] == 0])"
   ]
  },
  {
   "cell_type": "code",
   "execution_count": 13,
   "metadata": {
    "execution": {
     "iopub.execute_input": "2023-02-22T21:40:04.401605Z",
     "iopub.status.busy": "2023-02-22T21:40:04.401165Z",
     "iopub.status.idle": "2023-02-22T21:40:05.088476Z",
     "shell.execute_reply": "2023-02-22T21:40:05.087749Z",
     "shell.execute_reply.started": "2023-02-22T21:40:04.401582Z"
    },
    "tags": []
   },
   "outputs": [
    {
     "name": "stdout",
     "output_type": "stream",
     "text": [
      "ok\n"
     ]
    }
   ],
   "source": [
    "# np.random.shuffle(separated)\n",
    "np.random.shuffle(data_array)\n",
    "print(\"ok\")"
   ]
  },
  {
   "cell_type": "code",
   "execution_count": 14,
   "metadata": {
    "execution": {
     "iopub.execute_input": "2023-02-22T21:40:05.695907Z",
     "iopub.status.busy": "2023-02-22T21:40:05.695243Z",
     "iopub.status.idle": "2023-02-22T21:40:23.089542Z",
     "shell.execute_reply": "2023-02-22T21:40:23.088979Z",
     "shell.execute_reply.started": "2023-02-22T21:40:05.695877Z"
    },
    "tags": []
   },
   "outputs": [],
   "source": [
    "img_row = 50\n",
    "img_col = 50\n",
    "\n",
    "N = np.shape(data_array)[0]\n",
    "train_test_split_percentage = 0.75\n",
    "\n",
    "X_train = data_array[: int(N * train_test_split_percentage), 0]\n",
    "X_test = data_array[int(N * train_test_split_percentage) :, 0]\n",
    "\n",
    "X_train = np.array([x.reshape(img_row, img_col, 3) for x in X_train])\n",
    "X_test = np.array([x.reshape(img_row, img_col, 3) for x in X_test])"
   ]
  },
  {
   "cell_type": "code",
   "execution_count": 15,
   "metadata": {
    "execution": {
     "iopub.execute_input": "2023-02-22T21:40:23.090948Z",
     "iopub.status.busy": "2023-02-22T21:40:23.090444Z",
     "iopub.status.idle": "2023-02-22T21:40:24.406864Z",
     "shell.execute_reply": "2023-02-22T21:40:24.406237Z",
     "shell.execute_reply.started": "2023-02-22T21:40:23.090921Z"
    },
    "tags": []
   },
   "outputs": [],
   "source": [
    "y_train = data_array[: int(N * train_test_split_percentage), 1]\n",
    "y_test = data_array[int(N * train_test_split_percentage) :, 1]\n",
    "\n",
    "y_train = np.array([[x] for x in y_train])\n",
    "y_test = np.array([[x] for x in y_test])"
   ]
  },
  {
   "cell_type": "code",
   "execution_count": 16,
   "metadata": {
    "execution": {
     "iopub.execute_input": "2023-02-22T21:41:16.207945Z",
     "iopub.status.busy": "2023-02-22T21:41:16.207394Z",
     "iopub.status.idle": "2023-02-22T21:41:26.063270Z",
     "shell.execute_reply": "2023-02-22T21:41:26.062543Z",
     "shell.execute_reply.started": "2023-02-22T21:41:16.207920Z"
    },
    "tags": []
   },
   "outputs": [
    {
     "name": "stderr",
     "output_type": "stream",
     "text": [
      "2023-02-22 21:41:16.244301: I tensorflow/compiler/xla/stream_executor/cuda/cuda_gpu_executor.cc:981] successful NUMA node read from SysFS had negative value (-1), but there must be at least one NUMA node, so returning NUMA node zero\n",
      "2023-02-22 21:41:16.245106: I tensorflow/compiler/xla/stream_executor/cuda/cuda_gpu_executor.cc:981] successful NUMA node read from SysFS had negative value (-1), but there must be at least one NUMA node, so returning NUMA node zero\n",
      "2023-02-22 21:41:16.245280: I tensorflow/compiler/xla/stream_executor/cuda/cuda_gpu_executor.cc:981] successful NUMA node read from SysFS had negative value (-1), but there must be at least one NUMA node, so returning NUMA node zero\n",
      "2023-02-22 21:41:16.245611: I tensorflow/compiler/xla/stream_executor/cuda/cuda_gpu_executor.cc:981] successful NUMA node read from SysFS had negative value (-1), but there must be at least one NUMA node, so returning NUMA node zero\n",
      "2023-02-22 21:41:16.245791: I tensorflow/compiler/xla/stream_executor/cuda/cuda_gpu_executor.cc:981] successful NUMA node read from SysFS had negative value (-1), but there must be at least one NUMA node, so returning NUMA node zero\n",
      "2023-02-22 21:41:16.245922: I tensorflow/core/common_runtime/gpu/gpu_device.cc:1613] Created device /job:localhost/replica:0/task:0/device:GPU:0 with 3966 MB memory:  -> device: 0, name: NVIDIA GeForce RTX 3060 Laptop GPU, pci bus id: 0000:01:00.0, compute capability: 8.6\n"
     ]
    },
    {
     "name": "stdout",
     "output_type": "stream",
     "text": [
      "Downloading data from https://storage.googleapis.com/tensorflow/keras-applications/vgg19/vgg19_weights_tf_dim_ordering_tf_kernels_notop.h5\n",
      "80134624/80134624 [==============================] - 8s 0us/step\n"
     ]
    }
   ],
   "source": [
    "model_vgg19_conv = VGG19(\n",
    "    include_top=False, weights=\"imagenet\", input_shape=(img_col, img_row, 3)\n",
    ")"
   ]
  },
  {
   "cell_type": "code",
   "execution_count": 17,
   "metadata": {
    "execution": {
     "iopub.execute_input": "2023-02-22T21:41:27.984353Z",
     "iopub.status.busy": "2023-02-22T21:41:27.983876Z",
     "iopub.status.idle": "2023-02-22T21:41:31.052142Z",
     "shell.execute_reply": "2023-02-22T21:41:31.051345Z",
     "shell.execute_reply.started": "2023-02-22T21:41:27.984329Z"
    },
    "tags": []
   },
   "outputs": [
    {
     "data": {
      "image/png": "[encoded data removed]",
      "text/plain": [
       "<Figure size 40000x15000 with 5 Axes>"
      ]
     },
     "metadata": {},
     "output_type": "display_data"
    }
   ],
   "source": [
    "# ploting images for data\n",
    "%matplotlib inline\n",
    "n = 40  # how many digits we will display\n",
    "plt.figure(figsize=(400, 150))\n",
    "for i in range(6, 11):\n",
    "    # display original\n",
    "    ax = plt.subplot(1, n, i + 1)\n",
    "    plt.imshow(X_train[i])\n",
    "    plt.gray()\n",
    "    ax.get_xaxis().set_visible(False)\n",
    "    ax.get_yaxis().set_visible(False)\n",
    "plt.show()\n",
    "plt.close()"
   ]
  },
  {
   "cell_type": "code",
   "execution_count": 18,
   "metadata": {
    "execution": {
     "iopub.execute_input": "2023-02-22T21:41:42.401835Z",
     "iopub.status.busy": "2023-02-22T21:41:42.401015Z",
     "iopub.status.idle": "2023-02-22T21:41:42.407172Z",
     "shell.execute_reply": "2023-02-22T21:41:42.406440Z",
     "shell.execute_reply.started": "2023-02-22T21:41:42.401786Z"
    },
    "tags": []
   },
   "outputs": [
    {
     "name": "stdout",
     "output_type": "stream",
     "text": [
      "input_1\n",
      "block1_conv1\n",
      "block1_conv2\n",
      "block1_pool\n",
      "block2_conv1\n",
      "block2_conv2\n",
      "block2_pool\n",
      "block3_conv1\n",
      "block3_conv2\n",
      "block3_conv3\n",
      "block3_conv4\n",
      "block3_pool\n",
      "block4_conv1\n",
      "block4_conv2\n",
      "block4_conv3\n",
      "block4_conv4\n",
      "block4_pool\n",
      "block5_conv1\n",
      "block5_conv2\n",
      "block5_conv3\n",
      "block5_conv4\n",
      "block5_pool\n"
     ]
    }
   ],
   "source": [
    "for layer in model_vgg19_conv.layers:\n",
    "    layer.trainable = False\n",
    "    print(layer.name)"
   ]
  },
  {
   "cell_type": "code",
   "execution_count": 19,
   "metadata": {
    "execution": {
     "iopub.execute_input": "2023-02-22T21:41:44.400738Z",
     "iopub.status.busy": "2023-02-22T21:41:44.400207Z",
     "iopub.status.idle": "2023-02-22T21:41:44.474323Z",
     "shell.execute_reply": "2023-02-22T21:41:44.473585Z",
     "shell.execute_reply.started": "2023-02-22T21:41:44.400707Z"
    },
    "tags": []
   },
   "outputs": [
    {
     "name": "stdout",
     "output_type": "stream",
     "text": [
      "Model: \"model\"\n",
      "_________________________________________________________________\n",
      " Layer (type)                Output Shape              Param #   \n",
      "=================================================================\n",
      " input_1 (InputLayer)        [(None, 50, 50, 3)]       0         \n",
      "                                                                 \n",
      " block1_conv1 (Conv2D)       (None, 50, 50, 64)        1792      \n",
      "                                                                 \n",
      " block1_conv2 (Conv2D)       (None, 50, 50, 64)        36928     \n",
      "                                                                 \n",
      " block1_pool (MaxPooling2D)  (None, 25, 25, 64)        0         \n",
      "                                                                 \n",
      " block2_conv1 (Conv2D)       (None, 25, 25, 128)       73856     \n",
      "                                                                 \n",
      " block2_conv2 (Conv2D)       (None, 25, 25, 128)       147584    \n",
      "                                                                 \n",
      " block2_pool (MaxPooling2D)  (None, 12, 12, 128)       0         \n",
      "                                                                 \n",
      " block3_conv1 (Conv2D)       (None, 12, 12, 256)       295168    \n",
      "                                                                 \n",
      " block3_conv2 (Conv2D)       (None, 12, 12, 256)       590080    \n",
      "                                                                 \n",
      " block3_conv3 (Conv2D)       (None, 12, 12, 256)       590080    \n",
      "                                                                 \n",
      " block3_conv4 (Conv2D)       (None, 12, 12, 256)       590080    \n",
      "                                                                 \n",
      " block3_pool (MaxPooling2D)  (None, 6, 6, 256)         0         \n",
      "                                                                 \n",
      " block4_conv1 (Conv2D)       (None, 6, 6, 512)         1180160   \n",
      "                                                                 \n",
      " block4_conv2 (Conv2D)       (None, 6, 6, 512)         2359808   \n",
      "                                                                 \n",
      " block4_conv3 (Conv2D)       (None, 6, 6, 512)         2359808   \n",
      "                                                                 \n",
      " block4_conv4 (Conv2D)       (None, 6, 6, 512)         2359808   \n",
      "                                                                 \n",
      " block4_pool (MaxPooling2D)  (None, 3, 3, 512)         0         \n",
      "                                                                 \n",
      " block5_conv1 (Conv2D)       (None, 3, 3, 512)         2359808   \n",
      "                                                                 \n",
      " block5_conv2 (Conv2D)       (None, 3, 3, 512)         2359808   \n",
      "                                                                 \n",
      " block5_conv3 (Conv2D)       (None, 3, 3, 512)         2359808   \n",
      "                                                                 \n",
      " block5_conv4 (Conv2D)       (None, 3, 3, 512)         2359808   \n",
      "                                                                 \n",
      " block5_pool (MaxPooling2D)  (None, 1, 1, 512)         0         \n",
      "                                                                 \n",
      " flatten (Flatten)           (None, 512)               0         \n",
      "                                                                 \n",
      " dense (Dense)               (None, 128)               65664     \n",
      "                                                                 \n",
      " predictions (Dense)         (None, 1)                 129       \n",
      "                                                                 \n",
      "=================================================================\n",
      "Total params: 20,090,177\n",
      "Trainable params: 65,793\n",
      "Non-trainable params: 20,024,384\n",
      "_________________________________________________________________\n"
     ]
    }
   ],
   "source": [
    "# x = model_vgg19_conv.output\n",
    "# x = Flatten()(x)\n",
    "# x = Dense(128, activation='relu')(x)\n",
    "# x = Dense(1, activation='sigmoid', name='predictions')(x)\n",
    "# my_model = Model(inputs=model_vgg19_conv.input, outputs=x)\n",
    "# my_model.summary()\n",
    "\n",
    "# Revision 1\n",
    "# x = model_vgg19_conv.output\n",
    "# x = Flatten()(x)\n",
    "# x = Dense(128, activation='relu')(x)\n",
    "# x = Dense(80, activation='relu')(x)\n",
    "# x = Dense(1, activation='sigmoid', name='predictions')(x)\n",
    "# my_model = Model(inputs=model_vgg19_conv.input, outputs=x)\n",
    "# my_model.summary()\n",
    "\n",
    "# Revision 2\n",
    "x = model_vgg19_conv.output\n",
    "x = layers.Flatten()(x)\n",
    "x = layers.Dense(128, activation=\"relu\")(x)\n",
    "x = layers.Dense(1, activation=\"sigmoid\", name=\"predictions\")(x)\n",
    "my_model = tf.keras.Model(inputs=model_vgg19_conv.input, outputs=x)\n",
    "my_model.summary()"
   ]
  },
  {
   "cell_type": "code",
   "execution_count": 20,
   "metadata": {
    "execution": {
     "iopub.execute_input": "2023-02-22T21:41:46.171765Z",
     "iopub.status.busy": "2023-02-22T21:41:46.171479Z",
     "iopub.status.idle": "2023-02-22T21:41:46.185101Z",
     "shell.execute_reply": "2023-02-22T21:41:46.184448Z",
     "shell.execute_reply.started": "2023-02-22T21:41:46.171742Z"
    },
    "tags": []
   },
   "outputs": [],
   "source": [
    "my_model.compile(\n",
    "    loss=keras.losses.binary_crossentropy,\n",
    "    optimizer=keras.optimizers.RMSprop(),\n",
    "    metrics=[\"accuracy\"],\n",
    ")\n",
    "\n",
    "batch_size = 5\n",
    "epochs = 3"
   ]
  },
  {
   "cell_type": "code",
   "execution_count": 21,
   "metadata": {
    "execution": {
     "iopub.execute_input": "2023-02-22T21:41:46.884531Z",
     "iopub.status.busy": "2023-02-22T21:41:46.884091Z",
     "iopub.status.idle": "2023-02-22T22:20:41.387890Z",
     "shell.execute_reply": "2023-02-22T22:20:41.386487Z",
     "shell.execute_reply.started": "2023-02-22T21:41:46.884503Z"
    },
    "tags": []
   },
   "outputs": [
    {
     "name": "stderr",
     "output_type": "stream",
     "text": [
      "2023-02-22 21:41:46.894487: W tensorflow/tsl/framework/cpu_allocator_impl.cc:82] Allocation of 3612570000 exceeds 10% of free system memory.\n",
      "2023-02-22 21:41:49.600421: W tensorflow/tsl/framework/cpu_allocator_impl.cc:82] Allocation of 3612570000 exceeds 10% of free system memory.\n"
     ]
    },
    {
     "name": "stdout",
     "output_type": "stream",
     "text": [
      "Epoch 1/3\n"
     ]
    },
    {
     "name": "stderr",
     "output_type": "stream",
     "text": [
      "2023-02-22 21:41:53.845265: I tensorflow/compiler/xla/stream_executor/cuda/cuda_dnn.cc:428] Loaded cuDNN version 8101\n",
      "2023-02-22 21:41:56.915078: E tensorflow/core/common_runtime/gpu/gpu_cudamallocasync_allocator.cc:288] gpu_async_0 cuMemAllocAsync failed to allocate 1179910144 bytes: CUDA error: out of memory (CUDA_ERROR_OUT_OF_MEMORY)\n",
      " Reported by CUDA: Free memory/Total memory: 764346368/6226378752\n",
      "2023-02-22 21:41:56.915147: E tensorflow/core/common_runtime/gpu/gpu_cudamallocasync_allocator.cc:293] Stats: Limit:                      4159635456\n",
      "InUse:                      3724632028\n",
      "MaxInUse:                   4360724444\n",
      "NumAllocs:                         365\n",
      "MaxAllocSize:               3612570000\n",
      "Reserved:                            0\n",
      "PeakReserved:                        0\n",
      "LargestFreeBlock:                    0\n",
      "\n",
      "2023-02-22 21:41:56.915164: E tensorflow/core/common_runtime/gpu/gpu_cudamallocasync_allocator.cc:56] Histogram of current allocation: (allocation_size_in_bytes, nb_allocation_of_that_sizes), ...;\n",
      "2023-02-22 21:41:56.915170: E tensorflow/core/common_runtime/gpu/gpu_cudamallocasync_allocator.cc:59] 4, 39\n",
      "2023-02-22 21:41:56.915176: E tensorflow/core/common_runtime/gpu/gpu_cudamallocasync_allocator.cc:59] 8, 7\n",
      "2023-02-22 21:41:56.915180: E tensorflow/core/common_runtime/gpu/gpu_cudamallocasync_allocator.cc:59] 20, 1\n",
      "2023-02-22 21:41:56.915184: E tensorflow/core/common_runtime/gpu/gpu_cudamallocasync_allocator.cc:59] 256, 2\n",
      "2023-02-22 21:41:56.915188: E tensorflow/core/common_runtime/gpu/gpu_cudamallocasync_allocator.cc:59] 512, 8\n",
      "2023-02-22 21:41:56.915192: E tensorflow/core/common_runtime/gpu/gpu_cudamallocasync_allocator.cc:59] 1024, 4\n",
      "2023-02-22 21:41:56.915196: E tensorflow/core/common_runtime/gpu/gpu_cudamallocasync_allocator.cc:59] 1028, 1\n",
      "2023-02-22 21:41:56.915200: E tensorflow/core/common_runtime/gpu/gpu_cudamallocasync_allocator.cc:59] 2048, 8\n",
      "2023-02-22 21:41:56.915204: E tensorflow/core/common_runtime/gpu/gpu_cudamallocasync_allocator.cc:59] 6912, 1\n",
      "2023-02-22 21:41:56.915208: E tensorflow/core/common_runtime/gpu/gpu_cudamallocasync_allocator.cc:59] 147456, 1\n",
      "2023-02-22 21:41:56.915212: E tensorflow/core/common_runtime/gpu/gpu_cudamallocasync_allocator.cc:59] 262144, 3\n",
      "2023-02-22 21:41:56.915215: E tensorflow/core/common_runtime/gpu/gpu_cudamallocasync_allocator.cc:59] 294912, 1\n",
      "2023-02-22 21:41:56.915219: E tensorflow/core/common_runtime/gpu/gpu_cudamallocasync_allocator.cc:59] 368640, 2\n",
      "2023-02-22 21:41:56.915223: E tensorflow/core/common_runtime/gpu/gpu_cudamallocasync_allocator.cc:59] 589824, 1\n",
      "2023-02-22 21:41:56.915227: E tensorflow/core/common_runtime/gpu/gpu_cudamallocasync_allocator.cc:59] 1179648, 1\n",
      "2023-02-22 21:41:56.915231: E tensorflow/core/common_runtime/gpu/gpu_cudamallocasync_allocator.cc:59] 2359296, 3\n",
      "2023-02-22 21:41:56.915235: E tensorflow/core/common_runtime/gpu/gpu_cudamallocasync_allocator.cc:59] 3853408, 1\n",
      "2023-02-22 21:41:56.915238: E tensorflow/core/common_runtime/gpu/gpu_cudamallocasync_allocator.cc:59] 4718592, 1\n",
      "2023-02-22 21:41:56.915243: E tensorflow/core/common_runtime/gpu/gpu_cudamallocasync_allocator.cc:59] 9437184, 8\n",
      "2023-02-22 21:41:56.915246: E tensorflow/core/common_runtime/gpu/gpu_cudamallocasync_allocator.cc:59] 17145856, 1\n",
      "2023-02-22 21:41:56.915250: E tensorflow/core/common_runtime/gpu/gpu_cudamallocasync_allocator.cc:59] 3612570000, 1\n",
      "2023-02-22 21:41:56.934867: E tensorflow/core/common_runtime/gpu/gpu_cudamallocasync_allocator.cc:288] gpu_async_0 cuMemAllocAsync failed to allocate 1179910144 bytes: CUDA error: out of memory (CUDA_ERROR_OUT_OF_MEMORY)\n",
      " Reported by CUDA: Free memory/Total memory: 764346368/6226378752\n",
      "2023-02-22 21:41:56.934904: E tensorflow/core/common_runtime/gpu/gpu_cudamallocasync_allocator.cc:293] Stats: Limit:                      4159635456\n",
      "InUse:                      3724632028\n",
      "MaxInUse:                   4360724444\n",
      "NumAllocs:                         365\n",
      "MaxAllocSize:               3612570000\n",
      "Reserved:                            0\n",
      "PeakReserved:                        0\n",
      "LargestFreeBlock:                    0\n",
      "\n",
      "2023-02-22 21:41:56.934918: E tensorflow/core/common_runtime/gpu/gpu_cudamallocasync_allocator.cc:56] Histogram of current allocation: (allocation_size_in_bytes, nb_allocation_of_that_sizes), ...;\n",
      "2023-02-22 21:41:56.934924: E tensorflow/core/common_runtime/gpu/gpu_cudamallocasync_allocator.cc:59] 4, 39\n",
      "2023-02-22 21:41:56.934928: E tensorflow/core/common_runtime/gpu/gpu_cudamallocasync_allocator.cc:59] 8, 7\n",
      "2023-02-22 21:41:56.934933: E tensorflow/core/common_runtime/gpu/gpu_cudamallocasync_allocator.cc:59] 20, 1\n",
      "2023-02-22 21:41:56.934936: E tensorflow/core/common_runtime/gpu/gpu_cudamallocasync_allocator.cc:59] 256, 2\n",
      "2023-02-22 21:41:56.934940: E tensorflow/core/common_runtime/gpu/gpu_cudamallocasync_allocator.cc:59] 512, 8\n",
      "2023-02-22 21:41:56.934944: E tensorflow/core/common_runtime/gpu/gpu_cudamallocasync_allocator.cc:59] 1024, 4\n",
      "2023-02-22 21:41:56.934949: E tensorflow/core/common_runtime/gpu/gpu_cudamallocasync_allocator.cc:59] 1028, 1\n",
      "2023-02-22 21:41:56.934956: E tensorflow/core/common_runtime/gpu/gpu_cudamallocasync_allocator.cc:59] 2048, 8\n",
      "2023-02-22 21:41:56.934961: E tensorflow/core/common_runtime/gpu/gpu_cudamallocasync_allocator.cc:59] 6912, 1\n",
      "2023-02-22 21:41:56.934967: E tensorflow/core/common_runtime/gpu/gpu_cudamallocasync_allocator.cc:59] 147456, 1\n",
      "2023-02-22 21:41:56.934972: E tensorflow/core/common_runtime/gpu/gpu_cudamallocasync_allocator.cc:59] 262144, 3\n",
      "2023-02-22 21:41:56.934975: E tensorflow/core/common_runtime/gpu/gpu_cudamallocasync_allocator.cc:59] 294912, 1\n",
      "2023-02-22 21:41:56.934979: E tensorflow/core/common_runtime/gpu/gpu_cudamallocasync_allocator.cc:59] 368640, 2\n",
      "2023-02-22 21:41:56.934982: E tensorflow/core/common_runtime/gpu/gpu_cudamallocasync_allocator.cc:59] 589824, 1\n",
      "2023-02-22 21:41:56.934986: E tensorflow/core/common_runtime/gpu/gpu_cudamallocasync_allocator.cc:59] 1179648, 1\n",
      "2023-02-22 21:41:56.934989: E tensorflow/core/common_runtime/gpu/gpu_cudamallocasync_allocator.cc:59] 2359296, 3\n",
      "2023-02-22 21:41:56.934993: E tensorflow/core/common_runtime/gpu/gpu_cudamallocasync_allocator.cc:59] 3853408, 1\n",
      "2023-02-22 21:41:56.934996: E tensorflow/core/common_runtime/gpu/gpu_cudamallocasync_allocator.cc:59] 4718592, 1\n",
      "2023-02-22 21:41:56.934999: E tensorflow/core/common_runtime/gpu/gpu_cudamallocasync_allocator.cc:59] 9437184, 8\n",
      "2023-02-22 21:41:56.935003: E tensorflow/core/common_runtime/gpu/gpu_cudamallocasync_allocator.cc:59] 17145856, 1\n",
      "2023-02-22 21:41:56.935007: E tensorflow/core/common_runtime/gpu/gpu_cudamallocasync_allocator.cc:59] 3612570000, 1\n",
      "2023-02-22 21:41:56.973188: E tensorflow/core/common_runtime/gpu/gpu_cudamallocasync_allocator.cc:288] gpu_async_0 cuMemAllocAsync failed to allocate 1179910144 bytes: CUDA error: out of memory (CUDA_ERROR_OUT_OF_MEMORY)\n",
      " Reported by CUDA: Free memory/Total memory: 764346368/6226378752\n",
      "2023-02-22 21:41:56.973294: E tensorflow/core/common_runtime/gpu/gpu_cudamallocasync_allocator.cc:293] Stats: Limit:                      4159635456\n",
      "InUse:                      3723802588\n",
      "MaxInUse:                   4360724444\n",
      "NumAllocs:                         388\n",
      "MaxAllocSize:               3612570000\n",
      "Reserved:                            0\n",
      "PeakReserved:                        0\n",
      "LargestFreeBlock:                    0\n",
      "\n",
      "2023-02-22 21:41:56.973327: E tensorflow/core/common_runtime/gpu/gpu_cudamallocasync_allocator.cc:56] Histogram of current allocation: (allocation_size_in_bytes, nb_allocation_of_that_sizes), ...;\n",
      "2023-02-22 21:41:56.973338: E tensorflow/core/common_runtime/gpu/gpu_cudamallocasync_allocator.cc:59] 4, 39\n",
      "2023-02-22 21:41:56.973344: E tensorflow/core/common_runtime/gpu/gpu_cudamallocasync_allocator.cc:59] 8, 7\n",
      "2023-02-22 21:41:56.973349: E tensorflow/core/common_runtime/gpu/gpu_cudamallocasync_allocator.cc:59] 20, 1\n",
      "2023-02-22 21:41:56.973356: E tensorflow/core/common_runtime/gpu/gpu_cudamallocasync_allocator.cc:59] 256, 2\n",
      "2023-02-22 21:41:56.973361: E tensorflow/core/common_runtime/gpu/gpu_cudamallocasync_allocator.cc:59] 512, 8\n",
      "2023-02-22 21:41:56.973367: E tensorflow/core/common_runtime/gpu/gpu_cudamallocasync_allocator.cc:59] 1024, 4\n",
      "2023-02-22 21:41:56.973372: E tensorflow/core/common_runtime/gpu/gpu_cudamallocasync_allocator.cc:59] 1028, 1\n",
      "2023-02-22 21:41:56.973378: E tensorflow/core/common_runtime/gpu/gpu_cudamallocasync_allocator.cc:59] 2048, 8\n",
      "2023-02-22 21:41:56.973385: E tensorflow/core/common_runtime/gpu/gpu_cudamallocasync_allocator.cc:59] 6912, 1\n",
      "2023-02-22 21:41:56.973391: E tensorflow/core/common_runtime/gpu/gpu_cudamallocasync_allocator.cc:59] 92160, 2\n",
      "2023-02-22 21:41:56.973397: E tensorflow/core/common_runtime/gpu/gpu_cudamallocasync_allocator.cc:59] 147456, 1\n",
      "2023-02-22 21:41:56.973405: E tensorflow/core/common_runtime/gpu/gpu_cudamallocasync_allocator.cc:59] 262144, 3\n",
      "2023-02-22 21:41:56.973414: E tensorflow/core/common_runtime/gpu/gpu_cudamallocasync_allocator.cc:59] 294912, 1\n",
      "2023-02-22 21:41:56.973420: E tensorflow/core/common_runtime/gpu/gpu_cudamallocasync_allocator.cc:59] 589824, 1\n",
      "2023-02-22 21:41:56.973426: E tensorflow/core/common_runtime/gpu/gpu_cudamallocasync_allocator.cc:59] 1179648, 1\n",
      "2023-02-22 21:41:56.973432: E tensorflow/core/common_runtime/gpu/gpu_cudamallocasync_allocator.cc:59] 2359296, 3\n",
      "2023-02-22 21:41:56.973438: E tensorflow/core/common_runtime/gpu/gpu_cudamallocasync_allocator.cc:59] 3853408, 1\n",
      "2023-02-22 21:41:56.973444: E tensorflow/core/common_runtime/gpu/gpu_cudamallocasync_allocator.cc:59] 4718592, 1\n",
      "2023-02-22 21:41:56.973450: E tensorflow/core/common_runtime/gpu/gpu_cudamallocasync_allocator.cc:59] 9437184, 8\n",
      "2023-02-22 21:41:56.973456: E tensorflow/core/common_runtime/gpu/gpu_cudamallocasync_allocator.cc:59] 16869376, 1\n",
      "2023-02-22 21:41:56.973463: E tensorflow/core/common_runtime/gpu/gpu_cudamallocasync_allocator.cc:59] 3612570000, 1\n",
      "2023-02-22 21:41:56.993671: E tensorflow/core/common_runtime/gpu/gpu_cudamallocasync_allocator.cc:288] gpu_async_0 cuMemAllocAsync failed to allocate 1179910144 bytes: CUDA error: out of memory (CUDA_ERROR_OUT_OF_MEMORY)\n",
      " Reported by CUDA: Free memory/Total memory: 764346368/6226378752\n",
      "2023-02-22 21:41:56.993719: E tensorflow/core/common_runtime/gpu/gpu_cudamallocasync_allocator.cc:293] Stats: Limit:                      4159635456\n",
      "InUse:                      3723802588\n",
      "MaxInUse:                   4360724444\n",
      "NumAllocs:                         388\n",
      "MaxAllocSize:               3612570000\n",
      "Reserved:                            0\n",
      "PeakReserved:                        0\n",
      "LargestFreeBlock:                    0\n",
      "\n",
      "2023-02-22 21:41:56.993736: E tensorflow/core/common_runtime/gpu/gpu_cudamallocasync_allocator.cc:56] Histogram of current allocation: (allocation_size_in_bytes, nb_allocation_of_that_sizes), ...;\n",
      "2023-02-22 21:41:56.993742: E tensorflow/core/common_runtime/gpu/gpu_cudamallocasync_allocator.cc:59] 4, 39\n",
      "2023-02-22 21:41:56.993747: E tensorflow/core/common_runtime/gpu/gpu_cudamallocasync_allocator.cc:59] 8, 7\n",
      "2023-02-22 21:41:56.993752: E tensorflow/core/common_runtime/gpu/gpu_cudamallocasync_allocator.cc:59] 20, 1\n",
      "2023-02-22 21:41:56.993758: E tensorflow/core/common_runtime/gpu/gpu_cudamallocasync_allocator.cc:59] 256, 2\n",
      "2023-02-22 21:41:56.993763: E tensorflow/core/common_runtime/gpu/gpu_cudamallocasync_allocator.cc:59] 512, 8\n",
      "2023-02-22 21:41:56.993768: E tensorflow/core/common_runtime/gpu/gpu_cudamallocasync_allocator.cc:59] 1024, 4\n",
      "2023-02-22 21:41:56.993774: E tensorflow/core/common_runtime/gpu/gpu_cudamallocasync_allocator.cc:59] 1028, 1\n",
      "2023-02-22 21:41:56.993780: E tensorflow/core/common_runtime/gpu/gpu_cudamallocasync_allocator.cc:59] 2048, 8\n",
      "2023-02-22 21:41:56.993785: E tensorflow/core/common_runtime/gpu/gpu_cudamallocasync_allocator.cc:59] 6912, 1\n",
      "2023-02-22 21:41:56.993791: E tensorflow/core/common_runtime/gpu/gpu_cudamallocasync_allocator.cc:59] 92160, 2\n",
      "2023-02-22 21:41:56.993797: E tensorflow/core/common_runtime/gpu/gpu_cudamallocasync_allocator.cc:59] 147456, 1\n",
      "2023-02-22 21:41:56.993802: E tensorflow/core/common_runtime/gpu/gpu_cudamallocasync_allocator.cc:59] 262144, 3\n",
      "2023-02-22 21:41:56.993808: E tensorflow/core/common_runtime/gpu/gpu_cudamallocasync_allocator.cc:59] 294912, 1\n",
      "2023-02-22 21:41:56.993813: E tensorflow/core/common_runtime/gpu/gpu_cudamallocasync_allocator.cc:59] 589824, 1\n",
      "2023-02-22 21:41:56.993820: E tensorflow/core/common_runtime/gpu/gpu_cudamallocasync_allocator.cc:59] 1179648, 1\n",
      "2023-02-22 21:41:56.993826: E tensorflow/core/common_runtime/gpu/gpu_cudamallocasync_allocator.cc:59] 2359296, 3\n",
      "2023-02-22 21:41:56.993831: E tensorflow/core/common_runtime/gpu/gpu_cudamallocasync_allocator.cc:59] 3853408, 1\n",
      "2023-02-22 21:41:56.993837: E tensorflow/core/common_runtime/gpu/gpu_cudamallocasync_allocator.cc:59] 4718592, 1\n",
      "2023-02-22 21:41:56.993843: E tensorflow/core/common_runtime/gpu/gpu_cudamallocasync_allocator.cc:59] 9437184, 8\n",
      "2023-02-22 21:41:56.993849: E tensorflow/core/common_runtime/gpu/gpu_cudamallocasync_allocator.cc:59] 16869376, 1\n",
      "2023-02-22 21:41:56.993854: E tensorflow/core/common_runtime/gpu/gpu_cudamallocasync_allocator.cc:59] 3612570000, 1\n",
      "2023-02-22 21:41:57.001733: I tensorflow/compiler/xla/stream_executor/cuda/cuda_blas.cc:630] TensorFloat-32 will be used for the matrix multiplication. This will only be logged once.\n"
     ]
    },
    {
     "name": "stdout",
     "output_type": "stream",
     "text": [
      "96336/96336 [==============================] - ETA: 0s - loss: 0.0663 - accuracy: 0.9901"
     ]
    },
    {
     "name": "stderr",
     "output_type": "stream",
     "text": [
      "2023-02-22 21:52:48.370830: E tensorflow/core/common_runtime/gpu/gpu_cudamallocasync_allocator.cc:288] gpu_async_0 cuMemAllocAsync failed to allocate 1162084352 bytes: CUDA error: out of memory (CUDA_ERROR_OUT_OF_MEMORY)\n",
      " Reported by CUDA: Free memory/Total memory: 764346368/6226378752\n",
      "2023-02-22 21:52:48.370876: E tensorflow/core/common_runtime/gpu/gpu_cudamallocasync_allocator.cc:293] Stats: Limit:                      4159635456\n",
      "InUse:                      3724199688\n",
      "MaxInUse:                   4360724444\n",
      "NumAllocs:                    10404677\n",
      "MaxAllocSize:               3612570000\n",
      "Reserved:                            0\n",
      "PeakReserved:                        0\n",
      "LargestFreeBlock:                    0\n",
      "\n",
      "2023-02-22 21:52:48.370888: E tensorflow/core/common_runtime/gpu/gpu_cudamallocasync_allocator.cc:56] Histogram of current allocation: (allocation_size_in_bytes, nb_allocation_of_that_sizes), ...;\n",
      "2023-02-22 21:52:48.370893: E tensorflow/core/common_runtime/gpu/gpu_cudamallocasync_allocator.cc:59] 4, 42\n",
      "2023-02-22 21:52:48.370896: E tensorflow/core/common_runtime/gpu/gpu_cudamallocasync_allocator.cc:59] 8, 8\n",
      "2023-02-22 21:52:48.370900: E tensorflow/core/common_runtime/gpu/gpu_cudamallocasync_allocator.cc:59] 256, 2\n",
      "2023-02-22 21:52:48.370903: E tensorflow/core/common_runtime/gpu/gpu_cudamallocasync_allocator.cc:59] 512, 8\n",
      "2023-02-22 21:52:48.370907: E tensorflow/core/common_runtime/gpu/gpu_cudamallocasync_allocator.cc:59] 1024, 4\n",
      "2023-02-22 21:52:48.370910: E tensorflow/core/common_runtime/gpu/gpu_cudamallocasync_allocator.cc:59] 1028, 1\n",
      "2023-02-22 21:52:48.370915: E tensorflow/core/common_runtime/gpu/gpu_cudamallocasync_allocator.cc:59] 2048, 8\n",
      "2023-02-22 21:52:48.370918: E tensorflow/core/common_runtime/gpu/gpu_cudamallocasync_allocator.cc:59] 6912, 1\n",
      "2023-02-22 21:52:48.370922: E tensorflow/core/common_runtime/gpu/gpu_cudamallocasync_allocator.cc:59] 73728, 2\n",
      "2023-02-22 21:52:48.370926: E tensorflow/core/common_runtime/gpu/gpu_cudamallocasync_allocator.cc:59] 147456, 1\n",
      "2023-02-22 21:52:48.370930: E tensorflow/core/common_runtime/gpu/gpu_cudamallocasync_allocator.cc:59] 262144, 3\n",
      "2023-02-22 21:52:48.370934: E tensorflow/core/common_runtime/gpu/gpu_cudamallocasync_allocator.cc:59] 294912, 1\n",
      "2023-02-22 21:52:48.370939: E tensorflow/core/common_runtime/gpu/gpu_cudamallocasync_allocator.cc:59] 589824, 1\n",
      "2023-02-22 21:52:48.370942: E tensorflow/core/common_runtime/gpu/gpu_cudamallocasync_allocator.cc:59] 1179648, 1\n",
      "2023-02-22 21:52:48.370947: E tensorflow/core/common_runtime/gpu/gpu_cudamallocasync_allocator.cc:59] 2359296, 3\n",
      "2023-02-22 21:52:48.370950: E tensorflow/core/common_runtime/gpu/gpu_cudamallocasync_allocator.cc:59] 3853408, 1\n",
      "2023-02-22 21:52:48.370955: E tensorflow/core/common_runtime/gpu/gpu_cudamallocasync_allocator.cc:59] 4718592, 1\n",
      "2023-02-22 21:52:48.370958: E tensorflow/core/common_runtime/gpu/gpu_cudamallocasync_allocator.cc:59] 9437184, 8\n",
      "2023-02-22 21:52:48.370962: E tensorflow/core/common_runtime/gpu/gpu_cudamallocasync_allocator.cc:59] 16850944, 1\n",
      "2023-02-22 21:52:48.370968: E tensorflow/core/common_runtime/gpu/gpu_cudamallocasync_allocator.cc:59] 3612570000, 1\n",
      "2023-02-22 21:52:48.388015: E tensorflow/core/common_runtime/gpu/gpu_cudamallocasync_allocator.cc:288] gpu_async_0 cuMemAllocAsync failed to allocate 1162084352 bytes: CUDA error: out of memory (CUDA_ERROR_OUT_OF_MEMORY)\n",
      " Reported by CUDA: Free memory/Total memory: 764346368/6226378752\n",
      "2023-02-22 21:52:48.388079: E tensorflow/core/common_runtime/gpu/gpu_cudamallocasync_allocator.cc:293] Stats: Limit:                      4159635456\n",
      "InUse:                      3724199688\n",
      "MaxInUse:                   4360724444\n",
      "NumAllocs:                    10404677\n",
      "MaxAllocSize:               3612570000\n",
      "Reserved:                            0\n",
      "PeakReserved:                        0\n",
      "LargestFreeBlock:                    0\n",
      "\n",
      "2023-02-22 21:52:48.388095: E tensorflow/core/common_runtime/gpu/gpu_cudamallocasync_allocator.cc:56] Histogram of current allocation: (allocation_size_in_bytes, nb_allocation_of_that_sizes), ...;\n",
      "2023-02-22 21:52:48.388102: E tensorflow/core/common_runtime/gpu/gpu_cudamallocasync_allocator.cc:59] 4, 42\n",
      "2023-02-22 21:52:48.388105: E tensorflow/core/common_runtime/gpu/gpu_cudamallocasync_allocator.cc:59] 8, 8\n",
      "2023-02-22 21:52:48.388109: E tensorflow/core/common_runtime/gpu/gpu_cudamallocasync_allocator.cc:59] 256, 2\n",
      "2023-02-22 21:52:48.388113: E tensorflow/core/common_runtime/gpu/gpu_cudamallocasync_allocator.cc:59] 512, 8\n",
      "2023-02-22 21:52:48.388117: E tensorflow/core/common_runtime/gpu/gpu_cudamallocasync_allocator.cc:59] 1024, 4\n",
      "2023-02-22 21:52:48.388119: E tensorflow/core/common_runtime/gpu/gpu_cudamallocasync_allocator.cc:59] 1028, 1\n",
      "2023-02-22 21:52:48.388123: E tensorflow/core/common_runtime/gpu/gpu_cudamallocasync_allocator.cc:59] 2048, 8\n",
      "2023-02-22 21:52:48.388127: E tensorflow/core/common_runtime/gpu/gpu_cudamallocasync_allocator.cc:59] 6912, 1\n",
      "2023-02-22 21:52:48.388130: E tensorflow/core/common_runtime/gpu/gpu_cudamallocasync_allocator.cc:59] 73728, 2\n",
      "2023-02-22 21:52:48.388134: E tensorflow/core/common_runtime/gpu/gpu_cudamallocasync_allocator.cc:59] 147456, 1\n",
      "2023-02-22 21:52:48.388138: E tensorflow/core/common_runtime/gpu/gpu_cudamallocasync_allocator.cc:59] 262144, 3\n",
      "2023-02-22 21:52:48.388141: E tensorflow/core/common_runtime/gpu/gpu_cudamallocasync_allocator.cc:59] 294912, 1\n",
      "2023-02-22 21:52:48.388146: E tensorflow/core/common_runtime/gpu/gpu_cudamallocasync_allocator.cc:59] 589824, 1\n",
      "2023-02-22 21:52:48.388149: E tensorflow/core/common_runtime/gpu/gpu_cudamallocasync_allocator.cc:59] 1179648, 1\n",
      "2023-02-22 21:52:48.388155: E tensorflow/core/common_runtime/gpu/gpu_cudamallocasync_allocator.cc:59] 2359296, 3\n",
      "2023-02-22 21:52:48.388162: E tensorflow/core/common_runtime/gpu/gpu_cudamallocasync_allocator.cc:59] 3853408, 1\n",
      "2023-02-22 21:52:48.388167: E tensorflow/core/common_runtime/gpu/gpu_cudamallocasync_allocator.cc:59] 4718592, 1\n",
      "2023-02-22 21:52:48.388173: E tensorflow/core/common_runtime/gpu/gpu_cudamallocasync_allocator.cc:59] 9437184, 8\n",
      "2023-02-22 21:52:48.388180: E tensorflow/core/common_runtime/gpu/gpu_cudamallocasync_allocator.cc:59] 16850944, 1\n",
      "2023-02-22 21:52:48.388186: E tensorflow/core/common_runtime/gpu/gpu_cudamallocasync_allocator.cc:59] 3612570000, 1\n",
      "2023-02-22 21:52:48.423101: E tensorflow/core/common_runtime/gpu/gpu_cudamallocasync_allocator.cc:288] gpu_async_0 cuMemAllocAsync failed to allocate 1162084352 bytes: CUDA error: out of memory (CUDA_ERROR_OUT_OF_MEMORY)\n",
      " Reported by CUDA: Free memory/Total memory: 764346368/6226378752\n",
      "2023-02-22 21:52:48.423152: E tensorflow/core/common_runtime/gpu/gpu_cudamallocasync_allocator.cc:293] Stats: Limit:                      4159635456\n",
      "InUse:                      3724033800\n",
      "MaxInUse:                   4360724444\n",
      "NumAllocs:                    10404700\n",
      "MaxAllocSize:               3612570000\n",
      "Reserved:                            0\n",
      "PeakReserved:                        0\n",
      "LargestFreeBlock:                    0\n",
      "\n",
      "2023-02-22 21:52:48.423169: E tensorflow/core/common_runtime/gpu/gpu_cudamallocasync_allocator.cc:56] Histogram of current allocation: (allocation_size_in_bytes, nb_allocation_of_that_sizes), ...;\n",
      "2023-02-22 21:52:48.423177: E tensorflow/core/common_runtime/gpu/gpu_cudamallocasync_allocator.cc:59] 4, 42\n",
      "2023-02-22 21:52:48.423183: E tensorflow/core/common_runtime/gpu/gpu_cudamallocasync_allocator.cc:59] 8, 8\n",
      "2023-02-22 21:52:48.423189: E tensorflow/core/common_runtime/gpu/gpu_cudamallocasync_allocator.cc:59] 256, 2\n",
      "2023-02-22 21:52:48.423194: E tensorflow/core/common_runtime/gpu/gpu_cudamallocasync_allocator.cc:59] 512, 8\n",
      "2023-02-22 21:52:48.423199: E tensorflow/core/common_runtime/gpu/gpu_cudamallocasync_allocator.cc:59] 1024, 4\n",
      "2023-02-22 21:52:48.423202: E tensorflow/core/common_runtime/gpu/gpu_cudamallocasync_allocator.cc:59] 1028, 1\n",
      "2023-02-22 21:52:48.423206: E tensorflow/core/common_runtime/gpu/gpu_cudamallocasync_allocator.cc:59] 2048, 8\n",
      "2023-02-22 21:52:48.423210: E tensorflow/core/common_runtime/gpu/gpu_cudamallocasync_allocator.cc:59] 6912, 1\n",
      "2023-02-22 21:52:48.423214: E tensorflow/core/common_runtime/gpu/gpu_cudamallocasync_allocator.cc:59] 18432, 2\n",
      "2023-02-22 21:52:48.423218: E tensorflow/core/common_runtime/gpu/gpu_cudamallocasync_allocator.cc:59] 147456, 1\n",
      "2023-02-22 21:52:48.423222: E tensorflow/core/common_runtime/gpu/gpu_cudamallocasync_allocator.cc:59] 262144, 3\n",
      "2023-02-22 21:52:48.423225: E tensorflow/core/common_runtime/gpu/gpu_cudamallocasync_allocator.cc:59] 294912, 1\n",
      "2023-02-22 21:52:48.423230: E tensorflow/core/common_runtime/gpu/gpu_cudamallocasync_allocator.cc:59] 589824, 1\n",
      "2023-02-22 21:52:48.423233: E tensorflow/core/common_runtime/gpu/gpu_cudamallocasync_allocator.cc:59] 1179648, 1\n",
      "2023-02-22 21:52:48.423238: E tensorflow/core/common_runtime/gpu/gpu_cudamallocasync_allocator.cc:59] 2359296, 3\n",
      "2023-02-22 21:52:48.423244: E tensorflow/core/common_runtime/gpu/gpu_cudamallocasync_allocator.cc:59] 3853408, 1\n",
      "2023-02-22 21:52:48.423250: E tensorflow/core/common_runtime/gpu/gpu_cudamallocasync_allocator.cc:59] 4718592, 1\n",
      "2023-02-22 21:52:48.423255: E tensorflow/core/common_runtime/gpu/gpu_cudamallocasync_allocator.cc:59] 9437184, 8\n",
      "2023-02-22 21:52:48.423260: E tensorflow/core/common_runtime/gpu/gpu_cudamallocasync_allocator.cc:59] 16795648, 1\n",
      "2023-02-22 21:52:48.423266: E tensorflow/core/common_runtime/gpu/gpu_cudamallocasync_allocator.cc:59] 3612570000, 1\n",
      "2023-02-22 21:52:48.441904: E tensorflow/core/common_runtime/gpu/gpu_cudamallocasync_allocator.cc:288] gpu_async_0 cuMemAllocAsync failed to allocate 1162084352 bytes: CUDA error: out of memory (CUDA_ERROR_OUT_OF_MEMORY)\n",
      " Reported by CUDA: Free memory/Total memory: 764346368/6226378752\n",
      "2023-02-22 21:52:48.441950: E tensorflow/core/common_runtime/gpu/gpu_cudamallocasync_allocator.cc:293] Stats: Limit:                      4159635456\n",
      "InUse:                      3724033800\n",
      "MaxInUse:                   4360724444\n",
      "NumAllocs:                    10404700\n",
      "MaxAllocSize:               3612570000\n",
      "Reserved:                            0\n",
      "PeakReserved:                        0\n",
      "LargestFreeBlock:                    0\n",
      "\n",
      "2023-02-22 21:52:48.441992: E tensorflow/core/common_runtime/gpu/gpu_cudamallocasync_allocator.cc:56] Histogram of current allocation: (allocation_size_in_bytes, nb_allocation_of_that_sizes), ...;\n",
      "2023-02-22 21:52:48.441999: E tensorflow/core/common_runtime/gpu/gpu_cudamallocasync_allocator.cc:59] 4, 42\n",
      "2023-02-22 21:52:48.442005: E tensorflow/core/common_runtime/gpu/gpu_cudamallocasync_allocator.cc:59] 8, 8\n",
      "2023-02-22 21:52:48.442009: E tensorflow/core/common_runtime/gpu/gpu_cudamallocasync_allocator.cc:59] 256, 2\n",
      "2023-02-22 21:52:48.442012: E tensorflow/core/common_runtime/gpu/gpu_cudamallocasync_allocator.cc:59] 512, 8\n",
      "2023-02-22 21:52:48.442017: E tensorflow/core/common_runtime/gpu/gpu_cudamallocasync_allocator.cc:59] 1024, 4\n",
      "2023-02-22 21:52:48.442020: E tensorflow/core/common_runtime/gpu/gpu_cudamallocasync_allocator.cc:59] 1028, 1\n",
      "2023-02-22 21:52:48.442025: E tensorflow/core/common_runtime/gpu/gpu_cudamallocasync_allocator.cc:59] 2048, 8\n",
      "2023-02-22 21:52:48.442029: E tensorflow/core/common_runtime/gpu/gpu_cudamallocasync_allocator.cc:59] 6912, 1\n",
      "2023-02-22 21:52:48.442033: E tensorflow/core/common_runtime/gpu/gpu_cudamallocasync_allocator.cc:59] 18432, 2\n",
      "2023-02-22 21:52:48.442037: E tensorflow/core/common_runtime/gpu/gpu_cudamallocasync_allocator.cc:59] 147456, 1\n",
      "2023-02-22 21:52:48.442041: E tensorflow/core/common_runtime/gpu/gpu_cudamallocasync_allocator.cc:59] 262144, 3\n",
      "2023-02-22 21:52:48.442045: E tensorflow/core/common_runtime/gpu/gpu_cudamallocasync_allocator.cc:59] 294912, 1\n",
      "2023-02-22 21:52:48.442049: E tensorflow/core/common_runtime/gpu/gpu_cudamallocasync_allocator.cc:59] 589824, 1\n",
      "2023-02-22 21:52:48.442053: E tensorflow/core/common_runtime/gpu/gpu_cudamallocasync_allocator.cc:59] 1179648, 1\n",
      "2023-02-22 21:52:48.442058: E tensorflow/core/common_runtime/gpu/gpu_cudamallocasync_allocator.cc:59] 2359296, 3\n",
      "2023-02-22 21:52:48.442068: E tensorflow/core/common_runtime/gpu/gpu_cudamallocasync_allocator.cc:59] 3853408, 1\n",
      "2023-02-22 21:52:48.442072: E tensorflow/core/common_runtime/gpu/gpu_cudamallocasync_allocator.cc:59] 4718592, 1\n",
      "2023-02-22 21:52:48.442076: E tensorflow/core/common_runtime/gpu/gpu_cudamallocasync_allocator.cc:59] 9437184, 8\n",
      "2023-02-22 21:52:48.442080: E tensorflow/core/common_runtime/gpu/gpu_cudamallocasync_allocator.cc:59] 16795648, 1\n",
      "2023-02-22 21:52:48.442083: E tensorflow/core/common_runtime/gpu/gpu_cudamallocasync_allocator.cc:59] 3612570000, 1\n",
      "2023-02-22 21:52:48.560860: W tensorflow/tsl/framework/cpu_allocator_impl.cc:82] Allocation of 903150000 exceeds 10% of free system memory.\n",
      "2023-02-22 21:52:54.366799: W tensorflow/tsl/framework/cpu_allocator_impl.cc:82] Allocation of 903150000 exceeds 10% of free system memory.\n"
     ]
    },
    {
     "name": "stdout",
     "output_type": "stream",
     "text": [
      "96336/96336 [==============================] - 798s 8ms/step - loss: 0.0663 - accuracy: 0.9901 - val_loss: 0.0532 - val_accuracy: 0.9911\n",
      "Epoch 2/3\n",
      "96336/96336 [==============================] - 801s 8ms/step - loss: 0.0660 - accuracy: 0.9908 - val_loss: 0.0491 - val_accuracy: 0.9907\n",
      "Epoch 3/3\n",
      "96336/96336 [==============================] - 731s 8ms/step - loss: 0.0670 - accuracy: 0.9901 - val_loss: 0.0638 - val_accuracy: 0.9912\n"
     ]
    }
   ],
   "source": [
    "hist = my_model.fit(\n",
    "    X_train,\n",
    "    y_train,\n",
    "    batch_size=batch_size,\n",
    "    epochs=epochs,\n",
    "    verbose=1,\n",
    "    validation_split=0.2,\n",
    ")"
   ]
  },
  {
   "cell_type": "code",
   "execution_count": 22,
   "metadata": {
    "execution": {
     "iopub.execute_input": "2023-02-22T22:20:59.852170Z",
     "iopub.status.busy": "2023-02-22T22:20:59.851659Z",
     "iopub.status.idle": "2023-02-22T22:20:59.901865Z",
     "shell.execute_reply": "2023-02-22T22:20:59.901297Z",
     "shell.execute_reply.started": "2023-02-22T22:20:59.852131Z"
    },
    "tags": []
   },
   "outputs": [],
   "source": [
    "tf.keras.backend.clear_session()\n",
    "tf.compat.v1.reset_default_graph()"
   ]
  },
  {
   "cell_type": "code",
   "execution_count": 26,
   "metadata": {
    "execution": {
     "iopub.execute_input": "2023-02-22T22:21:36.907233Z",
     "iopub.status.busy": "2023-02-22T22:21:36.907011Z",
     "iopub.status.idle": "2023-02-22T22:21:37.525904Z",
     "shell.execute_reply": "2023-02-22T22:21:37.524508Z",
     "shell.execute_reply.started": "2023-02-22T22:21:36.907214Z"
    },
    "tags": []
   },
   "outputs": [
    {
     "name": "stderr",
     "output_type": "stream",
     "text": [
      "2023-02-22 22:21:37.426853: E tensorflow/core/common_runtime/gpu/gpu_cudamallocasync_allocator.cc:288] gpu_async_0 cuMemAllocAsync failed to allocate 1505242500 bytes: CUDA error: out of memory (CUDA_ERROR_OUT_OF_MEMORY)\n",
      " Reported by CUDA: Free memory/Total memory: 402063360/6226378752\n",
      "2023-02-22 22:21:37.426891: E tensorflow/core/common_runtime/gpu/gpu_cudamallocasync_allocator.cc:293] Stats: Limit:                      4159635456\n",
      "InUse:                      4601994260\n",
      "MaxInUse:                   4626803140\n",
      "NumAllocs:                    36343256\n",
      "MaxAllocSize:               3612570000\n",
      "Reserved:                            0\n",
      "PeakReserved:                        0\n",
      "LargestFreeBlock:                    0\n",
      "\n",
      "2023-02-22 22:21:37.426911: E tensorflow/core/common_runtime/gpu/gpu_cudamallocasync_allocator.cc:56] Histogram of current allocation: (allocation_size_in_bytes, nb_allocation_of_that_sizes), ...;\n",
      "2023-02-22 22:21:37.426917: E tensorflow/core/common_runtime/gpu/gpu_cudamallocasync_allocator.cc:59] 4, 33\n",
      "2023-02-22 22:21:37.426921: E tensorflow/core/common_runtime/gpu/gpu_cudamallocasync_allocator.cc:59] 8, 7\n",
      "2023-02-22 22:21:37.426924: E tensorflow/core/common_runtime/gpu/gpu_cudamallocasync_allocator.cc:59] 256, 2\n",
      "2023-02-22 22:21:37.426927: E tensorflow/core/common_runtime/gpu/gpu_cudamallocasync_allocator.cc:59] 512, 6\n",
      "2023-02-22 22:21:37.426931: E tensorflow/core/common_runtime/gpu/gpu_cudamallocasync_allocator.cc:59] 1024, 4\n",
      "2023-02-22 22:21:37.426934: E tensorflow/core/common_runtime/gpu/gpu_cudamallocasync_allocator.cc:59] 1028, 1\n",
      "2023-02-22 22:21:37.426938: E tensorflow/core/common_runtime/gpu/gpu_cudamallocasync_allocator.cc:59] 2048, 8\n",
      "2023-02-22 22:21:37.426941: E tensorflow/core/common_runtime/gpu/gpu_cudamallocasync_allocator.cc:59] 6912, 1\n",
      "2023-02-22 22:21:37.426945: E tensorflow/core/common_runtime/gpu/gpu_cudamallocasync_allocator.cc:59] 147456, 1\n",
      "2023-02-22 22:21:37.426948: E tensorflow/core/common_runtime/gpu/gpu_cudamallocasync_allocator.cc:59] 262144, 2\n",
      "2023-02-22 22:21:37.426951: E tensorflow/core/common_runtime/gpu/gpu_cudamallocasync_allocator.cc:59] 294912, 1\n",
      "2023-02-22 22:21:37.426955: E tensorflow/core/common_runtime/gpu/gpu_cudamallocasync_allocator.cc:59] 589824, 1\n",
      "2023-02-22 22:21:37.426959: E tensorflow/core/common_runtime/gpu/gpu_cudamallocasync_allocator.cc:59] 963360, 1\n",
      "2023-02-22 22:21:37.426962: E tensorflow/core/common_runtime/gpu/gpu_cudamallocasync_allocator.cc:59] 1179648, 1\n",
      "2023-02-22 22:21:37.426966: E tensorflow/core/common_runtime/gpu/gpu_cudamallocasync_allocator.cc:59] 2359296, 3\n",
      "2023-02-22 22:21:37.426970: E tensorflow/core/common_runtime/gpu/gpu_cudamallocasync_allocator.cc:59] 3853408, 1\n",
      "2023-02-22 22:21:37.426973: E tensorflow/core/common_runtime/gpu/gpu_cudamallocasync_allocator.cc:59] 4718592, 1\n",
      "2023-02-22 22:21:37.426977: E tensorflow/core/common_runtime/gpu/gpu_cudamallocasync_allocator.cc:59] 9437184, 7\n",
      "2023-02-22 22:21:37.426980: E tensorflow/core/common_runtime/gpu/gpu_cudamallocasync_allocator.cc:59] 903150000, 1\n",
      "2023-02-22 22:21:37.426984: E tensorflow/core/common_runtime/gpu/gpu_cudamallocasync_allocator.cc:59] 3612570000, 1\n"
     ]
    },
    {
     "ename": "InternalError",
     "evalue": "Failed copying input tensor from /job:localhost/replica:0/task:0/device:CPU:0 to /job:localhost/replica:0/task:0/device:GPU:0 in order to run _EagerConst: Dst tensor is not initialized.",
     "output_type": "error",
     "traceback": [
      "\u001b[0;31m---------------------------------------------------------------------------\u001b[0m",
      "\u001b[0;31mInternalError\u001b[0m                             Traceback (most recent call last)",
      "Cell \u001b[0;32mIn[26], line 1\u001b[0m\n\u001b[0;32m----> 1\u001b[0m score \u001b[38;5;241m=\u001b[39m \u001b[43mmy_model\u001b[49m\u001b[38;5;241;43m.\u001b[39;49m\u001b[43mevaluate\u001b[49m\u001b[43m(\u001b[49m\u001b[43mX_test\u001b[49m\u001b[43m,\u001b[49m\u001b[43m \u001b[49m\u001b[43my_test\u001b[49m\u001b[43m,\u001b[49m\u001b[43m \u001b[49m\u001b[43mverbose\u001b[49m\u001b[38;5;241;43m=\u001b[39;49m\u001b[38;5;241;43m0\u001b[39;49m\u001b[43m)\u001b[49m\n",
      "File \u001b[0;32m/usr/local/lib/python3.8/dist-packages/keras/utils/traceback_utils.py:70\u001b[0m, in \u001b[0;36mfilter_traceback.<locals>.error_handler\u001b[0;34m(*args, **kwargs)\u001b[0m\n\u001b[1;32m     67\u001b[0m     filtered_tb \u001b[38;5;241m=\u001b[39m _process_traceback_frames(e\u001b[38;5;241m.\u001b[39m__traceback__)\n\u001b[1;32m     68\u001b[0m     \u001b[38;5;66;03m# To get the full stack trace, call:\u001b[39;00m\n\u001b[1;32m     69\u001b[0m     \u001b[38;5;66;03m# `tf.debugging.disable_traceback_filtering()`\u001b[39;00m\n\u001b[0;32m---> 70\u001b[0m     \u001b[38;5;28;01mraise\u001b[39;00m e\u001b[38;5;241m.\u001b[39mwith_traceback(filtered_tb) \u001b[38;5;28;01mfrom\u001b[39;00m \u001b[38;5;28mNone\u001b[39m\n\u001b[1;32m     71\u001b[0m \u001b[38;5;28;01mfinally\u001b[39;00m:\n\u001b[1;32m     72\u001b[0m     \u001b[38;5;28;01mdel\u001b[39;00m filtered_tb\n",
      "File \u001b[0;32m/usr/local/lib/python3.8/dist-packages/tensorflow/python/framework/constant_op.py:102\u001b[0m, in \u001b[0;36mconvert_to_eager_tensor\u001b[0;34m(value, ctx, dtype)\u001b[0m\n\u001b[1;32m    100\u001b[0m     dtype \u001b[38;5;241m=\u001b[39m dtypes\u001b[38;5;241m.\u001b[39mas_dtype(dtype)\u001b[38;5;241m.\u001b[39mas_datatype_enum\n\u001b[1;32m    101\u001b[0m ctx\u001b[38;5;241m.\u001b[39mensure_initialized()\n\u001b[0;32m--> 102\u001b[0m \u001b[38;5;28;01mreturn\u001b[39;00m \u001b[43mops\u001b[49m\u001b[38;5;241;43m.\u001b[39;49m\u001b[43mEagerTensor\u001b[49m\u001b[43m(\u001b[49m\u001b[43mvalue\u001b[49m\u001b[43m,\u001b[49m\u001b[43m \u001b[49m\u001b[43mctx\u001b[49m\u001b[38;5;241;43m.\u001b[39;49m\u001b[43mdevice_name\u001b[49m\u001b[43m,\u001b[49m\u001b[43m \u001b[49m\u001b[43mdtype\u001b[49m\u001b[43m)\u001b[49m\n",
      "\u001b[0;31mInternalError\u001b[0m: Failed copying input tensor from /job:localhost/replica:0/task:0/device:CPU:0 to /job:localhost/replica:0/task:0/device:GPU:0 in order to run _EagerConst: Dst tensor is not initialized."
     ]
    }
   ],
   "source": [
    "score = my_model.evaluate(X_test, y_test, verbose=0)"
   ]
  },
  {
   "cell_type": "code",
   "execution_count": 25,
   "metadata": {
    "execution": {
     "iopub.execute_input": "2023-02-22T22:21:32.400654Z",
     "iopub.status.busy": "2023-02-22T22:21:32.400391Z",
     "iopub.status.idle": "2023-02-22T22:21:32.427163Z",
     "shell.execute_reply": "2023-02-22T22:21:32.426476Z",
     "shell.execute_reply.started": "2023-02-22T22:21:32.400627Z"
    },
    "tags": []
   },
   "outputs": [
    {
     "ename": "NameError",
     "evalue": "name 'score' is not defined",
     "output_type": "error",
     "traceback": [
      "\u001b[0;31m---------------------------------------------------------------------------\u001b[0m",
      "\u001b[0;31mNameError\u001b[0m                                 Traceback (most recent call last)",
      "Cell \u001b[0;32mIn[25], line 1\u001b[0m\n\u001b[0;32m----> 1\u001b[0m \u001b[38;5;28mprint\u001b[39m(\u001b[38;5;124m\"\u001b[39m\u001b[38;5;124mTest loss:\u001b[39m\u001b[38;5;124m\"\u001b[39m, \u001b[43mscore\u001b[49m[\u001b[38;5;241m0\u001b[39m])\n\u001b[1;32m      2\u001b[0m \u001b[38;5;28mprint\u001b[39m(\u001b[38;5;124m\"\u001b[39m\u001b[38;5;124mTest accuracy:\u001b[39m\u001b[38;5;124m\"\u001b[39m, score[\u001b[38;5;241m1\u001b[39m])\n",
      "\u001b[0;31mNameError\u001b[0m: name 'score' is not defined"
     ]
    }
   ],
   "source": [
    "print(\"Test loss:\", score[0])\n",
    "print(\"Test accuracy:\", score[1])"
   ]
  },
  {
   "cell_type": "code",
   "execution_count": null,
   "metadata": {
    "execution": {
     "iopub.status.busy": "2023-01-06T00:09:12.043120Z",
     "iopub.status.idle": "2023-01-06T00:09:12.043594Z",
     "shell.execute_reply": "2023-01-06T00:09:12.043441Z",
     "shell.execute_reply.started": "2023-01-06T00:09:12.043424Z"
    }
   },
   "outputs": [],
   "source": [
    "training_loss = hist.history[\"loss\"]\n",
    "val_loss = hist.history[\"val_loss\"]\n",
    "training_acc = hist.history[\"acc\"]\n",
    "val_acc = hist.history[\"val_acc\"]\n",
    "xc = range(epochs)\n",
    "\n",
    "plt.figure(1, figsize=(7, 5))\n",
    "plt.plot(xc, training_loss)\n",
    "plt.plot(xc, val_loss)\n",
    "plt.xlabel(\"No. of Epochs\")\n",
    "plt.ylabel(\"loss\")\n",
    "plt.title(\"Training Loss vs Validation Loss\")\n",
    "plt.grid(True)\n",
    "plt.legend([\"Train\", \"Val\"])\n",
    "\n",
    "plt.figure(2, figsize=(7, 5))\n",
    "plt.plot(xc, training_acc)\n",
    "plt.plot(xc, val_acc)\n",
    "plt.xlabel(\"No. of Epochs\")\n",
    "plt.ylabel(\"Accuracy\")\n",
    "plt.title(\"Training Accuracy vs Validation Accuracy\")\n",
    "plt.grid(True)\n",
    "plt.legend([\"Train\", \"Val\"], loc=4)"
   ]
  },
  {
   "cell_type": "code",
   "execution_count": null,
   "metadata": {
    "execution": {
     "iopub.status.busy": "2023-01-06T00:09:12.045001Z",
     "iopub.status.idle": "2023-01-06T00:09:12.045488Z",
     "shell.execute_reply": "2023-01-06T00:09:12.045379Z",
     "shell.execute_reply.started": "2023-01-06T00:09:12.045365Z"
    }
   },
   "outputs": [],
   "source": [
    "checking_occurences = [x for x in y_test if x == 1]\n",
    "print(\"total length = \", len(y_test))\n",
    "print(\"Anomolies = \", len(checking_occurences))\n",
    "print(\"Normal = \", (len(y_test) - len(checking_occurences)))\n",
    "\n",
    "n = len(y_test) - len(checking_occurences)\n",
    "a = len(checking_occurences)\n",
    "\n",
    "label = [\"Normal\", \"Anomaly\"]\n",
    "samples = [n, a]\n",
    "\n",
    "default_dpi = mpl.rcParamsDefault[\"figure.dpi\"]\n",
    "mpl.rcParams[\"figure.dpi\"] = default_dpi * 1.5\n",
    "\n",
    "# this is for plotting purpose\n",
    "index = np.arange(len(label))\n",
    "plt.bar(index, samples)\n",
    "plt.xlabel(\"Payload Types\", fontsize=10)\n",
    "plt.ylabel(\"Samples\", fontsize=10)\n",
    "plt.xticks(index, label, fontsize=10, rotation=0)\n",
    "plt.title(\"Samples identified by VGG19\")\n",
    "plt.show()"
   ]
  },
  {
   "cell_type": "code",
   "execution_count": null,
   "metadata": {
    "execution": {
     "iopub.status.busy": "2023-01-06T00:09:12.046750Z",
     "iopub.status.idle": "2023-01-06T00:09:12.047320Z",
     "shell.execute_reply": "2023-01-06T00:09:12.047186Z",
     "shell.execute_reply.started": "2023-01-06T00:09:12.047173Z"
    }
   },
   "outputs": [],
   "source": [
    "predictions = my_model.predict(X_test)\n",
    "print(\"Predictions = \", predictions)"
   ]
  },
  {
   "cell_type": "code",
   "execution_count": null,
   "metadata": {
    "execution": {
     "iopub.status.busy": "2023-01-06T00:09:12.048184Z",
     "iopub.status.idle": "2023-01-06T00:09:12.048428Z",
     "shell.execute_reply": "2023-01-06T00:09:12.048340Z",
     "shell.execute_reply.started": "2023-01-06T00:09:12.048330Z"
    }
   },
   "outputs": [],
   "source": [
    "rounded = [[round(x[0])] for x in predictions]\n",
    "from sklearn.metrics import f1_score\n",
    "\n",
    "result = f1_score(y_test, rounded, average=None, labels=[0, 1])\n",
    "print(\"F1 = \", result)"
   ]
  },
  {
   "cell_type": "code",
   "execution_count": null,
   "metadata": {
    "execution": {
     "iopub.status.busy": "2023-01-06T00:09:12.049538Z",
     "iopub.status.idle": "2023-01-06T00:09:12.049931Z",
     "shell.execute_reply": "2023-01-06T00:09:12.049803Z",
     "shell.execute_reply.started": "2023-01-06T00:09:12.049790Z"
    }
   },
   "outputs": [],
   "source": [
    "result = f1_score(y_test, rounded, average=\"macro\")\n",
    "print(\"F1 macro = \", result)"
   ]
  },
  {
   "cell_type": "code",
   "execution_count": null,
   "metadata": {
    "execution": {
     "iopub.status.busy": "2023-01-06T00:09:12.050806Z",
     "iopub.status.idle": "2023-01-06T00:09:12.051055Z",
     "shell.execute_reply": "2023-01-06T00:09:12.050959Z",
     "shell.execute_reply.started": "2023-01-06T00:09:12.050948Z"
    }
   },
   "outputs": [],
   "source": [
    "result = f1_score(y_test, rounded, average=\"micro\")\n",
    "print(\"F1 Micro= \", result)"
   ]
  },
  {
   "cell_type": "code",
   "execution_count": null,
   "metadata": {
    "execution": {
     "iopub.status.busy": "2023-01-06T00:09:12.052228Z",
     "iopub.status.idle": "2023-01-06T00:09:12.052459Z",
     "shell.execute_reply": "2023-01-06T00:09:12.052367Z",
     "shell.execute_reply.started": "2023-01-06T00:09:12.052357Z"
    }
   },
   "outputs": [],
   "source": [
    "result = f1_score(y_test, rounded, average=\"weighted\")\n",
    "print(\"F1 Weighted= \", result)"
   ]
  },
  {
   "cell_type": "code",
   "execution_count": null,
   "metadata": {
    "execution": {
     "iopub.status.busy": "2023-01-06T00:09:12.053688Z",
     "iopub.status.idle": "2023-01-06T00:09:12.053931Z",
     "shell.execute_reply": "2023-01-06T00:09:12.053839Z",
     "shell.execute_reply.started": "2023-01-06T00:09:12.053804Z"
    }
   },
   "outputs": [],
   "source": [
    "import sklearn.metrics\n",
    "\n",
    "target_names = [\"normal\", \"anomaly\"]\n",
    "print(\n",
    "    sklearn.metrics.classification_report(\n",
    "        y_test, rounded, labels=[0, 1], target_names=target_names\n",
    "    )\n",
    ")"
   ]
  },
  {
   "cell_type": "code",
   "execution_count": null,
   "metadata": {
    "execution": {
     "iopub.status.busy": "2023-01-06T00:09:12.054720Z",
     "iopub.status.idle": "2023-01-06T00:09:12.054924Z",
     "shell.execute_reply": "2023-01-06T00:09:12.054840Z",
     "shell.execute_reply.started": "2023-01-06T00:09:12.054830Z"
    }
   },
   "outputs": [],
   "source": [
    "my_model.save(\"FYP_Finalhd5.hd5\")\n",
    "my_model.save(\"FYP_Finalh5.h5\")"
   ]
  },
  {
   "cell_type": "code",
   "execution_count": null,
   "metadata": {
    "execution": {
     "iopub.status.busy": "2023-01-06T00:09:12.056046Z",
     "iopub.status.idle": "2023-01-06T00:09:12.056287Z",
     "shell.execute_reply": "2023-01-06T00:09:12.056173Z",
     "shell.execute_reply.started": "2023-01-06T00:09:12.056164Z"
    }
   },
   "outputs": [],
   "source": [
    "from read_activations import display_activations, get_activations\n",
    "\n",
    "v_index = 4\n",
    "x_valid = X_train[:5]\n",
    "a = get_activations(my_model, x_valid[v_index : v_index + 1], print_shape_only=True)\n",
    "display_activations(a)"
   ]
  },
  {
   "cell_type": "code",
   "execution_count": null,
   "metadata": {
    "scrolled": true,
    "tags": []
   },
   "outputs": [],
   "source": []
  }
 ],
 "metadata": {
  "kernelspec": {
   "display_name": "Python 3 (ipykernel)",
   "language": "python",
   "name": "python3"
  },
  "language_info": {
   "codemirror_mode": {
    "name": "ipython",
    "version": 3
   },
   "file_extension": ".py",
   "mimetype": "text/x-python",
   "name": "python",
   "nbconvert_exporter": "python",
   "pygments_lexer": "ipython3",
   "version": "3.8.10"
  },
  "toc-autonumbering": true,
  "toc-showcode": false,
  "toc-showmarkdowntxt": true,
  "vscode": {
   "interpreter": {
    "hash": "916dbcbb3f70747c44a77c7bcd40155683ae19c65e1c03b4aa3499c5328201f1"
   }
  }
 },
 "nbformat": 4,
 "nbformat_minor": 4
}
