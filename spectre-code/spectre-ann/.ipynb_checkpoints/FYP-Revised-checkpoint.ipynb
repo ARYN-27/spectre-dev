{
 "cells": [
  {
   "cell_type": "code",
   "execution_count": 1,
   "metadata": {
    "execution": {
     "iopub.execute_input": "2023-01-05T22:45:44.314418Z",
     "iopub.status.busy": "2023-01-05T22:45:44.314252Z",
     "iopub.status.idle": "2023-01-05T22:45:47.273233Z",
     "shell.execute_reply": "2023-01-05T22:45:47.272102Z",
     "shell.execute_reply.started": "2023-01-05T22:45:44.314402Z"
    },
    "tags": []
   },
   "outputs": [
    {
     "name": "stderr",
     "output_type": "stream",
     "text": [
      "2023-01-05 22:45:44.332791: I tensorflow/core/platform/cpu_feature_guard.cc:193] This TensorFlow binary is optimized with oneAPI Deep Neural Network Library (oneDNN) to use the following CPU instructions in performance-critical operations:  AVX2 FMA\n",
      "To enable them in other operations, rebuild TensorFlow with the appropriate compiler flags.\n",
      "2023-01-05 22:45:45.769608: W tensorflow/compiler/xla/stream_executor/platform/default/dso_loader.cc:64] Could not load dynamic library 'libnvinfer.so.7'; dlerror: libnvinfer.so.7: cannot open shared object file: No such file or directory; LD_LIBRARY_PATH: /usr/local/nvidia/lib:/usr/local/nvidia/lib64\n",
      "2023-01-05 22:45:45.769737: W tensorflow/compiler/xla/stream_executor/platform/default/dso_loader.cc:64] Could not load dynamic library 'libnvinfer_plugin.so.7'; dlerror: libnvinfer_plugin.so.7: cannot open shared object file: No such file or directory; LD_LIBRARY_PATH: /usr/local/nvidia/lib:/usr/local/nvidia/lib64\n",
      "2023-01-05 22:45:45.769747: W tensorflow/compiler/tf2tensorrt/utils/py_utils.cc:38] TF-TRT Warning: Cannot dlopen some TensorRT libraries. If you would like to use Nvidia GPU with TensorRT, please make sure the missing libraries mentioned above are installed properly.\n"
     ]
    }
   ],
   "source": [
    "import os\n",
    "import platform\n",
    "import sys\n",
    "\n",
    "import tensorflow as tf\n",
    "from tensorflow.keras import layers"
   ]
  },
  {
   "cell_type": "code",
   "execution_count": 2,
   "metadata": {
    "execution": {
     "iopub.execute_input": "2023-01-05T22:45:47.275098Z",
     "iopub.status.busy": "2023-01-05T22:45:47.274644Z",
     "iopub.status.idle": "2023-01-05T22:45:47.719610Z",
     "shell.execute_reply": "2023-01-05T22:45:47.718765Z",
     "shell.execute_reply.started": "2023-01-05T22:45:47.275076Z"
    }
   },
   "outputs": [],
   "source": [
    "%matplotlib widget"
   ]
  },
  {
   "cell_type": "code",
   "execution_count": 3,
   "metadata": {
    "execution": {
     "iopub.execute_input": "2023-01-05T22:45:47.721212Z",
     "iopub.status.busy": "2023-01-05T22:45:47.720717Z",
     "iopub.status.idle": "2023-01-05T22:45:47.725322Z",
     "shell.execute_reply": "2023-01-05T22:45:47.724285Z",
     "shell.execute_reply.started": "2023-01-05T22:45:47.721192Z"
    }
   },
   "outputs": [
    {
     "name": "stdout",
     "output_type": "stream",
     "text": [
      "Python Platform: Linux-5.15.79.1-microsoft-standard-WSL2-x86_64-with-glibc2.29\n",
      "Tensor Flow Version: 2.11.0\n",
      "Keras Version: 2.11.0\n",
      "\n",
      "Python 3.8.10 (default, Nov 14 2022, 12:59:47) \n",
      "[GCC 9.4.0]\n"
     ]
    }
   ],
   "source": [
    "print(f\"Python Platform: {platform.platform()}\")\n",
    "print(f\"Tensor Flow Version: {tf.__version__}\")\n",
    "print(f\"Keras Version: {tf.keras.__version__}\")\n",
    "print()\n",
    "print(f\"Python {sys.version}\")"
   ]
  },
  {
   "cell_type": "markdown",
   "metadata": {},
   "source": [
    "The TF_GPU_ALLOCATOR environment variable is used to specify the GPU memory allocator that TensorFlow should use. The cuda_malloc_async allocator is an asynchronous memory allocator that is optimized for use with NVIDIA GPUs."
   ]
  },
  {
   "cell_type": "code",
   "execution_count": 4,
   "metadata": {
    "execution": {
     "iopub.execute_input": "2023-01-05T22:45:47.726601Z",
     "iopub.status.busy": "2023-01-05T22:45:47.726341Z",
     "iopub.status.idle": "2023-01-05T22:45:47.730384Z",
     "shell.execute_reply": "2023-01-05T22:45:47.729441Z",
     "shell.execute_reply.started": "2023-01-05T22:45:47.726586Z"
    }
   },
   "outputs": [],
   "source": [
    "os.environ['TF_GPU_ALLOCATOR'] = 'cuda_malloc_async'"
   ]
  },
  {
   "cell_type": "markdown",
   "metadata": {},
   "source": [
    "The os.environ['TF_FORCE_GPU_ALLOW_GROWTH'] assignment sets an environment variable called TF_FORCE_GPU_ALLOW_GROWTH in the operating system. This environment variable tells TensorFlow to dynamically grow the GPU memory usage as needed, rather than allocating all of the GPU memory at the start of the TensorFlow session."
   ]
  },
  {
   "cell_type": "code",
   "execution_count": 5,
   "metadata": {
    "execution": {
     "iopub.execute_input": "2023-01-05T22:45:47.732711Z",
     "iopub.status.busy": "2023-01-05T22:45:47.731765Z",
     "iopub.status.idle": "2023-01-05T22:45:47.735859Z",
     "shell.execute_reply": "2023-01-05T22:45:47.735086Z",
     "shell.execute_reply.started": "2023-01-05T22:45:47.732680Z"
    }
   },
   "outputs": [],
   "source": [
    "# os.environ['TF_FORCE_GPU_ALLOW_GROWTH']= 'true'"
   ]
  },
  {
   "cell_type": "code",
   "execution_count": 6,
   "metadata": {
    "execution": {
     "iopub.execute_input": "2023-01-05T22:45:47.737352Z",
     "iopub.status.busy": "2023-01-05T22:45:47.736985Z",
     "iopub.status.idle": "2023-01-05T22:45:47.741511Z",
     "shell.execute_reply": "2023-01-05T22:45:47.740719Z",
     "shell.execute_reply.started": "2023-01-05T22:45:47.737329Z"
    }
   },
   "outputs": [],
   "source": [
    "tf.get_logger().setLevel(\"INFO\")\n",
    "\n",
    "# os.environ['TF_CPP_MIN_LOG_LEVEL'] = '3'  # or any {'0', '1', '2'}"
   ]
  },
  {
   "cell_type": "markdown",
   "metadata": {},
   "source": [
    "Method 1: This enables the dynamic allocation of GPU memory. "
   ]
  },
  {
   "cell_type": "code",
   "execution_count": 7,
   "metadata": {
    "execution": {
     "iopub.execute_input": "2023-01-05T22:45:47.745200Z",
     "iopub.status.busy": "2023-01-05T22:45:47.744523Z",
     "iopub.status.idle": "2023-01-05T22:45:48.061196Z",
     "shell.execute_reply": "2023-01-05T22:45:48.060405Z",
     "shell.execute_reply.started": "2023-01-05T22:45:47.745171Z"
    },
    "tags": []
   },
   "outputs": [
    {
     "name": "stderr",
     "output_type": "stream",
     "text": [
      "2023-01-05 22:45:48.020391: I tensorflow/compiler/xla/stream_executor/cuda/cuda_gpu_executor.cc:967] could not open file to read NUMA node: /sys/bus/pci/devices/0000:01:00.0/numa_node\n",
      "Your kernel may have been built without NUMA support.\n",
      "2023-01-05 22:45:48.057081: I tensorflow/compiler/xla/stream_executor/cuda/cuda_gpu_executor.cc:967] could not open file to read NUMA node: /sys/bus/pci/devices/0000:01:00.0/numa_node\n",
      "Your kernel may have been built without NUMA support.\n",
      "2023-01-05 22:45:48.057332: I tensorflow/compiler/xla/stream_executor/cuda/cuda_gpu_executor.cc:967] could not open file to read NUMA node: /sys/bus/pci/devices/0000:01:00.0/numa_node\n",
      "Your kernel may have been built without NUMA support.\n"
     ]
    }
   ],
   "source": [
    "gpus = tf.config.experimental.list_physical_devices(\"GPU\")\n",
    "if gpus:\n",
    "    try:\n",
    "        for gpu in gpus:\n",
    "            tf.config.experimental.set_memory_growth(gpu, True)\n",
    "    except RuntimeError as e:\n",
    "        print(e)"
   ]
  },
  {
   "cell_type": "markdown",
   "metadata": {},
   "source": [
    "Method 2: This enables the dynamic allocation of GPU memory. "
   ]
  },
  {
   "cell_type": "code",
   "execution_count": 8,
   "metadata": {
    "execution": {
     "iopub.execute_input": "2023-01-05T22:45:48.062680Z",
     "iopub.status.busy": "2023-01-05T22:45:48.062246Z",
     "iopub.status.idle": "2023-01-05T22:45:48.067706Z",
     "shell.execute_reply": "2023-01-05T22:45:48.066822Z",
     "shell.execute_reply.started": "2023-01-05T22:45:48.062647Z"
    },
    "tags": []
   },
   "outputs": [],
   "source": [
    "# Ref: https://www.tensorflow.org/guide/gpu#limiting_gpu_memory_growth\n",
    "# gpus = tf.config.experimental.list_physical_devices('GPU')\n",
    "# if gpus:\n",
    "# Restrict TensorFlow to only allocate 1GB of memory on the first GPU\n",
    "#  try:\n",
    "#    tf.config.experimental.set_virtual_device_configuration(\n",
    "#        gpus[0],\n",
    "#        [tf.config.experimental.VirtualDeviceConfiguration(memory_limit=4096)]) # Notice here\n",
    "#    logical_gpus = tf.config.experimental.list_logical_devices('GPU')\n",
    "#    print(len(gpus), \"Physical GPUs,\", len(logical_gpus), \"Logical GPUs\")\n",
    "#  except RuntimeError as e:\n",
    "# Virtual devices must be set before GPUs have been initialized\n",
    "#    print(e)"
   ]
  },
  {
   "cell_type": "markdown",
   "metadata": {},
   "source": [
    "Checks for the GPU available and lists it"
   ]
  },
  {
   "cell_type": "code",
   "execution_count": 9,
   "metadata": {
    "execution": {
     "iopub.execute_input": "2023-01-05T22:45:48.069439Z",
     "iopub.status.busy": "2023-01-05T22:45:48.068973Z",
     "iopub.status.idle": "2023-01-05T22:45:48.075154Z",
     "shell.execute_reply": "2023-01-05T22:45:48.074137Z",
     "shell.execute_reply.started": "2023-01-05T22:45:48.069415Z"
    },
    "tags": []
   },
   "outputs": [
    {
     "name": "stdout",
     "output_type": "stream",
     "text": [
      "Num GPUs Available:  1\n"
     ]
    }
   ],
   "source": [
    "print(\"Num GPUs Available: \", len(tf.config.list_physical_devices(\"GPU\")))"
   ]
  },
  {
   "cell_type": "code",
   "execution_count": 10,
   "metadata": {
    "execution": {
     "iopub.execute_input": "2023-01-05T22:45:48.077382Z",
     "iopub.status.busy": "2023-01-05T22:45:48.076534Z",
     "iopub.status.idle": "2023-01-05T22:45:49.203727Z",
     "shell.execute_reply": "2023-01-05T22:45:49.203005Z",
     "shell.execute_reply.started": "2023-01-05T22:45:48.077346Z"
    }
   },
   "outputs": [
    {
     "name": "stdout",
     "output_type": "stream",
     "text": [
      "Num GPUs Available:  1\n"
     ]
    },
    {
     "name": "stderr",
     "output_type": "stream",
     "text": [
      "2023-01-05 22:45:48.079329: I tensorflow/core/platform/cpu_feature_guard.cc:193] This TensorFlow binary is optimized with oneAPI Deep Neural Network Library (oneDNN) to use the following CPU instructions in performance-critical operations:  AVX2 FMA\n",
      "To enable them in other operations, rebuild TensorFlow with the appropriate compiler flags.\n",
      "2023-01-05 22:45:48.081043: I tensorflow/compiler/xla/stream_executor/cuda/cuda_gpu_executor.cc:967] could not open file to read NUMA node: /sys/bus/pci/devices/0000:01:00.0/numa_node\n",
      "Your kernel may have been built without NUMA support.\n",
      "2023-01-05 22:45:48.081412: I tensorflow/compiler/xla/stream_executor/cuda/cuda_gpu_executor.cc:967] could not open file to read NUMA node: /sys/bus/pci/devices/0000:01:00.0/numa_node\n",
      "Your kernel may have been built without NUMA support.\n",
      "2023-01-05 22:45:48.081702: I tensorflow/compiler/xla/stream_executor/cuda/cuda_gpu_executor.cc:967] could not open file to read NUMA node: /sys/bus/pci/devices/0000:01:00.0/numa_node\n",
      "Your kernel may have been built without NUMA support.\n",
      "2023-01-05 22:45:49.194408: I tensorflow/compiler/xla/stream_executor/cuda/cuda_gpu_executor.cc:967] could not open file to read NUMA node: /sys/bus/pci/devices/0000:01:00.0/numa_node\n",
      "Your kernel may have been built without NUMA support.\n",
      "2023-01-05 22:45:49.194651: I tensorflow/compiler/xla/stream_executor/cuda/cuda_gpu_executor.cc:967] could not open file to read NUMA node: /sys/bus/pci/devices/0000:01:00.0/numa_node\n",
      "Your kernel may have been built without NUMA support.\n",
      "2023-01-05 22:45:49.194663: I tensorflow/core/common_runtime/gpu/gpu_device.cc:1700] Could not identify NUMA node of platform GPU id 0, defaulting to 0.  Your kernel may not have been built with NUMA support.\n",
      "2023-01-05 22:45:49.194835: I tensorflow/compiler/xla/stream_executor/cuda/cuda_gpu_executor.cc:967] could not open file to read NUMA node: /sys/bus/pci/devices/0000:01:00.0/numa_node\n",
      "Your kernel may have been built without NUMA support.\n",
      "2023-01-05 22:45:49.195069: I tensorflow/core/common_runtime/gpu/gpu_device.cc:1613] Created device /device:GPU:0 with 3417 MB memory:  -> device: 0, name: NVIDIA GeForce RTX 3060 Laptop GPU, pci bus id: 0000:01:00.0, compute capability: 8.6\n"
     ]
    },
    {
     "data": {
      "text/plain": [
       "[name: \"/device:CPU:0\"\n",
       " device_type: \"CPU\"\n",
       " memory_limit: 268435456\n",
       " locality {\n",
       " }\n",
       " incarnation: 1238989368741071634\n",
       " xla_global_id: -1,\n",
       " name: \"/device:GPU:0\"\n",
       " device_type: \"GPU\"\n",
       " memory_limit: 3582984192\n",
       " locality {\n",
       "   bus_id: 1\n",
       "   links {\n",
       "   }\n",
       " }\n",
       " incarnation: 8294394161613576679\n",
       " physical_device_desc: \"device: 0, name: NVIDIA GeForce RTX 3060 Laptop GPU, pci bus id: 0000:01:00.0, compute capability: 8.6\"\n",
       " xla_global_id: 416903419]"
      ]
     },
     "execution_count": 10,
     "metadata": {},
     "output_type": "execute_result"
    }
   ],
   "source": [
    "from tensorflow.python.client import device_lib\n",
    "\n",
    "print(\"Num GPUs Available: \", len(tf.config.list_physical_devices(\"GPU\")))\n",
    "device_lib.list_local_devices()"
   ]
  },
  {
   "cell_type": "code",
   "execution_count": 11,
   "metadata": {
    "execution": {
     "iopub.execute_input": "2023-01-05T22:45:49.205016Z",
     "iopub.status.busy": "2023-01-05T22:45:49.204811Z",
     "iopub.status.idle": "2023-01-05T22:45:49.208448Z",
     "shell.execute_reply": "2023-01-05T22:45:49.207814Z",
     "shell.execute_reply.started": "2023-01-05T22:45:49.205001Z"
    }
   },
   "outputs": [],
   "source": [
    "import os\n",
    "import sys\n",
    "\n",
    "import keras\n",
    "import matplotlib as mpl\n",
    "import matplotlib.pyplot as plt\n",
    "import numpy as np\n",
    "from keras.applications.vgg16 import VGG16\n",
    "from keras.applications.vgg19 import VGG19\n",
    "from keras.layers import Dense, Flatten, Input\n",
    "from keras.models import Model\n",
    "\n",
    "\n",
    "def escape():\n",
    "    sys.exit()"
   ]
  },
  {
   "cell_type": "code",
   "execution_count": 12,
   "metadata": {
    "execution": {
     "iopub.execute_input": "2023-01-05T22:45:49.209368Z",
     "iopub.status.busy": "2023-01-05T22:45:49.209193Z",
     "iopub.status.idle": "2023-01-05T22:47:58.278375Z",
     "shell.execute_reply": "2023-01-05T22:47:58.277654Z",
     "shell.execute_reply.started": "2023-01-05T22:45:49.209354Z"
    },
    "tags": []
   },
   "outputs": [
    {
     "name": "stdout",
     "output_type": "stream",
     "text": [
      "Opening File :  destinationPayload_TestbedMonJun14Flows.xml.npy\n",
      "Opening File :  destinationPayload_TestbedSatJun12Flows.xml.npy\n",
      "Opening File :  destinationPayload_TestbedSunJun13Flows.xml.npy\n",
      "Opening File :  destinationPayload_TestbedThuJun17-2Flows.xml.npy\n",
      "Opening File :  destinationPayload_TestbedThuJun17-3Flows.xml.npy\n",
      "Opening File :  destinationPayload_TestbedTueJun15-1Flows.xml.npy\n",
      "Opening File :  destinationPayload_TestbedTueJun15-2Flows.xml.npy\n",
      "Opening File :  destinationPayload_TestbedTueJun15-3Flows.xml.npy\n",
      "Opening File :  destinationPayload_TestbedWedJun16-1Flows.xml.npy\n",
      "Opening File :  destinationPayload_TestbedWedJun16-2Flows.xml.npy\n",
      "Opening File :  destinationPayload_TestbedWedJun16-3Flows.xml.npy\n"
     ]
    }
   ],
   "source": [
    "import_directory = \"/spectre-code/dataset/ISCX-2012/Processed/\"\n",
    "counter = 0\n",
    "data_array = np.empty((0, 2))\n",
    "files = os.listdir(import_directory)\n",
    "for file in files:\n",
    "    print(\"Opening File : \", file)\n",
    "    data_set = np.load(import_directory + file, allow_pickle=True)\n",
    "    data_array = np.vstack((data_array, data_set))\n",
    "\n",
    "# separated = np.array([x for x in data_array if x[1] == 0])"
   ]
  },
  {
   "cell_type": "code",
   "execution_count": 13,
   "metadata": {
    "execution": {
     "iopub.execute_input": "2023-01-05T22:47:58.279578Z",
     "iopub.status.busy": "2023-01-05T22:47:58.279188Z",
     "iopub.status.idle": "2023-01-05T22:47:58.966060Z",
     "shell.execute_reply": "2023-01-05T22:47:58.965187Z",
     "shell.execute_reply.started": "2023-01-05T22:47:58.279563Z"
    }
   },
   "outputs": [
    {
     "name": "stdout",
     "output_type": "stream",
     "text": [
      "ok\n"
     ]
    }
   ],
   "source": [
    "# np.random.shuffle(separated)\n",
    "np.random.shuffle(data_array)\n",
    "print(\"ok\")"
   ]
  },
  {
   "cell_type": "code",
   "execution_count": 14,
   "metadata": {
    "execution": {
     "iopub.execute_input": "2023-01-05T22:47:58.967264Z",
     "iopub.status.busy": "2023-01-05T22:47:58.967039Z",
     "iopub.status.idle": "2023-01-05T22:48:02.336322Z",
     "shell.execute_reply": "2023-01-05T22:48:02.335501Z",
     "shell.execute_reply.started": "2023-01-05T22:47:58.967243Z"
    }
   },
   "outputs": [],
   "source": [
    "img_row = 50\n",
    "img_col = 50\n",
    "\n",
    "N = np.shape(data_array)[0]\n",
    "train_test_split_percentage = 0.75\n",
    "\n",
    "X_train = data_array[: int(N * train_test_split_percentage), 0]\n",
    "X_test = data_array[int(N * train_test_split_percentage) :, 0]\n",
    "\n",
    "X_train = np.array([x.reshape(img_row, img_col, 3) for x in X_train])\n",
    "X_test = np.array([x.reshape(img_row, img_col, 3) for x in X_test])"
   ]
  },
  {
   "cell_type": "code",
   "execution_count": 15,
   "metadata": {
    "execution": {
     "iopub.execute_input": "2023-01-05T22:48:02.337753Z",
     "iopub.status.busy": "2023-01-05T22:48:02.337334Z",
     "iopub.status.idle": "2023-01-05T22:48:03.306030Z",
     "shell.execute_reply": "2023-01-05T22:48:03.305374Z",
     "shell.execute_reply.started": "2023-01-05T22:48:02.337732Z"
    }
   },
   "outputs": [],
   "source": [
    "y_train = data_array[: int(N * train_test_split_percentage), 1]\n",
    "y_test = data_array[int(N * train_test_split_percentage) :, 1]\n",
    "\n",
    "y_train = np.array([[x] for x in y_train])\n",
    "y_test = np.array([[x] for x in y_test])"
   ]
  },
  {
   "cell_type": "code",
   "execution_count": 16,
   "metadata": {
    "execution": {
     "iopub.execute_input": "2023-01-05T22:48:03.306951Z",
     "iopub.status.busy": "2023-01-05T22:48:03.306768Z",
     "iopub.status.idle": "2023-01-05T22:48:04.121273Z",
     "shell.execute_reply": "2023-01-05T22:48:04.120507Z",
     "shell.execute_reply.started": "2023-01-05T22:48:03.306937Z"
    }
   },
   "outputs": [
    {
     "name": "stderr",
     "output_type": "stream",
     "text": [
      "2023-01-05 22:48:03.321101: I tensorflow/compiler/xla/stream_executor/cuda/cuda_gpu_executor.cc:967] could not open file to read NUMA node: /sys/bus/pci/devices/0000:01:00.0/numa_node\n",
      "Your kernel may have been built without NUMA support.\n",
      "2023-01-05 22:48:03.321504: I tensorflow/compiler/xla/stream_executor/cuda/cuda_gpu_executor.cc:967] could not open file to read NUMA node: /sys/bus/pci/devices/0000:01:00.0/numa_node\n",
      "Your kernel may have been built without NUMA support.\n",
      "2023-01-05 22:48:03.321822: I tensorflow/compiler/xla/stream_executor/cuda/cuda_gpu_executor.cc:967] could not open file to read NUMA node: /sys/bus/pci/devices/0000:01:00.0/numa_node\n",
      "Your kernel may have been built without NUMA support.\n",
      "2023-01-05 22:48:03.322278: I tensorflow/compiler/xla/stream_executor/cuda/cuda_gpu_executor.cc:967] could not open file to read NUMA node: /sys/bus/pci/devices/0000:01:00.0/numa_node\n",
      "Your kernel may have been built without NUMA support.\n",
      "2023-01-05 22:48:03.322291: I tensorflow/core/common_runtime/gpu/gpu_device.cc:1700] Could not identify NUMA node of platform GPU id 0, defaulting to 0.  Your kernel may not have been built with NUMA support.\n",
      "2023-01-05 22:48:03.322542: I tensorflow/compiler/xla/stream_executor/cuda/cuda_gpu_executor.cc:967] could not open file to read NUMA node: /sys/bus/pci/devices/0000:01:00.0/numa_node\n",
      "Your kernel may have been built without NUMA support.\n",
      "2023-01-05 22:48:03.322573: I tensorflow/core/common_runtime/gpu/gpu_device.cc:1613] Created device /job:localhost/replica:0/task:0/device:GPU:0 with 3417 MB memory:  -> device: 0, name: NVIDIA GeForce RTX 3060 Laptop GPU, pci bus id: 0000:01:00.0, compute capability: 8.6\n"
     ]
    }
   ],
   "source": [
    "model_vgg19_conv = VGG19(\n",
    "    include_top=False, weights=\"imagenet\", input_shape=(img_col, img_row, 3)\n",
    ")"
   ]
  },
  {
   "cell_type": "code",
   "execution_count": 17,
   "metadata": {
    "execution": {
     "iopub.execute_input": "2023-01-05T22:48:04.122622Z",
     "iopub.status.busy": "2023-01-05T22:48:04.122401Z",
     "iopub.status.idle": "2023-01-05T22:48:05.871873Z",
     "shell.execute_reply": "2023-01-05T22:48:05.871219Z",
     "shell.execute_reply.started": "2023-01-05T22:48:04.122603Z"
    },
    "tags": []
   },
   "outputs": [
    {
     "data": {
      "image/png": "[encoded data removed]",
      "text/plain": [
       "<Figure size 40000x15000 with 5 Axes>"
      ]
     },
     "metadata": {},
     "output_type": "display_data"
    }
   ],
   "source": [
    "# ploting images for data\n",
    "%matplotlib inline\n",
    "n = 40  # how many digits we will display\n",
    "plt.figure(figsize=(400, 150))\n",
    "for i in range(6, 11):\n",
    "    # display original\n",
    "    ax = plt.subplot(1, n, i + 1)\n",
    "    plt.imshow(X_train[i])\n",
    "    plt.gray()\n",
    "    ax.get_xaxis().set_visible(False)\n",
    "    ax.get_yaxis().set_visible(False)\n",
    "plt.show()\n",
    "plt.close()"
   ]
  },
  {
   "cell_type": "code",
   "execution_count": 18,
   "metadata": {
    "execution": {
     "iopub.execute_input": "2023-01-05T22:48:05.874454Z",
     "iopub.status.busy": "2023-01-05T22:48:05.873870Z",
     "iopub.status.idle": "2023-01-05T22:48:05.880859Z",
     "shell.execute_reply": "2023-01-05T22:48:05.879978Z",
     "shell.execute_reply.started": "2023-01-05T22:48:05.874434Z"
    }
   },
   "outputs": [
    {
     "name": "stdout",
     "output_type": "stream",
     "text": [
      "input_1\n",
      "block1_conv1\n",
      "block1_conv2\n",
      "block1_pool\n",
      "block2_conv1\n",
      "block2_conv2\n",
      "block2_pool\n",
      "block3_conv1\n",
      "block3_conv2\n",
      "block3_conv3\n",
      "block3_conv4\n",
      "block3_pool\n",
      "block4_conv1\n",
      "block4_conv2\n",
      "block4_conv3\n",
      "block4_conv4\n",
      "block4_pool\n",
      "block5_conv1\n",
      "block5_conv2\n",
      "block5_conv3\n",
      "block5_conv4\n",
      "block5_pool\n"
     ]
    }
   ],
   "source": [
    "for layer in model_vgg19_conv.layers:\n",
    "    layer.trainable = False\n",
    "    print(layer.name)"
   ]
  },
  {
   "cell_type": "code",
   "execution_count": 19,
   "metadata": {
    "execution": {
     "iopub.execute_input": "2023-01-05T22:48:05.882681Z",
     "iopub.status.busy": "2023-01-05T22:48:05.882483Z",
     "iopub.status.idle": "2023-01-05T22:48:06.033675Z",
     "shell.execute_reply": "2023-01-05T22:48:06.032773Z",
     "shell.execute_reply.started": "2023-01-05T22:48:05.882665Z"
    }
   },
   "outputs": [
    {
     "name": "stdout",
     "output_type": "stream",
     "text": [
      "Model: \"model\"\n",
      "_________________________________________________________________\n",
      " Layer (type)                Output Shape              Param #   \n",
      "=================================================================\n",
      " input_1 (InputLayer)        [(None, 50, 50, 3)]       0         \n",
      "                                                                 \n",
      " block1_conv1 (Conv2D)       (None, 50, 50, 64)        1792      \n",
      "                                                                 \n",
      " block1_conv2 (Conv2D)       (None, 50, 50, 64)        36928     \n",
      "                                                                 \n",
      " block1_pool (MaxPooling2D)  (None, 25, 25, 64)        0         \n",
      "                                                                 \n",
      " block2_conv1 (Conv2D)       (None, 25, 25, 128)       73856     \n",
      "                                                                 \n",
      " block2_conv2 (Conv2D)       (None, 25, 25, 128)       147584    \n",
      "                                                                 \n",
      " block2_pool (MaxPooling2D)  (None, 12, 12, 128)       0         \n",
      "                                                                 \n",
      " block3_conv1 (Conv2D)       (None, 12, 12, 256)       295168    \n",
      "                                                                 \n",
      " block3_conv2 (Conv2D)       (None, 12, 12, 256)       590080    \n",
      "                                                                 \n",
      " block3_conv3 (Conv2D)       (None, 12, 12, 256)       590080    \n",
      "                                                                 \n",
      " block3_conv4 (Conv2D)       (None, 12, 12, 256)       590080    \n",
      "                                                                 \n",
      " block3_pool (MaxPooling2D)  (None, 6, 6, 256)         0         \n",
      "                                                                 \n",
      " block4_conv1 (Conv2D)       (None, 6, 6, 512)         1180160   \n",
      "                                                                 \n",
      " block4_conv2 (Conv2D)       (None, 6, 6, 512)         2359808   \n",
      "                                                                 \n",
      " block4_conv3 (Conv2D)       (None, 6, 6, 512)         2359808   \n",
      "                                                                 \n",
      " block4_conv4 (Conv2D)       (None, 6, 6, 512)         2359808   \n",
      "                                                                 \n",
      " block4_pool (MaxPooling2D)  (None, 3, 3, 512)         0         \n",
      "                                                                 \n",
      " block5_conv1 (Conv2D)       (None, 3, 3, 512)         2359808   \n",
      "                                                                 \n",
      " block5_conv2 (Conv2D)       (None, 3, 3, 512)         2359808   \n",
      "                                                                 \n",
      " block5_conv3 (Conv2D)       (None, 3, 3, 512)         2359808   \n",
      "                                                                 \n",
      " block5_conv4 (Conv2D)       (None, 3, 3, 512)         2359808   \n",
      "                                                                 \n",
      " block5_pool (MaxPooling2D)  (None, 1, 1, 512)         0         \n",
      "                                                                 \n",
      " flatten (Flatten)           (None, 512)               0         \n",
      "                                                                 \n",
      " dense (Dense)               (None, 128)               65664     \n",
      "                                                                 \n",
      " predictions (Dense)         (None, 1)                 129       \n",
      "                                                                 \n",
      "=================================================================\n",
      "Total params: 20,090,177\n",
      "Trainable params: 65,793\n",
      "Non-trainable params: 20,024,384\n",
      "_________________________________________________________________\n"
     ]
    }
   ],
   "source": [
    "# x = model_vgg19_conv.output\n",
    "# x = Flatten()(x)\n",
    "# x = Dense(128, activation='relu')(x)\n",
    "# x = Dense(1, activation='sigmoid', name='predictions')(x)\n",
    "# my_model = Model(inputs=model_vgg19_conv.input, outputs=x)\n",
    "# my_model.summary()\n",
    "\n",
    "# Revision 1\n",
    "# x = model_vgg19_conv.output\n",
    "# x = Flatten()(x)\n",
    "# x = Dense(128, activation='relu')(x)\n",
    "# x = Dense(80, activation='relu')(x)\n",
    "# x = Dense(1, activation='sigmoid', name='predictions')(x)\n",
    "# my_model = Model(inputs=model_vgg19_conv.input, outputs=x)\n",
    "# my_model.summary()\n",
    "\n",
    "# Revision 2\n",
    "x = model_vgg19_conv.output\n",
    "x = layers.Flatten()(x)\n",
    "x = layers.Dense(128, activation=\"relu\")(x)\n",
    "x = layers.Dense(1, activation=\"sigmoid\", name=\"predictions\")(x)\n",
    "my_model = tf.keras.Model(inputs=model_vgg19_conv.input, outputs=x)\n",
    "my_model.summary()"
   ]
  },
  {
   "cell_type": "code",
   "execution_count": 20,
   "metadata": {
    "execution": {
     "iopub.execute_input": "2023-01-05T22:48:06.035696Z",
     "iopub.status.busy": "2023-01-05T22:48:06.035137Z",
     "iopub.status.idle": "2023-01-05T22:48:06.049770Z",
     "shell.execute_reply": "2023-01-05T22:48:06.048897Z",
     "shell.execute_reply.started": "2023-01-05T22:48:06.035677Z"
    },
    "tags": []
   },
   "outputs": [],
   "source": [
    "my_model.compile(\n",
    "    loss=keras.losses.binary_crossentropy,\n",
    "    optimizer=keras.optimizers.RMSprop(),\n",
    "    metrics=[\"accuracy\"],\n",
    ")\n",
    "\n",
    "batch_size = 32\n",
    "epochs = 2"
   ]
  },
  {
   "cell_type": "code",
   "execution_count": 21,
   "metadata": {
    "execution": {
     "iopub.execute_input": "2023-01-05T22:48:06.051587Z",
     "iopub.status.busy": "2023-01-05T22:48:06.051173Z",
     "iopub.status.idle": "2023-01-05T22:48:18.302101Z",
     "shell.execute_reply": "2023-01-05T22:48:18.295812Z",
     "shell.execute_reply.started": "2023-01-05T22:48:06.051564Z"
    },
    "tags": []
   },
   "outputs": [
    {
     "name": "stderr",
     "output_type": "stream",
     "text": [
      "2023-01-05 22:48:06.055916: W tensorflow/tsl/framework/cpu_allocator_impl.cc:82] Allocation of 3612570000 exceeds 10% of free system memory.\n",
      "2023-01-05 22:48:17.857824: W tensorflow/tsl/framework/bfc_allocator.cc:479] Allocator (GPU_0_bfc) ran out of memory trying to allocate 3.36GiB (rounded to 3612570112)requested by op _EagerConst\n",
      "If the cause is memory fragmentation maybe the environment variable 'TF_GPU_ALLOCATOR=cuda_malloc_async' will improve the situation. \n",
      "Current allocation summary follows.\n",
      "Current allocation summary follows.\n",
      "2023-01-05 22:48:17.857867: I tensorflow/tsl/framework/bfc_allocator.cc:1034] BFCAllocator dump for GPU_0_bfc\n",
      "2023-01-05 22:48:17.857889: I tensorflow/tsl/framework/bfc_allocator.cc:1041] Bin (256): \tTotal Chunks: 28, Chunks in use: 28. 7.0KiB allocated for chunks. 7.0KiB in use in bin. 624B client-requested in use in bin.\n",
      "2023-01-05 22:48:17.857899: I tensorflow/tsl/framework/bfc_allocator.cc:1041] Bin (512): \tTotal Chunks: 5, Chunks in use: 4. 2.8KiB allocated for chunks. 2.0KiB in use in bin. 2.0KiB client-requested in use in bin.\n",
      "2023-01-05 22:48:17.857905: I tensorflow/tsl/framework/bfc_allocator.cc:1041] Bin (1024): \tTotal Chunks: 5, Chunks in use: 5. 5.2KiB allocated for chunks. 5.2KiB in use in bin. 5.0KiB client-requested in use in bin.\n",
      "2023-01-05 22:48:17.857913: I tensorflow/tsl/framework/bfc_allocator.cc:1041] Bin (2048): \tTotal Chunks: 9, Chunks in use: 8. 20.0KiB allocated for chunks. 17.0KiB in use in bin. 16.0KiB client-requested in use in bin.\n",
      "2023-01-05 22:48:17.857919: I tensorflow/tsl/framework/bfc_allocator.cc:1041] Bin (4096): \tTotal Chunks: 1, Chunks in use: 1. 6.8KiB allocated for chunks. 6.8KiB in use in bin. 6.8KiB client-requested in use in bin.\n",
      "2023-01-05 22:48:17.857925: I tensorflow/tsl/framework/bfc_allocator.cc:1041] Bin (8192): \tTotal Chunks: 0, Chunks in use: 0. 0B allocated for chunks. 0B in use in bin. 0B client-requested in use in bin.\n",
      "2023-01-05 22:48:17.857930: I tensorflow/tsl/framework/bfc_allocator.cc:1041] Bin (16384): \tTotal Chunks: 0, Chunks in use: 0. 0B allocated for chunks. 0B in use in bin. 0B client-requested in use in bin.\n",
      "2023-01-05 22:48:17.857936: I tensorflow/tsl/framework/bfc_allocator.cc:1041] Bin (32768): \tTotal Chunks: 0, Chunks in use: 0. 0B allocated for chunks. 0B in use in bin. 0B client-requested in use in bin.\n",
      "2023-01-05 22:48:17.857941: I tensorflow/tsl/framework/bfc_allocator.cc:1041] Bin (65536): \tTotal Chunks: 0, Chunks in use: 0. 0B allocated for chunks. 0B in use in bin. 0B client-requested in use in bin.\n",
      "2023-01-05 22:48:17.857946: I tensorflow/tsl/framework/bfc_allocator.cc:1041] Bin (131072): \tTotal Chunks: 0, Chunks in use: 0. 0B allocated for chunks. 0B in use in bin. 0B client-requested in use in bin.\n",
      "2023-01-05 22:48:17.857953: I tensorflow/tsl/framework/bfc_allocator.cc:1041] Bin (262144): \tTotal Chunks: 3, Chunks in use: 3. 957.0KiB allocated for chunks. 957.0KiB in use in bin. 688.0KiB client-requested in use in bin.\n",
      "2023-01-05 22:48:17.857960: I tensorflow/tsl/framework/bfc_allocator.cc:1041] Bin (524288): \tTotal Chunks: 2, Chunks in use: 1. 1.06MiB allocated for chunks. 576.0KiB in use in bin. 576.0KiB client-requested in use in bin.\n",
      "2023-01-05 22:48:17.857966: I tensorflow/tsl/framework/bfc_allocator.cc:1041] Bin (1048576): \tTotal Chunks: 1, Chunks in use: 1. 1.97MiB allocated for chunks. 1.97MiB in use in bin. 1.12MiB client-requested in use in bin.\n",
      "2023-01-05 22:48:17.857972: I tensorflow/tsl/framework/bfc_allocator.cc:1041] Bin (2097152): \tTotal Chunks: 3, Chunks in use: 3. 6.75MiB allocated for chunks. 6.75MiB in use in bin. 6.75MiB client-requested in use in bin.\n",
      "2023-01-05 22:48:17.857978: I tensorflow/tsl/framework/bfc_allocator.cc:1041] Bin (4194304): \tTotal Chunks: 2, Chunks in use: 1. 9.94MiB allocated for chunks. 4.50MiB in use in bin. 4.50MiB client-requested in use in bin.\n",
      "2023-01-05 22:48:17.857985: I tensorflow/tsl/framework/bfc_allocator.cc:1041] Bin (8388608): \tTotal Chunks: 7, Chunks in use: 7. 63.00MiB allocated for chunks. 63.00MiB in use in bin. 63.00MiB client-requested in use in bin.\n",
      "2023-01-05 22:48:17.857990: I tensorflow/tsl/framework/bfc_allocator.cc:1041] Bin (16777216): \tTotal Chunks: 0, Chunks in use: 0. 0B allocated for chunks. 0B in use in bin. 0B client-requested in use in bin.\n",
      "2023-01-05 22:48:17.858000: I tensorflow/tsl/framework/bfc_allocator.cc:1041] Bin (33554432): \tTotal Chunks: 0, Chunks in use: 0. 0B allocated for chunks. 0B in use in bin. 0B client-requested in use in bin.\n",
      "2023-01-05 22:48:17.858005: I tensorflow/tsl/framework/bfc_allocator.cc:1041] Bin (67108864): \tTotal Chunks: 0, Chunks in use: 0. 0B allocated for chunks. 0B in use in bin. 0B client-requested in use in bin.\n",
      "2023-01-05 22:48:17.858011: I tensorflow/tsl/framework/bfc_allocator.cc:1041] Bin (134217728): \tTotal Chunks: 0, Chunks in use: 0. 0B allocated for chunks. 0B in use in bin. 0B client-requested in use in bin.\n",
      "2023-01-05 22:48:17.858016: I tensorflow/tsl/framework/bfc_allocator.cc:1041] Bin (268435456): \tTotal Chunks: 1, Chunks in use: 0. 3.25GiB allocated for chunks. 0B in use in bin. 0B client-requested in use in bin.\n",
      "2023-01-05 22:48:17.858022: I tensorflow/tsl/framework/bfc_allocator.cc:1057] Bin for 3.36GiB was 256.00MiB, Chunk State: \n",
      "2023-01-05 22:48:17.858032: I tensorflow/tsl/framework/bfc_allocator.cc:1063]   Size: 3.25GiB | Requested Size: 2.0KiB | in_use: 0 | bin_num: 20, prev:   Size: 9.00MiB | Requested Size: 9.00MiB | in_use: 1 | bin_num: -1\n",
      "2023-01-05 22:48:17.858036: I tensorflow/tsl/framework/bfc_allocator.cc:1070] Next region of size 3582984192\n",
      "2023-01-05 22:48:17.858044: I tensorflow/tsl/framework/bfc_allocator.cc:1090] InUse at 811c00000 of size 1280 next 1\n",
      "2023-01-05 22:48:17.858048: I tensorflow/tsl/framework/bfc_allocator.cc:1090] InUse at 811c00500 of size 256 next 2\n",
      "2023-01-05 22:48:17.858053: I tensorflow/tsl/framework/bfc_allocator.cc:1090] InUse at 811c00600 of size 256 next 3\n",
      "2023-01-05 22:48:17.858057: I tensorflow/tsl/framework/bfc_allocator.cc:1090] InUse at 811c00700 of size 256 next 5\n",
      "2023-01-05 22:48:17.858061: I tensorflow/tsl/framework/bfc_allocator.cc:1090] InUse at 811c00800 of size 256 next 6\n",
      "2023-01-05 22:48:17.858065: I tensorflow/tsl/framework/bfc_allocator.cc:1090] InUse at 811c00900 of size 256 next 4\n",
      "2023-01-05 22:48:17.858069: I tensorflow/tsl/framework/bfc_allocator.cc:1090] InUse at 811c00a00 of size 256 next 7\n",
      "2023-01-05 22:48:17.858073: I tensorflow/tsl/framework/bfc_allocator.cc:1090] InUse at 811c00b00 of size 256 next 12\n",
      "2023-01-05 22:48:17.858077: I tensorflow/tsl/framework/bfc_allocator.cc:1090] InUse at 811c00c00 of size 256 next 10\n",
      "2023-01-05 22:48:17.858081: I tensorflow/tsl/framework/bfc_allocator.cc:1090] InUse at 811c00d00 of size 256 next 11\n",
      "2023-01-05 22:48:17.858086: I tensorflow/tsl/framework/bfc_allocator.cc:1090] InUse at 811c00e00 of size 512 next 15\n",
      "2023-01-05 22:48:17.858090: I tensorflow/tsl/framework/bfc_allocator.cc:1090] InUse at 811c01000 of size 256 next 16\n",
      "2023-01-05 22:48:17.858094: I tensorflow/tsl/framework/bfc_allocator.cc:1090] InUse at 811c01100 of size 256 next 19\n",
      "2023-01-05 22:48:17.858098: I tensorflow/tsl/framework/bfc_allocator.cc:1090] InUse at 811c01200 of size 256 next 56\n",
      "2023-01-05 22:48:17.858102: I tensorflow/tsl/framework/bfc_allocator.cc:1090] InUse at 811c01300 of size 256 next 22\n",
      "2023-01-05 22:48:17.858106: I tensorflow/tsl/framework/bfc_allocator.cc:1090] InUse at 811c01400 of size 256 next 20\n",
      "2023-01-05 22:48:17.858110: I tensorflow/tsl/framework/bfc_allocator.cc:1090] InUse at 811c01500 of size 256 next 21\n",
      "2023-01-05 22:48:17.858115: I tensorflow/tsl/framework/bfc_allocator.cc:1090] InUse at 811c01600 of size 1024 next 25\n",
      "2023-01-05 22:48:17.858119: I tensorflow/tsl/framework/bfc_allocator.cc:1090] InUse at 811c01a00 of size 256 next 26\n",
      "2023-01-05 22:48:17.858123: I tensorflow/tsl/framework/bfc_allocator.cc:1090] InUse at 811c01b00 of size 256 next 29\n",
      "2023-01-05 22:48:17.858127: I tensorflow/tsl/framework/bfc_allocator.cc:1090] InUse at 811c01c00 of size 1024 next 32\n",
      "2023-01-05 22:48:17.858131: I tensorflow/tsl/framework/bfc_allocator.cc:1090] InUse at 811c02000 of size 1024 next 35\n",
      "2023-01-05 22:48:17.858136: I tensorflow/tsl/framework/bfc_allocator.cc:1090] InUse at 811c02400 of size 512 next 47\n",
      "2023-01-05 22:48:17.858141: I tensorflow/tsl/framework/bfc_allocator.cc:1090] InUse at 811c02600 of size 256 next 59\n",
      "2023-01-05 22:48:17.858147: I tensorflow/tsl/framework/bfc_allocator.cc:1090] InUse at 811c02700 of size 256 next 37\n",
      "2023-01-05 22:48:17.858152: I tensorflow/tsl/framework/bfc_allocator.cc:1090] InUse at 811c02800 of size 256 next 30\n",
      "2023-01-05 22:48:17.858157: I tensorflow/tsl/framework/bfc_allocator.cc:1090] InUse at 811c02900 of size 256 next 31\n",
      "2023-01-05 22:48:17.858162: I tensorflow/tsl/framework/bfc_allocator.cc:1090] InUse at 811c02a00 of size 2048 next 39\n",
      "2023-01-05 22:48:17.858168: I tensorflow/tsl/framework/bfc_allocator.cc:1090] InUse at 811c03200 of size 256 next 40\n",
      "2023-01-05 22:48:17.858173: I tensorflow/tsl/framework/bfc_allocator.cc:1090] InUse at 811c03300 of size 256 next 43\n",
      "2023-01-05 22:48:17.858178: I tensorflow/tsl/framework/bfc_allocator.cc:1090] InUse at 811c03400 of size 3072 next 8\n",
      "2023-01-05 22:48:17.858185: I tensorflow/tsl/framework/bfc_allocator.cc:1090] InUse at 811c04000 of size 256 next 60\n",
      "2023-01-05 22:48:17.858190: I tensorflow/tsl/framework/bfc_allocator.cc:1090] InUse at 811c04100 of size 512 next 17\n",
      "2023-01-05 22:48:17.858195: I tensorflow/tsl/framework/bfc_allocator.cc:1090] InUse at 811c04300 of size 1024 next 28\n",
      "2023-01-05 22:48:17.858201: I tensorflow/tsl/framework/bfc_allocator.cc:1090] InUse at 811c04700 of size 2048 next 41\n",
      "2023-01-05 22:48:17.858206: I tensorflow/tsl/framework/bfc_allocator.cc:1090] InUse at 811c04f00 of size 2048 next 49\n",
      "2023-01-05 22:48:17.858211: I tensorflow/tsl/framework/bfc_allocator.cc:1090] InUse at 811c05700 of size 2048 next 51\n",
      "2023-01-05 22:48:17.858216: I tensorflow/tsl/framework/bfc_allocator.cc:1090] InUse at 811c05f00 of size 2048 next 53\n",
      "2023-01-05 22:48:17.858221: I tensorflow/tsl/framework/bfc_allocator.cc:1090] InUse at 811c06700 of size 2048 next 55\n",
      "2023-01-05 22:48:17.858226: I tensorflow/tsl/framework/bfc_allocator.cc:1090] InUse at 811c06f00 of size 2048 next 57\n",
      "2023-01-05 22:48:17.858231: I tensorflow/tsl/framework/bfc_allocator.cc:1090] InUse at 811c07700 of size 256 next 62\n",
      "2023-01-05 22:48:17.858237: I tensorflow/tsl/framework/bfc_allocator.cc:1090] InUse at 811c07800 of size 256 next 63\n",
      "2023-01-05 22:48:17.858242: I tensorflow/tsl/framework/bfc_allocator.cc:1090] InUse at 811c07900 of size 256 next 64\n",
      "2023-01-05 22:48:17.858247: I tensorflow/tsl/framework/bfc_allocator.cc:1090] Free  at 811c07a00 of size 768 next 65\n",
      "2023-01-05 22:48:17.858252: I tensorflow/tsl/framework/bfc_allocator.cc:1090] InUse at 811c07d00 of size 512 next 66\n",
      "2023-01-05 22:48:17.858257: I tensorflow/tsl/framework/bfc_allocator.cc:1090] Free  at 811c07f00 of size 3072 next 58\n",
      "2023-01-05 22:48:17.858262: I tensorflow/tsl/framework/bfc_allocator.cc:1090] InUse at 811c08b00 of size 256 next 46\n",
      "2023-01-05 22:48:17.858268: I tensorflow/tsl/framework/bfc_allocator.cc:1090] InUse at 811c08c00 of size 6912 next 44\n",
      "2023-01-05 22:48:17.858273: I tensorflow/tsl/framework/bfc_allocator.cc:1090] InUse at 811c0a700 of size 275456 next 14\n",
      "2023-01-05 22:48:17.858277: I tensorflow/tsl/framework/bfc_allocator.cc:1090] InUse at 811c4db00 of size 442368 next 18\n",
      "2023-01-05 22:48:17.858281: I tensorflow/tsl/framework/bfc_allocator.cc:1090] InUse at 811cb9b00 of size 2064384 next 23\n",
      "2023-01-05 22:48:17.858284: I tensorflow/tsl/framework/bfc_allocator.cc:1090] InUse at 811eb1b00 of size 589824 next 13\n",
      "2023-01-05 22:48:17.858287: I tensorflow/tsl/framework/bfc_allocator.cc:1090] InUse at 811f41b00 of size 2359296 next 33\n",
      "2023-01-05 22:48:17.858291: I tensorflow/tsl/framework/bfc_allocator.cc:1090] InUse at 812181b00 of size 4718592 next 36\n",
      "2023-01-05 22:48:17.858294: I tensorflow/tsl/framework/bfc_allocator.cc:1090] Free  at 812601b00 of size 524288 next 61\n",
      "2023-01-05 22:48:17.858297: I tensorflow/tsl/framework/bfc_allocator.cc:1090] InUse at 812681b00 of size 262144 next 24\n",
      "2023-01-05 22:48:17.858300: I tensorflow/tsl/framework/bfc_allocator.cc:1090] Free  at 8126c1b00 of size 5701632 next 38\n",
      "2023-01-05 22:48:17.858303: I tensorflow/tsl/framework/bfc_allocator.cc:1090] InUse at 812c31b00 of size 2359296 next 27\n",
      "2023-01-05 22:48:17.858307: I tensorflow/tsl/framework/bfc_allocator.cc:1090] InUse at 812e71b00 of size 2359296 next 42\n",
      "2023-01-05 22:48:17.858310: I tensorflow/tsl/framework/bfc_allocator.cc:1090] InUse at 8130b1b00 of size 9437184 next 34\n",
      "2023-01-05 22:48:17.858313: I tensorflow/tsl/framework/bfc_allocator.cc:1090] InUse at 8139b1b00 of size 9437184 next 48\n",
      "2023-01-05 22:48:17.858316: I tensorflow/tsl/framework/bfc_allocator.cc:1090] InUse at 8142b1b00 of size 9437184 next 9\n",
      "2023-01-05 22:48:17.858319: I tensorflow/tsl/framework/bfc_allocator.cc:1090] InUse at 814bb1b00 of size 9437184 next 45\n",
      "2023-01-05 22:48:17.858322: I tensorflow/tsl/framework/bfc_allocator.cc:1090] InUse at 8154b1b00 of size 9437184 next 50\n",
      "2023-01-05 22:48:17.858325: I tensorflow/tsl/framework/bfc_allocator.cc:1090] InUse at 815db1b00 of size 9437184 next 52\n",
      "2023-01-05 22:48:17.858328: I tensorflow/tsl/framework/bfc_allocator.cc:1090] InUse at 8166b1b00 of size 9437184 next 54\n",
      "2023-01-05 22:48:17.858331: I tensorflow/tsl/framework/bfc_allocator.cc:1090] Free  at 816fb1b00 of size 3495224576 next 18446744073709551615\n",
      "2023-01-05 22:48:17.858334: I tensorflow/tsl/framework/bfc_allocator.cc:1095]      Summary of in-use Chunks by size: \n",
      "2023-01-05 22:48:17.858338: I tensorflow/tsl/framework/bfc_allocator.cc:1098] 28 Chunks of size 256 totalling 7.0KiB\n",
      "2023-01-05 22:48:17.858342: I tensorflow/tsl/framework/bfc_allocator.cc:1098] 4 Chunks of size 512 totalling 2.0KiB\n",
      "2023-01-05 22:48:17.858346: I tensorflow/tsl/framework/bfc_allocator.cc:1098] 4 Chunks of size 1024 totalling 4.0KiB\n",
      "2023-01-05 22:48:17.858349: I tensorflow/tsl/framework/bfc_allocator.cc:1098] 1 Chunks of size 1280 totalling 1.2KiB\n",
      "2023-01-05 22:48:17.858353: I tensorflow/tsl/framework/bfc_allocator.cc:1098] 7 Chunks of size 2048 totalling 14.0KiB\n",
      "2023-01-05 22:48:17.858356: I tensorflow/tsl/framework/bfc_allocator.cc:1098] 1 Chunks of size 3072 totalling 3.0KiB\n",
      "2023-01-05 22:48:17.858359: I tensorflow/tsl/framework/bfc_allocator.cc:1098] 1 Chunks of size 6912 totalling 6.8KiB\n",
      "2023-01-05 22:48:17.858363: I tensorflow/tsl/framework/bfc_allocator.cc:1098] 1 Chunks of size 262144 totalling 256.0KiB\n",
      "2023-01-05 22:48:17.858367: I tensorflow/tsl/framework/bfc_allocator.cc:1098] 1 Chunks of size 275456 totalling 269.0KiB\n",
      "2023-01-05 22:48:17.858370: I tensorflow/tsl/framework/bfc_allocator.cc:1098] 1 Chunks of size 442368 totalling 432.0KiB\n",
      "2023-01-05 22:48:17.858374: I tensorflow/tsl/framework/bfc_allocator.cc:1098] 1 Chunks of size 589824 totalling 576.0KiB\n",
      "2023-01-05 22:48:17.858377: I tensorflow/tsl/framework/bfc_allocator.cc:1098] 1 Chunks of size 2064384 totalling 1.97MiB\n",
      "2023-01-05 22:48:17.858380: I tensorflow/tsl/framework/bfc_allocator.cc:1098] 3 Chunks of size 2359296 totalling 6.75MiB\n",
      "2023-01-05 22:48:17.858408: I tensorflow/tsl/framework/bfc_allocator.cc:1098] 1 Chunks of size 4718592 totalling 4.50MiB\n",
      "2023-01-05 22:48:17.858415: I tensorflow/tsl/framework/bfc_allocator.cc:1098] 7 Chunks of size 9437184 totalling 63.00MiB\n",
      "2023-01-05 22:48:17.858420: I tensorflow/tsl/framework/bfc_allocator.cc:1102] Sum Total of in-use chunks: 77.75MiB\n",
      "2023-01-05 22:48:17.858423: I tensorflow/tsl/framework/bfc_allocator.cc:1104] total_region_allocated_bytes_: 3582984192 memory_limit_: 3582984192 available bytes: 0 curr_region_allocation_bytes_: 7165968384\n",
      "2023-01-05 22:48:17.858430: I tensorflow/tsl/framework/bfc_allocator.cc:1110] Stats: \n",
      "Limit:                      3582984192\n",
      "InUse:                        81529856\n",
      "MaxInUse:                     98977024\n",
      "NumAllocs:                         184\n",
      "MaxAllocSize:                  9437184\n",
      "Reserved:                            0\n",
      "PeakReserved:                        0\n",
      "LargestFreeBlock:                    0\n",
      "\n",
      "2023-01-05 22:48:17.858437: W tensorflow/tsl/framework/bfc_allocator.cc:492] ***_________________________________________________________________________________________________\n"
     ]
    },
    {
     "ename": "InternalError",
     "evalue": "Failed copying input tensor from /job:localhost/replica:0/task:0/device:CPU:0 to /job:localhost/replica:0/task:0/device:GPU:0 in order to run _EagerConst: Dst tensor is not initialized.",
     "output_type": "error",
     "traceback": [
      "\u001b[0;31m---------------------------------------------------------------------------\u001b[0m",
      "\u001b[0;31mInternalError\u001b[0m                             Traceback (most recent call last)",
      "Cell \u001b[0;32mIn[21], line 1\u001b[0m\n\u001b[0;32m----> 1\u001b[0m hist \u001b[38;5;241m=\u001b[39m \u001b[43mmy_model\u001b[49m\u001b[38;5;241;43m.\u001b[39;49m\u001b[43mfit\u001b[49m\u001b[43m(\u001b[49m\n\u001b[1;32m      2\u001b[0m \u001b[43m    \u001b[49m\u001b[43mX_train\u001b[49m\u001b[43m,\u001b[49m\n\u001b[1;32m      3\u001b[0m \u001b[43m    \u001b[49m\u001b[43my_train\u001b[49m\u001b[43m,\u001b[49m\n\u001b[1;32m      4\u001b[0m \u001b[43m    \u001b[49m\u001b[43mbatch_size\u001b[49m\u001b[38;5;241;43m=\u001b[39;49m\u001b[43mbatch_size\u001b[49m\u001b[43m,\u001b[49m\n\u001b[1;32m      5\u001b[0m \u001b[43m    \u001b[49m\u001b[43mepochs\u001b[49m\u001b[38;5;241;43m=\u001b[39;49m\u001b[43mepochs\u001b[49m\u001b[43m,\u001b[49m\n\u001b[1;32m      6\u001b[0m \u001b[43m    \u001b[49m\u001b[43mverbose\u001b[49m\u001b[38;5;241;43m=\u001b[39;49m\u001b[38;5;241;43m1\u001b[39;49m\u001b[43m,\u001b[49m\n\u001b[1;32m      7\u001b[0m \u001b[43m    \u001b[49m\u001b[43mvalidation_split\u001b[49m\u001b[38;5;241;43m=\u001b[39;49m\u001b[38;5;241;43m0.2\u001b[39;49m\u001b[43m,\u001b[49m\n\u001b[1;32m      8\u001b[0m \u001b[43m)\u001b[49m\n\u001b[1;32m      9\u001b[0m score \u001b[38;5;241m=\u001b[39m my_model\u001b[38;5;241m.\u001b[39mevaluate(X_test, y_test, verbose\u001b[38;5;241m=\u001b[39m\u001b[38;5;241m0\u001b[39m)\n",
      "File \u001b[0;32m/usr/local/lib/python3.8/dist-packages/keras/utils/traceback_utils.py:70\u001b[0m, in \u001b[0;36mfilter_traceback.<locals>.error_handler\u001b[0;34m(*args, **kwargs)\u001b[0m\n\u001b[1;32m     67\u001b[0m     filtered_tb \u001b[38;5;241m=\u001b[39m _process_traceback_frames(e\u001b[38;5;241m.\u001b[39m__traceback__)\n\u001b[1;32m     68\u001b[0m     \u001b[38;5;66;03m# To get the full stack trace, call:\u001b[39;00m\n\u001b[1;32m     69\u001b[0m     \u001b[38;5;66;03m# `tf.debugging.disable_traceback_filtering()`\u001b[39;00m\n\u001b[0;32m---> 70\u001b[0m     \u001b[38;5;28;01mraise\u001b[39;00m e\u001b[38;5;241m.\u001b[39mwith_traceback(filtered_tb) \u001b[38;5;28;01mfrom\u001b[39;00m \u001b[38;5;28mNone\u001b[39m\n\u001b[1;32m     71\u001b[0m \u001b[38;5;28;01mfinally\u001b[39;00m:\n\u001b[1;32m     72\u001b[0m     \u001b[38;5;28;01mdel\u001b[39;00m filtered_tb\n",
      "File \u001b[0;32m/usr/local/lib/python3.8/dist-packages/tensorflow/python/framework/constant_op.py:102\u001b[0m, in \u001b[0;36mconvert_to_eager_tensor\u001b[0;34m(value, ctx, dtype)\u001b[0m\n\u001b[1;32m    100\u001b[0m     dtype \u001b[38;5;241m=\u001b[39m dtypes\u001b[38;5;241m.\u001b[39mas_dtype(dtype)\u001b[38;5;241m.\u001b[39mas_datatype_enum\n\u001b[1;32m    101\u001b[0m ctx\u001b[38;5;241m.\u001b[39mensure_initialized()\n\u001b[0;32m--> 102\u001b[0m \u001b[38;5;28;01mreturn\u001b[39;00m \u001b[43mops\u001b[49m\u001b[38;5;241;43m.\u001b[39;49m\u001b[43mEagerTensor\u001b[49m\u001b[43m(\u001b[49m\u001b[43mvalue\u001b[49m\u001b[43m,\u001b[49m\u001b[43m \u001b[49m\u001b[43mctx\u001b[49m\u001b[38;5;241;43m.\u001b[39;49m\u001b[43mdevice_name\u001b[49m\u001b[43m,\u001b[49m\u001b[43m \u001b[49m\u001b[43mdtype\u001b[49m\u001b[43m)\u001b[49m\n",
      "\u001b[0;31mInternalError\u001b[0m: Failed copying input tensor from /job:localhost/replica:0/task:0/device:CPU:0 to /job:localhost/replica:0/task:0/device:GPU:0 in order to run _EagerConst: Dst tensor is not initialized."
     ]
    }
   ],
   "source": [
    "hist = my_model.fit(\n",
    "    X_train,\n",
    "    y_train,\n",
    "    batch_size=batch_size,\n",
    "    epochs=epochs,\n",
    "    verbose=1,\n",
    "    validation_split=0.2,\n",
    ")\n",
    "score = my_model.evaluate(X_test, y_test, verbose=0)"
   ]
  },
  {
   "cell_type": "code",
   "execution_count": null,
   "metadata": {
    "execution": {
     "iopub.status.busy": "2023-01-05T22:48:18.302924Z",
     "iopub.status.idle": "2023-01-05T22:48:18.303371Z",
     "shell.execute_reply": "2023-01-05T22:48:18.303269Z",
     "shell.execute_reply.started": "2023-01-05T22:48:18.303255Z"
    }
   },
   "outputs": [],
   "source": [
    "tf.keras.backend.clear_session()\n",
    "tf.compat.v1.reset_default_graph()"
   ]
  },
  {
   "cell_type": "code",
   "execution_count": null,
   "metadata": {
    "execution": {
     "iopub.status.busy": "2023-01-05T22:48:18.304481Z",
     "iopub.status.idle": "2023-01-05T22:48:18.304717Z",
     "shell.execute_reply": "2023-01-05T22:48:18.304627Z",
     "shell.execute_reply.started": "2023-01-05T22:48:18.304617Z"
    }
   },
   "outputs": [],
   "source": [
    "score = my_model.evaluate(X_test, y_test, verbose=0)"
   ]
  },
  {
   "cell_type": "code",
   "execution_count": null,
   "metadata": {
    "execution": {
     "iopub.status.busy": "2023-01-05T22:48:18.306079Z",
     "iopub.status.idle": "2023-01-05T22:48:18.306314Z",
     "shell.execute_reply": "2023-01-05T22:48:18.306223Z",
     "shell.execute_reply.started": "2023-01-05T22:48:18.306212Z"
    }
   },
   "outputs": [],
   "source": [
    "print(\"Test loss:\", score[0])\n",
    "print(\"Test accuracy:\", score[1])"
   ]
  },
  {
   "cell_type": "code",
   "execution_count": null,
   "metadata": {
    "execution": {
     "iopub.status.busy": "2023-01-05T22:48:18.307514Z",
     "iopub.status.idle": "2023-01-05T22:48:18.307961Z",
     "shell.execute_reply": "2023-01-05T22:48:18.307847Z",
     "shell.execute_reply.started": "2023-01-05T22:48:18.307833Z"
    }
   },
   "outputs": [],
   "source": [
    "training_loss = hist.history[\"loss\"]\n",
    "val_loss = hist.history[\"val_loss\"]\n",
    "training_acc = hist.history[\"acc\"]\n",
    "val_acc = hist.history[\"val_acc\"]\n",
    "xc = range(epochs)\n",
    "\n",
    "plt.figure(1, figsize=(7, 5))\n",
    "plt.plot(xc, training_loss)\n",
    "plt.plot(xc, val_loss)\n",
    "plt.xlabel(\"No. of Epochs\")\n",
    "plt.ylabel(\"loss\")\n",
    "plt.title(\"Training Loss vs Validation Loss\")\n",
    "plt.grid(True)\n",
    "plt.legend([\"Train\", \"Val\"])\n",
    "\n",
    "plt.figure(2, figsize=(7, 5))\n",
    "plt.plot(xc, training_acc)\n",
    "plt.plot(xc, val_acc)\n",
    "plt.xlabel(\"No. of Epochs\")\n",
    "plt.ylabel(\"Accuracy\")\n",
    "plt.title(\"Training Accuracy vs Validation Accuracy\")\n",
    "plt.grid(True)\n",
    "plt.legend([\"Train\", \"Val\"], loc=4)"
   ]
  },
  {
   "cell_type": "code",
   "execution_count": null,
   "metadata": {
    "execution": {
     "iopub.status.busy": "2023-01-05T22:48:18.309139Z",
     "iopub.status.idle": "2023-01-05T22:48:18.309795Z",
     "shell.execute_reply": "2023-01-05T22:48:18.309671Z",
     "shell.execute_reply.started": "2023-01-05T22:48:18.309652Z"
    }
   },
   "outputs": [],
   "source": [
    "checking_occurences = [x for x in y_test if x == 1]\n",
    "print(\"total length = \", len(y_test))\n",
    "print(\"Anomolies = \", len(checking_occurences))\n",
    "print(\"Normal = \", (len(y_test) - len(checking_occurences)))\n",
    "\n",
    "n = len(y_test) - len(checking_occurences)\n",
    "a = len(checking_occurences)\n",
    "\n",
    "label = [\"Normal\", \"Anomaly\"]\n",
    "samples = [n, a]\n",
    "\n",
    "default_dpi = mpl.rcParamsDefault[\"figure.dpi\"]\n",
    "mpl.rcParams[\"figure.dpi\"] = default_dpi * 1.5\n",
    "\n",
    "# this is for plotting purpose\n",
    "index = np.arange(len(label))\n",
    "plt.bar(index, samples)\n",
    "plt.xlabel(\"Payload Types\", fontsize=10)\n",
    "plt.ylabel(\"Samples\", fontsize=10)\n",
    "plt.xticks(index, label, fontsize=10, rotation=0)\n",
    "plt.title(\"Samples identified by VGG19\")\n",
    "plt.show()"
   ]
  },
  {
   "cell_type": "code",
   "execution_count": null,
   "metadata": {
    "execution": {
     "iopub.status.busy": "2023-01-05T22:48:18.310694Z",
     "iopub.status.idle": "2023-01-05T22:48:18.311027Z",
     "shell.execute_reply": "2023-01-05T22:48:18.310918Z",
     "shell.execute_reply.started": "2023-01-05T22:48:18.310905Z"
    }
   },
   "outputs": [],
   "source": [
    "predictions = my_model.predict(X_test)\n",
    "print(\"Predictions = \", predictions)"
   ]
  },
  {
   "cell_type": "code",
   "execution_count": null,
   "metadata": {
    "execution": {
     "iopub.status.busy": "2023-01-05T22:48:18.312258Z",
     "iopub.status.idle": "2023-01-05T22:48:18.312673Z",
     "shell.execute_reply": "2023-01-05T22:48:18.312572Z",
     "shell.execute_reply.started": "2023-01-05T22:48:18.312559Z"
    }
   },
   "outputs": [],
   "source": [
    "rounded = [[round(x[0])] for x in predictions]\n",
    "from sklearn.metrics import f1_score\n",
    "\n",
    "result = f1_score(y_test, rounded, average=None, labels=[0, 1])\n",
    "print(\"F1 = \", result)"
   ]
  },
  {
   "cell_type": "code",
   "execution_count": null,
   "metadata": {
    "execution": {
     "iopub.status.busy": "2023-01-05T22:48:18.313652Z",
     "iopub.status.idle": "2023-01-05T22:48:18.314086Z",
     "shell.execute_reply": "2023-01-05T22:48:18.313984Z",
     "shell.execute_reply.started": "2023-01-05T22:48:18.313971Z"
    }
   },
   "outputs": [],
   "source": [
    "result = f1_score(y_test, rounded, average=\"macro\")\n",
    "print(\"F1 macro = \", result)"
   ]
  },
  {
   "cell_type": "code",
   "execution_count": null,
   "metadata": {
    "execution": {
     "iopub.status.busy": "2023-01-05T22:48:18.315101Z",
     "iopub.status.idle": "2023-01-05T22:48:18.315736Z",
     "shell.execute_reply": "2023-01-05T22:48:18.315557Z",
     "shell.execute_reply.started": "2023-01-05T22:48:18.315544Z"
    }
   },
   "outputs": [],
   "source": [
    "result = f1_score(y_test, rounded, average=\"micro\")\n",
    "print(\"F1 Micro= \", result)"
   ]
  },
  {
   "cell_type": "code",
   "execution_count": null,
   "metadata": {
    "execution": {
     "iopub.status.busy": "2023-01-05T22:48:18.316527Z",
     "iopub.status.idle": "2023-01-05T22:48:18.317018Z",
     "shell.execute_reply": "2023-01-05T22:48:18.316915Z",
     "shell.execute_reply.started": "2023-01-05T22:48:18.316902Z"
    }
   },
   "outputs": [],
   "source": [
    "result = f1_score(y_test, rounded, average=\"weighted\")\n",
    "print(\"F1 Weighted= \", result)"
   ]
  },
  {
   "cell_type": "code",
   "execution_count": null,
   "metadata": {
    "execution": {
     "iopub.status.busy": "2023-01-05T22:48:18.318055Z",
     "iopub.status.idle": "2023-01-05T22:48:18.318451Z",
     "shell.execute_reply": "2023-01-05T22:48:18.318350Z",
     "shell.execute_reply.started": "2023-01-05T22:48:18.318333Z"
    }
   },
   "outputs": [],
   "source": [
    "import sklearn.metrics\n",
    "\n",
    "target_names = [\"normal\", \"anomaly\"]\n",
    "print(\n",
    "    sklearn.metrics.classification_report(\n",
    "        y_test, rounded, labels=[0, 1], target_names=target_names\n",
    "    )\n",
    ")"
   ]
  },
  {
   "cell_type": "code",
   "execution_count": null,
   "metadata": {
    "execution": {
     "iopub.status.busy": "2023-01-05T22:48:18.319418Z",
     "iopub.status.idle": "2023-01-05T22:48:18.319805Z",
     "shell.execute_reply": "2023-01-05T22:48:18.319677Z",
     "shell.execute_reply.started": "2023-01-05T22:48:18.319664Z"
    }
   },
   "outputs": [],
   "source": [
    "my_model.save(\"FYP_Finalhd5.hd5\")\n",
    "my_model.save(\"FYP_Finalh5.h5\")"
   ]
  },
  {
   "cell_type": "code",
   "execution_count": null,
   "metadata": {
    "execution": {
     "iopub.status.busy": "2023-01-05T22:48:18.320978Z",
     "iopub.status.idle": "2023-01-05T22:48:18.321620Z",
     "shell.execute_reply": "2023-01-05T22:48:18.321472Z",
     "shell.execute_reply.started": "2023-01-05T22:48:18.321456Z"
    }
   },
   "outputs": [],
   "source": [
    "from read_activations import display_activations, get_activations\n",
    "\n",
    "v_index = 4\n",
    "x_valid = X_train[:5]\n",
    "a = get_activations(my_model, x_valid[v_index : v_index + 1], print_shape_only=True)\n",
    "display_activations(a)"
   ]
  },
  {
   "cell_type": "code",
   "execution_count": null,
   "metadata": {
    "scrolled": true,
    "tags": []
   },
   "outputs": [],
   "source": []
  }
 ],
 "metadata": {
  "kernelspec": {
   "display_name": "Python 3 (ipykernel)",
   "language": "python",
   "name": "python3"
  },
  "language_info": {
   "codemirror_mode": {
    "name": "ipython",
    "version": 3
   },
   "file_extension": ".py",
   "mimetype": "text/x-python",
   "name": "python",
   "nbconvert_exporter": "python",
   "pygments_lexer": "ipython3",
   "version": "3.8.10"
  },
  "toc-autonumbering": true,
  "toc-showcode": false,
  "toc-showmarkdowntxt": true,
  "vscode": {
   "interpreter": {
    "hash": "d60eb9305a6686b66f577ece6ab3cb927fdafaa2d3670efd10566381733d2e33"
   }
  }
 },
 "nbformat": 4,
 "nbformat_minor": 4
}
