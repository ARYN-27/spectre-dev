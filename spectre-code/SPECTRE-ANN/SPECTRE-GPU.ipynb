{
 "cells": [
  {
   "cell_type": "code",
   "execution_count": 1,
   "metadata": {
    "execution": {
     "iopub.execute_input": "2023-01-05T23:04:59.123488Z",
     "iopub.status.busy": "2023-01-05T23:04:59.123239Z",
     "iopub.status.idle": "2023-01-05T23:05:02.238940Z",
     "shell.execute_reply": "2023-01-05T23:05:02.237999Z",
     "shell.execute_reply.started": "2023-01-05T23:04:59.123458Z"
    },
    "tags": []
   },
   "outputs": [
    {
     "name": "stderr",
     "output_type": "stream",
     "text": [
      "2023-01-05 23:04:59.141998: I tensorflow/core/platform/cpu_feature_guard.cc:193] This TensorFlow binary is optimized with oneAPI Deep Neural Network Library (oneDNN) to use the following CPU instructions in performance-critical operations:  AVX2 FMA\n",
      "To enable them in other operations, rebuild TensorFlow with the appropriate compiler flags.\n",
      "2023-01-05 23:05:00.568923: W tensorflow/compiler/xla/stream_executor/platform/default/dso_loader.cc:64] Could not load dynamic library 'libnvinfer.so.7'; dlerror: libnvinfer.so.7: cannot open shared object file: No such file or directory; LD_LIBRARY_PATH: /usr/local/nvidia/lib:/usr/local/nvidia/lib64\n",
      "2023-01-05 23:05:00.569048: W tensorflow/compiler/xla/stream_executor/platform/default/dso_loader.cc:64] Could not load dynamic library 'libnvinfer_plugin.so.7'; dlerror: libnvinfer_plugin.so.7: cannot open shared object file: No such file or directory; LD_LIBRARY_PATH: /usr/local/nvidia/lib:/usr/local/nvidia/lib64\n",
      "2023-01-05 23:05:00.569059: W tensorflow/compiler/tf2tensorrt/utils/py_utils.cc:38] TF-TRT Warning: Cannot dlopen some TensorRT libraries. If you would like to use Nvidia GPU with TensorRT, please make sure the missing libraries mentioned above are installed properly.\n"
     ]
    }
   ],
   "source": [
    "import os\n",
    "import platform\n",
    "import sys\n",
    "\n",
    "import tensorflow as tf\n",
    "from tensorflow.keras import layers"
   ]
  },
  {
   "cell_type": "code",
   "execution_count": 2,
   "metadata": {
    "execution": {
     "iopub.execute_input": "2023-01-05T23:05:02.241689Z",
     "iopub.status.busy": "2023-01-05T23:05:02.241037Z",
     "iopub.status.idle": "2023-01-05T23:05:02.620694Z",
     "shell.execute_reply": "2023-01-05T23:05:02.619872Z",
     "shell.execute_reply.started": "2023-01-05T23:05:02.241660Z"
    }
   },
   "outputs": [],
   "source": [
    "%matplotlib widget"
   ]
  },
  {
   "cell_type": "code",
   "execution_count": 3,
   "metadata": {
    "execution": {
     "iopub.execute_input": "2023-01-05T23:05:02.622446Z",
     "iopub.status.busy": "2023-01-05T23:05:02.621853Z",
     "iopub.status.idle": "2023-01-05T23:05:02.627319Z",
     "shell.execute_reply": "2023-01-05T23:05:02.625945Z",
     "shell.execute_reply.started": "2023-01-05T23:05:02.622405Z"
    }
   },
   "outputs": [
    {
     "name": "stdout",
     "output_type": "stream",
     "text": [
      "Python Platform: Linux-5.15.79.1-microsoft-standard-WSL2-x86_64-with-glibc2.29\n",
      "Tensor Flow Version: 2.11.0\n",
      "Keras Version: 2.11.0\n",
      "\n",
      "Python 3.8.10 (default, Nov 14 2022, 12:59:47) \n",
      "[GCC 9.4.0]\n"
     ]
    }
   ],
   "source": [
    "print(f\"Python Platform: {platform.platform()}\")\n",
    "print(f\"Tensor Flow Version: {tf.__version__}\")\n",
    "print(f\"Keras Version: {tf.keras.__version__}\")\n",
    "print()\n",
    "print(f\"Python {sys.version}\")"
   ]
  },
  {
   "cell_type": "markdown",
   "metadata": {},
   "source": [
    "The TF_GPU_ALLOCATOR environment variable is used to specify the GPU memory allocator that TensorFlow should use. The cuda_malloc_async allocator is an asynchronous memory allocator that is optimized for use with NVIDIA GPUs."
   ]
  },
  {
   "cell_type": "code",
   "execution_count": 4,
   "metadata": {
    "execution": {
     "iopub.execute_input": "2023-01-05T23:05:02.629261Z",
     "iopub.status.busy": "2023-01-05T23:05:02.628831Z",
     "iopub.status.idle": "2023-01-05T23:05:02.761742Z",
     "shell.execute_reply": "2023-01-05T23:05:02.760692Z",
     "shell.execute_reply.started": "2023-01-05T23:05:02.629229Z"
    }
   },
   "outputs": [],
   "source": [
    "os.environ[\"TF_GPU_ALLOCATOR\"] = \"cuda_malloc_async\""
   ]
  },
  {
   "cell_type": "markdown",
   "metadata": {},
   "source": [
    "The os.environ['TF_FORCE_GPU_ALLOW_GROWTH'] assignment sets an environment variable called TF_FORCE_GPU_ALLOW_GROWTH in the operating system. This environment variable tells TensorFlow to dynamically grow the GPU memory usage as needed, rather than allocating all of the GPU memory at the start of the TensorFlow session."
   ]
  },
  {
   "cell_type": "code",
   "execution_count": 5,
   "metadata": {
    "execution": {
     "iopub.execute_input": "2023-01-05T23:05:02.763604Z",
     "iopub.status.busy": "2023-01-05T23:05:02.762815Z",
     "iopub.status.idle": "2023-01-05T23:05:02.767237Z",
     "shell.execute_reply": "2023-01-05T23:05:02.766290Z",
     "shell.execute_reply.started": "2023-01-05T23:05:02.763580Z"
    }
   },
   "outputs": [],
   "source": [
    "# os.environ['TF_FORCE_GPU_ALLOW_GROWTH']= 'true'"
   ]
  },
  {
   "cell_type": "code",
   "execution_count": 6,
   "metadata": {
    "execution": {
     "iopub.execute_input": "2023-01-05T23:05:02.768522Z",
     "iopub.status.busy": "2023-01-05T23:05:02.768299Z",
     "iopub.status.idle": "2023-01-05T23:05:02.772923Z",
     "shell.execute_reply": "2023-01-05T23:05:02.771776Z",
     "shell.execute_reply.started": "2023-01-05T23:05:02.768505Z"
    }
   },
   "outputs": [],
   "source": [
    "tf.get_logger().setLevel(\"INFO\")\n",
    "\n",
    "# os.environ['TF_CPP_MIN_LOG_LEVEL'] = '3'  # or any {'0', '1', '2'}"
   ]
  },
  {
   "cell_type": "markdown",
   "metadata": {},
   "source": [
    "Method 1: This enables the dynamic allocation of GPU memory. "
   ]
  },
  {
   "cell_type": "code",
   "execution_count": 7,
   "metadata": {
    "execution": {
     "iopub.execute_input": "2023-01-05T23:05:02.776838Z",
     "iopub.status.busy": "2023-01-05T23:05:02.776462Z",
     "iopub.status.idle": "2023-01-05T23:05:05.106773Z",
     "shell.execute_reply": "2023-01-05T23:05:05.105624Z",
     "shell.execute_reply.started": "2023-01-05T23:05:02.776807Z"
    },
    "tags": []
   },
   "outputs": [
    {
     "name": "stderr",
     "output_type": "stream",
     "text": [
      "2023-01-05 23:05:05.069044: I tensorflow/compiler/xla/stream_executor/cuda/cuda_gpu_executor.cc:967] could not open file to read NUMA node: /sys/bus/pci/devices/0000:01:00.0/numa_node\n",
      "Your kernel may have been built without NUMA support.\n",
      "2023-01-05 23:05:05.101793: I tensorflow/compiler/xla/stream_executor/cuda/cuda_gpu_executor.cc:967] could not open file to read NUMA node: /sys/bus/pci/devices/0000:01:00.0/numa_node\n",
      "Your kernel may have been built without NUMA support.\n",
      "2023-01-05 23:05:05.102106: I tensorflow/compiler/xla/stream_executor/cuda/cuda_gpu_executor.cc:967] could not open file to read NUMA node: /sys/bus/pci/devices/0000:01:00.0/numa_node\n",
      "Your kernel may have been built without NUMA support.\n"
     ]
    }
   ],
   "source": [
    "gpus = tf.config.experimental.list_physical_devices(\"GPU\")\n",
    "if gpus:\n",
    "    try:\n",
    "        for gpu in gpus:\n",
    "            tf.config.experimental.set_memory_growth(gpu, True)\n",
    "    except RuntimeError as e:\n",
    "        print(e)"
   ]
  },
  {
   "cell_type": "markdown",
   "metadata": {},
   "source": [
    "Method 2: This enables the dynamic allocation of GPU memory. "
   ]
  },
  {
   "cell_type": "code",
   "execution_count": 8,
   "metadata": {
    "execution": {
     "iopub.execute_input": "2023-01-05T23:05:05.108737Z",
     "iopub.status.busy": "2023-01-05T23:05:05.108044Z",
     "iopub.status.idle": "2023-01-05T23:05:05.113873Z",
     "shell.execute_reply": "2023-01-05T23:05:05.112694Z",
     "shell.execute_reply.started": "2023-01-05T23:05:05.108669Z"
    },
    "tags": []
   },
   "outputs": [],
   "source": [
    "# Ref: https://www.tensorflow.org/guide/gpu#limiting_gpu_memory_growth\n",
    "# gpus = tf.config.experimental.list_physical_devices('GPU')\n",
    "# if gpus:\n",
    "# Restrict TensorFlow to only allocate 1GB of memory on the first GPU\n",
    "#  try:\n",
    "#    tf.config.experimental.set_virtual_device_configuration(\n",
    "#        gpus[0],\n",
    "#        [tf.config.experimental.VirtualDeviceConfiguration(memory_limit=4096)]) # Notice here\n",
    "#    logical_gpus = tf.config.experimental.list_logical_devices('GPU')\n",
    "#    print(len(gpus), \"Physical GPUs,\", len(logical_gpus), \"Logical GPUs\")\n",
    "#  except RuntimeError as e:\n",
    "# Virtual devices must be set before GPUs have been initialized\n",
    "#    print(e)"
   ]
  },
  {
   "cell_type": "markdown",
   "metadata": {},
   "source": [
    "Checks for the GPU available and lists it"
   ]
  },
  {
   "cell_type": "code",
   "execution_count": 9,
   "metadata": {
    "execution": {
     "iopub.execute_input": "2023-01-05T23:05:05.115556Z",
     "iopub.status.busy": "2023-01-05T23:05:05.115246Z",
     "iopub.status.idle": "2023-01-05T23:05:05.121062Z",
     "shell.execute_reply": "2023-01-05T23:05:05.120207Z",
     "shell.execute_reply.started": "2023-01-05T23:05:05.115520Z"
    },
    "tags": []
   },
   "outputs": [
    {
     "name": "stdout",
     "output_type": "stream",
     "text": [
      "Num GPUs Available:  1\n"
     ]
    }
   ],
   "source": [
    "print(\"Num GPUs Available: \", len(tf.config.list_physical_devices(\"GPU\")))"
   ]
  },
  {
   "cell_type": "code",
   "execution_count": 10,
   "metadata": {
    "execution": {
     "iopub.execute_input": "2023-01-05T23:05:05.123289Z",
     "iopub.status.busy": "2023-01-05T23:05:05.122236Z",
     "iopub.status.idle": "2023-01-05T23:05:06.137720Z",
     "shell.execute_reply": "2023-01-05T23:05:06.136866Z",
     "shell.execute_reply.started": "2023-01-05T23:05:05.123254Z"
    }
   },
   "outputs": [
    {
     "name": "stdout",
     "output_type": "stream",
     "text": [
      "Num GPUs Available:  1\n"
     ]
    },
    {
     "name": "stderr",
     "output_type": "stream",
     "text": [
      "2023-01-05 23:05:05.125108: I tensorflow/core/platform/cpu_feature_guard.cc:193] This TensorFlow binary is optimized with oneAPI Deep Neural Network Library (oneDNN) to use the following CPU instructions in performance-critical operations:  AVX2 FMA\n",
      "To enable them in other operations, rebuild TensorFlow with the appropriate compiler flags.\n",
      "2023-01-05 23:05:05.126102: I tensorflow/compiler/xla/stream_executor/cuda/cuda_gpu_executor.cc:967] could not open file to read NUMA node: /sys/bus/pci/devices/0000:01:00.0/numa_node\n",
      "Your kernel may have been built without NUMA support.\n",
      "2023-01-05 23:05:05.126406: I tensorflow/compiler/xla/stream_executor/cuda/cuda_gpu_executor.cc:967] could not open file to read NUMA node: /sys/bus/pci/devices/0000:01:00.0/numa_node\n",
      "Your kernel may have been built without NUMA support.\n",
      "2023-01-05 23:05:05.126665: I tensorflow/compiler/xla/stream_executor/cuda/cuda_gpu_executor.cc:967] could not open file to read NUMA node: /sys/bus/pci/devices/0000:01:00.0/numa_node\n",
      "Your kernel may have been built without NUMA support.\n",
      "2023-01-05 23:05:06.123993: I tensorflow/compiler/xla/stream_executor/cuda/cuda_gpu_executor.cc:967] could not open file to read NUMA node: /sys/bus/pci/devices/0000:01:00.0/numa_node\n",
      "Your kernel may have been built without NUMA support.\n",
      "2023-01-05 23:05:06.124199: I tensorflow/compiler/xla/stream_executor/cuda/cuda_gpu_executor.cc:967] could not open file to read NUMA node: /sys/bus/pci/devices/0000:01:00.0/numa_node\n",
      "Your kernel may have been built without NUMA support.\n",
      "2023-01-05 23:05:06.124210: I tensorflow/core/common_runtime/gpu/gpu_device.cc:1700] Could not identify NUMA node of platform GPU id 0, defaulting to 0.  Your kernel may not have been built with NUMA support.\n",
      "2023-01-05 23:05:06.124364: I tensorflow/compiler/xla/stream_executor/cuda/cuda_gpu_executor.cc:967] could not open file to read NUMA node: /sys/bus/pci/devices/0000:01:00.0/numa_node\n",
      "Your kernel may have been built without NUMA support.\n",
      "2023-01-05 23:05:06.124395: I tensorflow/core/common_runtime/gpu/gpu_process_state.cc:222] Using CUDA malloc Async allocator for GPU: 0\n",
      "2023-01-05 23:05:06.130479: I tensorflow/core/common_runtime/gpu/gpu_device.cc:1613] Created device /device:GPU:0 with 3417 MB memory:  -> device: 0, name: NVIDIA GeForce RTX 3060 Laptop GPU, pci bus id: 0000:01:00.0, compute capability: 8.6\n"
     ]
    },
    {
     "data": {
      "text/plain": [
       "[name: \"/device:CPU:0\"\n",
       " device_type: \"CPU\"\n",
       " memory_limit: 268435456\n",
       " locality {\n",
       " }\n",
       " incarnation: 7746418987431029993\n",
       " xla_global_id: -1,\n",
       " name: \"/device:GPU:0\"\n",
       " device_type: \"GPU\"\n",
       " memory_limit: 3582984192\n",
       " locality {\n",
       "   bus_id: 1\n",
       "   links {\n",
       "   }\n",
       " }\n",
       " incarnation: 16921074947746290238\n",
       " physical_device_desc: \"device: 0, name: NVIDIA GeForce RTX 3060 Laptop GPU, pci bus id: 0000:01:00.0, compute capability: 8.6\"\n",
       " xla_global_id: 416903419]"
      ]
     },
     "execution_count": 10,
     "metadata": {},
     "output_type": "execute_result"
    }
   ],
   "source": [
    "from tensorflow.python.client import device_lib\n",
    "\n",
    "print(\"Num GPUs Available: \", len(tf.config.list_physical_devices(\"GPU\")))\n",
    "device_lib.list_local_devices()"
   ]
  },
  {
   "cell_type": "code",
   "execution_count": 11,
   "metadata": {
    "execution": {
     "iopub.execute_input": "2023-01-05T23:05:06.139442Z",
     "iopub.status.busy": "2023-01-05T23:05:06.138921Z",
     "iopub.status.idle": "2023-01-05T23:05:06.144778Z",
     "shell.execute_reply": "2023-01-05T23:05:06.143919Z",
     "shell.execute_reply.started": "2023-01-05T23:05:06.139420Z"
    }
   },
   "outputs": [],
   "source": [
    "import os\n",
    "import sys\n",
    "\n",
    "import keras\n",
    "import matplotlib as mpl\n",
    "import matplotlib.pyplot as plt\n",
    "import numpy as np\n",
    "from keras.applications.vgg16 import VGG16\n",
    "from keras.applications.vgg19 import VGG19\n",
    "from keras.layers import Dense, Flatten, Input\n",
    "from keras.models import Model\n",
    "\n",
    "\n",
    "def escape():\n",
    "    sys.exit()"
   ]
  },
  {
   "cell_type": "code",
   "execution_count": 12,
   "metadata": {
    "execution": {
     "iopub.execute_input": "2023-01-05T23:05:06.145839Z",
     "iopub.status.busy": "2023-01-05T23:05:06.145646Z",
     "iopub.status.idle": "2023-01-05T23:07:23.953295Z",
     "shell.execute_reply": "2023-01-05T23:07:23.952641Z",
     "shell.execute_reply.started": "2023-01-05T23:05:06.145824Z"
    },
    "tags": []
   },
   "outputs": [
    {
     "name": "stdout",
     "output_type": "stream",
     "text": [
      "Opening File :  destinationPayload_TestbedMonJun14Flows.xml.npy\n",
      "Opening File :  destinationPayload_TestbedSatJun12Flows.xml.npy\n",
      "Opening File :  destinationPayload_TestbedSunJun13Flows.xml.npy\n",
      "Opening File :  destinationPayload_TestbedThuJun17-2Flows.xml.npy\n",
      "Opening File :  destinationPayload_TestbedThuJun17-3Flows.xml.npy\n",
      "Opening File :  destinationPayload_TestbedTueJun15-1Flows.xml.npy\n",
      "Opening File :  destinationPayload_TestbedTueJun15-2Flows.xml.npy\n",
      "Opening File :  destinationPayload_TestbedTueJun15-3Flows.xml.npy\n",
      "Opening File :  destinationPayload_TestbedWedJun16-1Flows.xml.npy\n",
      "Opening File :  destinationPayload_TestbedWedJun16-2Flows.xml.npy\n",
      "Opening File :  destinationPayload_TestbedWedJun16-3Flows.xml.npy\n"
     ]
    }
   ],
   "source": [
    "import_directory = \"/spectre-code/dataset/ISCX-2012/Processed/\"\n",
    "counter = 0\n",
    "data_array = np.empty((0, 2))\n",
    "files = os.listdir(import_directory)\n",
    "for file in files:\n",
    "    print(\"Opening File : \", file)\n",
    "    data_set = np.load(import_directory + file, allow_pickle=True)\n",
    "    data_array = np.vstack((data_array, data_set))\n",
    "\n",
    "# separated = np.array([x for x in data_array if x[1] == 0])"
   ]
  },
  {
   "cell_type": "code",
   "execution_count": 13,
   "metadata": {
    "execution": {
     "iopub.execute_input": "2023-01-05T23:07:23.954533Z",
     "iopub.status.busy": "2023-01-05T23:07:23.954097Z",
     "iopub.status.idle": "2023-01-05T23:07:24.593301Z",
     "shell.execute_reply": "2023-01-05T23:07:24.592373Z",
     "shell.execute_reply.started": "2023-01-05T23:07:23.954516Z"
    }
   },
   "outputs": [
    {
     "name": "stdout",
     "output_type": "stream",
     "text": [
      "ok\n"
     ]
    }
   ],
   "source": [
    "# np.random.shuffle(separated)\n",
    "np.random.shuffle(data_array)\n",
    "print(\"ok\")"
   ]
  },
  {
   "cell_type": "code",
   "execution_count": 14,
   "metadata": {
    "execution": {
     "iopub.execute_input": "2023-01-05T23:07:24.594645Z",
     "iopub.status.busy": "2023-01-05T23:07:24.594435Z",
     "iopub.status.idle": "2023-01-05T23:07:27.719146Z",
     "shell.execute_reply": "2023-01-05T23:07:27.718516Z",
     "shell.execute_reply.started": "2023-01-05T23:07:24.594627Z"
    }
   },
   "outputs": [],
   "source": [
    "img_row = 50\n",
    "img_col = 50\n",
    "\n",
    "N = np.shape(data_array)[0]\n",
    "train_test_split_percentage = 0.75\n",
    "\n",
    "X_train = data_array[: int(N * train_test_split_percentage), 0]\n",
    "X_test = data_array[int(N * train_test_split_percentage) :, 0]\n",
    "\n",
    "X_train = np.array([x.reshape(img_row, img_col, 3) for x in X_train])\n",
    "X_test = np.array([x.reshape(img_row, img_col, 3) for x in X_test])"
   ]
  },
  {
   "cell_type": "code",
   "execution_count": 15,
   "metadata": {
    "execution": {
     "iopub.execute_input": "2023-01-05T23:07:27.720232Z",
     "iopub.status.busy": "2023-01-05T23:07:27.719919Z",
     "iopub.status.idle": "2023-01-05T23:07:28.626959Z",
     "shell.execute_reply": "2023-01-05T23:07:28.626293Z",
     "shell.execute_reply.started": "2023-01-05T23:07:27.720218Z"
    }
   },
   "outputs": [],
   "source": [
    "y_train = data_array[: int(N * train_test_split_percentage), 1]\n",
    "y_test = data_array[int(N * train_test_split_percentage) :, 1]\n",
    "\n",
    "y_train = np.array([[x] for x in y_train])\n",
    "y_test = np.array([[x] for x in y_test])"
   ]
  },
  {
   "cell_type": "code",
   "execution_count": 16,
   "metadata": {
    "execution": {
     "iopub.execute_input": "2023-01-05T23:07:28.628235Z",
     "iopub.status.busy": "2023-01-05T23:07:28.627710Z",
     "iopub.status.idle": "2023-01-05T23:07:29.137301Z",
     "shell.execute_reply": "2023-01-05T23:07:29.136655Z",
     "shell.execute_reply.started": "2023-01-05T23:07:28.628219Z"
    }
   },
   "outputs": [
    {
     "name": "stderr",
     "output_type": "stream",
     "text": [
      "2023-01-05 23:07:28.639356: I tensorflow/compiler/xla/stream_executor/cuda/cuda_gpu_executor.cc:967] could not open file to read NUMA node: /sys/bus/pci/devices/0000:01:00.0/numa_node\n",
      "Your kernel may have been built without NUMA support.\n",
      "2023-01-05 23:07:28.639638: I tensorflow/compiler/xla/stream_executor/cuda/cuda_gpu_executor.cc:967] could not open file to read NUMA node: /sys/bus/pci/devices/0000:01:00.0/numa_node\n",
      "Your kernel may have been built without NUMA support.\n",
      "2023-01-05 23:07:28.639790: I tensorflow/compiler/xla/stream_executor/cuda/cuda_gpu_executor.cc:967] could not open file to read NUMA node: /sys/bus/pci/devices/0000:01:00.0/numa_node\n",
      "Your kernel may have been built without NUMA support.\n",
      "2023-01-05 23:07:28.640114: I tensorflow/compiler/xla/stream_executor/cuda/cuda_gpu_executor.cc:967] could not open file to read NUMA node: /sys/bus/pci/devices/0000:01:00.0/numa_node\n",
      "Your kernel may have been built without NUMA support.\n",
      "2023-01-05 23:07:28.640125: I tensorflow/core/common_runtime/gpu/gpu_device.cc:1700] Could not identify NUMA node of platform GPU id 0, defaulting to 0.  Your kernel may not have been built with NUMA support.\n",
      "2023-01-05 23:07:28.640272: I tensorflow/compiler/xla/stream_executor/cuda/cuda_gpu_executor.cc:967] could not open file to read NUMA node: /sys/bus/pci/devices/0000:01:00.0/numa_node\n",
      "Your kernel may have been built without NUMA support.\n",
      "2023-01-05 23:07:28.640295: I tensorflow/core/common_runtime/gpu/gpu_device.cc:1613] Created device /job:localhost/replica:0/task:0/device:GPU:0 with 3417 MB memory:  -> device: 0, name: NVIDIA GeForce RTX 3060 Laptop GPU, pci bus id: 0000:01:00.0, compute capability: 8.6\n"
     ]
    }
   ],
   "source": [
    "model_vgg19_conv = VGG19(\n",
    "    include_top=False, weights=\"imagenet\", input_shape=(img_col, img_row, 3)\n",
    ")"
   ]
  },
  {
   "cell_type": "code",
   "execution_count": 17,
   "metadata": {
    "execution": {
     "iopub.execute_input": "2023-01-05T23:07:29.138279Z",
     "iopub.status.busy": "2023-01-05T23:07:29.138076Z",
     "iopub.status.idle": "2023-01-05T23:07:30.401684Z",
     "shell.execute_reply": "2023-01-05T23:07:30.400949Z",
     "shell.execute_reply.started": "2023-01-05T23:07:29.138262Z"
    },
    "tags": []
   },
   "outputs": [
    {
     "data": {
      "image/png": "[encoded data removed]",
      "text/plain": [
       "<Figure size 40000x15000 with 5 Axes>"
      ]
     },
     "metadata": {},
     "output_type": "display_data"
    }
   ],
   "source": [
    "# ploting images for data\n",
    "%matplotlib inline\n",
    "n = 40  # how many digits we will display\n",
    "plt.figure(figsize=(400, 150))\n",
    "for i in range(6, 11):\n",
    "    # display original\n",
    "    ax = plt.subplot(1, n, i + 1)\n",
    "    plt.imshow(X_train[i])\n",
    "    plt.gray()\n",
    "    ax.get_xaxis().set_visible(False)\n",
    "    ax.get_yaxis().set_visible(False)\n",
    "plt.show()\n",
    "plt.close()"
   ]
  },
  {
   "cell_type": "code",
   "execution_count": 18,
   "metadata": {
    "execution": {
     "iopub.execute_input": "2023-01-05T23:07:30.403022Z",
     "iopub.status.busy": "2023-01-05T23:07:30.402669Z",
     "iopub.status.idle": "2023-01-05T23:07:30.407505Z",
     "shell.execute_reply": "2023-01-05T23:07:30.406710Z",
     "shell.execute_reply.started": "2023-01-05T23:07:30.403005Z"
    }
   },
   "outputs": [
    {
     "name": "stdout",
     "output_type": "stream",
     "text": [
      "input_1\n",
      "block1_conv1\n",
      "block1_conv2\n",
      "block1_pool\n",
      "block2_conv1\n",
      "block2_conv2\n",
      "block2_pool\n",
      "block3_conv1\n",
      "block3_conv2\n",
      "block3_conv3\n",
      "block3_conv4\n",
      "block3_pool\n",
      "block4_conv1\n",
      "block4_conv2\n",
      "block4_conv3\n",
      "block4_conv4\n",
      "block4_pool\n",
      "block5_conv1\n",
      "block5_conv2\n",
      "block5_conv3\n",
      "block5_conv4\n",
      "block5_pool\n"
     ]
    }
   ],
   "source": [
    "for layer in model_vgg19_conv.layers:\n",
    "    layer.trainable = False\n",
    "    print(layer.name)"
   ]
  },
  {
   "cell_type": "code",
   "execution_count": 19,
   "metadata": {
    "execution": {
     "iopub.execute_input": "2023-01-05T23:07:30.413692Z",
     "iopub.status.busy": "2023-01-05T23:07:30.413089Z",
     "iopub.status.idle": "2023-01-05T23:07:30.500434Z",
     "shell.execute_reply": "2023-01-05T23:07:30.496884Z",
     "shell.execute_reply.started": "2023-01-05T23:07:30.413673Z"
    }
   },
   "outputs": [
    {
     "name": "stdout",
     "output_type": "stream",
     "text": [
      "Model: \"model\"\n",
      "_________________________________________________________________\n",
      " Layer (type)                Output Shape              Param #   \n",
      "=================================================================\n",
      " input_1 (InputLayer)        [(None, 50, 50, 3)]       0         \n",
      "                                                                 \n",
      " block1_conv1 (Conv2D)       (None, 50, 50, 64)        1792      \n",
      "                                                                 \n",
      " block1_conv2 (Conv2D)       (None, 50, 50, 64)        36928     \n",
      "                                                                 \n",
      " block1_pool (MaxPooling2D)  (None, 25, 25, 64)        0         \n",
      "                                                                 \n",
      " block2_conv1 (Conv2D)       (None, 25, 25, 128)       73856     \n",
      "                                                                 \n",
      " block2_conv2 (Conv2D)       (None, 25, 25, 128)       147584    \n",
      "                                                                 \n",
      " block2_pool (MaxPooling2D)  (None, 12, 12, 128)       0         \n",
      "                                                                 \n",
      " block3_conv1 (Conv2D)       (None, 12, 12, 256)       295168    \n",
      "                                                                 \n",
      " block3_conv2 (Conv2D)       (None, 12, 12, 256)       590080    \n",
      "                                                                 \n",
      " block3_conv3 (Conv2D)       (None, 12, 12, 256)       590080    \n",
      "                                                                 \n",
      " block3_conv4 (Conv2D)       (None, 12, 12, 256)       590080    \n",
      "                                                                 \n",
      " block3_pool (MaxPooling2D)  (None, 6, 6, 256)         0         \n",
      "                                                                 \n",
      " block4_conv1 (Conv2D)       (None, 6, 6, 512)         1180160   \n",
      "                                                                 \n",
      " block4_conv2 (Conv2D)       (None, 6, 6, 512)         2359808   \n",
      "                                                                 \n",
      " block4_conv3 (Conv2D)       (None, 6, 6, 512)         2359808   \n",
      "                                                                 \n",
      " block4_conv4 (Conv2D)       (None, 6, 6, 512)         2359808   \n",
      "                                                                 \n",
      " block4_pool (MaxPooling2D)  (None, 3, 3, 512)         0         \n",
      "                                                                 \n",
      " block5_conv1 (Conv2D)       (None, 3, 3, 512)         2359808   \n",
      "                                                                 \n",
      " block5_conv2 (Conv2D)       (None, 3, 3, 512)         2359808   \n",
      "                                                                 \n",
      " block5_conv3 (Conv2D)       (None, 3, 3, 512)         2359808   \n",
      "                                                                 \n",
      " block5_conv4 (Conv2D)       (None, 3, 3, 512)         2359808   \n",
      "                                                                 \n",
      " block5_pool (MaxPooling2D)  (None, 1, 1, 512)         0         \n",
      "                                                                 \n",
      " flatten (Flatten)           (None, 512)               0         \n",
      "                                                                 \n",
      " dense (Dense)               (None, 128)               65664     \n",
      "                                                                 \n",
      " predictions (Dense)         (None, 1)                 129       \n",
      "                                                                 \n",
      "=================================================================\n",
      "Total params: 20,090,177\n",
      "Trainable params: 65,793\n",
      "Non-trainable params: 20,024,384\n",
      "_________________________________________________________________\n"
     ]
    }
   ],
   "source": [
    "# x = model_vgg19_conv.output\n",
    "# x = Flatten()(x)\n",
    "# x = Dense(128, activation='relu')(x)\n",
    "# x = Dense(1, activation='sigmoid', name='predictions')(x)\n",
    "# my_model = Model(inputs=model_vgg19_conv.input, outputs=x)\n",
    "# my_model.summary()\n",
    "\n",
    "# Revision 1\n",
    "# x = model_vgg19_conv.output\n",
    "# x = Flatten()(x)\n",
    "# x = Dense(128, activation='relu')(x)\n",
    "# x = Dense(80, activation='relu')(x)\n",
    "# x = Dense(1, activation='sigmoid', name='predictions')(x)\n",
    "# my_model = Model(inputs=model_vgg19_conv.input, outputs=x)\n",
    "# my_model.summary()\n",
    "\n",
    "# Revision 2\n",
    "x = model_vgg19_conv.output\n",
    "x = layers.Flatten()(x)\n",
    "x = layers.Dense(128, activation=\"relu\")(x)\n",
    "x = layers.Dense(1, activation=\"sigmoid\", name=\"predictions\")(x)\n",
    "my_model = tf.keras.Model(inputs=model_vgg19_conv.input, outputs=x)\n",
    "my_model.summary()"
   ]
  },
  {
   "cell_type": "code",
   "execution_count": 20,
   "metadata": {
    "execution": {
     "iopub.execute_input": "2023-01-05T23:07:30.503589Z",
     "iopub.status.busy": "2023-01-05T23:07:30.503155Z",
     "iopub.status.idle": "2023-01-05T23:07:30.518170Z",
     "shell.execute_reply": "2023-01-05T23:07:30.517385Z",
     "shell.execute_reply.started": "2023-01-05T23:07:30.503569Z"
    },
    "tags": []
   },
   "outputs": [],
   "source": [
    "my_model.compile(\n",
    "    loss=keras.losses.binary_crossentropy,\n",
    "    optimizer=keras.optimizers.RMSprop(),\n",
    "    metrics=[\"accuracy\"],\n",
    ")\n",
    "\n",
    "batch_size = 5\n",
    "epochs = 3"
   ]
  },
  {
   "cell_type": "code",
   "execution_count": 21,
   "metadata": {
    "execution": {
     "iopub.execute_input": "2023-01-05T23:07:30.519580Z",
     "iopub.status.busy": "2023-01-05T23:07:30.519333Z",
     "iopub.status.idle": "2023-01-06T00:09:12.036972Z",
     "shell.execute_reply": "2023-01-06T00:09:12.028635Z",
     "shell.execute_reply.started": "2023-01-05T23:07:30.519558Z"
    },
    "tags": []
   },
   "outputs": [
    {
     "name": "stderr",
     "output_type": "stream",
     "text": [
      "2023-01-05 23:07:30.521762: W tensorflow/tsl/framework/cpu_allocator_impl.cc:82] Allocation of 3612570000 exceeds 10% of free system memory.\n",
      "2023-01-05 23:07:33.547851: W tensorflow/tsl/framework/cpu_allocator_impl.cc:82] Allocation of 3612570000 exceeds 10% of free system memory.\n"
     ]
    },
    {
     "name": "stdout",
     "output_type": "stream",
     "text": [
      "Epoch 1/3\n"
     ]
    },
    {
     "name": "stderr",
     "output_type": "stream",
     "text": [
      "2023-01-05 23:07:38.302158: I tensorflow/compiler/xla/stream_executor/cuda/cuda_dnn.cc:428] Loaded cuDNN version 8101\n"
     ]
    },
    {
     "name": "stdout",
     "output_type": "stream",
     "text": [
      "   10/96336 [..............................] - ETA: 19:33 - loss: 0.6172 - accuracy: 0.9200   "
     ]
    },
    {
     "name": "stderr",
     "output_type": "stream",
     "text": [
      "2023-01-05 23:07:41.879680: I tensorflow/compiler/xla/stream_executor/cuda/cuda_blas.cc:630] TensorFloat-32 will be used for the matrix multiplication. This will only be logged once.\n"
     ]
    },
    {
     "name": "stdout",
     "output_type": "stream",
     "text": [
      "96336/96336 [==============================] - ETA: 0s - loss: 0.0639 - accuracy: 0.9897"
     ]
    },
    {
     "name": "stderr",
     "output_type": "stream",
     "text": [
      "2023-01-05 23:25:03.665397: W tensorflow/tsl/framework/cpu_allocator_impl.cc:82] Allocation of 903150000 exceeds 10% of free system memory.\n",
      "2023-01-05 23:25:04.934064: W tensorflow/tsl/framework/cpu_allocator_impl.cc:82] Allocation of 903150000 exceeds 10% of free system memory.\n"
     ]
    },
    {
     "name": "stdout",
     "output_type": "stream",
     "text": [
      "96336/96336 [==============================] - 1231s 13ms/step - loss: 0.0639 - accuracy: 0.9897 - val_loss: 0.0708 - val_accuracy: 0.9908\n",
      "Epoch 2/3\n",
      "96336/96336 [==============================] - 1233s 13ms/step - loss: 0.0644 - accuracy: 0.9900 - val_loss: 0.0773 - val_accuracy: 0.9910\n",
      "Epoch 3/3\n",
      "96336/96336 [==============================] - 1226s 13ms/step - loss: 0.0700 - accuracy: 0.9902 - val_loss: 0.0742 - val_accuracy: 0.9910\n"
     ]
    },
    {
     "name": "stderr",
     "output_type": "stream",
     "text": [
      "2023-01-06 00:09:05.294849: W tensorflow/tsl/framework/cpu_allocator_impl.cc:82] Allocation of 1505242500 exceeds 10% of free system memory.\n",
      "2023-01-06 00:09:11.542574: E tensorflow/core/common_runtime/gpu/gpu_cudamallocasync_allocator.cc:288] gpu_async_0 cuMemAllocAsync failed to allocate 1505242500 bytes: CUDA error: out of memory (CUDA_ERROR_OUT_OF_MEMORY)\n",
      " Reported by CUDA: Free memory/Total memory: 0/6441926656\n",
      "2023-01-06 00:09:11.543120: E tensorflow/core/common_runtime/gpu/gpu_cudamallocasync_allocator.cc:293] Stats: Limit:                      3582984192\n",
      "InUse:                      4603975852\n",
      "MaxInUse:                   4904542172\n",
      "NumAllocs:                    36343264\n",
      "MaxAllocSize:               3612570000\n",
      "Reserved:                            0\n",
      "PeakReserved:                        0\n",
      "LargestFreeBlock:                    0\n",
      "\n",
      "2023-01-06 00:09:11.543152: E tensorflow/core/common_runtime/gpu/gpu_cudamallocasync_allocator.cc:56] Histogram of current allocation: (allocation_size_in_bytes, nb_allocation_of_that_sizes), ...;\n",
      "2023-01-06 00:09:11.543426: E tensorflow/core/common_runtime/gpu/gpu_cudamallocasync_allocator.cc:59] 4, 39\n",
      "2023-01-06 00:09:11.543437: E tensorflow/core/common_runtime/gpu/gpu_cudamallocasync_allocator.cc:59] 8, 10\n",
      "2023-01-06 00:09:11.543440: E tensorflow/core/common_runtime/gpu/gpu_cudamallocasync_allocator.cc:59] 20, 1\n",
      "2023-01-06 00:09:11.543443: E tensorflow/core/common_runtime/gpu/gpu_cudamallocasync_allocator.cc:59] 256, 2\n",
      "2023-01-06 00:09:11.543445: E tensorflow/core/common_runtime/gpu/gpu_cudamallocasync_allocator.cc:59] 512, 6\n",
      "2023-01-06 00:09:11.543447: E tensorflow/core/common_runtime/gpu/gpu_cudamallocasync_allocator.cc:59] 1024, 4\n",
      "2023-01-06 00:09:11.543449: E tensorflow/core/common_runtime/gpu/gpu_cudamallocasync_allocator.cc:59] 1028, 1\n",
      "2023-01-06 00:09:11.543452: E tensorflow/core/common_runtime/gpu/gpu_cudamallocasync_allocator.cc:59] 2048, 8\n",
      "2023-01-06 00:09:11.543454: E tensorflow/core/common_runtime/gpu/gpu_cudamallocasync_allocator.cc:59] 6912, 1\n",
      "2023-01-06 00:09:11.543456: E tensorflow/core/common_runtime/gpu/gpu_cudamallocasync_allocator.cc:59] 147456, 1\n",
      "2023-01-06 00:09:11.543458: E tensorflow/core/common_runtime/gpu/gpu_cudamallocasync_allocator.cc:59] 262144, 2\n",
      "2023-01-06 00:09:11.543461: E tensorflow/core/common_runtime/gpu/gpu_cudamallocasync_allocator.cc:59] 294912, 1\n",
      "2023-01-06 00:09:11.543463: E tensorflow/core/common_runtime/gpu/gpu_cudamallocasync_allocator.cc:59] 589824, 1\n",
      "2023-01-06 00:09:11.543465: E tensorflow/core/common_runtime/gpu/gpu_cudamallocasync_allocator.cc:59] 963360, 1\n",
      "2023-01-06 00:09:11.543467: E tensorflow/core/common_runtime/gpu/gpu_cudamallocasync_allocator.cc:59] 1179648, 1\n",
      "2023-01-06 00:09:11.543469: E tensorflow/core/common_runtime/gpu/gpu_cudamallocasync_allocator.cc:59] 2359296, 3\n",
      "2023-01-06 00:09:11.543472: E tensorflow/core/common_runtime/gpu/gpu_cudamallocasync_allocator.cc:59] 3853408, 1\n",
      "2023-01-06 00:09:11.543474: E tensorflow/core/common_runtime/gpu/gpu_cudamallocasync_allocator.cc:59] 4718592, 1\n",
      "2023-01-06 00:09:11.543476: E tensorflow/core/common_runtime/gpu/gpu_cudamallocasync_allocator.cc:59] 9437184, 7\n",
      "2023-01-06 00:09:11.543478: E tensorflow/core/common_runtime/gpu/gpu_cudamallocasync_allocator.cc:59] 903150000, 1\n",
      "2023-01-06 00:09:11.543480: E tensorflow/core/common_runtime/gpu/gpu_cudamallocasync_allocator.cc:59] 3612570000, 1\n"
     ]
    },
    {
     "ename": "InternalError",
     "evalue": "Failed copying input tensor from /job:localhost/replica:0/task:0/device:CPU:0 to /job:localhost/replica:0/task:0/device:GPU:0 in order to run _EagerConst: Dst tensor is not initialized.",
     "output_type": "error",
     "traceback": [
      "\u001b[0;31m---------------------------------------------------------------------------\u001b[0m",
      "\u001b[0;31mInternalError\u001b[0m                             Traceback (most recent call last)",
      "Cell \u001b[0;32mIn[21], line 9\u001b[0m\n\u001b[1;32m      1\u001b[0m hist \u001b[38;5;241m=\u001b[39m my_model\u001b[38;5;241m.\u001b[39mfit(\n\u001b[1;32m      2\u001b[0m     X_train,\n\u001b[1;32m      3\u001b[0m     y_train,\n\u001b[0;32m   (...)\u001b[0m\n\u001b[1;32m      7\u001b[0m     validation_split\u001b[38;5;241m=\u001b[39m\u001b[38;5;241m0.2\u001b[39m,\n\u001b[1;32m      8\u001b[0m )\n\u001b[0;32m----> 9\u001b[0m score \u001b[38;5;241m=\u001b[39m \u001b[43mmy_model\u001b[49m\u001b[38;5;241;43m.\u001b[39;49m\u001b[43mevaluate\u001b[49m\u001b[43m(\u001b[49m\u001b[43mX_test\u001b[49m\u001b[43m,\u001b[49m\u001b[43m \u001b[49m\u001b[43my_test\u001b[49m\u001b[43m,\u001b[49m\u001b[43m \u001b[49m\u001b[43mverbose\u001b[49m\u001b[38;5;241;43m=\u001b[39;49m\u001b[38;5;241;43m0\u001b[39;49m\u001b[43m)\u001b[49m\n",
      "File \u001b[0;32m/usr/local/lib/python3.8/dist-packages/keras/utils/traceback_utils.py:70\u001b[0m, in \u001b[0;36mfilter_traceback.<locals>.error_handler\u001b[0;34m(*args, **kwargs)\u001b[0m\n\u001b[1;32m     67\u001b[0m     filtered_tb \u001b[38;5;241m=\u001b[39m _process_traceback_frames(e\u001b[38;5;241m.\u001b[39m__traceback__)\n\u001b[1;32m     68\u001b[0m     \u001b[38;5;66;03m# To get the full stack trace, call:\u001b[39;00m\n\u001b[1;32m     69\u001b[0m     \u001b[38;5;66;03m# `tf.debugging.disable_traceback_filtering()`\u001b[39;00m\n\u001b[0;32m---> 70\u001b[0m     \u001b[38;5;28;01mraise\u001b[39;00m e\u001b[38;5;241m.\u001b[39mwith_traceback(filtered_tb) \u001b[38;5;28;01mfrom\u001b[39;00m \u001b[38;5;28mNone\u001b[39m\n\u001b[1;32m     71\u001b[0m \u001b[38;5;28;01mfinally\u001b[39;00m:\n\u001b[1;32m     72\u001b[0m     \u001b[38;5;28;01mdel\u001b[39;00m filtered_tb\n",
      "File \u001b[0;32m/usr/local/lib/python3.8/dist-packages/tensorflow/python/framework/constant_op.py:102\u001b[0m, in \u001b[0;36mconvert_to_eager_tensor\u001b[0;34m(value, ctx, dtype)\u001b[0m\n\u001b[1;32m    100\u001b[0m     dtype \u001b[38;5;241m=\u001b[39m dtypes\u001b[38;5;241m.\u001b[39mas_dtype(dtype)\u001b[38;5;241m.\u001b[39mas_datatype_enum\n\u001b[1;32m    101\u001b[0m ctx\u001b[38;5;241m.\u001b[39mensure_initialized()\n\u001b[0;32m--> 102\u001b[0m \u001b[38;5;28;01mreturn\u001b[39;00m \u001b[43mops\u001b[49m\u001b[38;5;241;43m.\u001b[39;49m\u001b[43mEagerTensor\u001b[49m\u001b[43m(\u001b[49m\u001b[43mvalue\u001b[49m\u001b[43m,\u001b[49m\u001b[43m \u001b[49m\u001b[43mctx\u001b[49m\u001b[38;5;241;43m.\u001b[39;49m\u001b[43mdevice_name\u001b[49m\u001b[43m,\u001b[49m\u001b[43m \u001b[49m\u001b[43mdtype\u001b[49m\u001b[43m)\u001b[49m\n",
      "\u001b[0;31mInternalError\u001b[0m: Failed copying input tensor from /job:localhost/replica:0/task:0/device:CPU:0 to /job:localhost/replica:0/task:0/device:GPU:0 in order to run _EagerConst: Dst tensor is not initialized."
     ]
    }
   ],
   "source": [
    "hist = my_model.fit(\n",
    "    X_train,\n",
    "    y_train,\n",
    "    batch_size=batch_size,\n",
    "    epochs=epochs,\n",
    "    verbose=1,\n",
    "    validation_split=0.2,\n",
    ")"
   ]
  },
  {
   "cell_type": "code",
   "execution_count": null,
   "metadata": {
    "execution": {
     "iopub.status.busy": "2023-01-06T00:09:12.038039Z",
     "iopub.status.idle": "2023-01-06T00:09:12.038757Z",
     "shell.execute_reply": "2023-01-06T00:09:12.038617Z",
     "shell.execute_reply.started": "2023-01-06T00:09:12.038602Z"
    }
   },
   "outputs": [],
   "source": [
    "tf.keras.backend.clear_session()\n",
    "tf.compat.v1.reset_default_graph()"
   ]
  },
  {
   "cell_type": "code",
   "execution_count": null,
   "metadata": {
    "execution": {
     "iopub.status.busy": "2023-01-06T00:09:12.039722Z",
     "iopub.status.idle": "2023-01-06T00:09:12.040323Z",
     "shell.execute_reply": "2023-01-06T00:09:12.040207Z",
     "shell.execute_reply.started": "2023-01-06T00:09:12.040196Z"
    }
   },
   "outputs": [],
   "source": [
    "score = my_model.evaluate(X_test, y_test, verbose=0)"
   ]
  },
  {
   "cell_type": "code",
   "execution_count": null,
   "metadata": {
    "execution": {
     "iopub.status.busy": "2023-01-06T00:09:12.041523Z",
     "iopub.status.idle": "2023-01-06T00:09:12.041943Z",
     "shell.execute_reply": "2023-01-06T00:09:12.041809Z",
     "shell.execute_reply.started": "2023-01-06T00:09:12.041795Z"
    }
   },
   "outputs": [],
   "source": [
    "print(\"Test loss:\", score[0])\n",
    "print(\"Test accuracy:\", score[1])"
   ]
  },
  {
   "cell_type": "code",
   "execution_count": null,
   "metadata": {
    "execution": {
     "iopub.status.busy": "2023-01-06T00:09:12.043120Z",
     "iopub.status.idle": "2023-01-06T00:09:12.043594Z",
     "shell.execute_reply": "2023-01-06T00:09:12.043441Z",
     "shell.execute_reply.started": "2023-01-06T00:09:12.043424Z"
    }
   },
   "outputs": [],
   "source": [
    "training_loss = hist.history[\"loss\"]\n",
    "val_loss = hist.history[\"val_loss\"]\n",
    "training_acc = hist.history[\"acc\"]\n",
    "val_acc = hist.history[\"val_acc\"]\n",
    "xc = range(epochs)\n",
    "\n",
    "plt.figure(1, figsize=(7, 5))\n",
    "plt.plot(xc, training_loss)\n",
    "plt.plot(xc, val_loss)\n",
    "plt.xlabel(\"No. of Epochs\")\n",
    "plt.ylabel(\"loss\")\n",
    "plt.title(\"Training Loss vs Validation Loss\")\n",
    "plt.grid(True)\n",
    "plt.legend([\"Train\", \"Val\"])\n",
    "\n",
    "plt.figure(2, figsize=(7, 5))\n",
    "plt.plot(xc, training_acc)\n",
    "plt.plot(xc, val_acc)\n",
    "plt.xlabel(\"No. of Epochs\")\n",
    "plt.ylabel(\"Accuracy\")\n",
    "plt.title(\"Training Accuracy vs Validation Accuracy\")\n",
    "plt.grid(True)\n",
    "plt.legend([\"Train\", \"Val\"], loc=4)"
   ]
  },
  {
   "cell_type": "code",
   "execution_count": null,
   "metadata": {
    "execution": {
     "iopub.status.busy": "2023-01-06T00:09:12.045001Z",
     "iopub.status.idle": "2023-01-06T00:09:12.045488Z",
     "shell.execute_reply": "2023-01-06T00:09:12.045379Z",
     "shell.execute_reply.started": "2023-01-06T00:09:12.045365Z"
    }
   },
   "outputs": [],
   "source": [
    "checking_occurences = [x for x in y_test if x == 1]\n",
    "print(\"total length = \", len(y_test))\n",
    "print(\"Anomolies = \", len(checking_occurences))\n",
    "print(\"Normal = \", (len(y_test) - len(checking_occurences)))\n",
    "\n",
    "n = len(y_test) - len(checking_occurences)\n",
    "a = len(checking_occurences)\n",
    "\n",
    "label = [\"Normal\", \"Anomaly\"]\n",
    "samples = [n, a]\n",
    "\n",
    "default_dpi = mpl.rcParamsDefault[\"figure.dpi\"]\n",
    "mpl.rcParams[\"figure.dpi\"] = default_dpi * 1.5\n",
    "\n",
    "# this is for plotting purpose\n",
    "index = np.arange(len(label))\n",
    "plt.bar(index, samples)\n",
    "plt.xlabel(\"Payload Types\", fontsize=10)\n",
    "plt.ylabel(\"Samples\", fontsize=10)\n",
    "plt.xticks(index, label, fontsize=10, rotation=0)\n",
    "plt.title(\"Samples identified by VGG19\")\n",
    "plt.show()"
   ]
  },
  {
   "cell_type": "code",
   "execution_count": null,
   "metadata": {
    "execution": {
     "iopub.status.busy": "2023-01-06T00:09:12.046750Z",
     "iopub.status.idle": "2023-01-06T00:09:12.047320Z",
     "shell.execute_reply": "2023-01-06T00:09:12.047186Z",
     "shell.execute_reply.started": "2023-01-06T00:09:12.047173Z"
    }
   },
   "outputs": [],
   "source": [
    "predictions = my_model.predict(X_test)\n",
    "print(\"Predictions = \", predictions)"
   ]
  },
  {
   "cell_type": "code",
   "execution_count": null,
   "metadata": {
    "execution": {
     "iopub.status.busy": "2023-01-06T00:09:12.048184Z",
     "iopub.status.idle": "2023-01-06T00:09:12.048428Z",
     "shell.execute_reply": "2023-01-06T00:09:12.048340Z",
     "shell.execute_reply.started": "2023-01-06T00:09:12.048330Z"
    }
   },
   "outputs": [],
   "source": [
    "rounded = [[round(x[0])] for x in predictions]\n",
    "from sklearn.metrics import f1_score\n",
    "\n",
    "result = f1_score(y_test, rounded, average=None, labels=[0, 1])\n",
    "print(\"F1 = \", result)"
   ]
  },
  {
   "cell_type": "code",
   "execution_count": null,
   "metadata": {
    "execution": {
     "iopub.status.busy": "2023-01-06T00:09:12.049538Z",
     "iopub.status.idle": "2023-01-06T00:09:12.049931Z",
     "shell.execute_reply": "2023-01-06T00:09:12.049803Z",
     "shell.execute_reply.started": "2023-01-06T00:09:12.049790Z"
    }
   },
   "outputs": [],
   "source": [
    "result = f1_score(y_test, rounded, average=\"macro\")\n",
    "print(\"F1 macro = \", result)"
   ]
  },
  {
   "cell_type": "code",
   "execution_count": null,
   "metadata": {
    "execution": {
     "iopub.status.busy": "2023-01-06T00:09:12.050806Z",
     "iopub.status.idle": "2023-01-06T00:09:12.051055Z",
     "shell.execute_reply": "2023-01-06T00:09:12.050959Z",
     "shell.execute_reply.started": "2023-01-06T00:09:12.050948Z"
    }
   },
   "outputs": [],
   "source": [
    "result = f1_score(y_test, rounded, average=\"micro\")\n",
    "print(\"F1 Micro= \", result)"
   ]
  },
  {
   "cell_type": "code",
   "execution_count": null,
   "metadata": {
    "execution": {
     "iopub.status.busy": "2023-01-06T00:09:12.052228Z",
     "iopub.status.idle": "2023-01-06T00:09:12.052459Z",
     "shell.execute_reply": "2023-01-06T00:09:12.052367Z",
     "shell.execute_reply.started": "2023-01-06T00:09:12.052357Z"
    }
   },
   "outputs": [],
   "source": [
    "result = f1_score(y_test, rounded, average=\"weighted\")\n",
    "print(\"F1 Weighted= \", result)"
   ]
  },
  {
   "cell_type": "code",
   "execution_count": null,
   "metadata": {
    "execution": {
     "iopub.status.busy": "2023-01-06T00:09:12.053688Z",
     "iopub.status.idle": "2023-01-06T00:09:12.053931Z",
     "shell.execute_reply": "2023-01-06T00:09:12.053839Z",
     "shell.execute_reply.started": "2023-01-06T00:09:12.053804Z"
    }
   },
   "outputs": [],
   "source": [
    "import sklearn.metrics\n",
    "\n",
    "target_names = [\"normal\", \"anomaly\"]\n",
    "print(\n",
    "    sklearn.metrics.classification_report(\n",
    "        y_test, rounded, labels=[0, 1], target_names=target_names\n",
    "    )\n",
    ")"
   ]
  },
  {
   "cell_type": "code",
   "execution_count": null,
   "metadata": {
    "execution": {
     "iopub.status.busy": "2023-01-06T00:09:12.054720Z",
     "iopub.status.idle": "2023-01-06T00:09:12.054924Z",
     "shell.execute_reply": "2023-01-06T00:09:12.054840Z",
     "shell.execute_reply.started": "2023-01-06T00:09:12.054830Z"
    }
   },
   "outputs": [],
   "source": [
    "my_model.save(\"FYP_Finalhd5.hd5\")\n",
    "my_model.save(\"FYP_Finalh5.h5\")"
   ]
  },
  {
   "cell_type": "code",
   "execution_count": null,
   "metadata": {
    "execution": {
     "iopub.status.busy": "2023-01-06T00:09:12.056046Z",
     "iopub.status.idle": "2023-01-06T00:09:12.056287Z",
     "shell.execute_reply": "2023-01-06T00:09:12.056173Z",
     "shell.execute_reply.started": "2023-01-06T00:09:12.056164Z"
    }
   },
   "outputs": [],
   "source": [
    "from read_activations import display_activations, get_activations\n",
    "\n",
    "v_index = 4\n",
    "x_valid = X_train[:5]\n",
    "a = get_activations(my_model, x_valid[v_index : v_index + 1], print_shape_only=True)\n",
    "display_activations(a)"
   ]
  },
  {
   "cell_type": "code",
   "execution_count": null,
   "metadata": {
    "scrolled": true,
    "tags": []
   },
   "outputs": [],
   "source": []
  }
 ],
 "metadata": {
  "kernelspec": {
   "display_name": "Python 3 (ipykernel)",
   "language": "python",
   "name": "python3"
  },
  "language_info": {
   "codemirror_mode": {
    "name": "ipython",
    "version": 3
   },
   "file_extension": ".py",
   "mimetype": "text/x-python",
   "name": "python",
   "nbconvert_exporter": "python",
   "pygments_lexer": "ipython3",
   "version": "3.9.15 (main, Nov 24 2022, 14:31:59) \n[GCC 11.2.0]"
  },
  "toc-autonumbering": true,
  "toc-showcode": false,
  "toc-showmarkdowntxt": true,
  "vscode": {
   "interpreter": {
    "hash": "d60eb9305a6686b66f577ece6ab3cb927fdafaa2d3670efd10566381733d2e33"
   }
  }
 },
 "nbformat": 4,
 "nbformat_minor": 4
}
