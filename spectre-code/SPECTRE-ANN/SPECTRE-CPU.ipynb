{
 "cells": [
  {
   "cell_type": "code",
   "execution_count": 1,
   "metadata": {
    "tags": []
   },
   "outputs": [
    {
     "name": "stderr",
     "output_type": "stream",
     "text": [
      "2023-01-01 02:45:05.597480: I tensorflow/core/platform/cpu_feature_guard.cc:193] This TensorFlow binary is optimized with oneAPI Deep Neural Network Library (oneDNN) to use the following CPU instructions in performance-critical operations:  AVX2 FMA\n",
      "To enable them in other operations, rebuild TensorFlow with the appropriate compiler flags.\n",
      "2023-01-01 02:45:05.716119: W tensorflow/compiler/xla/stream_executor/platform/default/dso_loader.cc:64] Could not load dynamic library 'libcudart.so.11.0'; dlerror: libcudart.so.11.0: cannot open shared object file: No such file or directory\n",
      "2023-01-01 02:45:05.716137: I tensorflow/compiler/xla/stream_executor/cuda/cudart_stub.cc:29] Ignore above cudart dlerror if you do not have a GPU set up on your machine.\n",
      "2023-01-01 02:45:06.234452: W tensorflow/compiler/xla/stream_executor/platform/default/dso_loader.cc:64] Could not load dynamic library 'libnvinfer.so.7'; dlerror: libnvinfer.so.7: cannot open shared object file: No such file or directory\n",
      "2023-01-01 02:45:06.234517: W tensorflow/compiler/xla/stream_executor/platform/default/dso_loader.cc:64] Could not load dynamic library 'libnvinfer_plugin.so.7'; dlerror: libnvinfer_plugin.so.7: cannot open shared object file: No such file or directory\n",
      "2023-01-01 02:45:06.234522: W tensorflow/compiler/tf2tensorrt/utils/py_utils.cc:38] TF-TRT Warning: Cannot dlopen some TensorRT libraries. If you would like to use Nvidia GPU with TensorRT, please make sure the missing libraries mentioned above are installed properly.\n"
     ]
    }
   ],
   "source": [
    "import tensorflow as tf\n",
    "from tensorflow.keras import layers\n",
    "import os\n",
    "import sys\n",
    "import platform"
   ]
  },
  {
   "cell_type": "code",
   "execution_count": 2,
   "metadata": {},
   "outputs": [
    {
     "name": "stdout",
     "output_type": "stream",
     "text": [
      "Python Platform: Linux-5.15.79.1-microsoft-standard-WSL2-x86_64-with-glibc2.35\n",
      "Tensor Flow Version: 2.11.0\n",
      "Keras Version: 2.11.0\n",
      "\n",
      "Python 3.9.15 (main, Nov 24 2022, 14:31:59) \n",
      "[GCC 11.2.0]\n"
     ]
    }
   ],
   "source": [
    "print(f\"Python Platform: {platform.platform()}\")\n",
    "print(f\"Tensor Flow Version: {tf.__version__}\")\n",
    "print(f\"Keras Version: {tf.keras.__version__}\")\n",
    "print()\n",
    "print(f\"Python {sys.version}\")"
   ]
  },
  {
   "cell_type": "code",
   "execution_count": 3,
   "metadata": {},
   "outputs": [],
   "source": [
    "tf.get_logger().setLevel('INFO')\n",
    "\n",
    "#os.environ['TF_CPP_MIN_LOG_LEVEL'] = '3'  # or any {'0', '1', '2'}"
   ]
  },
  {
   "cell_type": "code",
   "execution_count": 5,
   "metadata": {},
   "outputs": [],
   "source": [
    "import numpy as np\n",
    "from keras.applications.vgg19 import VGG19\n",
    "from keras.applications.vgg16 import VGG16\n",
    "import keras\n",
    "from keras.layers import Input, Flatten, Dense\n",
    "from keras.models import Model\n",
    "import sys\n",
    "import os\n",
    "\n",
    "import matplotlib.pyplot as plt\n",
    "import matplotlib as mpl\n",
    "\n",
    "\n",
    "def escape():\n",
    "    sys.exit()\n"
   ]
  },
  {
   "cell_type": "code",
   "execution_count": 6,
   "metadata": {},
   "outputs": [
    {
     "name": "stdout",
     "output_type": "stream",
     "text": [
      "Opening File :  destinationPayload_TestbedMonJun14Flows.xml.npy\n",
      "Opening File :  destinationPayload_TestbedSatJun12Flows.xml.npy\n",
      "Opening File :  destinationPayload_TestbedSunJun13Flows.xml.npy\n",
      "Opening File :  destinationPayload_TestbedThuJun17-2Flows.xml.npy\n",
      "Opening File :  destinationPayload_TestbedThuJun17-3Flows.xml.npy\n",
      "Opening File :  destinationPayload_TestbedTueJun15-1Flows.xml.npy\n",
      "Opening File :  destinationPayload_TestbedTueJun15-2Flows.xml.npy\n",
      "Opening File :  destinationPayload_TestbedTueJun15-3Flows.xml.npy\n",
      "Opening File :  destinationPayload_TestbedWedJun16-1Flows.xml.npy\n",
      "Opening File :  destinationPayload_TestbedWedJun16-2Flows.xml.npy\n",
      "Opening File :  destinationPayload_TestbedWedJun16-3Flows.xml.npy\n"
     ]
    }
   ],
   "source": [
    "import_directory = \"/mnt/c/SPECTRE/Dataset/ISCX-2012/Processed/\"\n",
    "counter = 0\n",
    "data_array = np.empty((0, 2))\n",
    "files = os.listdir(import_directory)\n",
    "for file in files:\n",
    "    print('Opening File : ', file)\n",
    "    data_set = np.load(import_directory+file,allow_pickle=True)\n",
    "    data_array = np.vstack((data_array, data_set))\n",
    "\n",
    "#separated = np.array([x for x in data_array if x[1] == 0])"
   ]
  },
  {
   "cell_type": "code",
   "execution_count": 7,
   "metadata": {},
   "outputs": [
    {
     "name": "stdout",
     "output_type": "stream",
     "text": [
      "ok\n"
     ]
    }
   ],
   "source": [
    "#np.random.shuffle(separated)\n",
    "np.random.shuffle(data_array)\n",
    "print(\"ok\")"
   ]
  },
  {
   "cell_type": "code",
   "execution_count": 8,
   "metadata": {},
   "outputs": [],
   "source": [
    "img_row = 50\n",
    "img_col = 50\n",
    "\n",
    "N = np.shape(data_array)[0]\n",
    "train_test_split_percentage = 0.75\n",
    "\n",
    "X_train = data_array[:int(N * train_test_split_percentage), 0]\n",
    "X_test = data_array[int(N * train_test_split_percentage):, 0]\n",
    "\n",
    "X_train = np.array([x.reshape(img_row, img_col, 3) for x in X_train])\n",
    "X_test = np.array([x.reshape(img_row, img_col, 3) for x in X_test])"
   ]
  },
  {
   "cell_type": "code",
   "execution_count": 9,
   "metadata": {},
   "outputs": [],
   "source": [
    "y_train = data_array[:int(N * train_test_split_percentage), 1]\n",
    "y_test = data_array[int(N * train_test_split_percentage):, 1]\n",
    "\n",
    "y_train = np.array([[x] for x in y_train])\n",
    "y_test = np.array([[x] for x in y_test])"
   ]
  },
  {
   "cell_type": "code",
   "execution_count": 10,
   "metadata": {},
   "outputs": [
    {
     "name": "stderr",
     "output_type": "stream",
     "text": [
      "2023-01-01 02:48:53.273408: I tensorflow/compiler/xla/stream_executor/cuda/cuda_gpu_executor.cc:967] could not open file to read NUMA node: /sys/bus/pci/devices/0000:01:00.0/numa_node\n",
      "Your kernel may have been built without NUMA support.\n",
      "2023-01-01 02:48:53.273514: W tensorflow/compiler/xla/stream_executor/platform/default/dso_loader.cc:64] Could not load dynamic library 'libcudart.so.11.0'; dlerror: libcudart.so.11.0: cannot open shared object file: No such file or directory\n",
      "2023-01-01 02:48:53.273540: W tensorflow/compiler/xla/stream_executor/platform/default/dso_loader.cc:64] Could not load dynamic library 'libcublas.so.11'; dlerror: libcublas.so.11: cannot open shared object file: No such file or directory\n",
      "2023-01-01 02:48:53.273560: W tensorflow/compiler/xla/stream_executor/platform/default/dso_loader.cc:64] Could not load dynamic library 'libcublasLt.so.11'; dlerror: libcublasLt.so.11: cannot open shared object file: No such file or directory\n",
      "2023-01-01 02:48:53.273578: W tensorflow/compiler/xla/stream_executor/platform/default/dso_loader.cc:64] Could not load dynamic library 'libcufft.so.10'; dlerror: libcufft.so.10: cannot open shared object file: No such file or directory\n",
      "2023-01-01 02:48:53.273595: W tensorflow/compiler/xla/stream_executor/platform/default/dso_loader.cc:64] Could not load dynamic library 'libcurand.so.10'; dlerror: libcurand.so.10: cannot open shared object file: No such file or directory\n",
      "2023-01-01 02:48:53.273613: W tensorflow/compiler/xla/stream_executor/platform/default/dso_loader.cc:64] Could not load dynamic library 'libcusolver.so.11'; dlerror: libcusolver.so.11: cannot open shared object file: No such file or directory\n",
      "2023-01-01 02:48:53.273629: W tensorflow/compiler/xla/stream_executor/platform/default/dso_loader.cc:64] Could not load dynamic library 'libcusparse.so.11'; dlerror: libcusparse.so.11: cannot open shared object file: No such file or directory\n",
      "2023-01-01 02:48:53.273645: W tensorflow/compiler/xla/stream_executor/platform/default/dso_loader.cc:64] Could not load dynamic library 'libcudnn.so.8'; dlerror: libcudnn.so.8: cannot open shared object file: No such file or directory\n",
      "2023-01-01 02:48:53.273650: W tensorflow/core/common_runtime/gpu/gpu_device.cc:1934] Cannot dlopen some GPU libraries. Please make sure the missing libraries mentioned above are installed properly if you would like to use GPU. Follow the guide at https://www.tensorflow.org/install/gpu for how to download and setup the required libraries for your platform.\n",
      "Skipping registering GPU devices...\n",
      "2023-01-01 02:48:53.274943: I tensorflow/core/platform/cpu_feature_guard.cc:193] This TensorFlow binary is optimized with oneAPI Deep Neural Network Library (oneDNN) to use the following CPU instructions in performance-critical operations:  AVX2 FMA\n",
      "To enable them in other operations, rebuild TensorFlow with the appropriate compiler flags.\n"
     ]
    }
   ],
   "source": [
    "model_vgg19_conv = VGG19(include_top=False, weights='imagenet', input_shape=(img_col, img_row, 3))"
   ]
  },
  {
   "cell_type": "code",
   "execution_count": 11,
   "metadata": {},
   "outputs": [
    {
     "data": {
      "image/png": "[encoded data removed]",
      "text/plain": [
       "<Figure size 40000x15000 with 5 Axes>"
      ]
     },
     "metadata": {},
     "output_type": "display_data"
    }
   ],
   "source": [
    "#ploting images for data\n",
    "%matplotlib inline\n",
    "n = 40  # how many digits we will display\n",
    "plt.figure(figsize=(400, 150))\n",
    "for i in range(6,11):\n",
    "    # display original\n",
    "    ax = plt.subplot(1, n, i + 1)\n",
    "    plt.imshow(X_train[i])\n",
    "    plt.gray()\n",
    "    ax.get_xaxis().set_visible(False)\n",
    "    ax.get_yaxis().set_visible(False)\n",
    "plt.show()\n",
    "plt.close()"
   ]
  },
  {
   "cell_type": "code",
   "execution_count": 12,
   "metadata": {},
   "outputs": [
    {
     "name": "stdout",
     "output_type": "stream",
     "text": [
      "input_1\n",
      "block1_conv1\n",
      "block1_conv2\n",
      "block1_pool\n",
      "block2_conv1\n",
      "block2_conv2\n",
      "block2_pool\n",
      "block3_conv1\n",
      "block3_conv2\n",
      "block3_conv3\n",
      "block3_conv4\n",
      "block3_pool\n",
      "block4_conv1\n",
      "block4_conv2\n",
      "block4_conv3\n",
      "block4_conv4\n",
      "block4_pool\n",
      "block5_conv1\n",
      "block5_conv2\n",
      "block5_conv3\n",
      "block5_conv4\n",
      "block5_pool\n"
     ]
    }
   ],
   "source": [
    "for layer in model_vgg19_conv.layers:\n",
    "    layer.trainable = False\n",
    "    print(layer.name)"
   ]
  },
  {
   "cell_type": "code",
   "execution_count": 13,
   "metadata": {},
   "outputs": [
    {
     "name": "stdout",
     "output_type": "stream",
     "text": [
      "Model: \"model\"\n",
      "_________________________________________________________________\n",
      " Layer (type)                Output Shape              Param #   \n",
      "=================================================================\n",
      " input_1 (InputLayer)        [(None, 50, 50, 3)]       0         \n",
      "                                                                 \n",
      " block1_conv1 (Conv2D)       (None, 50, 50, 64)        1792      \n",
      "                                                                 \n",
      " block1_conv2 (Conv2D)       (None, 50, 50, 64)        36928     \n",
      "                                                                 \n",
      " block1_pool (MaxPooling2D)  (None, 25, 25, 64)        0         \n",
      "                                                                 \n",
      " block2_conv1 (Conv2D)       (None, 25, 25, 128)       73856     \n",
      "                                                                 \n",
      " block2_conv2 (Conv2D)       (None, 25, 25, 128)       147584    \n",
      "                                                                 \n",
      " block2_pool (MaxPooling2D)  (None, 12, 12, 128)       0         \n",
      "                                                                 \n",
      " block3_conv1 (Conv2D)       (None, 12, 12, 256)       295168    \n",
      "                                                                 \n",
      " block3_conv2 (Conv2D)       (None, 12, 12, 256)       590080    \n",
      "                                                                 \n",
      " block3_conv3 (Conv2D)       (None, 12, 12, 256)       590080    \n",
      "                                                                 \n",
      " block3_conv4 (Conv2D)       (None, 12, 12, 256)       590080    \n",
      "                                                                 \n",
      " block3_pool (MaxPooling2D)  (None, 6, 6, 256)         0         \n",
      "                                                                 \n",
      " block4_conv1 (Conv2D)       (None, 6, 6, 512)         1180160   \n",
      "                                                                 \n",
      " block4_conv2 (Conv2D)       (None, 6, 6, 512)         2359808   \n",
      "                                                                 \n",
      " block4_conv3 (Conv2D)       (None, 6, 6, 512)         2359808   \n",
      "                                                                 \n",
      " block4_conv4 (Conv2D)       (None, 6, 6, 512)         2359808   \n",
      "                                                                 \n",
      " block4_pool (MaxPooling2D)  (None, 3, 3, 512)         0         \n",
      "                                                                 \n",
      " block5_conv1 (Conv2D)       (None, 3, 3, 512)         2359808   \n",
      "                                                                 \n",
      " block5_conv2 (Conv2D)       (None, 3, 3, 512)         2359808   \n",
      "                                                                 \n",
      " block5_conv3 (Conv2D)       (None, 3, 3, 512)         2359808   \n",
      "                                                                 \n",
      " block5_conv4 (Conv2D)       (None, 3, 3, 512)         2359808   \n",
      "                                                                 \n",
      " block5_pool (MaxPooling2D)  (None, 1, 1, 512)         0         \n",
      "                                                                 \n",
      " flatten (Flatten)           (None, 512)               0         \n",
      "                                                                 \n",
      " dense (Dense)               (None, 128)               65664     \n",
      "                                                                 \n",
      " predictions (Dense)         (None, 1)                 129       \n",
      "                                                                 \n",
      "=================================================================\n",
      "Total params: 20,090,177\n",
      "Trainable params: 65,793\n",
      "Non-trainable params: 20,024,384\n",
      "_________________________________________________________________\n"
     ]
    }
   ],
   "source": [
    "#x = model_vgg19_conv.output\n",
    "#x = Flatten()(x)\n",
    "#x = Dense(128, activation='relu')(x)\n",
    "#x = Dense(1, activation='sigmoid', name='predictions')(x)\n",
    "#my_model = Model(inputs=model_vgg19_conv.input, outputs=x)\n",
    "#my_model.summary()\n",
    "\n",
    "#Revision 1\n",
    "#x = model_vgg19_conv.output\n",
    "#x = Flatten()(x)\n",
    "#x = Dense(128, activation='relu')(x)\n",
    "#x = Dense(80, activation='relu')(x)\n",
    "#x = Dense(1, activation='sigmoid', name='predictions')(x)\n",
    "#my_model = Model(inputs=model_vgg19_conv.input, outputs=x)\n",
    "#my_model.summary()\n",
    "\n",
    "#Revision 2\n",
    "x = model_vgg19_conv.output\n",
    "x = layers.Flatten()(x)\n",
    "x = layers.Dense(128, activation='relu')(x)\n",
    "x = layers.Dense(1, activation='sigmoid', name='predictions')(x)\n",
    "my_model = tf.keras.Model(inputs=model_vgg19_conv.input, outputs=x)\n",
    "my_model.summary()"
   ]
  },
  {
   "cell_type": "code",
   "execution_count": 16,
   "metadata": {},
   "outputs": [],
   "source": [
    "my_model.compile(loss=keras.losses.binary_crossentropy,\n",
    "              optimizer=keras.optimizers.RMSprop(),\n",
    "              metrics=['accuracy'])\n",
    "\n",
    "batch_size = 32\n",
    "epochs = 2"
   ]
  },
  {
   "cell_type": "code",
   "execution_count": 17,
   "metadata": {},
   "outputs": [
    {
     "name": "stderr",
     "output_type": "stream",
     "text": [
      "2023-01-01 02:53:31.371931: W tensorflow/tsl/framework/cpu_allocator_impl.cc:82] Allocation of 3612570000 exceeds 10% of free system memory.\n"
     ]
    },
    {
     "name": "stdout",
     "output_type": "stream",
     "text": [
      "Epoch 1/2\n",
      "    1/15053 [..............................] - ETA: 2:56:01 - loss: 0.0065 - accuracy: 1.0000"
     ]
    },
    {
     "name": "stderr",
     "output_type": "stream",
     "text": [
      "2023-01-01 02:53:42.103254: W tensorflow/tsl/framework/cpu_allocator_impl.cc:82] Allocation of 20480000 exceeds 10% of free system memory.\n",
      "2023-01-01 02:53:42.124313: W tensorflow/tsl/framework/cpu_allocator_impl.cc:82] Allocation of 20480000 exceeds 10% of free system memory.\n",
      "2023-01-01 02:53:42.278811: W tensorflow/tsl/framework/cpu_allocator_impl.cc:82] Allocation of 20480000 exceeds 10% of free system memory.\n"
     ]
    },
    {
     "name": "stdout",
     "output_type": "stream",
     "text": [
      "15053/15053 [==============================] - 2278s 151ms/step - loss: 0.0370 - accuracy: 0.9908 - val_loss: 0.0351 - val_accuracy: 0.9913\n",
      "Epoch 2/2\n",
      "15053/15053 [==============================] - 2185s 145ms/step - loss: 0.0374 - accuracy: 0.9908 - val_loss: 0.0338 - val_accuracy: 0.9914\n"
     ]
    }
   ],
   "source": [
    "hist = my_model.fit(X_train, y_train,\n",
    "          batch_size=batch_size,\n",
    "          epochs=epochs,\n",
    "          verbose=1,\n",
    "          validation_split=0.2)"
   ]
  },
  {
   "cell_type": "code",
   "execution_count": 18,
   "metadata": {},
   "outputs": [],
   "source": [
    "tf.keras.backend.clear_session()\n",
    "tf.compat.v1.reset_default_graph()"
   ]
  },
  {
   "cell_type": "code",
   "execution_count": 19,
   "metadata": {},
   "outputs": [],
   "source": [
    "score = my_model.evaluate(X_test, y_test, verbose=0)"
   ]
  },
  {
   "cell_type": "code",
   "execution_count": 20,
   "metadata": {},
   "outputs": [
    {
     "name": "stdout",
     "output_type": "stream",
     "text": [
      "Test loss: 0.033859364688396454\n",
      "Test accuracy: 0.9909067749977112\n"
     ]
    }
   ],
   "source": [
    "print('Test loss:', score[0])\n",
    "print('Test accuracy:', score[1])\n"
   ]
  },
  {
   "cell_type": "code",
   "execution_count": 24,
   "metadata": {},
   "outputs": [
    {
     "ename": "AttributeError",
     "evalue": "'History' object has no attribute 'fit'",
     "output_type": "error",
     "traceback": [
      "\u001b[0;31m---------------------------------------------------------------------------\u001b[0m",
      "\u001b[0;31mAttributeError\u001b[0m                            Traceback (most recent call last)",
      "Cell \u001b[0;32mIn[24], line 29\u001b[0m\n\u001b[1;32m      1\u001b[0m \u001b[39m#training_loss= hist.history['loss']\u001b[39;00m\n\u001b[1;32m      2\u001b[0m \u001b[39m#val_loss= hist.history['val_loss'] \u001b[39;00m\n\u001b[1;32m      3\u001b[0m \u001b[39m#training_acc= hist.history['acc'] \u001b[39;00m\n\u001b[0;32m   (...)\u001b[0m\n\u001b[1;32m     27\u001b[0m \n\u001b[1;32m     28\u001b[0m \u001b[39m# Extract the history from the model fit\u001b[39;00m\n\u001b[0;32m---> 29\u001b[0m history \u001b[39m=\u001b[39m hist\u001b[39m.\u001b[39;49mfit(\u001b[39m.\u001b[39m\u001b[39m.\u001b[39m\u001b[39m.\u001b[39m)\u001b[39m.\u001b[39mhistory\n\u001b[1;32m     31\u001b[0m \u001b[39m# Extract the training and validation loss\u001b[39;00m\n\u001b[1;32m     32\u001b[0m training_loss \u001b[39m=\u001b[39m history[\u001b[39m'\u001b[39m\u001b[39mloss\u001b[39m\u001b[39m'\u001b[39m]\n",
      "\u001b[0;31mAttributeError\u001b[0m: 'History' object has no attribute 'fit'"
     ]
    }
   ],
   "source": [
    "training_loss= hist.history['loss']\n",
    "val_loss= hist.history['val_loss'] \n",
    "training_acc= hist.history['acc'] \n",
    "val_acc= hist.history['val_acc']\n",
    "xc=range(epochs)\n",
    "\n",
    "plt.figure(1,figsize=(7,5)) \n",
    "plt.plot(xc,training_loss)\n",
    "plt.plot(xc,val_loss) \n",
    "plt.xlabel('No. of Epochs') \n",
    "plt.ylabel('loss') \n",
    "plt.title('Training Loss vs Validation Loss') \n",
    "plt.grid(True) \n",
    "plt.legend(['Train','Val'])\n",
    "\n",
    "plt.figure(2,figsize=(7,5)) \n",
    "plt.plot(xc,training_acc) \n",
    "plt.plot(xc,val_acc) \n",
    "plt.xlabel('No. of Epochs') \n",
    "plt.ylabel('Accuracy') \n",
    "plt.title('Training Accuracy vs Validation Accuracy') \n",
    "plt.grid(True) \n",
    "plt.legend(['Train','Val'],loc=4)"
   ]
  },
  {
   "cell_type": "code",
   "execution_count": null,
   "metadata": {},
   "outputs": [],
   "source": [
    "checking_occurences = [x for x in y_test if x == 1]\n",
    "print(\"total length = \",len(y_test))\n",
    "print(\"Anomolies = \",len(checking_occurences))\n",
    "print(\"Normal = \", (len(y_test) - len(checking_occurences)))\n",
    "\n",
    "n = len(y_test) - len(checking_occurences)\n",
    "a = len(checking_occurences)\n",
    "\n",
    "label = ['Normal', 'Anomaly']\n",
    "samples = [n, a]\n",
    "\n",
    "default_dpi = mpl.rcParamsDefault['figure.dpi']\n",
    "mpl.rcParams['figure.dpi'] = default_dpi * 1.5\n",
    "\n",
    "# this is for plotting purpose\n",
    "index = np.arange(len(label))\n",
    "plt.bar(index, samples)\n",
    "plt.xlabel('Payload Types', fontsize=10)\n",
    "plt.ylabel('Samples', fontsize=10)\n",
    "plt.xticks(index, label, fontsize=10, rotation=0)\n",
    "plt.title('Samples identified by VGG19')\n",
    "plt.show()"
   ]
  },
  {
   "cell_type": "code",
   "execution_count": null,
   "metadata": {},
   "outputs": [],
   "source": [
    "predictions = my_model.predict(X_test)\n",
    "print(\"Predictions = \",predictions)"
   ]
  },
  {
   "cell_type": "code",
   "execution_count": null,
   "metadata": {},
   "outputs": [],
   "source": [
    "rounded = [[round(x[0])] for x in predictions]\n",
    "from sklearn.metrics import f1_score\n",
    "result = f1_score(y_test,rounded, average=None, labels = [0,1])\n",
    "print(\"F1 = \",result)"
   ]
  },
  {
   "cell_type": "code",
   "execution_count": null,
   "metadata": {},
   "outputs": [],
   "source": [
    "result = f1_score(y_test,rounded, average='macro')\n",
    "print(\"F1 macro = \",result)"
   ]
  },
  {
   "cell_type": "code",
   "execution_count": null,
   "metadata": {},
   "outputs": [],
   "source": [
    "result = f1_score(y_test,rounded, average='micro')\n",
    "print(\"F1 Micro= \",result)"
   ]
  },
  {
   "cell_type": "code",
   "execution_count": null,
   "metadata": {},
   "outputs": [],
   "source": [
    "result = f1_score(y_test,rounded, average='weighted')\n",
    "print(\"F1 Weighted= \",result)"
   ]
  },
  {
   "cell_type": "code",
   "execution_count": null,
   "metadata": {},
   "outputs": [],
   "source": [
    "import sklearn.metrics\n",
    "target_names = ['normal','anomaly']\n",
    "print(sklearn.metrics.classification_report(y_test,rounded,labels = [0,1], target_names=target_names))"
   ]
  },
  {
   "cell_type": "code",
   "execution_count": null,
   "metadata": {},
   "outputs": [],
   "source": [
    "my_model.save(\"FYP_Finalhd5.hd5\")\n",
    "my_model.save(\"FYP_Finalh5.h5\")"
   ]
  },
  {
   "cell_type": "code",
   "execution_count": null,
   "metadata": {},
   "outputs": [],
   "source": [
    "from read_activations import get_activations, display_activations\n",
    "v_index= 4\n",
    "x_valid = X_train[:5]\n",
    "a = get_activations(my_model, x_valid[v_index:v_index+1], print_shape_only=True)\n",
    "display_activations(a)"
   ]
  },
  {
   "cell_type": "code",
   "execution_count": null,
   "metadata": {},
   "outputs": [],
   "source": []
  }
 ],
 "metadata": {
  "kernelspec": {
   "display_name": "tf",
   "language": "python",
   "name": "python3"
  },
  "language_info": {
   "codemirror_mode": {
    "name": "ipython",
    "version": 3
   },
   "file_extension": ".py",
   "mimetype": "text/x-python",
   "name": "python",
   "nbconvert_exporter": "python",
   "pygments_lexer": "ipython3",
   "version": "3.9.15 (main, Nov 24 2022, 14:31:59) \n[GCC 11.2.0]"
  },
  "orig_nbformat": 4,
  "vscode": {
   "interpreter": {
    "hash": "d60eb9305a6686b66f577ece6ab3cb927fdafaa2d3670efd10566381733d2e33"
   }
  }
 },
 "nbformat": 4,
 "nbformat_minor": 2
}
