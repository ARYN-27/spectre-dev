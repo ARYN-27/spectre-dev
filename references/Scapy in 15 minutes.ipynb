{
 "cells": [
  {
   "attachments": {},
   "cell_type": "markdown",
   "metadata": {},
   "source": [
    "# Scapy in 15 minutes (or longer)\n",
    "\n",
    "https://github.com/secdev/scapy/blob/8ae53f098098db444d6fa76fefdf5adbda08a368/doc/notebooks/Scapy%20in%2015%20minutes.ipynb"
   ]
  },
  {
   "cell_type": "markdown",
   "metadata": {},
   "source": [
    "##### Guillaume Valadon & Pierre Lalet"
   ]
  },
  {
   "cell_type": "markdown",
   "metadata": {},
   "source": [
    "[Scapy](http://www.secdev.org/projects/scapy) is a powerful Python-based interactive packet manipulation program and library. It can be used to forge or decode packets for a wide number of protocols, send them on the wire, capture them, match requests and replies, and much more.\n",
    "\n",
    "This iPython notebook provides a short tour of the main Scapy features. It assumes that you are familiar with networking terminology. All examples were built using the development version from [https://github.com/secdev/scapy](https://github.com/secdev/scapy), and tested on Linux. They should work as well on OS X, and other BSD.\n",
    "\n",
    "The current documentation is available on [http://scapy.readthedocs.io/](http://scapy.readthedocs.io/) !"
   ]
  },
  {
   "cell_type": "markdown",
   "metadata": {},
   "source": [
    "Scapy eases network packets manipulation, and allows you to forge complicated packets to perform advanced tests. As a teaser, let's have a look a two examples that are difficult to express without Scapy:\n",
    "\n",
    "1_ Sending a TCP segment with maximum segment size set to 0 to a specific port is an interesting test to perform against embedded TCP stacks. It can be achieved with the following one-liner:"
   ]
  },
  {
   "cell_type": "code",
   "execution_count": 30,
   "metadata": {},
   "outputs": [
    {
     "name": "stdout",
     "output_type": "stream",
     "text": [
      "\n",
      "Sent 1 packets.\n"
     ]
    }
   ],
   "source": [
    "send(IP(dst=\"1.2.3.4\")/TCP(dport=502, options=[(\"MSS\", 0)]))"
   ]
  },
  {
   "cell_type": "markdown",
   "metadata": {},
   "source": [
    "2_ Advanced firewalking using IP options is sometimes useful to perform network enumeration. Here is a more complicated one-liner:"
   ]
  },
  {
   "cell_type": "code",
   "execution_count": 31,
   "metadata": {},
   "outputs": [
    {
     "name": "stdout",
     "output_type": "stream",
     "text": [
      "  -                            IPOption_RR                  IPOption_Traceroute          \n",
      "1 192.168.42.1 time-exceeded 192.168.46.1 time-exceeded 192.168.46.1 time-exceeded \n",
      "2 172.42.0.1 time-exceeded     172.42.0.1 time-exceeded     172.42.0.1 time-exceeded     \n",
      "3 42.10.69.251 time-exceeded  42.10.69.251 time-exceeded  42.10.69.251 time-exceeded  \n",
      "4 10.123.156.86 time-exceeded  10.123.156.86 time-exceeded  -                            \n",
      "5 69.156.98.177 time-exceeded 69.156.98.177 time-exceeded -                            \n",
      "6 69.156.137.74 time-exceeded 69.156.137.74 time-exceeded -                            \n",
      "7 209.85.172.150 time-exceeded -                            -                            \n",
      "8 216.239.57.203 time-exceeded -                            -                            \n"
     ]
    }
   ],
   "source": [
    "ans = sr([IP(dst=\"8.8.8.8\", ttl=(1, 8), options=IPOption_RR())/ICMP(seq=RandShort()), IP(dst=\"8.8.8.8\", ttl=(1, 8), options=IPOption_Traceroute())/ICMP(seq=RandShort()), IP(dst=\"8.8.8.8\", ttl=(1, 8))/ICMP(seq=RandShort())], verbose=False, timeout=3)[0]\n",
    "ans.make_table(lambda x, y: (\", \".join(z.summary() for z in x[IP].options) or '-', x[IP].ttl, y.sprintf(\"%IP.src% %ICMP.type%\")))"
   ]
  },
  {
   "cell_type": "markdown",
   "metadata": {},
   "source": [
    "#### Now that we've got your attention, let's start the tutorial !"
   ]
  },
  {
   "cell_type": "markdown",
   "metadata": {},
   "source": [
    "## Quick setup"
   ]
  },
  {
   "cell_type": "markdown",
   "metadata": {},
   "source": [
    "The easiest way to try Scapy is to clone the github repository, then launch the `run_scapy` script as root. The following examples can be pasted at the Scapy prompt. There is no need to install any external Python modules."
   ]
  },
  {
   "cell_type": "markdown",
   "metadata": {},
   "source": [
    "```shell\n",
    "git clone https://github.com/secdev/scapy --depth=1\n",
    "sudo ./run_scapy\n",
    "Welcome to Scapy (2.4.0)\n",
    ">>>\n",
    "```"
   ]
  },
  {
   "cell_type": "markdown",
   "metadata": {},
   "source": [
    "Note: iPython users must import scapy as follows"
   ]
  },
  {
   "cell_type": "code",
   "execution_count": 13,
   "metadata": {},
   "outputs": [],
   "source": [
    "from scapy.all import *"
   ]
  },
  {
   "cell_type": "markdown",
   "metadata": {},
   "source": [
    "## First steps"
   ]
  },
  {
   "cell_type": "markdown",
   "metadata": {},
   "source": [
    "With Scapy, each network layer is a Python class.\n",
    "\n",
    "The `'/'` operator is used to bind layers together. Let's put a TCP segment on top of IP and assign it to the `packet` variable, then stack it on top of Ethernet. "
   ]
  },
  {
   "cell_type": "code",
   "execution_count": 2,
   "metadata": {},
   "outputs": [
    {
     "data": {
      "text/plain": [
       "<Ether  type=IPv4 |<IP  frag=0 proto=tcp |<TCP  |>>>"
      ]
     },
     "execution_count": 2,
     "metadata": {},
     "output_type": "execute_result"
    }
   ],
   "source": [
    "packet = IP()/TCP()\n",
    "Ether()/packet"
   ]
  },
  {
   "cell_type": "markdown",
   "metadata": {},
   "source": [
    "This last output displays the packet summary. Here, Scapy automatically filled the Ethernet type as well as the IP protocol field.\n",
    "\n",
    "Protocol fields can be listed using the `ls()` function:"
   ]
  },
  {
   "cell_type": "code",
   "execution_count": null,
   "metadata": {},
   "outputs": [],
   "source": [
    "    >>> ls(IP, verbose=True)\n",
    "    version    : BitField (4 bits)                   = (4)\n",
    "    ihl        : BitField (4 bits)                   = (None)\n",
    "    tos        : XByteField                          = (0)\n",
    "    len        : ShortField                          = (None)\n",
    "    id         : ShortField                          = (1)\n",
    "    flags      : FlagsField (3 bits)                 = (0)\n",
    "                   MF, DF, evil\n",
    "    frag       : BitField (13 bits)                  = (0)\n",
    "    ttl        : ByteField                           = (64)\n",
    "    proto      : ByteEnumField                       = (0)\n",
    "    chksum     : XShortField                         = (None)\n",
    "    src        : SourceIPField (Emph)                = (None)\n",
    "    dst        : DestIPField (Emph)                  = (None)\n",
    "    options    : PacketListField                     = ([])"
   ]
  },
  {
   "cell_type": "markdown",
   "metadata": {},
   "source": [
    "Let's create a new packet to a specific IP destination. With Scapy, each protocol field can be specified. As shown in the `ls()` output, the interesting field is `dst`.\n",
    "\n",
    "Scapy packets are objects with some useful methods, such as `summary()`."
   ]
  },
  {
   "cell_type": "code",
   "execution_count": 3,
   "metadata": {},
   "outputs": [
    {
     "data": {
      "text/plain": [
       "\"Ether / IP / TCP 172.20.10.2:ftp_data > Net('www.secdev.org'):http S\""
      ]
     },
     "execution_count": 3,
     "metadata": {},
     "output_type": "execute_result"
    }
   ],
   "source": [
    "p = Ether()/IP(dst=\"www.secdev.org\")/TCP()\n",
    "p.summary()"
   ]
  },
  {
   "cell_type": "markdown",
   "metadata": {},
   "source": [
    "There are not many differences with the previous example. However, Scapy used the specific destination to perform some magic tricks !\n",
    "\n",
    "Using internal mechanisms (such as DNS resolution, routing table and ARP resolution), Scapy has automatically set fields necessary to send the packet. These fields can of course be accessed and displayed."
   ]
  },
  {
   "cell_type": "code",
   "execution_count": 10,
   "metadata": {},
   "outputs": [
    {
     "name": "stdout",
     "output_type": "stream",
     "text": [
      "3a:71:de:90:0b:64\n",
      "172.20.10.2\n",
      "b8:e8:56:45:8c:e6 > 3a:71:de:90:0b:64\n",
      "172.20.10.2 > Net('www.secdev.org')\n"
     ]
    }
   ],
   "source": [
    "print(p.dst)  # first layer that has an src field, here Ether\n",
    "print(p[IP].src)  # explicitly access the src field of the IP layer\n",
    "\n",
    "# sprintf() is a useful method to display fields\n",
    "print(p.sprintf(\"%Ether.src% > %Ether.dst%\\n%IP.src% > %IP.dst%\"))"
   ]
  },
  {
   "cell_type": "markdown",
   "metadata": {},
   "source": [
    "Scapy uses default values that work most of the time. For example, `TCP()` is a SYN segment to port 80."
   ]
  },
  {
   "cell_type": "code",
   "execution_count": 9,
   "metadata": {},
   "outputs": [
    {
     "name": "stdout",
     "output_type": "stream",
     "text": [
      "S http\n"
     ]
    }
   ],
   "source": [
    "print(p.sprintf(\"%TCP.flags% %TCP.dport%\"))"
   ]
  },
  {
   "cell_type": "markdown",
   "metadata": {},
   "source": [
    "Moreover, Scapy has implicit packets. For example, they are useful to make the TTL field value vary from 1 to 5 to mimic traceroute."
   ]
  },
  {
   "cell_type": "code",
   "execution_count": 11,
   "metadata": {},
   "outputs": [
    {
     "data": {
      "text/plain": [
       "[<IP  frag=0 ttl=1 proto=icmp |<ICMP  |>>,\n",
       " <IP  frag=0 ttl=2 proto=icmp |<ICMP  |>>,\n",
       " <IP  frag=0 ttl=3 proto=icmp |<ICMP  |>>,\n",
       " <IP  frag=0 ttl=4 proto=icmp |<ICMP  |>>,\n",
       " <IP  frag=0 ttl=5 proto=icmp |<ICMP  |>>]"
      ]
     },
     "execution_count": 11,
     "metadata": {},
     "output_type": "execute_result"
    }
   ],
   "source": [
    "[p for p in IP(ttl=(1,5))/ICMP()]"
   ]
  },
  {
   "cell_type": "markdown",
   "metadata": {},
   "source": [
    "## Sending and receiving"
   ]
  },
  {
   "cell_type": "markdown",
   "metadata": {},
   "source": [
    "Currently, you know how to build packets with Scapy. The next step is to send them over the network !\n",
    "\n",
    "The `sr1()` function sends a packet and returns the corresponding answer. `srp1()` does the same for layer two packets, i.e. Ethernet. If you are only interested in sending packets `send()` is your friend.\n",
    "\n",
    "As an example, we can use the DNS protocol to get www.example.com IPv4 address."
   ]
  },
  {
   "cell_type": "code",
   "execution_count": 23,
   "metadata": {},
   "outputs": [
    {
     "name": "stdout",
     "output_type": "stream",
     "text": [
      "\n",
      "Received 19 packets, got 1 answers, remaining 0 packets\n",
      "Begin emission:\n",
      "Finished to send 1 packets.\n"
     ]
    },
    {
     "data": {
      "text/plain": [
       "<DNSRR  rrname='www.example.com.' type=A rclass=IN ttl=10011 rdata='93.184.216.34' |>"
      ]
     },
     "execution_count": 23,
     "metadata": {},
     "output_type": "execute_result"
    }
   ],
   "source": [
    "p = sr1(IP(dst=\"8.8.8.8\")/UDP()/DNS(qd=DNSQR()))\n",
    "p[DNS].an"
   ]
  },
  {
   "cell_type": "markdown",
   "metadata": {},
   "source": [
    "Another alternative is the `sr()` function. Like `srp1()`, the `sr1()` function can be used for layer 2 packets."
   ]
  },
  {
   "cell_type": "code",
   "execution_count": 47,
   "metadata": {},
   "outputs": [
    {
     "name": "stdout",
     "output_type": "stream",
     "text": [
      "\n",
      "Received 7 packets, got 6 answers, remaining 0 packets\n",
      "Begin emission:\n",
      "Finished to send 6 packets.\n"
     ]
    },
    {
     "data": {
      "text/plain": [
       "(<Results: TCP:0 UDP:0 ICMP:6 Other:0>,\n",
       " <Unanswered: TCP:0 UDP:0 ICMP:0 Other:0>)"
      ]
     },
     "execution_count": 47,
     "metadata": {},
     "output_type": "execute_result"
    }
   ],
   "source": [
    "r, u = srp(Ether()/IP(dst=\"8.8.8.8\", ttl=(5,10))/UDP()/DNS(rd=1, qd=DNSQR(qname=\"www.example.com\")))\n",
    "r, u"
   ]
  },
  {
   "cell_type": "markdown",
   "metadata": {},
   "source": [
    "`sr()` sent a list of packets, and returns two variables, here `r` and `u`, where:\n",
    "1. `r` is a list of results (i.e tuples of the packet sent and its answer)\n",
    "2. `u` is a list of unanswered packets"
   ]
  },
  {
   "cell_type": "code",
   "execution_count": 48,
   "metadata": {},
   "outputs": [
    {
     "name": "stdout",
     "output_type": "stream",
     "text": [
      "Ether / IP / UDP / DNS Qry \"www.example.com\" \n",
      "Ether / IP / ICMP / IPerror / UDPerror / DNS Qry \"www.example.com.\" \n"
     ]
    },
    {
     "data": {
      "text/plain": [
       "<ICMP  type=time-exceeded code=ttl-zero-during-transit chksum=0x50d6 reserved=0 length=0 unused=None |<IPerror  version=4L ihl=5L tos=0x0 len=61 id=1 flags= frag=0L ttl=1 proto=udp chksum=0xf389 src=172.20.10.2 dst=8.8.8.8 options=[] |<UDPerror  sport=domain dport=domain len=41 chksum=0x593a |<DNS  id=0 qr=0L opcode=QUERY aa=0L tc=0L rd=1L ra=0L z=0L ad=0L cd=0L rcode=ok qdcount=1 ancount=0 nscount=0 arcount=0 qd=<DNSQR  qname='www.example.com.' qtype=A qclass=IN |> an=None ns=None ar=None |>>>>"
      ]
     },
     "execution_count": 48,
     "metadata": {},
     "output_type": "execute_result"
    }
   ],
   "source": [
    "# Access the first tuple\n",
    "print(r[0][0].summary())  # the packet sent\n",
    "print(r[0][1].summary())  # the answer received\n",
    "\n",
    "# Access the ICMP layer. Scapy received a time-exceeded error message\n",
    "r[0][1][ICMP]"
   ]
  },
  {
   "cell_type": "markdown",
   "metadata": {},
   "source": [
    "With Scapy, list of packets, such as `r` or `u`, can be easily written to, or read from PCAP files."
   ]
  },
  {
   "cell_type": "code",
   "execution_count": 50,
   "metadata": {},
   "outputs": [
    {
     "data": {
      "text/plain": [
       "<Ether  dst=f4:ce:46:a9:e0:4b src=34:95:db:04:3c:29 type=IPv4 |<IP version=4L ihl=5L tos=0x0 len=61 id=1 flags= frag=0L ttl=5 proto=udp chksum=0xb6e3 src=192.168.46.20 dst=8.8.8.8 options=[] |<UDP sport=domain dport=domain len=41 chksum=0xb609 |<DNS  id=0 qr=0L opcode=QUERY aa=0L tc=0L rd=1L ra=0L z=0L ad=0L cd=0L rcode=ok qdcount=1 ancount=0 nscount=0 arcount=0 qd=<DNSQR  qname='www.example.com.' qtype=A qclass=IN |> an=None ns=None ar=None |>>>>"
      ]
     },
     "execution_count": 50,
     "metadata": {},
     "output_type": "execute_result"
    }
   ],
   "source": [
    "wrpcap(\"scapy.pcap\", r)\n",
    "\n",
    "pcap_p = rdpcap(\"scapy.pcap\")\n",
    "pcap_p[0]"
   ]
  },
  {
   "cell_type": "markdown",
   "metadata": {},
   "source": [
    "Sniffing the network is as straightforward as sending and receiving packets. The `sniff()` function returns a list of Scapy packets, that can be manipulated as previously described."
   ]
  },
  {
   "cell_type": "code",
   "execution_count": 52,
   "metadata": {},
   "outputs": [
    {
     "data": {
      "text/plain": [
       "<Sniffed: TCP:0 UDP:2 ICMP:0 Other:0>"
      ]
     },
     "execution_count": 52,
     "metadata": {},
     "output_type": "execute_result"
    }
   ],
   "source": [
    "s = sniff(count=2)\n",
    "s"
   ]
  },
  {
   "cell_type": "markdown",
   "metadata": {},
   "source": [
    "`sniff()` has many arguments. The `prn` one accepts a function name that will be called on received packets. Using the `lambda` keyword, Scapy could be used to mimic the `tshark` command behavior."
   ]
  },
  {
   "cell_type": "code",
   "execution_count": 53,
   "metadata": {},
   "outputs": [
    {
     "name": "stdout",
     "output_type": "stream",
     "text": [
      "Ether / IP / TCP 172.20.10.2:52664 > 216.58.208.200:https A\n",
      "Ether / IP / TCP 216.58.208.200:https > 172.20.10.2:52664 A\n"
     ]
    },
    {
     "data": {
      "text/plain": [
       "<Sniffed: TCP:2 UDP:0 ICMP:0 Other:0>"
      ]
     },
     "execution_count": 53,
     "metadata": {},
     "output_type": "execute_result"
    }
   ],
   "source": [
    "sniff(count=2, prn=lambda p: p.summary())"
   ]
  },
  {
   "cell_type": "markdown",
   "metadata": {},
   "source": [
    "Alternatively, Scapy can use OS sockets to send and receive packets. The following example assigns an UDP socket to a Scapy `StreamSocket`, which is then used to query www.example.com IPv4 address.\n",
    "Unlike other Scapy sockets, `StreamSockets` do not require root privileges."
   ]
  },
  {
   "cell_type": "code",
   "execution_count": 79,
   "metadata": {},
   "outputs": [
    {
     "name": "stdout",
     "output_type": "stream",
     "text": [
      "\n",
      "Received 1 packets, got 1 answers, remaining 0 packets\n",
      "Begin emission:\n",
      "Finished to send 1 packets.\n"
     ]
    },
    {
     "data": {
      "text/plain": [
       "<DNS  id=0 qr=1L opcode=QUERY aa=0L tc=0L rd=1L ra=1L z=0L ad=0L cd=0L rcode=ok qdcount=1 ancount=1 nscount=0 arcount=0 qd=<DNSQR  qname='www.example.com.' qtype=A qclass=IN |> an=<DNSRR  rrname='www.example.com.' type=A rclass=IN ttl=19681 rdata='93.184.216.34' |> ns=None ar=None |>"
      ]
     },
     "execution_count": 79,
     "metadata": {},
     "output_type": "execute_result"
    }
   ],
   "source": [
    "import socket\n",
    "\n",
    "sck = socket.socket(socket.AF_INET, socket.SOCK_DGRAM)  # create an UDP socket\n",
    "sck.connect((\"8.8.8.8\", 53))  # connect to 8.8.8.8 on 53/UDP\n",
    "\n",
    "# Create the StreamSocket and gives the class used to decode the answer\n",
    "ssck = StreamSocket(sck)\n",
    "ssck.basecls = DNS\n",
    "\n",
    "# Send the DNS query\n",
    "ssck.sr1(DNS(rd=1, qd=DNSQR(qname=\"www.example.com\")))"
   ]
  },
  {
   "cell_type": "markdown",
   "metadata": {},
   "source": [
    "## Visualization\n",
    "Parts of the following examples require the [matplotlib](http://matplotlib.org/) module."
   ]
  },
  {
   "cell_type": "markdown",
   "metadata": {},
   "source": [
    "With `srloop()`, we can send 100 ICMP packets to 8.8.8.8 and 8.8.4.4."
   ]
  },
  {
   "cell_type": "code",
   "execution_count": 25,
   "metadata": {},
   "outputs": [
    {
     "name": "stdout",
     "output_type": "stream",
     "text": []
    }
   ],
   "source": [
    "ans, unans = srloop(IP(dst=[\"8.8.8.8\", \"8.8.4.4\"])/ICMP(), inter=.1, timeout=.1, count=100, verbose=False)"
   ]
  },
  {
   "cell_type": "markdown",
   "metadata": {},
   "source": [
    "Then we can use the results to plot the IP id values."
   ]
  },
  {
   "cell_type": "code",
   "execution_count": 26,
   "metadata": {},
   "outputs": [
    {
     "data": {
      "image/png": "[encoded data removed]",
      "text/plain": [
       "<matplotlib.figure.Figure at 0x7f2c23bfbc50>"
      ]
     },
     "metadata": {},
     "output_type": "display_data"
    },
    {
     "data": {
      "text/plain": [
       "[[<matplotlib.lines.Line2D at 0x7f2c2e113d10>],\n",
       " [<matplotlib.lines.Line2D at 0x7f2c2e113f10>]]"
      ]
     },
     "execution_count": 26,
     "metadata": {},
     "output_type": "execute_result"
    }
   ],
   "source": [
    "%matplotlib inline\n",
    "ans.multiplot(lambda x, y: (y[IP].src, (y.time, y[IP].id)), plot_xy=True)"
   ]
  },
  {
   "cell_type": "markdown",
   "metadata": {},
   "source": [
    "The `raw()` constructor can be used to \"build\" the packet's bytes as they would be sent on the wire."
   ]
  },
  {
   "cell_type": "code",
   "execution_count": 8,
   "metadata": {},
   "outputs": [
    {
     "name": "stdout",
     "output_type": "stream",
     "text": [
      "b'E\\x00\\x00=\\x00\\x01\\x00\\x00@\\x11|\\xad\\x7f\\x00\\x00\\x01\\x7f\\x00\\x00\\x01\\x005\\x005\\x00)\\xb6\\xd3\\x00\\x00\\x01\\x00\\x00\\x01\\x00\\x00\\x00\\x00\\x00\\x00\\x03www\\x07example\\x03com\\x00\\x00\\x01\\x00\\x01'\n"
     ]
    }
   ],
   "source": [
    "pkt = IP() / UDP() / DNS(qd=DNSQR())\n",
    "print(repr(raw(pkt)))"
   ]
  },
  {
   "cell_type": "markdown",
   "metadata": {},
   "source": [
    "Since some people cannot read this representation, Scapy can:\n",
    "  - give a summary for a packet"
   ]
  },
  {
   "cell_type": "code",
   "execution_count": 10,
   "metadata": {},
   "outputs": [
    {
     "name": "stdout",
     "output_type": "stream",
     "text": [
      "IP / UDP / DNS Qry \"www.example.com\" \n"
     ]
    }
   ],
   "source": [
    "print(pkt.summary())"
   ]
  },
  {
   "cell_type": "markdown",
   "metadata": {},
   "source": [
    "  - \"hexdump\" the packet's bytes"
   ]
  },
  {
   "cell_type": "code",
   "execution_count": 18,
   "metadata": {},
   "outputs": [
    {
     "name": "stdout",
     "output_type": "stream",
     "text": [
      "0000   45 00 00 3D 00 01 00 00  40 11 7C AD 7F 00 00 01   E..=....@.|.....\n",
      "0010   7F 00 00 01 00 35 00 35  00 29 B6 D3 00 00 01 00   .....5.5.)......\n",
      "0020   00 01 00 00 00 00 00 00  03 77 77 77 07 65 78 61   .........www.exa\n",
      "0030   6D 70 6C 65 03 63 6F 6D  00 00 01 00 01            mple.com.....\n"
     ]
    }
   ],
   "source": [
    "hexdump(pkt)"
   ]
  },
  {
   "cell_type": "markdown",
   "metadata": {},
   "source": [
    "  - dump the packet, layer by layer, with the values for each field"
   ]
  },
  {
   "cell_type": "code",
   "execution_count": 11,
   "metadata": {},
   "outputs": [
    {
     "name": "stdout",
     "output_type": "stream",
     "text": [
      "###[ IP ]###\n",
      "  version   = 4\n",
      "  ihl       = None\n",
      "  tos       = 0x0\n",
      "  len       = None\n",
      "  id        = 1\n",
      "  flags     = \n",
      "  frag      = 0\n",
      "  ttl       = 64\n",
      "  proto     = udp\n",
      "  chksum    = None\n",
      "  src       = 127.0.0.1\n",
      "  dst       = 127.0.0.1\n",
      "  \\options   \\\n",
      "###[ UDP ]###\n",
      "     sport     = domain\n",
      "     dport     = domain\n",
      "     len       = None\n",
      "     chksum    = None\n",
      "###[ DNS ]###\n",
      "        id        = 0\n",
      "        qr        = 0\n",
      "        opcode    = QUERY\n",
      "        aa        = 0\n",
      "        tc        = 0\n",
      "        rd        = 1\n",
      "        ra        = 0\n",
      "        z         = 0\n",
      "        ad        = 0\n",
      "        cd        = 0\n",
      "        rcode     = ok\n",
      "        qdcount   = 1\n",
      "        ancount   = 0\n",
      "        nscount   = 0\n",
      "        arcount   = 0\n",
      "        \\qd        \\\n",
      "         |###[ DNS Question Record ]###\n",
      "         |  qname     = 'www.example.com'\n",
      "         |  qtype     = A\n",
      "         |  qclass    = IN\n",
      "        an        = None\n",
      "        ns        = None\n",
      "        ar        = None\n"
     ]
    }
   ],
   "source": [
    "pkt.show()"
   ]
  },
  {
   "cell_type": "markdown",
   "metadata": {},
   "source": [
    "  - render a pretty and handy dissection of the packet"
   ]
  },
  {
   "cell_type": "code",
   "execution_count": 15,
   "metadata": {
    "scrolled": true
   },
   "outputs": [
    {
     "data": {
      "image/png": "[encoded data removed]",
      "text/plain": [
       "<pyx.canvas.canvas instance at 0x7f2c2e228bd8>"
      ]
     },
     "execution_count": 15,
     "metadata": {},
     "output_type": "execute_result"
    }
   ],
   "source": [
    "pkt.canvas_dump()"
   ]
  },
  {
   "cell_type": "markdown",
   "metadata": {},
   "source": [
    "Scapy has a `traceroute()` function, which basically runs a `sr(IP(ttl=(1..30))` and creates a `TracerouteResult` object, which is a specific subclass of `SndRcvList()`."
   ]
  },
  {
   "cell_type": "code",
   "execution_count": 22,
   "metadata": {
    "scrolled": true
   },
   "outputs": [
    {
     "name": "stdout",
     "output_type": "stream",
     "text": [
      "Begin emission:\n",
      "Finished to send 15 packets.\n",
      "\n",
      "Received 17 packets, got 15 answers, remaining 0 packets\n",
      "   217.25.178.5:tcp80 \n",
      "1  192.168.46.254  11 \n",
      "2  172.28.0.1      11 \n",
      "3  80.10.115.251   11 \n",
      "4  10.123.205.82   11 \n",
      "5  193.252.98.161  11 \n",
      "6  193.252.137.74  11 \n",
      "7  193.251.132.183 11 \n",
      "8  130.117.49.41   11 \n",
      "9  154.25.7.150    11 \n",
      "10 154.25.7.150    11 \n",
      "11 149.6.166.166   11 \n",
      "12 149.6.166.166   11 \n",
      "13 217.25.178.5    SA \n",
      "14 217.25.178.5    SA \n",
      "15 217.25.178.5    SA \n"
     ]
    }
   ],
   "source": [
    "ans, unans = traceroute('www.secdev.org', maxttl=15)"
   ]
  },
  {
   "cell_type": "markdown",
   "metadata": {},
   "source": [
    "The result can be plotted with `.world_trace()` (this requires GeoIP module and data, from [MaxMind](https://www.maxmind.com/))"
   ]
  },
  {
   "cell_type": "code",
   "execution_count": 23,
   "metadata": {},
   "outputs": [
    {
     "data": {
      "image/png": "[encoded data removed]",
      "text/plain": [
       "<matplotlib.figure.Figure at 0x7f2c2c0b2fd0>"
      ]
     },
     "metadata": {},
     "output_type": "display_data"
    },
    {
     "data": {
      "text/plain": [
       "[[<matplotlib.lines.Line2D at 0x7f2c23b62850>]]"
      ]
     },
     "execution_count": 23,
     "metadata": {},
     "output_type": "execute_result"
    }
   ],
   "source": [
    "ans.world_trace()"
   ]
  },
  {
   "cell_type": "markdown",
   "metadata": {},
   "source": [
    "The `PacketList.make_table()` function can be very helpful. Here is a simple \"port scanner\":"
   ]
  },
  {
   "cell_type": "code",
   "execution_count": 29,
   "metadata": {},
   "outputs": [
    {
     "name": "stdout",
     "output_type": "stream",
     "text": [
      "          45.33.32.156 45.33.49.119 \n",
      "tcp/22    SA           SA           \n",
      "tcp/31337 SA           RA           \n",
      "tcp/443   RA           SA           \n",
      "tcp/80    SA           SA           \n",
      "udp/53    dest-unreach -            \n"
     ]
    }
   ],
   "source": [
    "ans = sr(IP(dst=[\"scanme.nmap.org\", \"nmap.org\"])/TCP(dport=[22, 80, 443, 31337]), timeout=3, verbose=False)[0]\n",
    "ans.extend(sr(IP(dst=[\"scanme.nmap.org\", \"nmap.org\"])/UDP(dport=53)/DNS(qd=DNSQR()), timeout=3, verbose=False)[0])\n",
    "ans.make_table(lambda x, y: (x[IP].dst, x.sprintf('%IP.proto%/{TCP:%r,TCP.dport%}{UDP:%r,UDP.dport%}'), y.sprintf('{TCP:%TCP.flags%}{ICMP:%ICMP.type%}')))"
   ]
  },
  {
   "cell_type": "markdown",
   "metadata": {},
   "source": [
    "## Implementing a new protocol"
   ]
  },
  {
   "cell_type": "markdown",
   "metadata": {},
   "source": [
    "Scapy can be easily extended to support new protocols.\n",
    "\n",
    "The following example defines DNS over TCP. The `DNSTCP` class inherits from `Packet` and defines two field: the length, and the real DNS message. The `length_of` and `length_from` arguments link the `len` and `dns` fields together. Scapy will be able to automatically compute the `len` value."
   ]
  },
  {
   "cell_type": "code",
   "execution_count": 119,
   "metadata": {},
   "outputs": [],
   "source": [
    "class DNSTCP(Packet):\n",
    "    name = \"DNS over TCP\"\n",
    "    \n",
    "    fields_desc = [ FieldLenField(\"len\", None, fmt=\"!H\", length_of=\"dns\"),\n",
    "                    PacketLenField(\"dns\", 0, DNS, length_from=lambda p: p.len)]\n",
    "    \n",
    "    # This method tells Scapy that the next packet must be decoded with DNSTCP\n",
    "    def guess_payload_class(self, payload):\n",
    "        return DNSTCP"
   ]
  },
  {
   "cell_type": "markdown",
   "metadata": {},
   "source": [
    "This new packet definition can be direcly used to build a DNS message over TCP."
   ]
  },
  {
   "cell_type": "code",
   "execution_count": 120,
   "metadata": {},
   "outputs": [
    {
     "data": {
      "text/plain": [
       "<DNSTCP  len=12 dns=<DNS  id=0 qr=0L opcode=QUERY aa=0L tc=0L rd=0L ra=0L z=0L ad=0L cd=0L rcode=ok qdcount=0 ancount=0 nscount=0 arcount=0 |> |>"
      ]
     },
     "execution_count": 120,
     "metadata": {},
     "output_type": "execute_result"
    }
   ],
   "source": [
    "# Build then decode a DNS message over TCP\n",
    "DNSTCP(raw(DNSTCP(dns=DNS())))"
   ]
  },
  {
   "cell_type": "markdown",
   "metadata": {},
   "source": [
    "Modifying the previous `StreamSocket` example to use TCP allows to use the new `DNSCTP` layer easily."
   ]
  },
  {
   "cell_type": "code",
   "execution_count": 122,
   "metadata": {},
   "outputs": [
    {
     "name": "stdout",
     "output_type": "stream",
     "text": [
      "\n",
      "Received 1 packets, got 1 answers, remaining 0 packets\n",
      "Begin emission:\n",
      "Finished to send 1 packets.\n"
     ]
    },
    {
     "data": {
      "text/plain": [
       "<DNSTCP  len=49 dns=<DNS  id=0 qr=1L opcode=QUERY aa=0L tc=0L rd=1L ra=1L z=0L ad=0L cd=0L rcode=ok qdcount=1 ancount=1 nscount=0 arcount=0 qd=<DNSQR  qname='www.example.com.' qtype=A qclass=IN |> an=<DNSRR  rrname='www.example.com.' type=A rclass=IN ttl=12101 rdata='93.184.216.34' |> ns=None ar=None |> |>"
      ]
     },
     "execution_count": 122,
     "metadata": {},
     "output_type": "execute_result"
    }
   ],
   "source": [
    "import socket\n",
    "\n",
    "sck = socket.socket(socket.AF_INET, socket.SOCK_STREAM)  # create an TCP socket\n",
    "sck.connect((\"8.8.8.8\", 53))  # connect to 8.8.8.8 on 53/TCP\n",
    "\n",
    "# Create the StreamSocket and gives the class used to decode the answer\n",
    "ssck = StreamSocket(sck)\n",
    "ssck.basecls = DNSTCP\n",
    "\n",
    "# Send the DNS query\n",
    "ssck.sr1(DNSTCP(dns=DNS(rd=1, qd=DNSQR(qname=\"www.example.com\"))))"
   ]
  },
  {
   "cell_type": "markdown",
   "metadata": {},
   "source": [
    "## Scapy as a module"
   ]
  },
  {
   "cell_type": "markdown",
   "metadata": {},
   "source": [
    "So far, Scapy was only used from the command line. It is also a Python module than can be used to build specific network tools, such as ping6.py:"
   ]
  },
  {
   "cell_type": "code",
   "execution_count": null,
   "metadata": {},
   "outputs": [],
   "source": [
    "    from scapy.all import *\n",
    "    import argparse\n",
    "\n",
    "    parser = argparse.ArgumentParser(description=\"A simple ping6\")\n",
    "    parser.add_argument(\"ipv6_address\", help=\"An IPv6 address\")\n",
    "    args = parser.parse_args()\n",
    "\n",
    "    print(sr1(IPv6(dst=args.ipv6_address)/ICMPv6EchoRequest(), verbose=0).summary())"
   ]
  },
  {
   "cell_type": "markdown",
   "metadata": {},
   "source": [
    "## Answering machines"
   ]
  },
  {
   "cell_type": "markdown",
   "metadata": {},
   "source": [
    "A lot of attack scenarios look the same: you want to wait for a specific packet, then send an answer to trigger the attack.\n",
    "\n",
    "To this extent, Scapy provides the `AnsweringMachine` object. Two methods are especially useful:\n",
    "1. `is_request()`: return True if the `pkt` is the expected request\n",
    "2. `make_reply()`: return the packet that must be sent\n",
    "\n",
    "The following example uses Scapy Wi-Fi capabilities to pretend that a \"Scapy !\" access point exists.\n",
    "\n",
    "Note: your Wi-Fi interface must be set to monitor mode !"
   ]
  },
  {
   "cell_type": "code",
   "execution_count": 129,
   "metadata": {},
   "outputs": [],
   "source": [
    "# Specify the Wi-Fi monitor interface\n",
    "#conf.iface = \"mon0\"  # uncomment to test\n",
    "\n",
    "# Create an answering machine\n",
    "class ProbeRequest_am(AnsweringMachine):\n",
    "  function_name = \"pram\"\n",
    "\n",
    "  # The fake mac of the fake access point\n",
    "  mac = \"00:11:22:33:44:55\"\n",
    "\n",
    "  def is_request(self, pkt):\n",
    "    return Dot11ProbeReq in pkt\n",
    "\n",
    "  def make_reply(self, req):\n",
    "\n",
    "    rep = RadioTap()\n",
    "    # Note: depending on your Wi-Fi card, you might need a different header than RadioTap()\n",
    "    rep /= Dot11(addr1=req.addr2, addr2=self.mac, addr3=self.mac, ID=RandShort(), SC=RandShort())\n",
    "    rep /= Dot11ProbeResp(cap=\"ESS\", timestamp=time.time())\n",
    "    rep /= Dot11Elt(ID=\"SSID\",info=\"Scapy !\")\n",
    "    rep /= Dot11Elt(ID=\"Rates\",info=b'\\x82\\x84\\x0b\\x16\\x96')\n",
    "    rep /= Dot11Elt(ID=\"DSset\",info=chr(10))\n",
    "\n",
    "    OK,return rep\n",
    "\n",
    "# Start the answering machine\n",
    "#ProbeRequest_am()()  # uncomment to test"
   ]
  },
  {
   "cell_type": "markdown",
   "metadata": {},
   "source": [
    "## Cheap Man-in-the-middle with NFQUEUE"
   ]
  },
  {
   "cell_type": "markdown",
   "metadata": {},
   "source": [
    "NFQUEUE is an iptables target than can be used to transfer packets to userland process. As a nfqueue module is available in Python, you can take advantage of this Linux feature to perform Scapy based MiTM.\n",
    "\n",
    "This example intercepts ICMP Echo request messages sent to 8.8.8.8, sent with the ping command, and modify their sequence numbers. In order to pass packets to Scapy, the following `iptable` command put packets into the NFQUEUE #2807:\n",
    "\n",
    "$ sudo iptables -I OUTPUT --destination 8.8.8.8 -p icmp -o eth0 -j NFQUEUE --queue-num 2807"
   ]
  },
  {
   "cell_type": "code",
   "execution_count": null,
   "metadata": {},
   "outputs": [],
   "source": [
    "    from scapy.all import *\n",
    "    import nfqueue, socket\n",
    "\n",
    "    def scapy_cb(i, payload):\n",
    "      s = payload.get_data()  # get and parse the packet\n",
    "      p = IP(s)\n",
    "\n",
    "      # Check if the packet is an ICMP Echo Request to 8.8.8.8\n",
    "      if p.dst == \"8.8.8.8\" and ICMP in p:\n",
    "        # Delete checksums to force Scapy to compute them\n",
    "        del(p[IP].chksum, p[ICMP].chksum)\n",
    "        \n",
    "        # Set the ICMP sequence number to 0\n",
    "        p[ICMP].seq = 0\n",
    "        \n",
    "        # Let the modified packet go through\n",
    "        ret = payload.set_verdict_modified(nfqueue.NF_ACCEPT, raw(p), len(p))\n",
    "        \n",
    "      else:\n",
    "        # Accept all packets\n",
    "        payload.set_verdict(nfqueue.NF_ACCEPT)\n",
    "\n",
    "    # Get an NFQUEUE handler\n",
    "    q = nfqueue.queue()\n",
    "    # Set the function that will be call on each received packet\n",
    "    q.set_callback(scapy_cb)\n",
    "    # Open the queue & start parsing packes\n",
    "    q.fast_open(2807, socket.AF_INET)\n",
    "    q.try_run()"
   ]
  },
  {
   "cell_type": "markdown",
   "metadata": {},
   "source": [
    "# Automaton"
   ]
  },
  {
   "cell_type": "markdown",
   "metadata": {},
   "source": [
    "When more logic is needed, Scapy provides a clever way abstraction to define an automaton. In a nutshell, you need to define an object that inherits from `Automaton`, and implement specific methods:\n",
    "- states: using the `@ATMT.state` decorator. They usually do nothing\n",
    "- conditions: using the `@ATMT.condition` and `@ATMT.receive_condition` decorators. They describe how to go from one state to another\n",
    "- actions: using the `ATMT.action` decorator. They describe what to do, like sending a back, when changing state"
   ]
  },
  {
   "cell_type": "markdown",
   "metadata": {},
   "source": [
    "The following example does nothing more than trying to mimic a TCP scanner:"
   ]
  },
  {
   "cell_type": "code",
   "execution_count": 6,
   "metadata": {},
   "outputs": [
    {
     "name": "stdout",
     "output_type": "stream",
     "text": [
      "-> SYN\n",
      "<- SYN/ACK\n"
     ]
    }
   ],
   "source": [
    "class TCPScanner(Automaton):\n",
    "\n",
    "    @ATMT.state(initial=1)\n",
    "    def BEGIN(self):\n",
    "        pass\n",
    "\n",
    "    @ATMT.state()\n",
    "    def SYN(self):\n",
    "        print(\"-> SYN\")\n",
    "\n",
    "    @ATMT.state()\n",
    "    def SYN_ACK(self):\n",
    "        print(\"<- SYN/ACK\")\n",
    "        raise self.END()\n",
    "\n",
    "    @ATMT.state()\n",
    "    def RST(self):\n",
    "        print(\"<- RST\")\n",
    "        raise self.END()\n",
    "\n",
    "    @ATMT.state()\n",
    "    def ERROR(self):\n",
    "        print(\"!! ERROR\")\n",
    "        raise self.END()\n",
    "    @ATMT.state(final=1)\n",
    "    def END(self):\n",
    "        pass\n",
    "    \n",
    "    @ATMT.condition(BEGIN)\n",
    "    def condition_BEGIN(self):\n",
    "        raise self.SYN()\n",
    "\n",
    "    @ATMT.condition(SYN)\n",
    "    def condition_SYN(self):\n",
    "\n",
    "        if random.randint(0, 1):\n",
    "            raise self.SYN_ACK()\n",
    "        else:\n",
    "            raise self.RST()\n",
    "\n",
    "    @ATMT.timeout(SYN, 1)\n",
    "    def timeout_SYN(self):\n",
    "        raise self.ERROR()\n",
    "\n",
    "TCPScanner().run()"
   ]
  },
  {
   "cell_type": "code",
   "execution_count": 7,
   "metadata": {},
   "outputs": [
    {
     "name": "stdout",
     "output_type": "stream",
     "text": [
      "-> SYN\n",
      "<- RST\n"
     ]
    }
   ],
   "source": [
    "TCPScanner().run()"
   ]
  },
  {
   "cell_type": "markdown",
   "metadata": {},
   "source": [
    "# Pipes"
   ]
  },
  {
   "cell_type": "markdown",
   "metadata": {},
   "source": [
    "Pipes are an advanced Scapy feature that aims sniffing, modifying and printing packets. The API provides several buildings blocks. All of them, have high entries and exits (>>) as well as low (>) ones.\n",
    "\n",
    "For example, the `CliFeeder` is used to send message from the Python command line to a low exit. It can be combined to the `InjectSink` that reads message on its low entry and inject them to the specified network interface. These blocks can be combined as follows:"
   ]
  },
  {
   "cell_type": "code",
   "execution_count": null,
   "metadata": {},
   "outputs": [],
   "source": [
    "# Instantiate the blocks\n",
    "clf = CLIFeeder()\n",
    "ijs = InjectSink(\"enx3495db043a28\")\n",
    "\n",
    "# Plug blocks together\n",
    "clf > ijs\n",
    "\n",
    "# Create and start the engine\n",
    "pe = PipeEngine(clf)\n",
    "pe.start()"
   ]
  },
  {
   "cell_type": "markdown",
   "metadata": {},
   "source": [
    "Packet can be sent using the following command on the prompt:"
   ]
  },
  {
   "cell_type": "code",
   "execution_count": null,
   "metadata": {},
   "outputs": [],
   "source": [
    "clf.send(\"Hello Scapy !\")"
   ]
  }
 ],
 "metadata": {
  "kernelspec": {
   "display_name": "Python 2",
   "language": "python",
   "name": "python2"
  },
  "language_info": {
   "codemirror_mode": {
    "name": "ipython",
    "version": 2
   },
   "file_extension": ".py",
   "mimetype": "text/x-python",
   "name": "python",
   "nbconvert_exporter": "python",
   "pygments_lexer": "ipython2",
   "version": "2.7.12"
  }
 },
 "nbformat": 4,
 "nbformat_minor": 1
}
