{
 "cells": [
  {
   "cell_type": "code",
   "execution_count": 1,
   "metadata": {
    "collapsed": true,
    "slideshow": {
     "slide_type": "skip"
    }
   },
   "outputs": [],
   "source": [
    "from scapy.all import *"
   ]
  },
  {
   "attachments": {},
   "cell_type": "markdown",
   "metadata": {
    "slideshow": {
     "slide_type": "slide"
    }
   },
   "source": [
    "https://github.com/guedou/guedou.github.io/blob/39e89901e747ed9a013e4dedbe606208ecab1a1a/talks/2022_GreHack/Scapy%20in%200x30%20minutes.ipynb\n",
    "\n",
    "# Scapy in 0x30 Minutes\n",
    "\n",
    "@guedou\n",
    "\n",
    "GreHack 2022"
   ]
  },
  {
   "cell_type": "markdown",
   "metadata": {
    "slideshow": {
     "slide_type": "slide"
    }
   },
   "source": [
    "# Scapy?\n",
    "\n",
    "- packets manipulation in Python\n",
    "    - developed by Philippe Biondi, since 2003\n",
    "    - maintained by Guillaume & Pierre, since 2012\n",
    "    - native support on Linux, Mac OS X, *BSD, & Windows\n",
    "        - on Windows, only `npcap.dll` is required\n",
    "\n",
    "\n",
    "- get it at https://github.com/secdev/scapy\n",
    "    - you can *star* the project !\n",
    "- documentation at https://scapy.readthedocs.io"
   ]
  },
  {
   "cell_type": "markdown",
   "metadata": {
    "slideshow": {
     "slide_type": "slide"
    }
   },
   "source": [
    "# Project Current Status\n",
    "\n",
    "- moved to `github.com` on January 2016\n",
    "    - used to be hosted on `bitbucket.org`\n",
    "    \n",
    "    \n",
    "- **huge impact** on the project:    \n",
    "    - ~300 different contributors\n",
    "    - __continuous integration:__ Linux, macOS and  Windows\n",
    "    - __code coverage:__ 85%"
   ]
  },
  {
   "cell_type": "markdown",
   "metadata": {
    "slideshow": {
     "slide_type": "slide"
    }
   },
   "source": [
    "# Installing & Launching Scapy\n",
    "\n",
    "It is as simple as cloning the git repository:\n",
    "\n",
    "```\n",
    "git clone --depth 1 https://github.com/secdev/scapy\n",
    "cd scapy\n",
    "sudo ./run_scapy\n",
    "                     aSPY//YASa       \n",
    "             apyyyyCY//////////YCa      |\n",
    "            sY//////YSpcs  scpCY//Pp    | Welcome to Scapy\n",
    " ayp ayyyyyyySCP//Pp           syY//C   | Version 4ad7977\n",
    " AYAsAYYYYYYYY///Ps              cY//S  |\n",
    "         pCCCCY//p          cSSps y//Y  | https://github.com/secdev/scapy\n",
    "         SPPPP///a          pP///AC//Y  |\n",
    "              A//A            cyP////C  | Have fun!\n",
    "              p///Ac            sC///a  |\n",
    "              P////YCpc           A//A  | To craft a packet, you have to be a\n",
    "       scccccp///pSP///p          p//Y  | packet, and learn how to swim in\n",
    "      sY/////////y  caa           S//P  | the wires and in the waves.\n",
    "       cayCyayP//Ya              pY/Ya  |        -- Jean-Claude Van Damme\n",
    "        sY/PsY////YCc          aC//Yp   |\n",
    "         sc  sccaCY//PCypaapyCP//YSs  \n",
    "                  spCPY//////YPSps    \n",
    "                       ccaacs                                               \n",
    ">>>\n",
    "```"
   ]
  },
  {
   "cell_type": "markdown",
   "metadata": {
    "slideshow": {
     "slide_type": "slide"
    }
   },
   "source": [
    "# Today's Tutorial?\n",
    "\n",
    "I will escort you in the discovery of most Scapy features:\n",
    "\n",
    "\n",
    "- packets manipulation\n",
    "- interacting with the network\n",
    "- visualization\n",
    "- using Scapy as a Python module\n",
    "- implementing a new protocol\n",
    "- answering machines\n",
    "- IPv6 reconnaissance\n",
    "- X.509 certificates manipulation\n",
    "- TLS tricks\n",
    "- advanced features: automaton, pipes"
   ]
  },
  {
   "cell_type": "markdown",
   "metadata": {
    "slideshow": {
     "slide_type": "slide"
    }
   },
   "source": [
    "## These slides are available at: https://guedou.github.io/"
   ]
  },
  {
   "cell_type": "markdown",
   "metadata": {
    "slideshow": {
     "slide_type": "slide"
    }
   },
   "source": [
    "# Packets Manipulation"
   ]
  },
  {
   "cell_type": "markdown",
   "metadata": {
    "slideshow": {
     "slide_type": "slide"
    }
   },
   "source": [
    "- packets are objects\n",
    "- the `/` operator is used to stack packets\n",
    "\n",
    "---"
   ]
  },
  {
   "cell_type": "code",
   "execution_count": 2,
   "metadata": {
    "slideshow": {
     "slide_type": "-"
    }
   },
   "outputs": [
    {
     "data": {
      "text/plain": [
       "<Ether  type=IPv4 |<IP  frag=0 proto=tcp |<TCP  |>>>"
      ]
     },
     "execution_count": 2,
     "metadata": {},
     "output_type": "execute_result"
    }
   ],
   "source": [
    "packet = IP() / TCP()\n",
    "Ether() / packet"
   ]
  },
  {
   "cell_type": "markdown",
   "metadata": {
    "slideshow": {
     "slide_type": "slide"
    }
   },
   "source": [
    "- the `ls()` function list packets fields\n",
    "\n",
    "---\n",
    "\n",
    "```\n",
    ">>> ls(IP, verbose=True)\n",
    "version    : BitField (4 bits)                   = (4)\n",
    "ihl        : BitField (4 bits)                   = (None)\n",
    "tos        : XByteField                          = (0)\n",
    "len        : ShortField                          = (None)\n",
    "id         : ShortField                          = (1)\n",
    "flags      : FlagsField (3 bits)                 = (0)\n",
    "               MF, DF, evil\n",
    "frag       : BitField (13 bits)                  = (0)\n",
    "ttl        : ByteField                           = (64)\n",
    "proto      : ByteEnumField                       = (0)\n",
    "chksum     : XShortField                         = (None)\n",
    "src        : SourceIPField (Emph)                = (None)\n",
    "dst        : DestIPField (Emph)                  = (None)\n",
    "options    : PacketListField                     = ([])\n",
    "```"
   ]
  },
  {
   "cell_type": "markdown",
   "metadata": {
    "slideshow": {
     "slide_type": "slide"
    }
   },
   "source": [
    "- Scapy selects the correct source IPv4 address, MAC addresses, ...\n",
    "\n",
    "---"
   ]
  },
  {
   "cell_type": "code",
   "execution_count": 3,
   "metadata": {
    "slideshow": {
     "slide_type": "-"
    }
   },
   "outputs": [
    {
     "data": {
      "text/plain": [
       "'Ether / IP / TCP 192.168.46.10:ftp_data > www.secdev.org:http F'"
      ]
     },
     "execution_count": 3,
     "metadata": {},
     "output_type": "execute_result"
    }
   ],
   "source": [
    "p = Ether() / IP(dst=\"www.secdev.org\") / TCP(flags=\"F\")\n",
    "p.summary()"
   ]
  },
  {
   "cell_type": "markdown",
   "metadata": {
    "slideshow": {
     "slide_type": "slide"
    }
   },
   "source": [
    "- all fields can be easily accessed\n",
    "\n",
    "---"
   ]
  },
  {
   "cell_type": "code",
   "execution_count": 4,
   "metadata": {
    "slideshow": {
     "slide_type": "-"
    }
   },
   "outputs": [
    {
     "name": "stdout",
     "output_type": "stream",
     "text": [
      "ac:16:2d:9c:3c:ad\n",
      "192.168.46.10\n",
      "b8:ca:3a:72:b0:8b > ac:16:2d:9c:3c:ad\n",
      "192.168.46.10 > www.secdev.org\n"
     ]
    }
   ],
   "source": [
    "print(p.dst)      # first layer with a dst field, i.e. Ether\n",
    "print(p[IP].src)  # explicit access to the IP layer src field\n",
    "\n",
    "# sprintf() supports Scapy own formats strings\n",
    "print(p.sprintf(\"%Ether.src% > %Ether.dst%\\n%IP.src% > %IP.dst%\"))"
   ]
  },
  {
   "cell_type": "markdown",
   "metadata": {
    "slideshow": {
     "slide_type": "slide"
    }
   },
   "source": [
    "- a field can store many values\n",
    "\n",
    "---"
   ]
  },
  {
   "cell_type": "code",
   "execution_count": 5,
   "metadata": {},
   "outputs": [
    {
     "data": {
      "text/plain": [
       "[<IP  frag=0 ttl=1 proto=icmp |<ICMP  |>>,\n",
       " <IP  frag=0 ttl=2 proto=icmp |<ICMP  |>>,\n",
       " <IP  frag=0 ttl=3 proto=icmp |<ICMP  |>>,\n",
       " <IP  frag=0 ttl=4 proto=icmp |<ICMP  |>>,\n",
       " <IP  frag=0 ttl=5 proto=icmp |<ICMP  |>>]"
      ]
     },
     "execution_count": 5,
     "metadata": {},
     "output_type": "execute_result"
    }
   ],
   "source": [
    "[p for p in IP(ttl=(1,5)) / ICMP()]  # a sequence of values from 1 to 5"
   ]
  },
  {
   "cell_type": "code",
   "execution_count": 6,
   "metadata": {},
   "outputs": [
    {
     "data": {
      "text/plain": [
       "[<IP  frag=0 proto=tcp |<TCP  dport=ssh |>>,\n",
       " <IP  frag=0 proto=tcp |<TCP  dport=http |>>,\n",
       " <IP  frag=0 proto=tcp |<TCP  dport=https |>>]"
      ]
     },
     "execution_count": 6,
     "metadata": {},
     "output_type": "execute_result"
    }
   ],
   "source": [
    "[p for p in IP() / TCP(dport=[22, 80, 443])]  # specific values"
   ]
  },
  {
   "cell_type": "markdown",
   "metadata": {
    "slideshow": {
     "slide_type": "slide"
    }
   },
   "source": [
    "# Interacting with the network"
   ]
  },
  {
   "cell_type": "markdown",
   "metadata": {
    "slideshow": {
     "slide_type": "slide"
    }
   },
   "source": [
    "- the `sr1()` function sends a packet and returns a reply\n",
    "- Scapy can match queries and answers\n",
    "    \n",
    "---"
   ]
  },
  {
   "cell_type": "code",
   "execution_count": 7,
   "metadata": {
    "slideshow": {
     "slide_type": "-"
    }
   },
   "outputs": [
    {
     "name": "stdout",
     "output_type": "stream",
     "text": [
      "Begin emission:\n",
      "Finished to send 1 packets.\n",
      "\n",
      "Received 9 packets, got 1 answers, remaining 0 packets\n"
     ]
    },
    {
     "data": {
      "text/plain": [
       "<DNSRR  rrname='www.example.com.' type=A rclass=IN ttl=15631 rdata='93.184.216.34' |>"
      ]
     },
     "execution_count": 7,
     "metadata": {},
     "output_type": "execute_result"
    }
   ],
   "source": [
    "p = sr1(IP(dst=\"8.8.8.8\") / UDP() / DNS())\n",
    "p[DNS].an"
   ]
  },
  {
   "cell_type": "markdown",
   "metadata": {
    "slideshow": {
     "slide_type": "slide"
    }
   },
   "source": [
    "- the `srp()` function sends a list of frames and returns two variables:\n",
    "    1. `r` a list of queries and matched answers\n",
    "    2. `u` a list of unanswered packets\n",
    "\n",
    "---"
   ]
  },
  {
   "cell_type": "code",
   "execution_count": 8,
   "metadata": {},
   "outputs": [
    {
     "name": "stdout",
     "output_type": "stream",
     "text": [
      "Begin emission:\n",
      "Finished to send 6 packets.\n",
      "\n",
      "Received 6 packets, got 6 answers, remaining 0 packets\n"
     ]
    },
    {
     "data": {
      "text/plain": [
       "(<Results: TCP:0 UDP:1 ICMP:5 Other:0>,\n",
       " <Unanswered: TCP:0 UDP:0 ICMP:0 Other:0>)"
      ]
     },
     "execution_count": 8,
     "metadata": {},
     "output_type": "execute_result"
    }
   ],
   "source": [
    "r, u = srp(Ether() / IP(dst=\"8.8.8.8\", ttl=(5, 10)) / UDP() / DNS())\n",
    "r, u"
   ]
  },
  {
   "cell_type": "code",
   "execution_count": 9,
   "metadata": {
    "slideshow": {
     "slide_type": "slide"
    }
   },
   "outputs": [
    {
     "name": "stdout",
     "output_type": "stream",
     "text": [
      "Ether / IP / UDP / DNS Qry \"www.example.com\" \n",
      "Ether / IP / ICMP 193.252.98.177 > 192.168.46.10 time-exceeded ttl-zero-during-transit / IPerror / UDPerror\n"
     ]
    },
    {
     "data": {
      "text/plain": [
       "<ICMP  type=time-exceeded code=ttl-zero-during-transit chksum=0x3e59 reserved=0 length=0 unused=None |<IPerror  version=4 ihl=5 tos=0x0 len=61 id=1 flags= frag=0 ttl=1 proto=udp chksum=0xbaed src=192.168.46.10 dst=8.8.8.8 options=[] |<UDPerror  sport=domain dport=domain len=41 chksum=0xb613 |>>>"
      ]
     },
     "execution_count": 9,
     "metadata": {},
     "output_type": "execute_result"
    }
   ],
   "source": [
    "# Access the first tuple\n",
    "print(r[0][0].summary())  # sent packet\n",
    "print(r[0][1].summary())  # received packet\n",
    "\n",
    "# Scapy received an ICMP time-exceeded\n",
    "r[0][1][ICMP]"
   ]
  },
  {
   "cell_type": "markdown",
   "metadata": {
    "slideshow": {
     "slide_type": "slide"
    }
   },
   "source": [
    "- a list of packets can be written to and read from a `PCAP` file\n",
    "\n",
    "---"
   ]
  },
  {
   "cell_type": "code",
   "execution_count": 10,
   "metadata": {},
   "outputs": [
    {
     "data": {
      "text/plain": [
       "<Ether  dst=ac:16:2d:9c:3c:ad src=b8:ca:3a:72:b0:8b type=IPv4 |<IP  version=4 ihl=5 tos=0x0 len=61 id=1 flags= frag=0 ttl=5 proto=udp chksum=0xb6ed src=192.168.46.10 dst=8.8.8.8 options=[] |<UDP  sport=domain dport=domain len=41 chksum=0xb613 |<DNS  id=0 qr=0 opcode=QUERY aa=0 tc=0 rd=1 ra=0 z=0 ad=0 cd=0 rcode=ok qdcount=1 ancount=0 nscount=0 arcount=0 qd=<DNSQR  qname='www.example.com.' qtype=A qclass=IN |> an=None ns=None ar=None |>>>>"
      ]
     },
     "execution_count": 10,
     "metadata": {},
     "output_type": "execute_result"
    }
   ],
   "source": [
    "wrpcap(\"scapy.pcap\", r)\n",
    "\n",
    "pcap_p = rdpcap(\"scapy.pcap\")\n",
    "pcap_p[0]"
   ]
  },
  {
   "cell_type": "markdown",
   "metadata": {
    "slideshow": {
     "slide_type": "slide"
    }
   },
   "source": [
    "- the `command()` method gives the string that will build the *same* object\n",
    "\n",
    "---"
   ]
  },
  {
   "cell_type": "code",
   "execution_count": 11,
   "metadata": {},
   "outputs": [
    {
     "data": {
      "text/plain": [
       "\"Ether(src='b8:ca:3a:72:b0:8b', dst='ac:16:2d:9c:3c:ad', type=2048)/IP(frag=0, src='192.168.46.10', proto=17, tos=0, dst='8.8.8.8', chksum=46829, len=61, options=[], version=4, flags=0, ihl=5, ttl=5, id=1)/UDP(dport=53, sport=53, len=41, chksum=46611)/DNS(aa=0, qr=0, an=None, ad=0, nscount=0, qdcount=1, ns=None, tc=0, rd=1, arcount=0, length=None, ar=None, opcode=0, ra=0, cd=0, z=0, rcode=0, id=0, ancount=0, qd=DNSQR(qclass=1, qtype=1, qname='www.example.com.'))\""
      ]
     },
     "execution_count": 11,
     "metadata": {},
     "output_type": "execute_result"
    }
   ],
   "source": [
    "pcap_p[0].command()"
   ]
  },
  {
   "cell_type": "markdown",
   "metadata": {
    "slideshow": {
     "slide_type": "slide"
    }
   },
   "source": [
    "- the `sniff()` function captures packets \n",
    "\n",
    "---"
   ]
  },
  {
   "cell_type": "code",
   "execution_count": 12,
   "metadata": {},
   "outputs": [
    {
     "data": {
      "text/plain": [
       "<Sniffed: TCP:2 UDP:0 ICMP:0 Other:0>"
      ]
     },
     "execution_count": 12,
     "metadata": {},
     "output_type": "execute_result"
    }
   ],
   "source": [
    "s = sniff(count=2)\n",
    "s"
   ]
  },
  {
   "cell_type": "code",
   "execution_count": 13,
   "metadata": {},
   "outputs": [
    {
     "name": "stdout",
     "output_type": "stream",
     "text": [
      "Ether / IPv6 / TCP ::1:8888 > ::1:44278 PA / Raw\n",
      "Ether / IPv6 / TCP ::1:8888 > ::1:44278 PA / Raw\n"
     ]
    },
    {
     "data": {
      "text/plain": [
       "<Sniffed: TCP:2 UDP:0 ICMP:0 Other:0>"
      ]
     },
     "execution_count": 13,
     "metadata": {},
     "output_type": "execute_result"
    }
   ],
   "source": [
    "sniff(count=2, prn=lambda p: p.summary())"
   ]
  },
  {
   "cell_type": "markdown",
   "metadata": {
    "slideshow": {
     "slide_type": "slide"
    }
   },
   "source": [
    "- the `lsc()` function lists available commands \n",
    "\n",
    "---\n",
    "\n",
    "```\n",
    ">>> lsc()\n",
    "IPID_count          : Identify IP id values classes in a list of packets\n",
    "arpcachepoison      : Poison target's cache with (your MAC,victim's IP) couple\n",
    "arping              : Send ARP who-has requests to determine which hosts are up\n",
    "bind_layers         : Bind 2 layers on some specific fields' values\n",
    "bridge_and_sniff    : Forward traffic between interfaces if1 and if2, sniff and return the\n",
    "chexdump            :  Build a per byte hexadecimal representation\n",
    "computeNIGroupAddr  : Compute the NI group Address. Can take a FQDN as input parameter\n",
    "corrupt_bits        : Flip a given percentage or number of bits from a string\n",
    "corrupt_bytes       : Corrupt a given percentage or number of bytes from a string\n",
    "defrag              : defrag(plist) -> ([not fragmented], [defragmented],\n",
    "defragment          : defrag(plist) -> plist defragmented as much as possible \n",
    "dhcp_request        : --\n",
    "[..]\n",
    "```"
   ]
  },
  {
   "cell_type": "code",
   "execution_count": 14,
   "metadata": {
    "slideshow": {
     "slide_type": "slide"
    }
   },
   "outputs": [
    {
     "name": "stdout",
     "output_type": "stream",
     "text": [
      "Begin emission:\n",
      "Finished to send 256 packets.\n",
      "\n",
      "Received 2 packets, got 2 answers, remaining 254 packets\n",
      "  b8:6b:23:cf:12:83 192.168.46.22\n",
      "  ac:16:2d:9c:3c:ad 192.168.46.254\n"
     ]
    },
    {
     "data": {
      "text/plain": [
       "(<ARPing: TCP:0 UDP:0 ICMP:0 Other:2>,\n",
       " <Unanswered: TCP:0 UDP:0 ICMP:0 Other:254>)"
      ]
     },
     "execution_count": 14,
     "metadata": {},
     "output_type": "execute_result"
    }
   ],
   "source": [
    "# Send ARP who-has requests to determine which hosts are up\n",
    "arping(\"192.168.46.0/24\")"
   ]
  },
  {
   "cell_type": "markdown",
   "metadata": {
    "slideshow": {
     "slide_type": "slide"
    }
   },
   "source": [
    "- the `help()` function describes commands behaviors and arguments\n",
    "\n",
    "---\n",
    "\n",
    "```\n",
    ">>> help(traceroute)\n",
    "Help on function traceroute in module scapy.layers.inet:\n",
    "\n",
    "traceroute(target, dport=80, minttl=1, maxttl=30, sport=<RandShort>, l4=None, filter=None, timeout=2, verbose=None, **kargs)\n",
    "    Instant TCP traceroute\n",
    "    traceroute(target, [maxttl=30,] [dport=80,] [sport=80,] [verbose=conf.verb]) -> None\n",
    "```"
   ]
  },
  {
   "cell_type": "markdown",
   "metadata": {
    "slideshow": {
     "slide_type": "slide"
    }
   },
   "source": [
    "# Visualization"
   ]
  },
  {
   "cell_type": "markdown",
   "metadata": {
    "slideshow": {
     "slide_type": "slide"
    }
   },
   "source": [
    "- with `srloop()`, send 100 packets to 8.8.8.8 and 8.8.4.4\n",
    "- the `multiplot()` method can be used to display IP ID values\n",
    "\n",
    "---"
   ]
  },
  {
   "cell_type": "code",
   "execution_count": 15,
   "metadata": {
    "slideshow": {
     "slide_type": "-"
    }
   },
   "outputs": [],
   "source": [
    "ans, unans = srloop(IP(dst=[\"8.8.8.8\", \"8.8.4.4\"]) / ICMP(), inter=.1, timeout=.1, count=100, verbose=False)"
   ]
  },
  {
   "cell_type": "code",
   "execution_count": 16,
   "metadata": {},
   "outputs": [
    {
     "data": {
      "text/plain": [
       "[[<matplotlib.lines.Line2D at 0x7fb432f4c5d0>],\n",
       " [<matplotlib.lines.Line2D at 0x7fb45adcfd50>]]"
      ]
     },
     "execution_count": 16,
     "metadata": {},
     "output_type": "execute_result"
    },
    {
     "data": {
      "image/png": "[encoded data removed]",
      "text/plain": [
       "<matplotlib.figure.Figure at 0x7fb43375cf90>"
      ]
     },
     "metadata": {},
     "output_type": "display_data"
    }
   ],
   "source": [
    "%matplotlib inline\n",
    "ans.multiplot(lambda (x, y): (y[IP].src, (y.time, y[IP].id)), plot_xy=True)"
   ]
  },
  {
   "cell_type": "markdown",
   "metadata": {
    "slideshow": {
     "slide_type": "slide"
    }
   },
   "source": [
    "- the `str()` function builds a packet, as sent on the network"
   ]
  },
  {
   "cell_type": "code",
   "execution_count": 17,
   "metadata": {},
   "outputs": [
    {
     "data": {
      "text/plain": [
       "\"'E\\\\x00\\\\x00=\\\\x00\\\\x01\\\\x00\\\\x00@\\\\x11|\\\\xad\\\\x7f\\\\x00\\\\x00\\\\x01\\\\x7f\\\\x00\\\\x00\\\\x01\\\\x005\\\\x005\\\\x00)\\\\xb6\\\\xd3\\\\x00\\\\x00\\\\x01\\\\x00\\\\x00\\\\x01\\\\x00\\\\x00\\\\x00\\\\x00\\\\x00\\\\x00\\\\x03www\\\\x07example\\\\x03com\\\\x00\\\\x00\\\\x01\\\\x00\\\\x01'\""
      ]
     },
     "execution_count": 17,
     "metadata": {},
     "output_type": "execute_result"
    }
   ],
   "source": [
    "pkt = IP() / UDP() / DNS(qd=DNSQR())\n",
    "repr(str(pkt))"
   ]
  },
  {
   "cell_type": "markdown",
   "metadata": {
    "slideshow": {
     "slide_type": "slide"
    }
   },
   "source": [
    "This representation being complicated, Scapy can:\n",
    "   -  do a `hexdump` of the content"
   ]
  },
  {
   "cell_type": "code",
   "execution_count": 18,
   "metadata": {},
   "outputs": [
    {
     "name": "stdout",
     "output_type": "stream",
     "text": [
      "0000  4500003D0001000040117CAD7F000001 E..=....@.|.....\n",
      "0010  7F000001003500350029B6D300000100 .....5.5.)......\n",
      "0020  00010000000000000377777707657861 .........www.exa\n",
      "0030  6D706C6503636F6D0000010001       mple.com.....\n"
     ]
    }
   ],
   "source": [
    "hexdump(pkt)"
   ]
  },
  {
   "cell_type": "markdown",
   "metadata": {
    "slideshow": {
     "slide_type": "slide"
    }
   },
   "source": [
    "  - dump fields content layer by layer"
   ]
  },
  {
   "cell_type": "code",
   "execution_count": 19,
   "metadata": {
    "scrolled": true
   },
   "outputs": [
    {
     "name": "stdout",
     "output_type": "stream",
     "text": [
      "###[ IP ]### \n",
      "  version   = 4\n",
      "  ihl       = None\n",
      "  tos       = 0x0\n",
      "  len       = None\n",
      "  id        = 1\n",
      "  flags     = \n",
      "  frag      = 0\n",
      "  ttl       = 64\n",
      "  proto     = udp\n",
      "  chksum    = None\n",
      "  src       = 127.0.0.1\n",
      "  dst       = 127.0.0.1\n",
      "  \\options   \\\n",
      "###[ UDP ]### \n",
      "     sport     = domain\n",
      "     dport     = domain\n",
      "     len       = None\n",
      "     chksum    = None\n",
      "###[ DNS ]### \n",
      "        id        = 0\n",
      "        qr        = 0\n",
      "        opcode    = QUERY\n",
      "        aa        = 0\n",
      "        tc        = 0\n",
      "        rd        = 1\n",
      "        ra        = 0\n",
      "        z         = 0\n",
      "        ad        = 0\n",
      "        cd        = 0\n",
      "        rcode     = ok\n",
      "        qdcount   = 1\n",
      "        ancount   = 0\n",
      "        nscount   = 0\n",
      "        arcount   = 0\n",
      "        \\qd        \\\n",
      "         |###[ DNS Question Record ]### \n",
      "         |  qname     = 'www.example.com'\n",
      "         |  qtype     = A\n",
      "         |  qclass    = IN\n",
      "        an        = None\n",
      "        ns        = None\n",
      "        ar        = None\n",
      "\n"
     ]
    }
   ],
   "source": [
    "pkt.show()"
   ]
  },
  {
   "cell_type": "markdown",
   "metadata": {
    "slideshow": {
     "slide_type": "slide"
    }
   },
   "source": [
    "  - display a pretty representation"
   ]
  },
  {
   "cell_type": "code",
   "execution_count": 20,
   "metadata": {
    "scrolled": true
   },
   "outputs": [
    {
     "data": {
      "image/png": "[encoded data removed]",
      "text/plain": [
       "<pyx.canvas.canvas instance at 0x7fb432f815a8>"
      ]
     },
     "execution_count": 20,
     "metadata": {},
     "output_type": "execute_result"
    }
   ],
   "source": [
    "pkt.canvas_dump()"
   ]
  },
  {
   "cell_type": "markdown",
   "metadata": {
    "slideshow": {
     "slide_type": "slide"
    }
   },
   "source": [
    "The `traceroute()` functions calls `sr(IP(ttl=(1,15))` and create the object `TracerouteResult`\n",
    "\n",
    "---"
   ]
  },
  {
   "cell_type": "code",
   "execution_count": 21,
   "metadata": {
    "scrolled": true
   },
   "outputs": [
    {
     "name": "stdout",
     "output_type": "stream",
     "text": [
      "Begin emission:\n",
      "Finished to send 15 packets.\n",
      "\n",
      "Received 15 packets, got 15 answers, remaining 0 packets\n",
      "   217.25.178.5:tcp80 \n",
      "1  192.168.46.254  11 \n",
      "2  172.28.0.1      11 \n",
      "3  80.10.115.251   11 \n",
      "4  10.123.205.82   11 \n",
      "5  193.252.98.177  11 \n",
      "6  81.253.184.182  11 \n",
      "7  130.117.15.93   11 \n",
      "8  154.54.38.65    11 \n",
      "9  154.25.5.2      11 \n",
      "10 149.6.166.166   11 \n",
      "11 154.25.4.254    11 \n",
      "12 217.25.179.78   11 \n",
      "13 217.25.178.5    SA \n",
      "14 217.25.178.5    SA \n",
      "15 217.25.178.5    SA \n"
     ]
    }
   ],
   "source": [
    "ans, unans = traceroute('www.secdev.org', maxttl=15)"
   ]
  },
  {
   "cell_type": "markdown",
   "metadata": {
    "slideshow": {
     "slide_type": "slide"
    }
   },
   "source": [
    "Different methods can be used to display the results, like `world_trace()` that uses the GeoIP module from [MaxMind](https://www.maxmind.com/)\n",
    "\n",
    "---"
   ]
  },
  {
   "cell_type": "code",
   "execution_count": 22,
   "metadata": {},
   "outputs": [
    {
     "data": {
      "text/plain": [
       "[[<matplotlib.lines.Line2D at 0x7fb432ee41d0>]]"
      ]
     },
     "execution_count": 22,
     "metadata": {},
     "output_type": "execute_result"
    },
    {
     "data": {
      "image/png": "[encoded data removed]",
      "text/plain": [
       "<matplotlib.figure.Figure at 0x7fb431fe0610>"
      ]
     },
     "metadata": {},
     "output_type": "display_data"
    }
   ],
   "source": [
    "ans.world_trace()"
   ]
  },
  {
   "cell_type": "markdown",
   "metadata": {
    "slideshow": {
     "slide_type": "slide"
    }
   },
   "source": [
    "The `make_table()` method provides a compact results representation, useful for a basic *port scanner*\n",
    "\n",
    "---"
   ]
  },
  {
   "cell_type": "code",
   "execution_count": 23,
   "metadata": {},
   "outputs": [
    {
     "name": "stdout",
     "output_type": "stream",
     "text": [
      "          45.33.32.156 45.33.49.119 \n",
      "tcp/22    SA           SA           \n",
      "tcp/31337 SA           RA           \n",
      "tcp/443   RA           SA           \n",
      "tcp/80    SA           SA           \n",
      "udp/53    dest-unreach -            \n"
     ]
    }
   ],
   "source": [
    "targets = [\"scanme.nmap.org\", \"nmap.org\"]\n",
    "\n",
    "ans = sr(IP(dst=targets) / TCP(dport=[22, 80, 443, 31337]), timeout=3, verbose=False)[0]\n",
    "\n",
    "ans.extend(sr(IP(dst=targets) / UDP() / DNS(), timeout=3, verbose=False)[0])\n",
    "\n",
    "ans.make_table(lambda (x, y): (x[IP].dst,\n",
    "                               x.sprintf('%IP.proto%/{TCP:%r,TCP.dport%}{UDP:%r,UDP.dport%}'),\n",
    "                               y.sprintf('{TCP:%TCP.flags%}{ICMP:%ICMP.type%}')))"
   ]
  },
  {
   "cell_type": "markdown",
   "metadata": {
    "slideshow": {
     "slide_type": "slide"
    }
   },
   "source": [
    "## Scapy as a Python module"
   ]
  },
  {
   "cell_type": "markdown",
   "metadata": {
    "slideshow": {
     "slide_type": "slide"
    }
   },
   "source": [
    "Scapy can be used to build your own tools like `ping6.py`:\n",
    "\n",
    "---"
   ]
  },
  {
   "cell_type": "code",
   "execution_count": null,
   "metadata": {},
   "outputs": [],
   "source": [
    "from scapy.all import *\n",
    "import argparse\n",
    "\n",
    "parser = argparse.ArgumentParser(description=\"A simple ping6\")\n",
    "parser.add_argument(\"ipv6_address\", help=\"An IPv6 address\")\n",
    "args = parser.parse_args()\n",
    "\n",
    "print sr1(IPv6(dst=args.ipv6_address) / ICMPv6EchoRequest(), verbose=0).summary()"
   ]
  },
  {
   "cell_type": "markdown",
   "metadata": {},
   "source": [
    "```shell\n",
    "sudo python ping6.py www.kame.net\n",
    "IPv6 / ICMPv6 Echo Reply (id: 0x0 seq: 0x0)\n",
    "```"
   ]
  },
  {
   "cell_type": "markdown",
   "metadata": {
    "slideshow": {
     "slide_type": "slide"
    }
   },
   "source": [
    "# Implementing a new protocol"
   ]
  },
  {
   "cell_type": "markdown",
   "metadata": {
    "slideshow": {
     "slide_type": "slide"
    }
   },
   "source": [
    "To add new protocols, create an object:\n",
    "- that inherits from `Packet`\n",
    "- defines fields in the `fields_desc` variable\n",
    "\n",
    "---"
   ]
  },
  {
   "cell_type": "code",
   "execution_count": 24,
   "metadata": {},
   "outputs": [],
   "source": [
    "class DNSTCP(Packet):\n",
    "    name = \"DNS over TCP\"\n",
    "    \n",
    "    fields_desc = [ FieldLenField(\"len\", None, fmt=\"!H\", length_of=\"dns\"),\n",
    "                    PacketLenField(\"dns\", 0, DNS, length_from=lambda p: p.len)]\n",
    "    \n",
    "    # This method tells Scapy to decode the payload with DNSTCP\n",
    "    def guess_payload_class(self, payload):\n",
    "        return DNSTCP"
   ]
  },
  {
   "cell_type": "markdown",
   "metadata": {
    "slideshow": {
     "slide_type": "slide"
    }
   },
   "source": [
    "This new protocol can be directly used to build and parse a packet\n",
    "\n",
    "---"
   ]
  },
  {
   "cell_type": "code",
   "execution_count": 25,
   "metadata": {},
   "outputs": [
    {
     "data": {
      "text/plain": [
       "<DNSTCP  len=12 dns=<DNS  id=0 qr=0 opcode=QUERY aa=0 tc=0 rd=1 ra=0 z=0 ad=0 cd=0 rcode=ok qdcount=0 ancount=0 nscount=0 arcount=0 |> |>"
      ]
     },
     "execution_count": 25,
     "metadata": {},
     "output_type": "execute_result"
    }
   ],
   "source": [
    "DNSTCP(raw(DNSTCP(dns=DNS())))"
   ]
  },
  {
   "cell_type": "markdown",
   "metadata": {
    "slideshow": {
     "slide_type": "slide"
    }
   },
   "source": [
    "The `StreamSocket` object allows Scapy to use a TCP socket\n",
    "\n",
    "---"
   ]
  },
  {
   "cell_type": "code",
   "execution_count": 26,
   "metadata": {},
   "outputs": [
    {
     "name": "stdout",
     "output_type": "stream",
     "text": [
      "Begin emission:\n",
      "Finished to send 1 packets.\n",
      "\n",
      "Received 1 packets, got 1 answers, remaining 0 packets\n"
     ]
    },
    {
     "data": {
      "text/plain": [
       "<DNSTCP  len=49 dns=<DNS  id=0 qr=1 opcode=QUERY aa=0 tc=0 rd=1 ra=1 z=0 ad=0 cd=0 rcode=ok qdcount=1 ancount=1 nscount=0 arcount=0 qd=<DNSQR  qname='www.example.com.' qtype=A qclass=IN |> an=<DNSRR  rrname='www.example.com.' type=A rclass=IN ttl=66630 rdata='93.184.216.34' |> ns=None ar=None |> |>"
      ]
     },
     "execution_count": 26,
     "metadata": {},
     "output_type": "execute_result"
    }
   ],
   "source": [
    "import socket\n",
    "\n",
    "sck = socket.socket(socket.AF_INET, socket.SOCK_STREAM)  # create a TCP socket\n",
    "sck.connect((\"8.8.8.8\", 53))  # connect to 8.8.8.8 on 53/TCP\n",
    "\n",
    "# Create a StreamSocket and define the default class\n",
    "ssck = StreamSocket(sck)\n",
    "ssck.basecls = DNSTCP\n",
    "\n",
    "# Send the DNS query\n",
    "ssck.sr1(DNSTCP(dns=DNS(qd=DNSQR(qname=\"www.example.com\"))))"
   ]
  },
  {
   "cell_type": "markdown",
   "metadata": {
    "slideshow": {
     "slide_type": "slide"
    }
   },
   "source": [
    "## Answering Machines"
   ]
  },
  {
   "cell_type": "markdown",
   "metadata": {
    "slideshow": {
     "slide_type": "slide"
    }
   },
   "source": [
    "Scapy can wait for a query, then send an answer with the `AnsweringMachine` object.\n",
    "\n",
    "Two methods are mandatory:\n",
    "1. `is_request()`: returns `True` if the packet is the expected query\n",
    "2. `make_reply()`: returns the packet that will be sent by Scapy\n",
    "\n",
    "\n",
    "Note: in the following example, the Wi-Fi interface must be put in *monitor* mode"
   ]
  },
  {
   "cell_type": "code",
   "execution_count": null,
   "metadata": {
    "slideshow": {
     "slide_type": "slide"
    }
   },
   "outputs": [],
   "source": [
    "# Specify the Wi-Fi interface\n",
    "conf.iface = \"mon0\"\n",
    "\n",
    "# Create the Answering Machine\n",
    "class ProbeRequest_am(AnsweringMachine):\n",
    "  function_name = \"pram\"\n",
    "\n",
    "  mac = \"00:11:22:33:44:55\"\n",
    "\n",
    "  def is_request(self, pkt):\n",
    "    return Dot11ProbeReq in pkt\n",
    "\n",
    "  def make_reply(self, req):\n",
    "\n",
    "    rep = RadioTap()\n",
    "    # Note: depending on your Wi-Fi card, you might need something else than RadioTap()\n",
    "    rep /= Dot11(addr1=req.addr2, addr2=self.mac, addr3=self.mac, ID=RandShort(), SC=RandShort())\n",
    "    rep /= Dot11ProbeResp(cap=\"ESS\", timestamp=time.time())\n",
    "    rep /= Dot11Elt(ID=\"SSID\",info=\"Scapy !\")\n",
    "    rep /= Dot11Elt(ID=\"Rates\",info='\\x82\\x84\\x0b\\x16\\x96')\n",
    "    rep /= Dot11Elt(ID=\"DSset\",info=chr(10))\n",
    "\n",
    "    return rep\n",
    "\n",
    "# Start the answering machine\n",
    "#ProbeRequest_am()()  # uncomment to test"
   ]
  },
  {
   "cell_type": "markdown",
   "metadata": {
    "slideshow": {
     "slide_type": "slide"
    }
   },
   "source": [
    "![](images/scapy_am.png)"
   ]
  },
  {
   "cell_type": "markdown",
   "metadata": {
    "slideshow": {
     "slide_type": "slide"
    }
   },
   "source": [
    "# IPv6 Reconnaissance"
   ]
  },
  {
   "cell_type": "markdown",
   "metadata": {
    "slideshow": {
     "slide_type": "slide"
    }
   },
   "source": [
    "- discover the link IPv6 router using the Router Solicitation message\n",
    "\n",
    "---"
   ]
  },
  {
   "cell_type": "code",
   "execution_count": 28,
   "metadata": {},
   "outputs": [
    {
     "name": "stdout",
     "output_type": "stream",
     "text": [
      "Begin emission:\n",
      "Finished to send 1 packets.\n",
      "\n",
      "Received 98 packets, got 0 answers, remaining 1 packets\n",
      "<IPv6  version=6L tc=192L fl=0L plen=104 nh=ICMPv6 hlim=255 src=fe80::ba26:6cff:fe5f:4eee dst=ff02::1 |<ICMPv6ND_RA  type=Router Advertisement code=0 cksum=0x4c25 chlim=64 M=0L O=1L H=0L prf=High P=0L res=0L routerlifetime=180 reachabletime=0 retranstimer=0 |<ICMPv6NDOptPrefixInfo  type=3 len=4 prefixlen=64 L=1L A=1L R=0L res1=0L validlifetime=0x384 preferredlifetime=0x12c res2=0x0 prefix=2a01:cb08:229:3700:: |<ICMPv6NDOptRDNSS  type=25 len=3 res=0 lifetime=60 dns=[ fe80::ba26:6cff:fe5f:4eee ] |<ICMPv6NDOptDNSSL  type=31 len=2 res=0 lifetime=60 searchlist=['home.'] |<ICMPv6NDOptMTU  type=5 len=1 res=0x0 mtu=1500 |<ICMPv6NDOptSrcLLAddr  type=1 len=1 lladdr=b8:26:6c:5f:4e:ee |>>>>>>>\n"
     ]
    }
   ],
   "source": [
    "sr1(IPv6() / ICMPv6ND_RS())"
   ]
  },
  {
   "cell_type": "markdown",
   "metadata": {
    "slideshow": {
     "slide_type": "slide"
    }
   },
   "source": [
    "- probe local nodes and list manufacturers\n",
    "\n",
    "---"
   ]
  },
  {
   "cell_type": "code",
   "execution_count": 29,
   "metadata": {},
   "outputs": [
    {
     "name": "stdout",
     "output_type": "stream",
     "text": [
      "Begin emission:\n",
      "Finished to send 1 packets.\n",
      "\n",
      "Received 20 packets, got 0 answers, remaining 1 packets\n",
      " \n",
      "                          ff02::1\n",
      "fe80::5664:d9ff:fe79:4e00 54:64:d9:79:4e:00\n",
      "fe80::a2f3:c1ff:fec4:5b50 a0:f3:c1:c4:5b:50\n",
      "fe80::ba26:6cff:fe5f:4eee b8:26:6c:5f:4e:ee"
     ]
    }
   ],
   "source": [
    "a,u = sr(IPv6(dst=\"ff02::1\") / ICMPv6EchoRequest(), multi=1, timeout=1)\n",
    "a.make_table(lambda t: (t[0][IPv6].dst, t[1][IPv6].src, in6_addrtovendor(t[1][IPv6].src)))"
   ]
  },
  {
   "cell_type": "markdown",
   "metadata": {
    "slideshow": {
     "slide_type": "slide"
    }
   },
   "source": [
    "# X.509 Certificates Manipulation"
   ]
  },
  {
   "cell_type": "markdown",
   "metadata": {
    "slideshow": {
     "slide_type": "slide"
    }
   },
   "source": [
    "- Scapy can easily parse certificates, and display their contents\n",
    "\n",
    "---"
   ]
  },
  {
   "cell_type": "code",
   "execution_count": 27,
   "metadata": {},
   "outputs": [
    {
     "data": {
      "text/plain": [
       "[X.509 Cert. Subject:/C=US/ST=California/L=San Francisco/O=GitHub, Inc./CN=github.com/businessCategory=Private Organization/jurisdictionOfIncorporationCountryName=US/jurisdictionOfIncorporationStateOrProvinceName=Delaware/postalCode=94107/serialNumber=5157550/streetAddress=88 Colin P Kelly, Jr Street, Issuer:/C=US/O=DigiCert Inc/OU=www.digicert.com/CN=DigiCert SHA2 Extended Validation Server CA]"
      ]
     },
     "execution_count": 27,
     "metadata": {},
     "output_type": "execute_result"
    }
   ],
   "source": [
    "load_layer(\"tls\")\n",
    "cert_github = Cert(pem2der(open(\"files/github.com.pem\").read()))  # assuming you d/l the certificate\n",
    "cert_github"
   ]
  },
  {
   "cell_type": "markdown",
   "metadata": {
    "slideshow": {
     "slide_type": "slide"
    }
   },
   "source": [
    "- several useful methods help exploring them\n",
    "\n",
    "---"
   ]
  },
  {
   "cell_type": "code",
   "execution_count": 30,
   "metadata": {},
   "outputs": [
    {
     "name": "stdout",
     "output_type": "stream",
     "text": [
      "False\n",
      "{'organizationName': 'GitHub, Inc.', 'localityName': 'San Francisco', 'businessCategory': 'Private Organization', 'jurisdictionOfIncorporationStateOrProvinceName': 'Delaware', 'serialNumber': '5157550', 'commonName': 'github.com', 'stateOrProvinceName': 'California', 'countryName': 'US', 'streetAddress': '88 Colin P Kelly, Jr Street', 'jurisdictionOfIncorporationCountryName': 'US', 'postalCode': '94107'}\n",
      "245.063206019\n"
     ]
    }
   ],
   "source": [
    "print(cert_github.isSelfSigned())  # check if it is self signed\n",
    "print(cert_github.subject)  # display the subject\n",
    "print(cert_github.remainingDays()) # compute the number of days until expiration"
   ]
  },
  {
   "cell_type": "markdown",
   "metadata": {
    "slideshow": {
     "slide_type": "slide"
    }
   },
   "source": [
    "- moreover, some cryptographic tricks are also included, like verifying signatures:\n",
    "\n",
    "---"
   ]
  },
  {
   "cell_type": "code",
   "execution_count": 31,
   "metadata": {},
   "outputs": [
    {
     "name": "stdout",
     "output_type": "stream",
     "text": [
      "True\n"
     ]
    }
   ],
   "source": [
    "# Verify issuers signatures\n",
    "cert_digicert = Cert(pem2der(open(\"files/digicert_sha2.pem\").read())) # assuming you d/l the certificate        \n",
    "print(cert_github.isIssuerCert(cert_digicert))  # check the signature"
   ]
  },
  {
   "cell_type": "markdown",
   "metadata": {
    "slideshow": {
     "slide_type": "slide"
    }
   },
   "source": [
    "- or, change the certificate signature:\n",
    "\n",
    "---"
   ]
  },
  {
   "cell_type": "code",
   "execution_count": 32,
   "metadata": {},
   "outputs": [
    {
     "name": "stdout",
     "output_type": "stream",
     "text": [
      "0x42\n",
      "True\n"
     ]
    }
   ],
   "source": [
    "cert_github.tbsCertificate.serialNumber.val = 0x42  # Change a value\n",
    "\n",
    "private_key = PrivKeyRSA(\"files/private_key.pem\")  # Load a private key\n",
    "new_cert_github = private_key.resignCert(cert_github)  # Do a new signature\n",
    "\n",
    "print(hex(new_cert_github.tbsCertificate.serialNumber.val))  # Print the value\n",
    "print(private_key.verifyCert(new_cert_github))  # Verify the signature"
   ]
  },
  {
   "cell_type": "markdown",
   "metadata": {
    "slideshow": {
     "slide_type": "slide"
    }
   },
   "source": [
    "# TLS tricks"
   ]
  },
  {
   "cell_type": "markdown",
   "metadata": {
    "slideshow": {
     "slide_type": "slide"
    }
   },
   "source": [
    "- sniff TLS traffic\n",
    "\n",
    "---"
   ]
  },
  {
   "cell_type": "code",
   "execution_count": 34,
   "metadata": {},
   "outputs": [
    {
     "name": "stdout",
     "output_type": "stream",
     "text": [
      "###[ TLS Handshake - Client Hello ]### \n",
      "  msgtype   = client_hello\n",
      "  msglen    = 508\n",
      "  version   = TLS 1.2\n",
      "  gmt_unix_time= Mon, 12 Sep 2033 09:17:31 +0000 (2010129451)\n",
      "  random_bytes= 10acad3c14813c361b0a5a37a26b49c03731452d4139c9907f2c2f70\n",
      "  sidlen    = 32\n",
      "  sid       = '\\x00;\\xd3\\x8fQy?\\xbe\\xc9\\x85P\\xa2\\xb6\\x8f\\xa3FF\\x9f\\x97I\\x06\\x94)\\x06\\xc0\\x9b\\xea\\x1b\\xa2$\\x0f\\x08'\n",
      "  cipherslen= 28\n",
      "  ciphers   = [0x7a7a, TLS_ECDHE_ECDSA_WITH_AES_128_GCM_SHA256, TLS_ECDHE_RSA_WITH_AES_128_GCM_SHA256, TLS_ECDHE_ECDSA_WITH_AES_256_GCM_SHA384, TLS_ECDHE_RSA_WITH_AES_256_GCM_SHA384, TLS_ECDHE_ECDSA_WITH_CHACHA20_POLY1305_SHA256, TLS_ECDHE_RSA_WITH_CHACHA20_POLY1305_SHA256, TLS_ECDHE_RSA_WITH_AES_128_CBC_SHA, TLS_ECDHE_RSA_WITH_AES_256_CBC_SHA, TLS_RSA_WITH_AES_128_GCM_SHA256, TLS_RSA_WITH_AES_256_GCM_SHA384, TLS_RSA_WITH_AES_128_CBC_SHA, TLS_RSA_WITH_AES_256_CBC_SHA, TLS_RSA_WITH_3DES_EDE_CBC_SHA]\n",
      "  complen   = 1\n",
      "  comp      = null\n",
      "  extlen    = 407\n",
      "  \\ext       \\\n",
      "   |###[ TLS Extension - Scapy Unknown ]### \n",
      "   |  type      = 10794\n",
      "   |  len       = 0\n",
      "   |  val       = ''\n",
      "   |###[ TLS Extension - Renegotiation Indication ]### \n",
      "   |  type      = renegotiation_info\n",
      "   |  len       = 1\n",
      "   |  reneg_conn_len= 0\n",
      "   |  renegotiated_connection= ''\n",
      "   |###[ TLS Extension - Server Name ]### \n",
      "   |  type      = server_name\n",
      "   |  len       = 21\n",
      "   |  servernameslen= 19\n",
      "   |  servernames= [my.geekstory.net]\n",
      "   |###[ TLS Extension - Extended Master Secret ]### \n",
      "   |  type      = extended_master_secret\n",
      "   |  len       = 0\n",
      "   |###[ TLS Extension - Session Ticket ]### \n",
      "   |  type      = session_ticket\n",
      "   |  len       = 208\n",
      "   |  ticket    = '#qqE*\\xc7\\xed\\x05\\xc5N\\xf99\\xfb;\\x98\\xe3\\x87Rc\\xa9\\x13!M\\xb1A\\xbc\\xec\\x91H\\xb4tB\\xda\\x1b\\xcb\\x0b\\xd7\\x98gl\\x03\\xa9\\x8b\\x80\\xa7A\\x15\\x00\\xcd\\xdc@\\x13\\x9e\\xc6\\x0e\\x92\\xf2\\\\\\x88n\\xa5)i\\xa2O\\xfd\\x8b$i\\xd0\\xbce-\\xf3e\\x91\\xbf\\x1d\\nU\\x15G\\xc6R\\xc9\\x06.\\x7f\\x84N\\x0b\\xf6K\\x82#\\x925\\xc0\\x06\\xee \\xf6\\x95\\x1d\\x92\\x14\\x93U\\xbc\\xb3t\\xb5\\xfd0=\\xf1!+y\\x17\\x85%\\x9f\\'\\xe2\\x99\\xef\\x04\"2\\xc7G\\xd9\\x9d]\\x13\\xd2\\x0e\\x03\\xae\\x14x\\xfa\\xd3C\\x87x\\xf1E\\x92\\xb7\\x17\\xac\\x19o\\xa7\\xc5V\\xa5!\\xaf%\\x87FF\\x8e\"\\xc1!y)~\\xd1\\xf3\\x9al5S\\xf5\\xe2=\\x1d\\x17=\\xc4\\xee\\x0f\\xe9\\xf4\\x032\\x03\\xe2\\xb0\\x04{\\x97\\xb8\\x0b\\xce\\x83n!\\xe2ns\\xe8\\xbe'\n",
      "   |###[ TLS Extension - Signature Algorithms ]### \n",
      "   |  type      = signature_algorithms\n",
      "   |  len       = 20\n",
      "   |  sig_algs_len= 18\n",
      "   |  sig_algs  = [sha256+ecdsa, sha256+rsapss, sha256+rsa, sha384+ecdsa, sha384+rsapss, sha384+rsa, sha512+rsapss, sha512+rsa, sha1+rsa]\n",
      "   |###[ TLS Extension - Certificate Status Request ]### \n",
      "   |  type      = status_request\n",
      "   |  len       = 5\n",
      "   |  stype     = ocsp\n",
      "   |  \\req       \\\n",
      "   |   |###[ OCSPStatusRequest structure ]### \n",
      "   |   |  respidlen = 0\n",
      "   |   |  \\respid    \\\n",
      "   |   |  reqextlen = 0\n",
      "   |   |  reqext    = ''\n",
      "   |###[ TLS Extension - Scapy Unknown ]### \n",
      "   |  type      = signed_certificate_timestamp\n",
      "   |  len       = 0\n",
      "   |  val       = ''\n",
      "   |###[ TLS Extension - Application Layer Protocol Negotiation ]### \n",
      "   |  type      = alpn\n",
      "   |  len       = 14\n",
      "   |  protocolslen= 12\n",
      "   |  protocols = [h2, http/1.1]\n",
      "   |###[ TLS Extension - Scapy Unknown ]### \n",
      "   |  type      = 30032\n",
      "   |  len       = 0\n",
      "   |  val       = ''\n",
      "   |###[ TLS Extension - Supported Point Format ]### \n",
      "   |  type      = ec_point_formats\n",
      "   |  len       = 2\n",
      "   |  ecpllen   = 1\n",
      "   |  ecpl      = [uncompressed]\n",
      "   |###[ TLS Extension - Supported Groups ]### \n",
      "   |  type      = supported_groups\n",
      "   |  len       = 10\n",
      "   |  groupslen = 8\n",
      "   |  groups    = [56026, x25519, secp256r1, secp384r1]\n",
      "   |###[ TLS Extension - Scapy Unknown ]### \n",
      "   |  type      = 14906\n",
      "   |  len       = 1\n",
      "   |  val       = '\\x00'\n",
      "   |###[ TLS Extension - Padding ]### \n",
      "   |  type      = padding\n",
      "   |  len       = 69\n",
      "   |  padding   = '\\x00\\x00\\x00\\x00\\x00\\x00\\x00\\x00\\x00\\x00\\x00\\x00\\x00\\x00\\x00\\x00\\x00\\x00\\x00\\x00\\x00\\x00\\x00\\x00\\x00\\x00\\x00\\x00\\x00\\x00\\x00\\x00\\x00\\x00\\x00\\x00\\x00\\x00\\x00\\x00\\x00\\x00\\x00\\x00\\x00\\x00\\x00\\x00\\x00\\x00\\x00\\x00\\x00\\x00\\x00\\x00\\x00\\x00\\x00\\x00\\x00\\x00\\x00\\x00\\x00\\x00\\x00\\x00\\x00'\n",
      "\n"
     ]
    }
   ],
   "source": [
    "load_layer(\"tls\")\n",
    "s = sniff(filter=\"port 443\", count=10)  # sniff packets on port 443\n",
    "ch_list = [p for p in s if TLSClientHello in p]  # filter Client Hello messages\n",
    "ch_list[0][TLSClientHello].show()  # display the first message"
   ]
  },
  {
   "cell_type": "markdown",
   "metadata": {
    "slideshow": {
     "slide_type": "slide"
    }
   },
   "source": [
    "## Advanced Features"
   ]
  },
  {
   "cell_type": "markdown",
   "metadata": {
    "slideshow": {
     "slide_type": "slide"
    }
   },
   "source": [
    "- **automaton**: ease the creation of state machines with decorators\n",
    "\n",
    "\n",
    "- **pipes** can be used for advanced manipulations: forwarding between interfaces, on the fly modifications, ...\n",
    "\n",
    "\n",
    "- the **nfqueue** Python module could be used to perform simple MitM"
   ]
  },
  {
   "cell_type": "markdown",
   "metadata": {
    "slideshow": {
     "slide_type": "slide"
    }
   },
   "source": [
    "# Questions?\n",
    "# Issues?\n",
    "# Pull Requests?\n",
    "# Beers?"
   ]
  }
 ],
 "metadata": {
  "celltoolbar": "Slideshow",
  "kernelspec": {
   "display_name": "Python 3 (ipykernel)",
   "language": "python",
   "name": "python3"
  },
  "language_info": {
   "codemirror_mode": {
    "name": "ipython",
    "version": 3
   },
   "file_extension": ".py",
   "mimetype": "text/x-python",
   "name": "python",
   "nbconvert_exporter": "python",
   "pygments_lexer": "ipython3",
   "version": "3.9.13"
  }
 },
 "nbformat": 4,
 "nbformat_minor": 1
}
